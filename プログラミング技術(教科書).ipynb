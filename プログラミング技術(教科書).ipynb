{
  "cells": [
    {
      "cell_type": "markdown",
      "metadata": {
        "id": "view-in-github",
        "colab_type": "text"
      },
      "source": [
        "<a href=\"https://colab.research.google.com/github/kiri931/Python_practice/blob/main/%E3%83%97%E3%83%AD%E3%82%B0%E3%83%A9%E3%83%9F%E3%83%B3%E3%82%B0%E6%8A%80%E8%A1%93(%E6%95%99%E7%A7%91%E6%9B%B8).ipynb\" target=\"_parent\"><img src=\"https://colab.research.google.com/assets/colab-badge.svg\" alt=\"Open In Colab\"/></a>"
      ]
    },
    {
      "cell_type": "markdown",
      "metadata": {
        "id": "TzCpshhITWhb"
      },
      "source": [
        "#プログラミング技術教科書\n"
      ]
    },
    {
      "cell_type": "markdown",
      "source": [
        "# ガイダンス"
      ],
      "metadata": {
        "id": "hj6PMv37VxMM"
      }
    },
    {
      "cell_type": "markdown",
      "source": [
        "## Canvaへのサインアップ方法\n",
        "\n",
        "[Canva](https://www.canva.com/)は、オンラインでデザインを簡単に作成できるツールです。\n",
        "\n",
        "\n",
        "以下の手順でサインアップすることができます。\n",
        "\n",
        "1. [Canvaのウェブサイト](https://www.canva.com/)にアクセスしてください。\n",
        "\n",
        "2. ページ上部の「Sign up」ボタンをクリックします。\n",
        "3. サインアップ方法を選択します（Googleアカウント）\n",
        "4. 必要な情報を入力し、アカウントを作成します。"
      ],
      "metadata": {
        "id": "o57djAa8kSxc"
      }
    },
    {
      "cell_type": "markdown",
      "source": [
        "## Google Colaboratoryへのサインアップ方法\n",
        "\n",
        "[Google Colaboratory](https://colab.research.google.com/)（通称：Colab）は、Googleが提供する、ブラウザ上で実行できるPythonプログラム環境です。Googleアカウントがあれば、すぐに利用できます。\n",
        "\n",
        "1. まず、Googleアカウントを持っていない場合は[こちら](https://accounts.google.com/signup)からアカウントを作成してください。\n",
        "2. [Google Colaboratoryのウェブサイト](https://colab.research.google.com/)にアクセスしてください。\n",
        "3. Googleアカウントでログインします。\n",
        "4. ページ上部の「File」メニューから「New notebook」を選択し、新しいノートブックを開くことができます。\n",
        "\n",
        "これで、Google Colaboratoryを利用してPythonプログラムを書いたり、実行したりすることができます。"
      ],
      "metadata": {
        "id": "oW30QgHFkhWV"
      }
    },
    {
      "cell_type": "markdown",
      "source": [
        "## **プログラミング技術で学ぶこと**\n",
        "\n",
        "毎週３回授業があると想定すると授業数は100時間を超えます。\n",
        "\n",
        "そのため、授業の目標と大まかな授業の予定を最初に説明します。\n",
        "\n",
        "___"
      ],
      "metadata": {
        "id": "S1ZkRNP7e-lI"
      }
    },
    {
      "cell_type": "markdown",
      "source": [
        "### **目標**\n",
        "- 工業の見方・考え方を働かせ、実践的・体験的な学習活動を行う事などを通して、コンピュータのプログラミングに必要な資質・能力を次のとおり育成することを目指す。\n",
        "    - コンピュータのプログラミングについてシステムソフトウェアとプログラミングツールを踏まえて理解するとともに、関連する技術を身につけるようにする。\n",
        "    - コンピュータのプログラミングに関する課題を発見し、技術者として科学的な根拠に基づき工業技術の進展に対応し解決する力を養う。\n",
        "    - コンピュータのプログラムを開発する力の向上を目指して自ら学び、情報技術の発展に主体的かつ協働的に取り組む態度を養う。\n",
        "\n",
        "<br>\n",
        "\n",
        "これらは、学習指導要領に書かれている内容であり、皆さんがこの授業で身につけてほしい能力や態度について記載されています。"
      ],
      "metadata": {
        "id": "ZZij4hxSfJ2y"
      }
    },
    {
      "cell_type": "markdown",
      "metadata": {
        "id": "PMyeEEyBrHAl"
      },
      "source": [
        "\n",
        "\n",
        "\n",
        "続いて、指導項目については次のようになっています。\n",
        "\n",
        "<br>\n",
        "\n",
        "___\n",
        "\n",
        "### **指導項目**\n",
        "\n",
        "1. アルゴリズム\n",
        "    1. アルゴリズムと流れ図\n",
        "    1. 順次型のアルゴリズム\n",
        "    1. 選択型のアルゴリズム\n",
        "    1. 繰り返し型のアルゴリズム\n",
        "\n",
        "アルゴリズム関連については、１年生で学習しているので、復習程度の学習になります。\n",
        "\n",
        "1. プログラミング技法\n",
        "    1. データ構造\n",
        "\n",
        "        データ構造・キュー・スタック・連結リスト・木構造\n",
        "\n",
        "    1. プログラムの標準化\n",
        "\n",
        "        モジュール化・再利用化・テスト技法・プログラムインターフェース\n",
        "\n",
        "    1. ファイル処理\n",
        "\n",
        "        各種編成ファイルの作成・データの検索・並べ替え・更新など\n",
        "\n",
        "    1. 入出力設計\n",
        "\n",
        "        センサやアクチュエータ、インターフェースなどの入出力制御・描画や画像処理、画像認証などのグラフィック処理・サーバとクライアント間のメッセージ交換におけるネットワーク処理\n",
        "\n",
        "    1. プログラムの構造化設計\n",
        "\n",
        "        メンテナンスを長期間かつ効率的に行うことのできる設計方法\n",
        "\n",
        "\n",
        "などの学習が必要になっているらしいです。。\n",
        "\n",
        "端的に言って、一つの授業内ですべて行う事は難しい。\n",
        "\n",
        "本校では、入出力設計を実習で学習する予定です。\n",
        "\n",
        "そのため、実際の学習項目は、\n",
        "\n",
        "- アルゴリズム（復習）\n",
        "\n",
        "- データ構造\n",
        "\n",
        "- プログラムの標準化\n",
        "\n",
        "- ファイル処理\n",
        "\n",
        "- プログラムの構造化設計\n",
        "\n",
        "となります。\n",
        "\n",
        "\n",
        "___\n"
      ]
    },
    {
      "cell_type": "markdown",
      "metadata": {
        "id": "uS5bRiDEgzYy"
      },
      "source": [
        "## プログラムとは\n",
        "\n",
        "**プログラム**とは、コンピュータに対する一連の命令で構成され、特定のタスクや機能を実行させる目的で作成されます。プログラムは、プログラミング言語と呼ばれる特定の文法とルールを持つ言語を使って記述されます。\n",
        "\n",
        "**プログラミング**とは、プログラムを作成・編集するための技術であり、コンピュータが理解できる形で命令を記述することを意味します。プログラミングを学ぶことで、コンピュータを自由に操作し、様々な問題を解決する力を身につけることができます。\n",
        "\n",
        "\n",
        "___"
      ]
    },
    {
      "cell_type": "markdown",
      "source": [
        "### この授業で扱う言語\n",
        "\n",
        "この授業では、1年生で習ったC言語ではなく、Pythonという言語を使用します。\n",
        "\n",
        "**C言語**は、高速で効率的なプログラムを作成できる言語であり、オペレーティングシステムや組み込みシステムなど、機械に近いプログラミングに適しています。\n",
        "\n",
        "**C言語と他の言語の違い**は、主にその性能や文法の複雑さ、そして機械に近い操作が可能であることです。\n"
      ],
      "metadata": {
        "id": "KZNwVARFf-Zx"
      }
    },
    {
      "cell_type": "markdown",
      "metadata": {
        "id": "4VxvQ91ecLhc"
      },
      "source": [
        "### Pythonという言語\n",
        "\n",
        "**Python（パイソン）**は、1991年にオランダ人のグイド・ヴァン・ロッサム氏によって開発されたプログラミング言語です。\n",
        "\n",
        "Pythonは現在広く使われており、ウェブ開発やデータ解析、AIの分野で特に活躍しています。\n",
        "\n",
        "**C言語とPythonの違い**は、Pythonがシンプルで読みやすい文法を持ち、学習しやすいことです。また、Pythonは標準ライブラリやサードパーティのライブラリが充実しており、簡単に機能を追加できる点も大きな違いです。\n",
        "\n",
        "> もし本当にプログラミングをマスターしたいのであれば、\n",
        "[Pythonプログラミング入門](https://utokyo-ipp.github.io/#)を参考にしてみてください。\n",
        ">\n",
        "> 東京大学のオンデマンド学習資料が多数あり、簡単な機械学習まで取り扱っています。まさに０からPythonを勉強できます。\n",
        "\n",
        "___"
      ]
    },
    {
      "cell_type": "markdown",
      "metadata": {
        "id": "vQ9INP84k-RX"
      },
      "source": [
        "## **Python**でプログラミングを始めよう\n",
        "\n",
        "Pythonを使って、プログラミングの基本を学びましょう。まずは、シンプルなプログラムから始めていきます。\n",
        "\n",
        "最初のプログラム：Hello, World!\n",
        "\n",
        "以下のコードを入力し、実行してみましょう。\n",
        "\n",
        "~~~python\n",
        "print(\"Hello, World!\")\n",
        "~~~\n"
      ]
    },
    {
      "cell_type": "code",
      "execution_count": null,
      "metadata": {
        "id": "ZMLxUQ8MtPAt"
      },
      "outputs": [],
      "source": []
    },
    {
      "cell_type": "markdown",
      "metadata": {
        "id": "LAz86_GPlmUP"
      },
      "source": [
        "これは、`Hello, World!`という文字列を出力する命令です。\n",
        "\n",
        "出力結果として`Hello, World!`が表示されます。\n",
        "\n",
        "他のプログラミング言語を学んだことがある方には、この命令はおなじみかもしれません。\n",
        "\n",
        "この簡単なプログラムを実行できたあなたは、プログラミングの世界への第一歩を踏み出しました。"
      ]
    },
    {
      "cell_type": "markdown",
      "source": [
        "## Google Colaboratoryの特徴\n",
        "\n",
        "Google Colaboratory（以下、Colab）は、Pythonプログラムを簡単に書く・実行することができるオンライン環境です。特徴は以下の通りです。\n",
        "\n",
        "\n",
        "- 環境設定が不要\n",
        "- Pythonがすぐに使える\n",
        "- ノートブック形式でコードと説明文を一緒に記述できる\n",
        "- 複数人で同時に編集可能（Googleドキュメントと同じく）"
      ],
      "metadata": {
        "id": "TsgGLV1G3BmB"
      }
    },
    {
      "cell_type": "markdown",
      "source": [
        "## Colabの使い方\n",
        "\n",
        "- コードの入力方法\n",
        "\n",
        "    Colabでは、コードセルを使用してPythonコードを入力できます。新しいセルを追加するには、画面上部の「+コード」ボタンをクリックします。\n",
        "\n",
        "    セルにコードを入力するには、セル内のテキストボックスにPythonコードを入力します。次に、セル上部の再生ボタンをクリックして、コードを実行します。\n",
        "\n",
        "- テキストの入力方法(おまけ)\n",
        "\n",
        "    Colabでは、Markdownセルを使用してテキストを入力できます。新しいセルを追加するには、画面上部の「+テキスト」ボタンをクリックします。\n",
        "\n",
        "    セルにテキストを入力するには、セル内のテキストボックスにMarkdownテキストを入力します。テキストを書き終えたら、セル上部の再生ボタンをクリックして、テキストを表示します。\n",
        "\n",
        "<br>\n",
        "\n",
        "**テキストに関しては、メモを取る際に使ってください。**\n",
        "\n",
        "\n",
        "**ボーリック体でメモを取るなどしてください。**"
      ],
      "metadata": {
        "id": "giVp7bHc4Y16"
      }
    },
    {
      "cell_type": "markdown",
      "source": [
        "### Google Colabの設定\n",
        "\n",
        "- 出力の削除\n",
        "\n",
        "    私が作成過程でプログラムを残している可能性があります。\n",
        "\n",
        "    「編集」タブの一番下、「出力をすべて消去」を選択する。\n",
        "\n",
        "- 設定の変更\n",
        "\n",
        "    「ツール」タブから、「設定」を選択し、「エディタ」を選択。\n",
        "\n",
        "    インデント幅を「4」にする。縦の罫線列を「40～60」で設定する。\n"
      ],
      "metadata": {
        "id": "IK2kemVt3jBa"
      }
    },
    {
      "cell_type": "markdown",
      "source": [
        "## 練習問題\n",
        "\n",
        "1. \"Hello, World!\"を2回表示するプログラムを書いてください。\n",
        "\n",
        "2. あなたの名前を表示するプログラムを書いてください。\n",
        "\n",
        "3. あなたの年齢を表示するプログラムを書いてください。\n",
        "\n",
        "4. あなたの好きな食べ物を表示するプログラムを書いてください。\n",
        "\n",
        "5. Markdownセルを使用して、あなたの好きな食べ物について書いてください。\n",
        "\n",
        "6. Markdownセルを使用して、あなたが今勉強していることについて書いてください。\n"
      ],
      "metadata": {
        "id": "k8Rqk62j9a_r"
      }
    },
    {
      "cell_type": "code",
      "source": [],
      "metadata": {
        "id": "Sw4YtVlGGzf4"
      },
      "execution_count": null,
      "outputs": []
    },
    {
      "cell_type": "markdown",
      "source": [
        "# プログラミングの基礎構文\n"
      ],
      "metadata": {
        "id": "kbjzTXqZM8Bz"
      }
    },
    {
      "cell_type": "markdown",
      "metadata": {
        "id": "8d8iClKZyWQN"
      },
      "source": [
        "\n",
        "\n",
        "# 代数演算子\n",
        "\n",
        "演算子は、C言語とほとんど同じです。\n",
        "\n",
        "- 加算演算子 (+)\n",
        "\n",
        "    二つの値を足し合わせるために使用されます。\n",
        "\n",
        "- 減算演算子 (-)\n",
        "\n",
        "    二つの値の差を計算するために使用されます。\n",
        "\n",
        "- 乗算演算子 (*)\n",
        "\n",
        "    二つの値を掛け合わせるために使用されます。\n",
        "\n",
        "- 除算演算子 (/)\n",
        "\n",
        "    二つの値を割り算するために使用されます。\n",
        "\n",
        "- 剰余演算子 (%)\n",
        "\n",
        "    二つの値の余りを計算するために使用されます。\n",
        "\n",
        "- べき乗演算子 (**)\n",
        "\n",
        "    二つの値を累乗するために使用されます。"
      ]
    },
    {
      "cell_type": "code",
      "execution_count": null,
      "metadata": {
        "id": "dITyfRYTyVX3"
      },
      "outputs": [],
      "source": [
        "123+45"
      ]
    },
    {
      "cell_type": "code",
      "execution_count": null,
      "metadata": {
        "id": "opYzsZKVwpJ6"
      },
      "outputs": [],
      "source": [
        "123-45"
      ]
    },
    {
      "cell_type": "code",
      "execution_count": null,
      "metadata": {
        "id": "fQ40OfiX9Mhn"
      },
      "outputs": [],
      "source": [
        "123*45"
      ]
    },
    {
      "cell_type": "code",
      "execution_count": null,
      "metadata": {
        "id": "S4P81upP9Oct"
      },
      "outputs": [],
      "source": [
        "123/45"
      ]
    },
    {
      "cell_type": "code",
      "execution_count": null,
      "metadata": {
        "id": "NnB7cvmR9hqd"
      },
      "outputs": [],
      "source": [
        "123//45\n",
        "#割り算の整数部分を返す"
      ]
    },
    {
      "cell_type": "code",
      "execution_count": null,
      "metadata": {
        "id": "hRMtoBaV9Pr3"
      },
      "outputs": [],
      "source": [
        "123%45\n",
        "#割り算の余りを返す"
      ]
    },
    {
      "cell_type": "code",
      "execution_count": null,
      "metadata": {
        "id": "XkA3SWL-9SA_"
      },
      "outputs": [],
      "source": [
        "12**5\n",
        "#12の5乗"
      ]
    },
    {
      "cell_type": "markdown",
      "source": [
        "### 乗算演算子の特殊パターン\n",
        "\n",
        "**乗算演算子**は、\n",
        "\n",
        "文字列に使用すると、繰り返すという意味になります。\n",
        "\n",
        "例えば、\"きゃりーぱみゅぱみゅ\"に対して、乗算すると繰り返されます。\n",
        "\n",
        "~~~python\n",
        "print(\"きゃりーぱみゅぱみゅ\" * 3)\n",
        "~~~\n",
        "こうすると出力結果は、\n",
        "~~~\n",
        "きゃりーぱみゅぱみゅきゃりーぱみゅぱみゅきゃりーぱみゅぱみゅ\n",
        "~~~\n",
        "と出力されます。"
      ],
      "metadata": {
        "id": "P5ufNQpJmRQ0"
      }
    },
    {
      "cell_type": "code",
      "source": [
        "print(\"きゃりーぱみゅぱみゅ\" * 3)"
      ],
      "metadata": {
        "colab": {
          "base_uri": "https://localhost:8080/"
        },
        "id": "QSsOx8WOnl-w",
        "outputId": "5b5fbc11-9a4d-4e4f-d0fe-8eae33fe4269"
      },
      "execution_count": null,
      "outputs": [
        {
          "output_type": "stream",
          "name": "stdout",
          "text": [
            "きゃりーぱみゅぱみゅきゃりーぱみゅぱみゅきゃりーぱみゅぱみゅ\n"
          ]
        }
      ]
    },
    {
      "cell_type": "markdown",
      "source": [
        "# 変数\n"
      ],
      "metadata": {
        "id": "FgmGxFTBH_-4"
      }
    },
    {
      "cell_type": "markdown",
      "source": [
        "## 変数の宣言\n",
        "\n",
        "\n",
        "Pythonでは、変数を使用する前に宣言する必要はありません。\n",
        "\n",
        "代わりに、変数に最初に値を割り当てることで、自動的に変数が作成されます。\n",
        "\n",
        "つまり、それが整数なのか、実数なのか\n",
        "\n",
        "`int a` , `float b` , `double c`\n",
        "\n",
        "などとする必要はありません。\n",
        "\n",
        "いきなり、`i = 10`のようにしても問題ありません。\n",
        "\n",
        "\n"
      ],
      "metadata": {
        "id": "FDU9SHN1EwrE"
      }
    },
    {
      "cell_type": "markdown",
      "source": [
        "###メモ\n",
        "\n",
        "ちなみにＣ言語のように型を指定することを「**型アノテーション**」といい、型を指定しないで使用することを「**型推論**」といいます。"
      ],
      "metadata": {
        "id": "l6oNUDrISynh"
      }
    },
    {
      "cell_type": "markdown",
      "source": [
        "## 変数の名前\n",
        "\n",
        "変数の名前には、英字、数字、アンダースコア (_) を使用することができます。\n",
        "\n",
        "ただし、以下のようなルールがあります。\n",
        "\n",
        "- 変数名は、数字から始めることはできません。\n",
        "\n",
        "- 変数名には、スペースを含めることはできません。\n",
        "\n",
        "- 大文字と小文字は区別されます。"
      ],
      "metadata": {
        "id": "rkia-dEOIX7p"
      }
    },
    {
      "cell_type": "markdown",
      "source": [
        "### NG例\n",
        "\n",
        "1. 数字から始まる変数名\n",
        "\n",
        "~~~python\n",
        "1var = \"Hello\"\n",
        "~~~\n",
        "\n",
        "2. スペースを含む変数名\n",
        "\n",
        "~~~python\n",
        "my name = \"Alice\"\n",
        "\n",
        "~~~\n",
        "\n",
        "3. ハイフンを含む変数名\n",
        "\n",
        "~~~python\n",
        "my-variable = \"Bob\"\n",
        "\n",
        "~~~\n",
        "\n",
        "4. 予約語を使用した変数名\n",
        "\n",
        "~~~python\n",
        "if = 5\n",
        "\n",
        "~~~\n",
        "\n",
        "**予約語**は、Pythonにおいて特別な意味を持つワード"
      ],
      "metadata": {
        "id": "iGpZ6GS4IyWY"
      }
    },
    {
      "cell_type": "markdown",
      "source": [
        "### 練習\n",
        "\n",
        "NG例を使えるものにしよう"
      ],
      "metadata": {
        "id": "Kbl6CBloJehg"
      }
    },
    {
      "cell_type": "code",
      "source": [
        "_a = 4\n",
        "print(_a)"
      ],
      "metadata": {
        "colab": {
          "base_uri": "https://localhost:8080/"
        },
        "id": "D8RxixsTDB5j",
        "outputId": "1bf1ab50-31a8-40e3-d53c-a52f88fb4797"
      },
      "execution_count": null,
      "outputs": [
        {
          "output_type": "stream",
          "name": "stdout",
          "text": [
            "4\n"
          ]
        }
      ]
    },
    {
      "cell_type": "markdown",
      "metadata": {
        "id": "sN5ZojmH95Qb"
      },
      "source": [
        "# 配列\n",
        "\n",
        "配列も変数と同じく型を宣言する必要がありません。\n",
        "\n",
        "ただし、基本的には配列の行列は記述する必要があります。\n",
        "\n",
        "~~~python\n",
        "a = [0,0,0]\n",
        "print(a)\n",
        "\n",
        "b = [[0,0,0],[0,0][0,0,0,0,0,0]]\n",
        "print(b)\n",
        "\n",
        "~~~\n",
        "\n",
        "しかし、宣言することも面倒な人は、以下のように記述することもできます。\n",
        "\n",
        "~~~python\n",
        "c = [[0]*3,[0]*2,[0]*6]\n",
        "print(c)\n",
        "\n",
        "~~~\n",
        "\n",
        "これは配列に掛け算を行うと要素をコピーするということになるためです。\n",
        "\n",
        "~~~python\n",
        "print(c*3)\n",
        "~~~\n",
        "\n",
        "もちろん、一箇所値を変えたい場合は、簡単です。\n",
        "\n",
        "ただし、配列の番号が、0から始まっていることを留意しなくてはなりません。\n",
        "\n",
        "~~~python\n",
        "c[1][1]=3\n",
        "print(c)\n",
        "~~~\n"
      ]
    },
    {
      "cell_type": "markdown",
      "source": [
        "\n",
        "## 配列への代入\n",
        "\n",
        "配列を別の変数に代入することはできますが、おすすめしません。\n",
        "\n",
        "~~~python\n",
        "d = [1,2,3]\n",
        "e = d\n",
        "\n",
        "print(d)\n",
        "print(e)\n",
        "~~~\n",
        "\n",
        "一見うまく行っているように見えますが、\n",
        "`d` の値を変えてしまうとおかしなことが起こります。\n",
        "\n",
        "~~~python\n",
        "d[1] = 10\n",
        "\n",
        "print(d)\n",
        "~~~\n",
        "\n",
        "何もおかしなことは起きていないように見えますが、次のコードを実行してみてください。\n",
        "\n",
        "~~~python\n",
        "print(e)\n",
        "~~~\n",
        "\n",
        "変えていないはずの ` e `の値も変わってしまいました。\n",
        "\n",
        "この理由を説明するとかなりややこしいのですが、\n",
        "\n",
        "簡単にいうと\n",
        "\n",
        "オブジェクトのIDを代入しており、 `d` と `e`が全く同じものを参照している状況になってしまったのです。\n",
        "\n",
        "意味わからない？\n",
        "\n",
        "大丈夫、こんなのテストには出しません。\n",
        "\n",
        "また、次の機会にやりましょう。\n",
        "\n",
        "ちなみにそうならないために次のコードを実行してみてください。\n",
        "\n",
        "~~~python\n",
        "import copy\n",
        "\n",
        "f = [1,2,3]\n",
        "g = []\n",
        "g = f.copy()\n",
        "\n",
        "print(f)\n",
        "print(g)\n",
        "\n",
        "g[1] = 5\n",
        "\n",
        "print(f)\n",
        "print(g)\n",
        "~~~\n",
        "\n",
        "このように`copy`メソッドを使うことで、先程のような状況を回避できます。\n",
        "\n",
        "あ、これは覚える必要はないですよ。\n",
        "\n",
        "他にもたくさんのメソッドを知ることで、配列はかなり扱いやすくなりますが、テストには出さないので、今回は端折ります。"
      ],
      "metadata": {
        "id": "OD1CvfHf6gfa"
      }
    },
    {
      "cell_type": "markdown",
      "metadata": {
        "id": "5dDhCRjmtv8S"
      },
      "source": [
        "# もう少しプログラミングっぽくしよう\n",
        "\n",
        "とはいえ、実際に皆さんは思っていることでしょう。\n",
        "\n",
        "「単一のコードだけでは、プログラミングとは言えないだろう」\n",
        "\n",
        "私も単にコードを書いているだけのように見えます。\n",
        "\n",
        "しかし、実際のプログラムでは、複雑なロジックが含まれることが多いです。\n",
        "\n",
        "一般的なプログラムでは、\n",
        "\n",
        "以下のように、defを使って`main()`という関数を定義し、`if __name__ == \"__main__\":`を使用して関数を呼び出すことが一般的です。\n",
        "\n",
        "~~~ python\n",
        "def main():\n",
        "    print(\"Hello\")\n",
        "\n",
        "if __name__ == \"__main__\":\n",
        "    main()\n",
        "\n",
        "~~~\n",
        "\n",
        "急に難しそうになりますが、まだ、簡単ですよ。\n",
        "実際にコードを記述してみましょう。"
      ]
    },
    {
      "cell_type": "code",
      "source": [],
      "metadata": {
        "id": "lT3eKuLLAlto"
      },
      "execution_count": null,
      "outputs": []
    },
    {
      "cell_type": "markdown",
      "metadata": {
        "id": "yEpai3qhtqOm"
      },
      "source": [
        "ここでのdefは「define」、つまり「定義する」という意味です。\n",
        "\n",
        "main()は「メイン・主要な」という意味になり、主要なプログラムを表します。（Pythonでは、一番最初に実行されるプログラムになります。）"
      ]
    },
    {
      "cell_type": "markdown",
      "source": [
        "# defの説明"
      ],
      "metadata": {
        "id": "MvEp_iz-C4pP"
      }
    },
    {
      "cell_type": "markdown",
      "source": [
        "## 具体的な説明\n",
        "\n",
        "defは、Pythonにおける関数の定義方法です。\n",
        "\n",
        "defを使って関数を定義することで、同じ処理を繰り返し実行する場合に便利です。\n",
        "\n",
        "~~~python\n",
        "def add_numbers(x, y):\n",
        "    return x + y\n",
        "\n",
        "~~~\n",
        "\n",
        "上記の例では、`add_numbers`という名前の関数を定義しています。\n",
        "\n",
        "関数は、引数xとyを受け取り、それらを足した結果を返します。"
      ],
      "metadata": {
        "id": "rF25VEY5C70M"
      }
    },
    {
      "cell_type": "markdown",
      "source": [
        "## 簡単な説明\n",
        "\n",
        "え？わからない？\n",
        "\n",
        "では、もう少し簡単に説明しましょう。\n",
        "\n",
        "まず、プログラムでなにをするにもコンピュータに情報を与える必要があります。\n",
        "\n",
        "その際、**「この私が作ったプログラムには、次のルールを与えます。」**と言いたい。\n",
        "\n",
        "そのために、ルール名を決める役割をもつのが、`def` です。\n",
        "\n",
        "そのため、このような考え方ができます。\n",
        "\n",
        "~~~python\n",
        "def ルール名(引数):\n",
        "    return ルールに従った結果\n",
        "~~~\n",
        "\n",
        "ルールの内容は一切記載していませんが、こんな感じの考え方ができます。\n",
        "\n"
      ],
      "metadata": {
        "id": "Njc_SoF2AHSU"
      }
    },
    {
      "cell_type": "markdown",
      "source": [
        "## もう少し、具体的に見ていこう\n",
        "\n",
        "例えば、こんなルールを追加します。\n",
        "\n",
        "> プログラム作ってたら、やたらと１５倍する機会があるなぁ。\n",
        ">\n",
        "> じゃあルールとして、１５倍するための関数を定義しよう。\n",
        "\n",
        "~~~python\n",
        "def jugobai(num):\n",
        "    return num * 15\n",
        "~~~\n",
        "\n",
        "この`num`は変数です。\n",
        "この関数の使い方は、\n",
        "\n",
        "~~~python\n",
        "jugobai(5)\n",
        "\n",
        "def jugobai(num):\n",
        "    return num * 15\n",
        "~~~\n",
        "\n",
        "というように使います。\n"
      ],
      "metadata": {
        "id": "sAlEhqhXCou0"
      }
    },
    {
      "cell_type": "code",
      "source": [],
      "metadata": {
        "id": "FaFKekI1Ijcv"
      },
      "execution_count": null,
      "outputs": []
    },
    {
      "cell_type": "code",
      "source": [],
      "metadata": {
        "id": "LiEzd64OIjWL"
      },
      "execution_count": null,
      "outputs": []
    },
    {
      "cell_type": "code",
      "source": [],
      "metadata": {
        "id": "4gd1RLxyIjRo"
      },
      "execution_count": null,
      "outputs": []
    },
    {
      "cell_type": "markdown",
      "source": [
        "## 練習問題\n",
        "\n",
        "1. 2つの引数を受け取り、それらを足した結果を返す関数を作成してください。\n",
        "\n",
        "2. 2つの引数を受け取り、それらを掛けた結果を返す関数を作成してください。\n",
        "\n",
        "3. 整数を引数として受け取り、その整数の二乗を返す関数を作成してください。\n"
      ],
      "metadata": {
        "id": "7fgunhQANFoi"
      }
    },
    {
      "cell_type": "code",
      "source": [],
      "metadata": {
        "id": "ObrH0ka-IkPi"
      },
      "execution_count": null,
      "outputs": []
    },
    {
      "cell_type": "code",
      "source": [],
      "metadata": {
        "id": "SWkdFP82IkMH"
      },
      "execution_count": null,
      "outputs": []
    },
    {
      "cell_type": "code",
      "source": [],
      "metadata": {
        "id": "sPnikyGaIkI_"
      },
      "execution_count": null,
      "outputs": []
    },
    {
      "cell_type": "markdown",
      "metadata": {
        "id": "BpbbNz-RJn7U"
      },
      "source": [
        "# インデント（字下げ）\n",
        "\n",
        "ここからは、**インデント**がとても重要になってきますので、間違いのないようにしてください。\n",
        "\n",
        "基本的に「`:`」の次の行から、字下げが起こります。\n",
        "\n",
        "テストに出る範囲で言えば、「`:`」は\n",
        "\n",
        "1. 「`def` 」\n",
        "\n",
        "1. 「`if`」「`else`」「`elif`」\n",
        "\n",
        "1. 「`for`」「`while`」\n",
        "\n",
        "のあとに付きます。\n",
        "\n",
        "C言語のイメージなら、「`{}`」の部分です。\n",
        "\n",
        "テストでは、字下げ部分は、以下のように「**→**」と記述して下さい。\n",
        "\n",
        "\n",
        "~~~python\n",
        "def main():\n",
        " → a = 3\n",
        " → b = 4\n",
        " → if a == b:\n",
        " →  → print(\"True\")\n",
        " → else:\n",
        " →  → print(\"False\")\n",
        "\n",
        "if __name__ == \" __main__\":\n",
        " → main()\n",
        "~~~\n",
        "\n",
        "「**→**」の個数も採点対象としますので、特に注意してください。\n",
        "\n"
      ]
    },
    {
      "cell_type": "markdown",
      "metadata": {
        "id": "un9om42cC8c3"
      },
      "source": [
        "# 条件分岐\n",
        "\n",
        "ここからは、「`if`」について説明していきます。\n",
        "\n",
        "条件分岐には以下のようなものがあります。\n",
        "\n",
        "「`if`」「`else`」「`elif`」\n",
        "\n",
        "それぞれＣ言語であれば、\n",
        "\n",
        "「`if`」「`else`」「`else if`」\n",
        "\n",
        "と同義です。\n",
        "\n",
        "以下のように記述します。\n",
        "\n",
        "~~~python\n",
        "if 条件式 :\n",
        " →\n",
        "elif 条件式 :\n",
        " →\n",
        "else:\n",
        " →\n",
        "~~~\n",
        " → はインデントの意味です。\n",
        "\n",
        "例えば、\n",
        "\n",
        "~~~python\n",
        "score = 10\n",
        "if score > 60 :\n",
        "    print(\"優秀\")\n",
        "elif score >= 40 :\n",
        "    print(\"合格\")\n",
        "else:\n",
        "    print(\"不合格\")\n",
        "~~~\n",
        "というように記述することができます。\n",
        "\n",
        "実際に実行してみましょう。"
      ]
    },
    {
      "cell_type": "code",
      "source": [],
      "metadata": {
        "id": "pxZNEPKqFAwI"
      },
      "execution_count": null,
      "outputs": []
    },
    {
      "cell_type": "markdown",
      "metadata": {
        "id": "-dboJ-uOEP1B"
      },
      "source": [
        "# 繰り返し\n",
        "\n",
        "\n",
        "Pythonでは、同じ処理を繰り返し実行するために、`for`や`while`といった繰り返し処理が利用されます。"
      ]
    },
    {
      "cell_type": "markdown",
      "metadata": {
        "id": "4O2nIgLt4OEw"
      },
      "source": [
        "## forループ\n",
        "\n",
        "`for`は、あらかじめ指定された回数、もしくはリストや文字列などの要素の数だけ繰り返し処理を行います。基本的な構文は以下の通りです。\n",
        "\n",
        "~~~python\n",
        "for 変数 in 繰り返し可能なオブジェクト:\n",
        " → 繰り返し処理\n",
        "~~~\n",
        "オブジェクトを教えていないので、次のような解釈でいいと思います。\n",
        "\n",
        "~~~python\n",
        "for 変数 in 範囲 :\n",
        " → 繰り返し処理\n",
        "~~~\n",
        "\n",
        "例えば、範囲は英語でrangeといいますが、\n",
        "\n",
        "~~~python\n",
        "for i in range(1,10):\n",
        " → 繰り返し処理\n",
        "~~~\n",
        "のように記述しますることができます。\n",
        "\n",
        "これで、Ｃ言語と同様にループ処理が行えます。\n",
        "\n",
        "ただし、注意として、range関数は次のような使い方を行います。"
      ]
    },
    {
      "cell_type": "markdown",
      "metadata": {
        "id": "KXNK7taQnoQ1"
      },
      "source": [
        "## range関数\n",
        "\n",
        "range関数は引数の数によって意味が変わります。\n",
        "\n",
        "#### range(第一引数)\n",
        "\n",
        "の場合は、**0**  から **第一引数 - 1** となります。\n",
        "\n",
        "つまり、\n",
        "\n",
        "~~~python\n",
        "range(5)\n",
        "~~~\n",
        "であれば、\n",
        "\n",
        "**0 1 2 3 4**\n",
        "\n",
        "となります。\n",
        "\n",
        "~~~python\n",
        "for i in range(5):\n",
        "    print(i)\n",
        "~~~\n",
        "\n",
        "例えば、配列の長さを求める関数lenを用いると次のようなことができます。\n",
        "\n",
        "~~~python\n",
        "my_list = [1, 2, 3, 4, 5]\n",
        "for i in range(len(my_list)):\n",
        "    my_list[i] += 1\n",
        "print(my_list)\n",
        "~~~\n"
      ]
    },
    {
      "cell_type": "markdown",
      "metadata": {
        "id": "W1SiDu2-o5O3"
      },
      "source": [
        "### range(第一引数,第二引数)\n",
        "\n",
        "の場合は、**第一引数** から **第二引数 - 1** となります。\n",
        "\n",
        "つまり、\n",
        "\n",
        "~~~pyhon\n",
        "range(2,10)\n",
        "~~~\n",
        "\n",
        "であれば、 **2 3 4 5 6 7 8 9**\n",
        "\n",
        "となります。\n",
        "\n",
        "~~~python\n",
        "for i in range(2,10):\n",
        "    print(i)\n",
        "\n",
        "~~~\n"
      ]
    },
    {
      "cell_type": "code",
      "source": [
        "print([[0,0],0]*2)\n"
      ],
      "metadata": {
        "colab": {
          "base_uri": "https://localhost:8080/"
        },
        "id": "4gpL_51pIYsd",
        "outputId": "8a788f02-4d20-4118-a5a0-de2565978763"
      },
      "execution_count": null,
      "outputs": [
        {
          "output_type": "stream",
          "name": "stdout",
          "text": [
            "[[0, 0], 0, [0, 0], 0]\n"
          ]
        }
      ]
    },
    {
      "cell_type": "markdown",
      "metadata": {
        "id": "eRNDJlvfiiFB"
      },
      "source": [
        "### range(第一引数,第二引数,第三引数)\n",
        "\n",
        "の場合は、**第一引数** から **第二引数 - 1** を **第三引数** 分飛ばしてカウントすることになります。\n",
        "\n",
        "つまり、\n",
        "\n",
        "~~~pyhon\n",
        "range(2,10,2)\n",
        "~~~\n",
        "\n",
        "であれば、 **2 4 6 8**  となります。\n",
        "\n",
        "~~~python\n",
        "for i in range(2,10,2):\n",
        "    print(i)\n",
        "~~~\n",
        "\n",
        "また、**8  6  4  2**であれば、\n",
        "\n",
        "~~~python\n",
        "for i in range(8,0,-2):\n",
        "    print(i)\n",
        "~~~\n",
        "となります。\n",
        "\n",
        "これは、厳密には、\n",
        "`range(a,b,c)`というのは、`range(初期値,この数値になったらやめる,増分)`ということになります。\n",
        "\n",
        "つまり、厳密には-1までというわけではありませんので、間違えないようにしてください。"
      ]
    },
    {
      "cell_type": "markdown",
      "source": [
        "## 配列を使ったforループ\n",
        "\n",
        "最初に言ったように`range`![p1.png](data:image/png;base64,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)ではないものを用いて`for`を利用できます。\n",
        "~~~python\n",
        "my_list = [7, 3, 5, [4,6], 5]\n",
        "for i in my_list:\n",
        "    print(i)\n",
        "~~~\n",
        "\n",
        "実際に実行して確認しましょう。\n",
        "これは配列の各要素を順番に`i`に代入しているということです。（**イテレート**という）\n",
        "\n",
        "`range`を使って同じことを行うと以下のようになります。\n",
        "~~~python\n",
        "my_list = [7, 3, 5, [4,6], 5]\n",
        "for i in range(len(my_list)):\n",
        "    print(my_list[i])\n",
        "~~~\n",
        "となります。\n",
        "\n",
        "どちらが正しいとかはありませんので、使いやすい方で記述してください。\n",
        "\n",
        "**おまけ**\n",
        "\n",
        "各要素を２倍する方法\n",
        "\n",
        "~~~python\n",
        "my_list = [7, 3, 5, [4,6], 5]\n",
        "for i in range(len(my_list)):\n",
        "    my_list[i] = my_list[i] * 2\n",
        "print(my_list)\n",
        "~~~\n",
        "リスト内包表記を利用することで、簡潔に２倍することもできます。\n",
        "~~~python\n",
        "lst = [1, 2, 3, 4, 5]\n",
        "print([x * 2 for x in lst])\n",
        "~~~\n"
      ],
      "metadata": {
        "id": "Df04LLZEACk2"
      }
    },
    {
      "cell_type": "markdown",
      "source": [
        "### おまけ：リスト内包表記について\n",
        "\n",
        "~~~python\n",
        "numbers = [1, 2, 3, 4, 5]\n",
        "~~~\n",
        "\n",
        "このリスト内の各要素を2倍にするには、次のようなリスト内包表記を使用できます。\n",
        "\n",
        "~~~python\n",
        "doubled_numbers = [x * 2 for x in numbers]\n",
        "~~~\n",
        "文法は、\n",
        "\n",
        "~~~python\n",
        "[行いたい処理 for 任意の変数名 in 参照可能なオブジェクト]\n",
        "~~~\n",
        "となります。\n",
        "\n",
        "また、`if`を用いてもう少し複雑なことができます。\n",
        "\n",
        "~~~python\n",
        "doubled_odds = [x * 2 for x in numbers if x % 2 == 1]\n",
        "~~~\n",
        "文法は、\n",
        "~~~python\n",
        "[行いたい処理 for 任意の変数名 in 参照可能なオブジェクト if 条件式]\n",
        "~~~\n",
        "となり、処理が簡潔に記述できます。"
      ],
      "metadata": {
        "id": "mW8cvo9PHL9W"
      }
    },
    {
      "cell_type": "code",
      "source": [
        "lst = [1, 2, 3, 4, 5]\n",
        "print([x * 2 for x in lst])\n"
      ],
      "metadata": {
        "colab": {
          "base_uri": "https://localhost:8080/"
        },
        "id": "-XoliOwGRqXo",
        "outputId": "bf30e9f0-7c53-4f7e-8445-491aeacebceb"
      },
      "execution_count": null,
      "outputs": [
        {
          "output_type": "stream",
          "name": "stdout",
          "text": [
            "[2, 4, 6, 8, 10]\n"
          ]
        }
      ]
    },
    {
      "cell_type": "markdown",
      "metadata": {
        "id": "R1dC_Bm8EZD2"
      },
      "source": [
        "## whileループ\n",
        "\n",
        "「`while`」についてもＣ言語とほとんど同じです。\n",
        "\n",
        "~~~python\n",
        "while 条件式 :\n",
        " →\n",
        "~~~\n",
        "というように記述することができます。\n",
        "\n",
        "例えば、以下のように記述します。\n",
        "\n",
        "~~~python\n",
        "i = 0\n",
        "while i < 10:\n",
        " → i = i + 1\n",
        " → print(i)\n",
        "~~~\n",
        "実際に実行してみましょう。"
      ]
    },
    {
      "cell_type": "markdown",
      "metadata": {
        "id": "IHMSLRvY098u"
      },
      "source": [
        "### 練習問題\n",
        "\n",
        "次の問題を考えなさい。\n",
        "\n",
        "a = 123456789\n",
        "\n",
        "b = 8\n",
        "\n",
        "c = 9\n",
        "\n",
        "とし、\n",
        "\n",
        "変数 moji に a * b + c の解を３回繰り返したうえで、\n",
        "\n",
        "文字列として代入し、mojiを出力しなさい。\n",
        "\n",
        "\n",
        "その後、下のセルを実行し、Trueとなることを確認しなさい。\n"
      ]
    },
    {
      "cell_type": "code",
      "execution_count": null,
      "metadata": {
        "colab": {
          "base_uri": "https://localhost:8080/"
        },
        "id": "7oidF-EA1xJL",
        "outputId": "faca098e-041d-4a58-91b9-debddbfe611e"
      },
      "outputs": [
        {
          "name": "stdout",
          "output_type": "stream",
          "text": [
            "987654321987654321987654321\n"
          ]
        }
      ],
      "source": [
        "a = 123456789\n",
        "b = 8\n",
        "c = 9\n",
        "moji = str(a*b+c)*3\n",
        "print(moji)"
      ]
    },
    {
      "cell_type": "code",
      "execution_count": null,
      "metadata": {
        "colab": {
          "base_uri": "https://localhost:8080/"
        },
        "id": "r41SAyYO6MiU",
        "outputId": "62186a30-f2a5-44e5-fb41-5816d8b7c8ec"
      },
      "outputs": [
        {
          "name": "stdout",
          "output_type": "stream",
          "text": [
            "True\n"
          ]
        }
      ],
      "source": [
        "print(moji==\"987654321987654321987654321\")"
      ]
    },
    {
      "cell_type": "markdown",
      "metadata": {
        "id": "QbXlC1XOAHRi"
      },
      "source": [
        "### 練習問題\n",
        "\n",
        "1. FizzBuzz\n",
        "\n",
        "1から30までの整数を記述し、3の倍数であれば「Fizz」、5の倍数であれば「Buzz」、15の倍数であれば「FizzBuzz」と出力するようなプログラムを組みなさい。\n",
        "\n",
        "**注意**\n",
        "\n",
        "print関数は出力結果の最後に改行コードを記述しますので、Ｃ言語と全く同じ作りにしてしまうと間違えます。\n",
        "\n",
        "ただし、出力結果は以下のようになる。\n",
        "~~~\n",
        "1\n",
        "2\n",
        "3\n",
        "Fizz\n",
        "4\n",
        "5\n",
        "Buzz\n",
        "6\n",
        "Fizz\n",
        "7\n",
        "8\n",
        "9\n",
        "Fizz\n",
        "10\n",
        "Buzz\n",
        "11\n",
        "12\n",
        "Fizz\n",
        "13\n",
        "14\n",
        "15\n",
        "FizzBuzz\n",
        "16\n",
        "17\n",
        "18\n",
        "Fizz\n",
        "19\n",
        "20\n",
        "Buzz\n",
        "21\n",
        "Fizz\n",
        "22\n",
        "23\n",
        "24\n",
        "Fizz\n",
        "25\n",
        "Buzz\n",
        "26\n",
        "27\n",
        "Fizz\n",
        "28\n",
        "29\n",
        "30\n",
        "FizzBuzz\n",
        "~~~"
      ]
    },
    {
      "cell_type": "code",
      "execution_count": null,
      "metadata": {
        "colab": {
          "base_uri": "https://localhost:8080/"
        },
        "id": "SFLnr2NYAx6J",
        "outputId": "f578b51b-14bd-4e1c-e11f-b6b338399080"
      },
      "outputs": [
        {
          "name": "stdout",
          "output_type": "stream",
          "text": [
            "1\n",
            "2\n",
            "3\n",
            "Fizz\n",
            "4\n",
            "5\n",
            "Buzz\n",
            "6\n",
            "Fizz\n",
            "7\n",
            "8\n",
            "9\n",
            "Fizz\n",
            "10\n",
            "Buzz\n",
            "11\n",
            "12\n",
            "Fizz\n",
            "13\n",
            "14\n",
            "15\n",
            "FizzBuzz\n",
            "16\n",
            "17\n",
            "18\n",
            "Fizz\n",
            "19\n",
            "20\n",
            "Buzz\n",
            "21\n",
            "Fizz\n",
            "22\n",
            "23\n",
            "24\n",
            "Fizz\n",
            "25\n",
            "Buzz\n",
            "26\n",
            "27\n",
            "Fizz\n",
            "28\n",
            "29\n",
            "30\n",
            "FizzBuzz\n"
          ]
        }
      ],
      "source": [
        "for i in range(1,31):\n",
        "    print(i)\n",
        "    if i % 15 == 0:\n",
        "        print(\"FizzBuzz\")\n",
        "    elif i % 3 == 0:\n",
        "        print(\"Fizz\")\n",
        "    elif i % 5 == 0:\n",
        "        print(\"Buzz\")\n"
      ]
    },
    {
      "cell_type": "markdown",
      "metadata": {
        "id": "eXdDGbftCOdR"
      },
      "source": [
        "2. 奇数の和の出力\n",
        "\n",
        "1から400までの奇数の和を求めなさい。\n",
        "\n",
        "出力が40000になれば正解です。"
      ]
    },
    {
      "cell_type": "code",
      "execution_count": null,
      "metadata": {
        "colab": {
          "base_uri": "https://localhost:8080/"
        },
        "id": "ipQCyuLGDB8a",
        "outputId": "f4feccca-38c4-4013-97c9-cd766d19345e"
      },
      "outputs": [
        {
          "name": "stdout",
          "output_type": "stream",
          "text": [
            "40000\n"
          ]
        }
      ],
      "source": [
        "sum = 0\n",
        "for i in range(1,401,2):\n",
        "    sum = sum + i\n",
        "print(sum)"
      ]
    },
    {
      "cell_type": "code",
      "execution_count": null,
      "metadata": {
        "colab": {
          "base_uri": "https://localhost:8080/"
        },
        "id": "molfePDjDytf",
        "outputId": "fbaf90d4-12b3-4ff0-eb70-3509ba192779"
      },
      "outputs": [
        {
          "name": "stdout",
          "output_type": "stream",
          "text": [
            "40000\n"
          ]
        }
      ],
      "source": [
        "#別解\n",
        "sum = 0\n",
        "for i in range(1,401):\n",
        "    if i % 2 == 1:\n",
        "        sum = sum + i\n",
        "print(sum)"
      ]
    },
    {
      "cell_type": "markdown",
      "metadata": {
        "id": "NBP1MrykDwvC"
      },
      "source": [
        "3. 直角三角形の面積と斜辺の長さを求めるプログラム\n",
        "\n",
        "底辺(tei)と高さ(taka)が与えられるので、面積(men)と斜辺(sha)の長さを求めるプログラムを記述しなさい。\n",
        "\n",
        "tei = 12\n",
        "\n",
        "taka = 9"
      ]
    },
    {
      "cell_type": "code",
      "execution_count": null,
      "metadata": {
        "colab": {
          "base_uri": "https://localhost:8080/"
        },
        "id": "M0wW_UCVJcqZ",
        "outputId": "997eb2bd-6b6d-40a3-d016-1da3a5627342"
      },
      "outputs": [
        {
          "name": "stdout",
          "output_type": "stream",
          "text": [
            "54.0\n",
            "15.0\n"
          ]
        }
      ],
      "source": [
        "import math\n",
        "\n",
        "tei = 12\n",
        "taka = 9\n",
        "\n",
        "men = tei * taka / 2\n",
        "print(men)\n",
        "\n",
        "sha = math.sqrt(tei**2 + taka**2)\n",
        "print(sha)"
      ]
    },
    {
      "cell_type": "code",
      "execution_count": null,
      "metadata": {
        "colab": {
          "background_save": true
        },
        "id": "7duh-rXTyzvT",
        "outputId": "7b645671-a952-46f3-8548-3f5321a82fef"
      },
      "outputs": [
        {
          "name": "stdout",
          "output_type": "stream",
          "text": [
            "1から100までの数字を当ててください。\n",
            "もっと大きい数字です。\n",
            "もっと大きい数字です。\n",
            "もっと小さい数字です。\n",
            "もっと大きい数字です。\n"
          ]
        }
      ],
      "source": [
        "\n",
        "import random\n",
        "\n",
        "def guess_number():\n",
        "    secret_number = random.randint(1, 100)\n",
        "    attempts = 0\n",
        "    user_guess = None\n",
        "\n",
        "    print(\"1から100までの数字を当ててください。\")\n",
        "\n",
        "    while user_guess != secret_number:\n",
        "        try:\n",
        "            user_guess = int(input(\"予想する数字を入力してください: \"))\n",
        "        except ValueError:\n",
        "            print(\"数字を入力してください。\")\n",
        "            continue\n",
        "\n",
        "        attempts += 1\n",
        "\n",
        "        if user_guess < secret_number:\n",
        "            print(\"もっと大きい数字です。\")\n",
        "        elif user_guess > secret_number:\n",
        "            print(\"もっと小さい数字です。\")\n",
        "        else:\n",
        "            print(f\"正解！{attempts}回目で当たりました。\")\n",
        "\n",
        "guess_number()\n"
      ]
    },
    {
      "cell_type": "markdown",
      "source": [
        "## def応用編\n",
        "\n",
        "関数については、これ以上深堀をせずに進みたいのですが、このようなパターンを考えてみましょう。\n",
        "\n",
        "~~~python\n",
        "def saiki(num):\n",
        "\n",
        "    return saiki()\n",
        "~~~"
      ],
      "metadata": {
        "id": "DjbgzVPpBQMA"
      }
    },
    {
      "cell_type": "markdown",
      "source": [
        "~~~python\n",
        "def fibonacci(n):\n",
        "    if n == 0:\n",
        "        return 0\n",
        "    elif n == 1:\n",
        "        return 1\n",
        "    else:\n",
        "        return fibonacci(n - 1) + fibonacci(n - 2)\n",
        "~~~"
      ],
      "metadata": {
        "id": "IOXtTYZXCd3g"
      }
    },
    {
      "cell_type": "code",
      "source": [
        "def tashizan(x,y):\n",
        "    return x+y\n",
        "\n",
        "tashizan(5,10)"
      ],
      "metadata": {
        "colab": {
          "base_uri": "https://localhost:8080/"
        },
        "id": "OwoegOm-Wkfh",
        "outputId": "47b406c3-a6d4-4d3a-ba73-5fafe72a521d"
      },
      "execution_count": null,
      "outputs": [
        {
          "output_type": "execute_result",
          "data": {
            "text/plain": [
              "15"
            ]
          },
          "metadata": {},
          "execution_count": 1
        }
      ]
    },
    {
      "cell_type": "markdown",
      "source": [
        "関数の再帰呼び出しとは、定義しようとしている関数を、その定義の中で呼び出すことです。 定義の中で直接呼び出す場合に限らず、他の関数を経由して間接的に呼び出す場合も、再帰呼び出しに含まれます。 再帰呼び出しを行う関数を、再帰関数といいます。"
      ],
      "metadata": {
        "id": "hGKeKSQ2CSnC"
      }
    },
    {
      "cell_type": "code",
      "source": [],
      "metadata": {
        "id": "NnRRNEKTNFCL"
      },
      "execution_count": null,
      "outputs": []
    },
    {
      "cell_type": "code",
      "execution_count": null,
      "metadata": {
        "id": "yUrEs0d6tfYF"
      },
      "outputs": [],
      "source": [
        "def main():\n",
        "    print(\"Hello\")"
      ]
    },
    {
      "cell_type": "code",
      "execution_count": null,
      "metadata": {
        "id": "6ahqQNDhryf-"
      },
      "outputs": [],
      "source": [
        "class Hello():\n",
        "    def __init__(self):\n",
        "        print(\"こんにちは\")\n",
        "\n",
        "def main():\n",
        "    Hello()\n",
        "\n",
        "if __name__==\"__main__\":\n",
        "    main()"
      ]
    },
    {
      "cell_type": "markdown",
      "source": [
        "行とか列とかが分かりづらい方は、以下の画像を参考にして下さい。\n",
        "\n",
        "<img src=\"http://cdn-ak.f.st-hatena.com/images/fotolife/l/lambdalisue/20130718/20130718131854.png\" width=\"800\">"
      ],
      "metadata": {
        "id": "6ZSpMjHHHWlJ"
      }
    },
    {
      "cell_type": "markdown",
      "metadata": {
        "id": "WGLSCgZvxHXt"
      },
      "source": [
        "急に難しそうになりましたが、\n",
        "\n",
        "~~~ C++\n",
        "#include<stdio.h>\n",
        "int main(void){\n",
        "    printf(\"こんにちは\");\n",
        "}\n",
        "~~~\n",
        "\n",
        "という感じで、Pythonのファイルを作って実行しているだけです。\n",
        "\n",
        "___\n"
      ]
    },
    {
      "cell_type": "markdown",
      "source": [
        "# 夏季休業中課題チェック\n",
        "##スキルチェック\n",
        "獲得トロフィーと名前を確認させてください。\n",
        "\n",
        "##C-課題チェック\n",
        "新・Python入門編の画面と名前を確認させてください。"
      ],
      "metadata": {
        "id": "P5LfhgtYFzH4"
      }
    },
    {
      "cell_type": "markdown",
      "source": [
        "#ゲームを作成しよう\n",
        "\n",
        "プログラミングの勉強を志したきっかけを思い出してください。\n",
        "多くの人は、ゲームを作ろうと考えたはずです。\n",
        "\n",
        "しかし、いざやってみようとなると、プログラミングは難解過ぎてちんぷんかんぷん。\n",
        "\n",
        "時間がかかりすぎますが、ゲーム作りで基本的な構文を復習しながら学習していくためのテキストです。\n",
        "\n",
        "そのため、なにか作りたいものがある人は、それを作り始めるのが最短ルートです。\n",
        "\n",
        "まぁ、頑張って作りましょう。\n",
        "\n",
        "\n",
        "\n",
        "\n",
        "\n"
      ],
      "metadata": {
        "id": "iidMgDOpDGPv"
      }
    },
    {
      "cell_type": "markdown",
      "source": [
        "##ゲーム作りの最初の一歩\n",
        "\n",
        "基本的な構文をわかっていない前提で教えていきますので、よく知っている人であれば、飛ばしながら見てください。\n"
      ],
      "metadata": {
        "id": "fK81KueVNHVO"
      }
    },
    {
      "cell_type": "markdown",
      "source": [
        "### ランダム関数を使おう\n",
        "\n",
        "ゲームを作成する際に一番最初に思いつくのは、ランダム関数を用いたとても簡単で初歩的なプログラムです。\n",
        "\n",
        "ランダムに好きな数字を表示するためにプログラムは以下のように記述すれば良いです。"
      ],
      "metadata": {
        "id": "dL7qdnB_NK1G"
      }
    },
    {
      "cell_type": "code",
      "source": [
        "import random\n",
        "\n",
        "print(random.randint(1,10))"
      ],
      "metadata": {
        "colab": {
          "base_uri": "https://localhost:8080/"
        },
        "id": "GCCU6CPfFev9",
        "outputId": "4991a055-3747-4a72-eeae-97705b150ca5"
      },
      "execution_count": null,
      "outputs": [
        {
          "output_type": "stream",
          "name": "stdout",
          "text": [
            "10\n"
          ]
        }
      ]
    },
    {
      "cell_type": "markdown",
      "source": [
        "このたった２行のコードで、簡単にランダムな値を表示できます。\n",
        "\n",
        "これらのコードの意味を解説する前に写経しましょう。\n",
        "\n",
        "\n",
        "**千里の道も一歩から**\n",
        "\n",
        "自分で音読しながら記述してください。\n",
        "\n"
      ],
      "metadata": {
        "id": "_WHrnskdFpt2"
      }
    },
    {
      "cell_type": "code",
      "source": [],
      "metadata": {
        "id": "lw_09AaCGGsE"
      },
      "execution_count": null,
      "outputs": []
    },
    {
      "cell_type": "markdown",
      "source": [
        "まず、最初の\n",
        "~~~ python\n",
        "import モジュール名\n",
        "~~~\n",
        "\n",
        "これは、「プログラムに次のようなモジュールを読み込みますよ」という意味になります。\n",
        "\n",
        "モジュールって何？\n",
        "\n",
        "<img src=\"https://img.gamewith.jp/article/thumbnail/rectangle/303695.png?date=1636339540\" width=\"500\">\n",
        "\n",
        "と綾波レイみたいになっているそこのあなた！！\n",
        "\n",
        "モジュールってのは、**「他人の作ったプログラムを手軽に使えるためにまとめたもの」**という認識でOKです。\n",
        "\n",
        "つまり、この`import`で他人のプログラムを利用することができます。\n",
        "\n",
        "今回は、よく使われる関数ですので、pythonの標準的なライブラリに含まれています。\n",
        "\n",
        "<br>\n",
        "\n",
        "今回の場合は、プリント文の中にこのように記述しています。\n",
        "~~~python\n",
        "random.randint(1,10)\n",
        "~~~\n",
        "この文の意味は、\n",
        "`random`というプログラムのまとまりの中の`randint`という関数を呼び出しています。\n",
        "~~~python\n",
        "randint( a, b )\n",
        "~~~\n",
        "とは、a～bの値をランダムに返す関数です。\n",
        "~~~python\n",
        "randint(1,10)\n",
        "~~~\n",
        "この場合、１～１０の値を返します。\n"
      ],
      "metadata": {
        "id": "XOfrCjWzGHZy"
      }
    },
    {
      "cell_type": "markdown",
      "source": [
        "#### Tips 値を返すとは？\n",
        "私の説明で、今後、**「値を返す」**という言葉をよく使うことになると思います。\n",
        "プログラミングにおいて、関数というものを使うと、どうしてもこの言葉を使わざるを得ません。\n",
        "\n",
        "中学校までに関数をすでに習っていると思いますので、\n",
        "関数の役割をおさらいすると、内容が見えてきます。\n",
        "\n",
        "わかりやすいイメージがネットに転がっていたので、\n",
        "\n",
        "<br>\n",
        "<img src=\"https://univ-juken.com/wp-content/uploads/2020/04/kansu-zukei1.png\" width=\"500\">\n",
        "\n",
        "[受験辞典　関数](https://univ-juken.com/kansu)\n",
        "<br>\n",
        "\n",
        "こちらを参考にして、説明していきます。\n",
        "\n",
        "まさにこの通りで、数値を入力すると、値を出力してくれます。\n",
        "\n",
        "関数を使用すると、次のような形になります。\n",
        "\n",
        "（例外はありますが今回は、最小の説明で乗り切ります。）\n",
        "\n",
        "~~~python\n",
        "関数名 (   )\n",
        "~~~\n",
        "この丸カッコ「（　）」に入れる値がこの図でいうところの材料にあたります。\n",
        "\n",
        "そして、完成品として出てくる値のことを私たちは「返す」と言っています。\n",
        "\n",
        "一言でいうのであれば、\n",
        "\n",
        "**関数**に材料として値を**「与えて」**、完成品として値が**「返される」**のです。\n",
        "\n",
        "そのため、**「返す」**という表現になります。\n",
        "\n",
        "\n"
      ],
      "metadata": {
        "id": "InmC3iNc30nH"
      }
    },
    {
      "cell_type": "markdown",
      "source": [
        "####**Tips print文の復習**\n",
        "\n",
        "ちなみに、print文とは、文字列や数値などを画面に出力できる関数です。\n",
        "\n",
        "文字列と数値ではコードの書き方が違い、数値は `print( )` のように記述すれば出力されますが、\n",
        "\n",
        "文字列(英語・日本語など)は `print(\" \")` のように`\"`(ダブルクオーテーション)で囲う必要があります。\n"
      ],
      "metadata": {
        "id": "5eGgYwSR-AEc"
      }
    },
    {
      "cell_type": "code",
      "source": [
        "print(123)\n",
        "print(\"あいうえお\")\n",
        "print(\"aiueo\")"
      ],
      "metadata": {
        "id": "tYzgZgSiAY_U"
      },
      "execution_count": null,
      "outputs": []
    },
    {
      "cell_type": "markdown",
      "source": [
        "#### 練習問題\n",
        "５０から１００までのランダムな数値を生成するプログラムを記述しなさい。"
      ],
      "metadata": {
        "id": "3Nw8uU_25Gze"
      }
    },
    {
      "cell_type": "code",
      "source": [
        "import random\n",
        "\n",
        "print(random.randint(50,100))"
      ],
      "metadata": {
        "id": "wXVnwV9I5mAU"
      },
      "execution_count": null,
      "outputs": []
    },
    {
      "cell_type": "markdown",
      "source": [
        "じゃんけんの「ぐー」「ちょき」「ぱー」をランダムに表示するプログラムを作成しなさい。"
      ],
      "metadata": {
        "id": "t2F9DJSv7IBn"
      }
    },
    {
      "cell_type": "code",
      "source": [
        "import random\n",
        "zyanken = random.randint(1,3)\n",
        "if zyanken == 1:\n",
        "    print(\"ぐー\")\n",
        "elif zyanken == 2:\n",
        "    print(\"ちょき\")\n",
        "elif zyanken == 3:\n",
        "    print(\"ぱー\")"
      ],
      "metadata": {
        "id": "P_kmBNDR7HfI",
        "colab": {
          "base_uri": "https://localhost:8080/"
        },
        "outputId": "c3980b61-1362-4256-da8a-578ba0d956a9"
      },
      "execution_count": null,
      "outputs": [
        {
          "output_type": "stream",
          "name": "stdout",
          "text": [
            "ちょき\n"
          ]
        }
      ]
    },
    {
      "cell_type": "markdown",
      "source": [
        "#### Tips if\n",
        "条件分岐には以下のようなものがあります。\n",
        "\n",
        "「`if`」「`else`」「`elif`」\n",
        "\n",
        "それぞれＣ言語であれば、\n",
        "\n",
        "「`if`」「`else`」「`else if`」\n",
        "\n",
        "と同義です。\n",
        "\n",
        "以下のように記述します。\n",
        "\n",
        "~~~python\n",
        "if 条件式１ :\n",
        " →実行内容１\n",
        "elif 条件式２ :\n",
        " →実行内容２\n",
        "else:\n",
        " →実行内容３\n",
        "~~~\n",
        " → はインデントの意味です。インデントは、高さをそろえましょう。\n",
        "\n",
        " このif文では、\n",
        "\n",
        " もし、条件式１に該当するのであれば、実行内容１を行います。\n",
        "\n",
        "条件式１に該当せず、条件式２に該当するのであれば、実行内容２を実行します。\n",
        "\n",
        "最後に、それら条件式に当てはまらない場合は、実行内容３を行います。"
      ],
      "metadata": {
        "id": "o6g-Ai1b9Rg5"
      }
    },
    {
      "cell_type": "markdown",
      "source": [
        "#### 応用問題\n",
        "じゃんけんゲームを作成してください。\n",
        "\n",
        "条件：\n",
        "\n",
        "自分の手は、input関数を用いて、0を入力したら「ぐー」、1を入力したら「ちょき」、2を入力したら「ぱー」になります。\n",
        "\n",
        "CPUの手は、ランダムです。\n",
        "\n",
        "最終的に勝ちか負けかも出力しなさい。\n",
        "\n",
        "期待する出力:\n",
        "~~~\n",
        "1\n",
        "player:ちょき\n",
        "com:ぱー\n",
        "あなたの勝ちです\n",
        "~~~"
      ],
      "metadata": {
        "id": "FOrQE2s17ZrA"
      }
    },
    {
      "cell_type": "code",
      "source": [
        "#0「ぐー」、1「ちょき」、2「ぱー」\n",
        "import random\n",
        "\n",
        "zyanken = [\"ぐー\",\"ちょき\",\"ぱー\"]\n",
        "\n",
        "player = int(input())   #自分の出した手を０～２の中から選ぶ\n",
        "com = random.randint(0,2)   #相手の手はrandom関数によってランダムに選ばれる\n",
        "\n",
        "print(\"player:\"+zyanken[player])\n",
        "print(\"com:\"+zyanken[com])\n",
        "\n",
        "if player == com:\n",
        "    print(\"あいこです\")\n",
        "\n",
        "elif player == 1:\n",
        "    if com == 2:\n",
        "        print(\"あなたの勝ちです\")\n",
        "    elif com == 3:\n",
        "        print(\"あなたの負けです\")\n",
        "\n",
        "elif player == 2:\n",
        "    if com == 1:\n",
        "        print(\"あなたの負けです\")\n",
        "    elif com == 3:\n",
        "        print(\"あなたの勝ちです\")\n",
        "\n",
        "elif player == 3:\n",
        "    if com == 1:\n",
        "        print(\"あなたの勝ちです\")\n",
        "    elif com == 2:\n",
        "        print(\"あなたの負けです\")"
      ],
      "metadata": {
        "colab": {
          "base_uri": "https://localhost:8080/"
        },
        "id": "jlqC5_rYHXwa",
        "outputId": "41af0a2c-fd2e-475a-8788-264d23338e6b"
      },
      "execution_count": null,
      "outputs": [
        {
          "output_type": "stream",
          "name": "stdout",
          "text": [
            "1\n",
            "player:ちょき\n",
            "com:ぱー\n",
            "あなたの勝ちです\n"
          ]
        }
      ]
    },
    {
      "cell_type": "markdown",
      "source": [
        "じゃんけんの勝率を計算します。じゃんけんの結果は、「勝利」「敗北」「あいこ」のように３通りあります。\n",
        "\n",
        "おそらく、勝利の確率は「33.3%」になりそうです。\n",
        "\n",
        "実際に正しいか確かめなさい。\n",
        "\n",
        "ただし、試行回数を任意で設定できるように、input関数を用いなさい。"
      ],
      "metadata": {
        "id": "j0tJcxRg8t54"
      }
    },
    {
      "cell_type": "code",
      "source": [
        "#0「ぐー」、1「ちょき」、2「ぱー」\n",
        "import random\n",
        "\n",
        "win = 0\n",
        "n = int(input()) #試行回数\n",
        "\n",
        "for i in range(n):\n",
        "    player = random.randint(0,2)\n",
        "    com = random.randint(0,2)\n",
        "    if player == 0:\n",
        "        if com == 1:\n",
        "            win += 1\n",
        "    elif player == 1:\n",
        "        if com == 2:\n",
        "            win += 1\n",
        "    elif player == 2:\n",
        "        if com == 0:\n",
        "            win += 1\n",
        "\n",
        "percent = win / n * 100\n",
        "print(\"勝率は\" + str(percent) + \"%です。\")"
      ],
      "metadata": {
        "colab": {
          "base_uri": "https://localhost:8080/"
        },
        "id": "pO1sNQJqOKj4",
        "outputId": "86c9e18e-51d6-4000-c175-5895fcea60e6"
      },
      "execution_count": null,
      "outputs": [
        {
          "output_type": "stream",
          "name": "stdout",
          "text": [
            "100000\n",
            "勝率は33.097%です。\n"
          ]
        }
      ]
    },
    {
      "cell_type": "code",
      "source": [
        "import random\n",
        "n = int(input())\n",
        "win = 0\n",
        "for i in range(n):\n",
        "    p1 = random.randint(0,2)\n",
        "    p2 = random.randint(0,2)\n",
        "    if (p1 == 0 and p2 == 1) or (p1 == 1 and p2 == 2) or (p1 == 2 and p2 == 0):\n",
        "        win += 1\n",
        "print(\"勝率は\",win/n*100,\"%です。\")"
      ],
      "metadata": {
        "colab": {
          "base_uri": "https://localhost:8080/"
        },
        "id": "DpoUxJXCU-AN",
        "outputId": "8a0b295a-a19f-459d-d66b-d92626577808"
      },
      "execution_count": null,
      "outputs": [
        {
          "output_type": "stream",
          "name": "stdout",
          "text": [
            "10000\n",
            "勝率は 34.32 %です。\n"
          ]
        }
      ]
    },
    {
      "cell_type": "markdown",
      "source": [
        "３連勝する確率を求めなさい。\n",
        "ただし、あいこの場合、終了とします。"
      ],
      "metadata": {
        "id": "F5OY8FLQTiiX"
      }
    },
    {
      "cell_type": "code",
      "source": [
        "import random\n",
        "n = int(input())\n",
        "count = 0\n",
        "for i in range(n):\n",
        "    win = 0\n",
        "    while win < 3:\n",
        "        p , c = random.randint(0,2) , random.randint(0,2)\n",
        "        if (p == 0 and c == 1)or(p == 1 and c == 2)or(p == 2 and c == 0):\n",
        "            win += 1\n",
        "        else:\n",
        "            break\n",
        "        if win == 3:\n",
        "            count += 1\n",
        "\n",
        "print(\"３連勝する確率は\"+str(count / n *100)+\"%です\")\n",
        "print(1/27*100)\n"
      ],
      "metadata": {
        "colab": {
          "base_uri": "https://localhost:8080/"
        },
        "id": "gKl892wgTyb2",
        "outputId": "7f31a96e-3599-4791-cd52-886668408761"
      },
      "execution_count": null,
      "outputs": [
        {
          "output_type": "stream",
          "name": "stdout",
          "text": [
            "100000\n",
            "３連勝する確率は3.791%です\n",
            "3.7037037037037033\n"
          ]
        }
      ]
    },
    {
      "cell_type": "markdown",
      "source": [
        "２つのすごろくがぞろ目である確率を求めなさい。"
      ],
      "metadata": {
        "id": "FbvMzz3DdKXt"
      }
    },
    {
      "cell_type": "code",
      "source": [
        "import random\n",
        "n = int(input())\n",
        "goukei = 0\n",
        "for i in range(n):\n",
        "    sugoroku , saikoro = random.randint(1,6),random.randint(1,6)\n",
        "    if sugoroku == saikoro:\n",
        "        goukei += 1\n",
        "print(goukei/n*100,\"%\")\n",
        "print(1/6*100,\"%\")"
      ],
      "metadata": {
        "id": "uzjRewqvdSp-",
        "colab": {
          "base_uri": "https://localhost:8080/"
        },
        "outputId": "4fd789b2-9383-461d-f23c-e6fea26aa426"
      },
      "execution_count": null,
      "outputs": [
        {
          "output_type": "stream",
          "name": "stdout",
          "text": [
            "100000\n",
            "16.527 %\n",
            "16.666666666666664 %\n"
          ]
        }
      ]
    },
    {
      "cell_type": "markdown",
      "source": [
        "３つのすごろくがぞろ目である確率を求めなさい。"
      ],
      "metadata": {
        "id": "kY7GP0xc8r6p"
      }
    },
    {
      "cell_type": "code",
      "source": [
        "import random\n",
        "n = int(input())\n",
        "goukei = 0\n",
        "for i in range(n):\n",
        "    sugoroku , saikoro , sainome = random.randint(1,6),random.randint(1,6),random.randint(1,6)\n",
        "    if sugoroku == saikoro and  saikoro == sainome:\n",
        "        goukei += 1\n",
        "print(goukei/n*100,\"%\")\n",
        "print(1/36*100,\"%\")"
      ],
      "metadata": {
        "colab": {
          "base_uri": "https://localhost:8080/"
        },
        "outputId": "d1eda629-4922-4d28-fee1-16d861fa2828",
        "id": "eSzziNf88r6q"
      },
      "execution_count": null,
      "outputs": [
        {
          "output_type": "stream",
          "name": "stdout",
          "text": [
            "100000\n",
            "2.759 %\n",
            "2.7777777777777777 %\n"
          ]
        }
      ]
    },
    {
      "cell_type": "markdown",
      "source": [
        "## 確率の算出方法について\n",
        "\n",
        "みなさんは、ポケモンをご存じでしょうか？\n",
        "\n",
        "<br>\n",
        "<img src=\"https://zukan.pokemon.co.jp/zukan-api/up/images/index/6ee10ea72fc862fb4ce65cba1da648cd.png\" width=\"300\">\n",
        "<img src=\"https://zukan.pokemon.co.jp/zukan-api/up/images/index/2b0afac1febd6fb753b4630dd02d6002.png\" width=\"300\">\n",
        "<img src=\"https://zukan.pokemon.co.jp/zukan-api/up/images/index/17d4ed41e67cecd79dc7125eb33207e2.png\" width=\"300\">\n",
        "\n",
        "\n",
        "[ポケモンずかん　カイリキー](https://zukan.pokemon.co.jp/detail/0068)\n",
        "\n",
        "[ポケモンずかん　サンダー](https://zukan.pokemon.co.jp/detail/0145)\n",
        "\n",
        "[ポケモンずかん　ヒードラン](https://zukan.pokemon.co.jp/detail/0485)\n",
        "\n",
        "<br>\n",
        "\n",
        "この中にポケモンをご存じの方がおられたら、このポケモンたちに明確なグループ分けができるでしょう。\n",
        "\n",
        "そうです。カイリキーはノーガードという特性のおかげで、命中不安ではありません。\n",
        "\n",
        "サンダーのぼうふう\n",
        "\n",
        "ヒードランのマグマストーム\n",
        "\n",
        "これらは、そのポケモンのメインウェポンでありながら、信頼性に欠けているでしょう。\n",
        "\n",
        "**そんなことは知らないって？？**\n",
        "\n",
        "まったく問題はありません。\n",
        "\n",
        "わかりにくい人は、ゲームの課金ガチャをイメージしてもらえば結構です。\n",
        "\n"
      ],
      "metadata": {
        "id": "_ZPkA-7h-LG8"
      }
    },
    {
      "cell_type": "markdown",
      "source": [
        "### 確率アルゴリズム\n",
        "\n",
        "今回は、ゲーム中に使われている確率についてのアルゴリズムを製作します。\n",
        "\n",
        "ランダム関数とif文を用いることで、とても簡単に作成することができます。\n",
        "\n",
        "できる人は、自力で実装してみてください。"
      ],
      "metadata": {
        "id": "g3PSr099AsuM"
      }
    },
    {
      "cell_type": "markdown",
      "source": [
        "####問題\n",
        "80%の確率で、「命中」と表示し、それ以外の場合は、「外れた」と表示しなさい。"
      ],
      "metadata": {
        "id": "VnZf5u8QBUSl"
      }
    },
    {
      "cell_type": "code",
      "source": [
        "import random\n",
        "n = random.randint(0,100)\n",
        "if n <= 80:\n",
        "    print(\"命中\")\n",
        "else:\n",
        "    print(\"外れた\")"
      ],
      "metadata": {
        "colab": {
          "base_uri": "https://localhost:8080/"
        },
        "id": "L9jHenQfBAJT",
        "outputId": "c75d8bf3-68b3-4f19-e76f-29c293f8b3d7"
      },
      "execution_count": null,
      "outputs": [
        {
          "output_type": "stream",
          "name": "stdout",
          "text": [
            "命中\n"
          ]
        }
      ]
    },
    {
      "cell_type": "markdown",
      "source": [
        "#### 応用問題\n",
        "\n",
        "命中率を与えると、「命中」と「外れた」と返す関数を作成しなさい。\n",
        "\n",
        "その関数には、命中する確率を与える。\n",
        "「命中」「外れた」と表示する。"
      ],
      "metadata": {
        "id": "ncXDN5O8BvRE"
      }
    },
    {
      "cell_type": "code",
      "source": [
        "import random\n",
        "def hit_rate(x):\n",
        "    n = random.randint(0,100)\n",
        "    if n <= x:\n",
        "        print(\"命中\")\n",
        "    else:\n",
        "        print(\"外れた\")\n",
        "\n",
        "hit_rate(80)"
      ],
      "metadata": {
        "colab": {
          "base_uri": "https://localhost:8080/"
        },
        "id": "m2H7zRAvBrm8",
        "outputId": "4e6970e3-e475-410b-a343-cb7429fd0b1a"
      },
      "execution_count": null,
      "outputs": [
        {
          "output_type": "stream",
          "name": "stdout",
          "text": [
            "命中\n"
          ]
        }
      ]
    },
    {
      "cell_type": "markdown",
      "source": [
        "ガチャでURが当たるまで、課金し続けた人の末路を答えなさい。\n",
        "\n",
        "1回のガチャは、課金する必要があり、200円とします。\n",
        "\n",
        "ただし、排出率は**1%**とします。\n",
        "\n",
        "確率的には、100回ガチャを回せば、当たるので、20000円で済みそうですが、本当にそうですか？\n",
        "\n",
        "可能であれば、５回ごとに「n回目は外れだ、、、」と表示し、\n",
        "最終的に「n回目でURだ！！」「総額n*200円かかった。」\n",
        "と表示しなさい。"
      ],
      "metadata": {
        "id": "3tUQ5qV0DlRM"
      }
    },
    {
      "cell_type": "code",
      "source": [
        "import random\n",
        "flag = 0\n",
        "total = 0\n",
        "while flag == 0:\n",
        "    total += 1\n",
        "    if random.randint(0,100) == 100:\n",
        "        flag = 1\n",
        "        print(total,\"回目でURだ！！\")\n",
        "    else:\n",
        "        if total % 5 == 0:\n",
        "            print(total,\"回目は外れだ、、、\")\n",
        "print(\"総額\",total*200,\"円かかった。\")\n"
      ],
      "metadata": {
        "colab": {
          "base_uri": "https://localhost:8080/"
        },
        "id": "mvU6KEqbE3Dr",
        "outputId": "110e3ce9-2664-4610-accf-c2a9617e3adf"
      },
      "execution_count": null,
      "outputs": [
        {
          "output_type": "stream",
          "name": "stdout",
          "text": [
            "5 回目は外れだ、、、\n",
            "10 回目は外れだ、、、\n",
            "15 回目は外れだ、、、\n",
            "20 回目は外れだ、、、\n",
            "25 回目は外れだ、、、\n",
            "30 回目は外れだ、、、\n",
            "35 回目は外れだ、、、\n",
            "40 回目は外れだ、、、\n",
            "45 回目は外れだ、、、\n",
            "50 回目は外れだ、、、\n",
            "55 回目は外れだ、、、\n",
            "60 回目は外れだ、、、\n",
            "65 回目は外れだ、、、\n",
            "70 回目は外れだ、、、\n",
            "75 回目は外れだ、、、\n",
            "80 回目は外れだ、、、\n",
            "85 回目は外れだ、、、\n",
            "90 回目は外れだ、、、\n",
            "95 回目は外れだ、、、\n",
            "100 回目は外れだ、、、\n",
            "105 回目は外れだ、、、\n",
            "110 回目は外れだ、、、\n",
            "115 回目は外れだ、、、\n",
            "120 回目は外れだ、、、\n",
            "125 回目は外れだ、、、\n",
            "130 回目は外れだ、、、\n",
            "135 回目は外れだ、、、\n",
            "140 回目は外れだ、、、\n",
            "145 回目は外れだ、、、\n",
            "150 回目は外れだ、、、\n",
            "155 回目は外れだ、、、\n",
            "160 回目は外れだ、、、\n",
            "162 回目でURだ！！\n",
            "総額 32400 円かかった。\n"
          ]
        }
      ]
    },
    {
      "cell_type": "markdown",
      "source": [
        "#### Tips 関数\n",
        "\n",
        "プログラムでなにをするにもコンピュータに情報を与える必要があります。\n",
        "\n",
        "その際、**「この私が作ったプログラムには、次のルールを与えます。」**と言いたい。\n",
        "\n",
        "そのために、ルール名を決める役割をもつのが、`def` です。\n",
        "\n",
        "そのため、このような考え方ができます。\n",
        "\n",
        "~~~python\n",
        "def ルール名(引数):\n",
        "    return ルールに従った結果\n",
        "~~~"
      ],
      "metadata": {
        "id": "WMWyPYhIDSq3"
      }
    },
    {
      "cell_type": "markdown",
      "metadata": {
        "id": "qP43yHgJ7qHn"
      },
      "source": [
        "## 配列\n",
        "\n",
        "配列も変数と同じく型を宣言する必要がありません。\n",
        "\n",
        "ただし、基本的には配列の行列は記述する必要があります。\n",
        "\n",
        "~~~python\n",
        "a = [0,0,0]\n",
        "print(a)\n",
        "\n",
        "b = [[0,0,0],[0,0][0,0,0,0,0,0]]\n",
        "print(b)\n",
        "\n",
        "~~~\n",
        "\n",
        "しかし、宣言することも面倒な人は、以下のように記述することもできます。\n",
        "\n",
        "~~~python\n",
        "c = [[0]*3,[0]*2,[0]*6]\n",
        "print(c)\n",
        "\n",
        "~~~\n",
        "\n",
        "これは配列に掛け算を行うと要素をコピーするということになるためです。\n",
        "\n",
        "~~~python\n",
        "print(c*3)\n",
        "~~~\n",
        "\n",
        "もちろん、一箇所、値を変えたい場合は、簡単です。\n",
        "\n",
        "ただし、配列の番号が、0から始まっていることを留意しなくてはなりません。\n",
        "\n",
        "~~~python\n",
        "c[1][1]=3\n",
        "print(c)\n",
        "~~~\n"
      ]
    },
    {
      "cell_type": "markdown",
      "source": [
        "# ソート（並べ替え）\n",
        "複数のデータが並んだ列を、何らかの順序に基いて順番通りになるよう並べ替えること。\n",
        "\n",
        "ゲームのランキングや、アイテムの並び替えなどいろいろな場面で使うソートの学習をしましょう。"
      ],
      "metadata": {
        "id": "B9fWLJXQEZo-"
      }
    },
    {
      "cell_type": "markdown",
      "source": [
        "## ソートの種類\n",
        "\n",
        "* バブルソート\n",
        "* クイックソート\n",
        "* マージソート\n",
        "* 選択ソート\n",
        "* 挿入ソート\n",
        "* ヒープソート\n",
        "\n",
        "それぞれ、アルゴリズムの制作難易度とソートにかかる時間が異なっている。"
      ],
      "metadata": {
        "id": "-ezTl1s2EqE5"
      }
    },
    {
      "cell_type": "markdown",
      "source": [
        "### バブルソート\n",
        "リストのデータを比較して、大小の順序が違っているときは並べていく。\n",
        "\n"
      ],
      "metadata": {
        "id": "eciRvWfKFA5I"
      }
    },
    {
      "cell_type": "code",
      "source": [
        "a = [1,326,15,4,2,8]\n",
        "n = len(a)\n",
        "for i in range(n):\n",
        "    for j in range(0, n-i-1):\n",
        "        if a[j] > a[j+1]:\n",
        "            a[j], a[j+1] = a[j+1], a[j]\n",
        "        print(a)\n"
      ],
      "metadata": {
        "id": "oYJv-jPeFHoR",
        "colab": {
          "base_uri": "https://localhost:8080/"
        },
        "outputId": "75f4fd9b-eba5-4a46-cbd6-7eb438326551"
      },
      "execution_count": null,
      "outputs": [
        {
          "output_type": "stream",
          "name": "stdout",
          "text": [
            "[1, 326, 15, 4, 2, 8]\n",
            "[1, 15, 326, 4, 2, 8]\n",
            "[1, 15, 4, 326, 2, 8]\n",
            "[1, 15, 4, 2, 326, 8]\n",
            "[1, 15, 4, 2, 8, 326]\n",
            "[1, 15, 4, 2, 8, 326]\n",
            "[1, 4, 15, 2, 8, 326]\n",
            "[1, 4, 2, 15, 8, 326]\n",
            "[1, 4, 2, 8, 15, 326]\n",
            "[1, 4, 2, 8, 15, 326]\n",
            "[1, 2, 4, 8, 15, 326]\n",
            "[1, 2, 4, 8, 15, 326]\n",
            "[1, 2, 4, 8, 15, 326]\n",
            "[1, 2, 4, 8, 15, 326]\n",
            "[1, 2, 4, 8, 15, 326]\n"
          ]
        }
      ]
    },
    {
      "cell_type": "code",
      "source": [
        "a = [1,326,15,4,2,8]\n",
        "for i in range(len(a)):\n",
        "    for j in range(i+1,len(a)):\n",
        "        if a[i] > a[j]:\n",
        "            a[i],a[j] = a[j],a[i]\n",
        "        print(a)\n"
      ],
      "metadata": {
        "id": "ZFi9EhYaFIMA"
      },
      "execution_count": null,
      "outputs": []
    },
    {
      "cell_type": "markdown",
      "source": [
        "### 選択ソート\n",
        "リスト内の最小値を見つけます。\n",
        "最小値をリストの先頭要素と交換します（または最大値をリストの末尾要素と交換します）。\n",
        "ソート済みの部分リストとして先頭の要素を除外します。\n",
        "上記のステップを繰り返し、リスト全体がソートされるまで続けます。\n"
      ],
      "metadata": {
        "id": "VQAjDhhiFNCR"
      }
    },
    {
      "cell_type": "code",
      "source": [
        "a = [1,326,15,4,2,8]\n",
        "n = len(a)\n",
        "for i in range(n):\n",
        "    min_index = i\n",
        "    for j in range(i + 1, n):\n",
        "        if a[j] < a[min_index]:\n",
        "            min_index = j\n",
        "    a[i], a[min_index] = a[min_index], a[i]\n",
        "\n",
        "    print(a)\n"
      ],
      "metadata": {
        "id": "JFjkPcSBFUX5"
      },
      "execution_count": null,
      "outputs": []
    },
    {
      "cell_type": "markdown",
      "source": [
        "### おまけ（クイックソート）\n",
        "ピボット（基準値）を選択します。\n",
        "\n",
        "通常、リストの中央の要素を選択します。\n",
        "\n",
        "ピボットを基準にして、リスト内の要素を2つの部分リストに分割します。\n",
        "\n",
        "ピボットより小さい要素は左の部分リストに、大きい要素は右の部分リストに配置します。\n",
        "\n",
        "部分リストを再帰的にソートします。\n",
        "\n",
        "これにより、各部分リストがソート済みになります。\n",
        "\n",
        "ソートされた部分リストを結合し、最終的に整列済みのリストを得ます。\n"
      ],
      "metadata": {
        "id": "c-ooRfBAFX7M"
      }
    },
    {
      "cell_type": "code",
      "source": [
        "def quick_sort(arr):\n",
        "    if len(arr) <= 1:\n",
        "        return arr\n",
        "\n",
        "    pivot = arr[len(arr) // 2]  # ピボットを中央の要素とします\n",
        "    left = [x for x in arr if x < pivot]  # ピボットより小さい要素のリスト\n",
        "    middle = [x for x in arr if x == pivot]  # ピボットと等しい要素のリスト\n",
        "    right = [x for x in arr if x > pivot]  # ピボットより大きい要素のリスト\n",
        "\n",
        "    # 再帰的に左と右の部分リストをソートし、結合します\n",
        "    return quick_sort(left) + middle + quick_sort(right)\n",
        "\n",
        "# テスト用のリストを作成\n",
        "a = [6, 15, 4, 2, 8]\n",
        "\n",
        "# クイックソートを実行\n",
        "sorted_a = quick_sort(a)\n",
        "\n",
        "# ソート後のリストを出力\n",
        "print(sorted_a)\n"
      ],
      "metadata": {
        "id": "JbD7Sr-SFj4t"
      },
      "execution_count": null,
      "outputs": []
    },
    {
      "cell_type": "markdown",
      "source": [
        "### sortメソッド（破壊的ソート）\n",
        "元のリストの中身をソートするため、元データを失う。"
      ],
      "metadata": {
        "id": "af0iBua5Fyr9"
      }
    },
    {
      "cell_type": "code",
      "source": [
        "l = [3, 1, 4, 5, 2]\n",
        "\n",
        "l.sort()\n",
        "print(l)"
      ],
      "metadata": {
        "id": "7zcl7HIAF-B8",
        "colab": {
          "base_uri": "https://localhost:8080/"
        },
        "outputId": "d347f7c1-b3d8-4f77-a45b-a60cc54735ad"
      },
      "execution_count": null,
      "outputs": [
        {
          "output_type": "stream",
          "name": "stdout",
          "text": [
            "[1, 2, 3, 4, 5]\n"
          ]
        }
      ]
    },
    {
      "cell_type": "markdown",
      "source": [
        "### sorted関数（非破壊的ソート）\n",
        "関数が値を返すため、元データを失わない\n",
        "\n",
        "ちなみにメソッドと関数はやっていることはよく似ています。\n",
        "\n",
        "しいて言えば、概念の違いです。←？？ わからなくてOK"
      ],
      "metadata": {
        "id": "QjP8kA0JGHrX"
      }
    },
    {
      "cell_type": "code",
      "source": [
        "l = [3, 1, 4, 5, 2]\n",
        "\n",
        "l_sorted = sorted(l)\n",
        "print(l_sorted)\n",
        "\n",
        "print(l)"
      ],
      "metadata": {
        "id": "T9BEpKLOGcp5",
        "colab": {
          "base_uri": "https://localhost:8080/"
        },
        "outputId": "a652287b-a4bf-4a25-eec2-4d3fafd4c77e"
      },
      "execution_count": null,
      "outputs": [
        {
          "output_type": "stream",
          "name": "stdout",
          "text": [
            "[1, 2, 3, 4, 5]\n",
            "[3, 1, 4, 5, 2]\n"
          ]
        }
      ]
    },
    {
      "cell_type": "code",
      "source": [
        "import random\n",
        "print(random.randint(1,38))"
      ],
      "metadata": {
        "colab": {
          "base_uri": "https://localhost:8080/"
        },
        "id": "pr8by_6GjTfe",
        "outputId": "5d39847f-1215-4149-99ef-4e1164e5699b"
      },
      "execution_count": null,
      "outputs": [
        {
          "output_type": "stream",
          "name": "stdout",
          "text": [
            "16\n"
          ]
        }
      ]
    },
    {
      "cell_type": "markdown",
      "source": [
        "#トランプゲーム（神経衰弱）\n",
        "\n",
        "今回は、トランプゲームを作成していきます。\n",
        "\n",
        "トランプゲームっていろいろアルジャネーカ(ﾟДﾟ)ｺﾞﾙｧ!!\n",
        "\n",
        "と思ったあなたの言うとおり、今回は神経衰弱を作っていこうと思います。\n",
        "\n",
        "ということで皆さんは、トランプゲームを実装する際にどのようなものが必要だと考えますか？\n",
        "\n",
        "まず最初に準備するものと言えば、トランプですよね？\n",
        "\n",
        "では、トランプどうやって実装しますか？\n",
        "\n",
        "マークと絵柄を考えて、\n",
        "\n",
        "とりあえず、二次元配列を準備してみましょう。\n",
        "\n",
        "ちなみに下のプログラムを書くのが難しい人は手作業で準備してね。"
      ],
      "metadata": {
        "id": "utVtULKL-SHV"
      }
    },
    {
      "cell_type": "code",
      "source": [
        "playingCardArray = [[i for i in range(1,14)] for _ in range(4)]\n",
        "print(playingCardArray)"
      ],
      "metadata": {
        "colab": {
          "base_uri": "https://localhost:8080/"
        },
        "id": "MwP0orbPNGlI",
        "outputId": "d8dd960b-d35f-4382-86eb-0bf836b1544c"
      },
      "execution_count": null,
      "outputs": [
        {
          "output_type": "stream",
          "name": "stdout",
          "text": [
            "[[1, 2, 3, 4, 5, 6, 7, 8, 9, 10, 11, 12, 13], [1, 2, 3, 4, 5, 6, 7, 8, 9, 10, 11, 12, 13], [1, 2, 3, 4, 5, 6, 7, 8, 9, 10, 11, 12, 13], [1, 2, 3, 4, 5, 6, 7, 8, 9, 10, 11, 12, 13]]\n"
          ]
        }
      ]
    },
    {
      "cell_type": "markdown",
      "source": [
        "これだと見づらいので、"
      ],
      "metadata": {
        "id": "J3-vbid6Nu4I"
      }
    },
    {
      "cell_type": "code",
      "source": [
        "playingCardArray = [[i for i in range(1,14)] for _ in range(4)]\n",
        "for i in range(4):\n",
        "    print(playingCardArray[i])"
      ],
      "metadata": {
        "colab": {
          "base_uri": "https://localhost:8080/"
        },
        "id": "IKzGJELbNyCX",
        "outputId": "1ac3d84f-86ce-4ad4-fc98-e46aad9d7d2e"
      },
      "execution_count": null,
      "outputs": [
        {
          "output_type": "stream",
          "name": "stdout",
          "text": [
            "[1, 2, 3, 4, 5, 6, 7, 8, 9, 10, 11, 12, 13]\n",
            "[1, 2, 3, 4, 5, 6, 7, 8, 9, 10, 11, 12, 13]\n",
            "[1, 2, 3, 4, 5, 6, 7, 8, 9, 10, 11, 12, 13]\n",
            "[1, 2, 3, 4, 5, 6, 7, 8, 9, 10, 11, 12, 13]\n"
          ]
        }
      ]
    },
    {
      "cell_type": "markdown",
      "source": [
        "各配列の先頭にスペード「♠」ダイヤ「♦」クローバー「♣」ハート「♥」を付ければ完璧ですね。\n",
        "\n",
        "さらにプラスでジョーカーなんかもありますが、\n",
        "\n",
        "~~~python\n",
        "playingCardArray.append([0,1])\n",
        "~~~\n",
        "\n",
        "とかして、くっつければいいです。\n",
        "\n",
        "但し今回は超シンプル神経衰弱ですので、そんな面倒なことはしません。\n",
        "\n",
        "さらに言えば、２色しか使いません。\n",
        "\n",
        "また、さっきの配列ではちょっと扱いが面倒ですので、少し変更します。（コード書いてるときに面倒であることに気がついたので、変更しました）"
      ],
      "metadata": {
        "id": "mGw4SpbUPmKZ"
      }
    },
    {
      "cell_type": "code",
      "source": [
        "playingCardArray = [[i,j] for i in [\"スペード\",\"ダイヤ\"] for j in range(1,14)]\n",
        "print(playingCardArray)"
      ],
      "metadata": {
        "colab": {
          "base_uri": "https://localhost:8080/"
        },
        "id": "QQSd1cwiQvAU",
        "outputId": "77487e8a-35c7-465f-cdc8-74119b54a758"
      },
      "execution_count": null,
      "outputs": [
        {
          "output_type": "stream",
          "name": "stdout",
          "text": [
            "[['スペード', 1], ['スペード', 2], ['スペード', 3], ['スペード', 4], ['スペード', 5], ['スペード', 6], ['スペード', 7], ['スペード', 8], ['スペード', 9], ['スペード', 10], ['スペード', 11], ['スペード', 12], ['スペード', 13], ['ダイヤ', 1], ['ダイヤ', 2], ['ダイヤ', 3], ['ダイヤ', 4], ['ダイヤ', 5], ['ダイヤ', 6], ['ダイヤ', 7], ['ダイヤ', 8], ['ダイヤ', 9], ['ダイヤ', 10], ['ダイヤ', 11], ['ダイヤ', 12], ['ダイヤ', 13]]\n"
          ]
        }
      ]
    },
    {
      "cell_type": "markdown",
      "source": [
        "## シャッフル\n",
        "これをシャッフル（ごちゃ混ぜに）したものを作ってみよう。\n",
        "\n",
        "簡単に説明するとsortの逆パターンなので、実装できないことはなさそう？？？\n",
        "\n",
        "といいたいのですが、シャッフルって自分で組むと面倒ですよね。\n",
        "\n",
        "そんなときは、randomモジュールに便利なものがあるので、使ってみよう。\n",
        "\n",
        "PythonはC言語と違って、こうゆうのはすごく便利"
      ],
      "metadata": {
        "id": "vriEmiVfWYDb"
      }
    },
    {
      "cell_type": "code",
      "source": [
        "import random\n",
        "playingCardArray = [[i,j] for i in [\"♠\",\"♦\"] for j in range(1,14)]\n",
        "random.shuffle(playingCardArray)\n",
        "print(playingCardArray)"
      ],
      "metadata": {
        "colab": {
          "base_uri": "https://localhost:8080/"
        },
        "id": "fwIzzVaGWR1U",
        "outputId": "45d7ad70-837b-41cc-b2b4-022930fb5827"
      },
      "execution_count": null,
      "outputs": [
        {
          "output_type": "stream",
          "name": "stdout",
          "text": [
            "[['♦', 13], ['♦', 1], ['♦', 11], ['♠', 8], ['♦', 7], ['♦', 4], ['♠', 1], ['♦', 5], ['♠', 4], ['♠', 9], ['♦', 9], ['♠', 6], ['♠', 2], ['♦', 3], ['♦', 10], ['♠', 10], ['♠', 13], ['♠', 5], ['♦', 2], ['♦', 8], ['♦', 12], ['♠', 11], ['♠', 12], ['♠', 7], ['♠', 3], ['♦', 6]]\n"
          ]
        }
      ]
    },
    {
      "cell_type": "markdown",
      "source": [
        "ちなみにこの方法は、破壊的ですね。非破壊的な方法もありますが、今回は割愛。\n",
        "\n",
        "破壊的の意味が分からない人は、ソートを確認してください。"
      ],
      "metadata": {
        "id": "5_55xZyCPmBu"
      }
    },
    {
      "cell_type": "markdown",
      "source": [
        "では、神経衰弱の醍醐味２枚のカードの数字が一致しているか確認するプログラムを作ってみよう。"
      ],
      "metadata": {
        "id": "wKA0nCpUY-rr"
      }
    },
    {
      "cell_type": "code",
      "source": [
        "import random\n",
        "\n",
        "playingCardArray = [[i,j] for i in [\"スペード\",\"ダイヤ\"] for j in range(1,6)]\n",
        "random.shuffle(playingCardArray)\n",
        "print(playingCardArray)\n",
        "\n",
        "card1 = int(input())\n",
        "card2 = int(input())\n",
        "print(playingCardArray[card1])\n",
        "print(playingCardArray[card2])\n",
        "if playingCardArray[card1][1] == playingCardArray[card2][1]:\n",
        "    print(\"Match\")\n",
        "else:\n",
        "    print(\"Miss Match\")"
      ],
      "metadata": {
        "colab": {
          "base_uri": "https://localhost:8080/"
        },
        "id": "Su_rnwcbZoM-",
        "outputId": "f9fc37b8-9789-4664-95c3-2dbf9779f7a3"
      },
      "execution_count": null,
      "outputs": [
        {
          "output_type": "stream",
          "name": "stdout",
          "text": [
            "[['スペード', 5], ['ダイヤ', 4], ['スペード', 2], ['スペード', 4], ['ダイヤ', 5], ['スペード', 3], ['ダイヤ', 2], ['ダイヤ', 3], ['ダイヤ', 1], ['スペード', 1]]\n",
            "1\n",
            "3\n",
            "['ダイヤ', 4]\n",
            "['スペード', 4]\n",
            "Match\n"
          ]
        }
      ]
    },
    {
      "cell_type": "markdown",
      "source": [
        "あとはこれをゲーム化していけば、完成しますね。。。（むちゃくちゃ）\n",
        "\n",
        "ということで、必要な要素を考えて実装してみよう。"
      ],
      "metadata": {
        "id": "43GopURraoNZ"
      }
    },
    {
      "cell_type": "markdown",
      "source": [
        "## 全体のトランプの枚数を表示しよう\n",
        "\n",
        "枚数を表示する方法は簡単。len()でしたよね。"
      ],
      "metadata": {
        "id": "Xw1oZgiFfKHv"
      }
    },
    {
      "cell_type": "code",
      "source": [
        "import random\n",
        "\n",
        "playingCardArray = [[i,j] for i in [\"♠\",\"♦\"] for j in range(1,6)]\n",
        "random.shuffle(playingCardArray)\n",
        "print(f\"全体の枚数は、{len(playingCardArray)}枚です。\")\n",
        "print(f\"0 ～ {len(playingCardArray)-1} の値を入力してください。\")\n",
        "print(playingCardArray)\n",
        "\n",
        "card1 = int(input())\n",
        "card2 = int(input())\n",
        "print(playingCardArray[card1])\n",
        "print(playingCardArray[card2])\n",
        "if playingCardArray[card1][1] == playingCardArray[card2][1]:\n",
        "    print(\"Match\")\n",
        "else:\n",
        "    print(\"Miss Match\")"
      ],
      "metadata": {
        "colab": {
          "base_uri": "https://localhost:8080/"
        },
        "id": "eXG_1scvfW6j",
        "outputId": "7105dcbf-4f19-49bd-f746-3b70bf7eae54"
      },
      "execution_count": null,
      "outputs": [
        {
          "output_type": "stream",
          "name": "stdout",
          "text": [
            "全体の枚数は、10枚です。\n",
            "0 ～ 9 の値を入力してください。\n",
            "[['ダイヤ', 3], ['スペード', 4], ['スペード', 2], ['スペード', 1], ['ダイヤ', 2], ['ダイヤ', 1], ['ダイヤ', 4], ['ダイヤ', 5], ['スペード', 5], ['スペード', 3]]\n",
            "0\n",
            "9\n",
            "['ダイヤ', 3]\n",
            "['スペード', 3]\n",
            "Match\n"
          ]
        }
      ]
    },
    {
      "cell_type": "markdown",
      "source": [
        "## トランプが一致した際の処理を決めよう\n",
        "\n",
        "トランプが一致したのにカードとして残してしまうと後々面倒なので、分かるようにしておこう。\n",
        "\n",
        "今回は単純に、数値を0にしておこう。"
      ],
      "metadata": {
        "id": "qVM6U13dgaI6"
      }
    },
    {
      "cell_type": "code",
      "source": [
        "import random\n",
        "\n",
        "playingCardArray = [[i,j] for i in [\"♠\",\"♦\"] for j in range(1,6)]\n",
        "random.shuffle(playingCardArray)\n",
        "print(f\"全体の枚数は、{len(playingCardArray)}枚です。\")\n",
        "print(f\"0 ～ {len(playingCardArray)-1} の値を入力してください。\")\n",
        "print(playingCardArray)\n",
        "\n",
        "card1 = int(input())\n",
        "card2 = int(input())\n",
        "print(playingCardArray[card1])\n",
        "print(playingCardArray[card2])\n",
        "if playingCardArray[card1][1] == playingCardArray[card2][1]:\n",
        "    print(\"Match\")\n",
        "    playingCardArray[card1][1] = 0\n",
        "    playingCardArray[card2][1] = 0\n",
        "else:\n",
        "    print(\"Miss Match\")"
      ],
      "metadata": {
        "colab": {
          "base_uri": "https://localhost:8080/"
        },
        "id": "3vlCzfWUgyc5",
        "outputId": "bbff6223-f080-4112-b6f1-19b7d098f1cb"
      },
      "execution_count": null,
      "outputs": [
        {
          "output_type": "stream",
          "name": "stdout",
          "text": [
            "全体の枚数は、10枚です。\n",
            "0 ～ 9 の値を入力してください。\n",
            "[['♠', 1], ['♠', 2], ['♠', 4], ['♦', 5], ['♦', 4], ['♦', 3], ['♦', 2], ['♠', 5], ['♠', 3], ['♦', 1]]\n",
            "0\n",
            "9\n",
            "['♠', 1]\n",
            "['♦', 1]\n",
            "Match\n"
          ]
        }
      ]
    },
    {
      "cell_type": "markdown",
      "source": [
        "## 連続処理に対応しよう\n",
        "\n",
        "に入れて処理を連続で行うようにしよう。"
      ],
      "metadata": {
        "id": "dv8g19zlhFmG"
      }
    },
    {
      "cell_type": "code",
      "source": [
        "import random\n",
        "\n",
        "playingCardArray = [[i,j] for i in [\"♠\",\"♦\"] for j in range(1,6)]\n",
        "random.shuffle(playingCardArray)\n",
        "print(f\"全体の枚数は、{len(playingCardArray)}枚です。\")\n",
        "print(f\"0 ～ {len(playingCardArray)-1} の値を入力してください。\")\n",
        "print(playingCardArray)\n",
        "while True:\n",
        "    card1 = int(input())\n",
        "    if card1 == 100:\n",
        "        break\n",
        "    card2 = int(input())\n",
        "    print(playingCardArray[card1])\n",
        "    print(playingCardArray[card2])\n",
        "    if playingCardArray[card1][1] == playingCardArray[card2][1]:\n",
        "        print(\"Match\")\n",
        "        playingCardArray[card1][1] = 0\n",
        "        playingCardArray[card2][1] = 0\n",
        "    else:\n",
        "        print(\"Miss Match\")\n",
        "\n"
      ],
      "metadata": {
        "colab": {
          "base_uri": "https://localhost:8080/"
        },
        "id": "Gy3Q9HsDhE49",
        "outputId": "85a3d103-a9af-4d6e-a92d-3c2eaa1cf692"
      },
      "execution_count": null,
      "outputs": [
        {
          "name": "stdout",
          "output_type": "stream",
          "text": [
            "全体の枚数は、10枚です。\n",
            "0 ～ 9 の値を入力してください。\n",
            "[['♦', 4], ['♠', 5], ['♠', 1], ['♦', 1], ['♠', 4], ['♦', 2], ['♦', 5], ['♠', 3], ['♠', 2], ['♦', 3]]\n",
            "100\n"
          ]
        }
      ]
    },
    {
      "cell_type": "markdown",
      "source": [
        "## バグを修正しよう\n",
        "\n",
        "テストプレイを行い、バグを修正してみよう。"
      ],
      "metadata": {
        "id": "TeV0g7VZiUo_"
      }
    },
    {
      "cell_type": "code",
      "source": [
        "##ランダムモジュールの呼び出し\n",
        "import random\n",
        "\n",
        "##カードの準備＋シャッフル\n",
        "playingCardArray = [[i,j]for i in [\"♠\",\"♦\"] for j in range(1,4)]\n",
        "random.shuffle(playingCardArray)\n",
        "##print(playingCardArray)\n",
        "countPoints = 0\n",
        "\n",
        "##繰り返し処理\n",
        "while countPoints != len(playingCardArray):\n",
        "    ##入力可能な範囲を表示\n",
        "    print(f\"全体の枚数は、{len(playingCardArray)-countPoints}枚です。\")\n",
        "    print(f\"0 ～ {len(playingCardArray) - 1} の値を入力してください。\")\n",
        "\n",
        "    ##カードを2枚引いています。ただし、100を入力したら強制終了\n",
        "    while True:\n",
        "        card1 = int(input())\n",
        "        if card1 == 100:\n",
        "            break\n",
        "        card2 = int(input())\n",
        "        if card1 != card2 and playingCardArray[card1][1] != 0 and playingCardArray[card2][1] != 0:\n",
        "            break\n",
        "        print(\"もう一度入力してください。\")\n",
        "\n",
        "    ##引いたカードの表示\n",
        "    print(playingCardArray[card1])\n",
        "    print(playingCardArray[card2])\n",
        "\n",
        "    ##引いたカードが一致しているかの確認\n",
        "    if playingCardArray[card1][1] == playingCardArray[card2][1]:\n",
        "        print(\"Match\")\n",
        "        playingCardArray[card1][1] = 0\n",
        "        playingCardArray[card2][1] = 0\n",
        "        countPoints += 2\n",
        "    else:\n",
        "        print(\"Miss Match\")\n",
        "\n",
        "    print(f\"現在の得点は、{countPoints} です。\")"
      ],
      "metadata": {
        "id": "8SfKlPx-idmH"
      },
      "execution_count": null,
      "outputs": []
    },
    {
      "cell_type": "code",
      "source": [
        "import random\n",
        "def shuf():\n",
        "    cards = [[i,j] for i in [\"♠\",\"♦\"] for j in range(1,14)]\n",
        "    random.shuffle(cards)\n",
        "    return cards\n",
        "\n",
        "cards = shuf()\n",
        "p = 0\n",
        "\n",
        "while p != len(cards):\n",
        "    print(\"全体の枚数は、\",len(cards) - p,\"枚です。\")\n",
        "    print(\"0 ～\" ,len(cards) - 1, \"の値を入力してください。\")\n",
        "\n",
        "    while True:\n",
        "        c1 = int(input())\n",
        "        if c1 == 100:\n",
        "            break\n",
        "        c2 = int(input())\n",
        "        if c1 != c2 and cards[c1][1] != 0 and cards[c2][1] != 0:\n",
        "            break\n",
        "        print(\"もう一度入力してください。\")\n",
        "\n",
        "    if c1 == 100:\n",
        "        break\n",
        "\n",
        "    print(cards[c1])\n",
        "    print(cards[c2])\n",
        "\n",
        "    if cards[c1][1] == cards[c2][1]:\n",
        "        print(\"Match\")\n",
        "        cards[c1][1] = 0\n",
        "        cards[c2][1] = 0\n",
        "        p += 2\n",
        "    else:\n",
        "        print(\"Miss Match\")\n",
        "\n",
        "    print(\"現在の得点は、\",p, \"です。\")"
      ],
      "metadata": {
        "colab": {
          "base_uri": "https://localhost:8080/"
        },
        "id": "1aeMohnytNTb",
        "outputId": "71398b89-19ea-4fc4-f685-b777230117b4"
      },
      "execution_count": null,
      "outputs": [
        {
          "name": "stdout",
          "output_type": "stream",
          "text": [
            "全体の枚数は、 26 枚です。\n",
            "0 ～ 25 の値を入力してください。\n",
            "12\n",
            "23\n",
            "['♦', 5]\n",
            "['♠', 10]\n",
            "Miss Match\n",
            "現在の得点は、 0 です。\n",
            "全体の枚数は、 26 枚です。\n",
            "0 ～ 25 の値を入力してください。\n",
            "11\n",
            "1\n",
            "['♠', 7]\n",
            "['♠', 12]\n",
            "Miss Match\n",
            "現在の得点は、 0 です。\n",
            "全体の枚数は、 26 枚です。\n",
            "0 ～ 25 の値を入力してください。\n",
            "2\n",
            "3\n",
            "['♠', 5]\n",
            "['♠', 9]\n",
            "Miss Match\n",
            "現在の得点は、 0 です。\n",
            "全体の枚数は、 26 枚です。\n",
            "0 ～ 25 の値を入力してください。\n",
            "2\n",
            "12\n",
            "['♠', 5]\n",
            "['♦', 5]\n",
            "Match\n",
            "現在の得点は、 2 です。\n",
            "全体の枚数は、 24 枚です。\n",
            "0 ～ 25 の値を入力してください。\n",
            "100\n"
          ]
        }
      ]
    },
    {
      "cell_type": "markdown",
      "source": [
        "#### Tips 神経衰弱の由来\n",
        "小学館国語大辞典によると\n",
        "\n",
        "【神経衰弱】\n",
        "\n",
        "トランプ遊戯の一つ。カード全部裏面に伏せ、２枚ないし４枚ずつめくり数字合わせを競う遊び。\n",
        "\n",
        "神経がイライラすることからこの名前がある。\n",
        "\n",
        "らしいです。"
      ],
      "metadata": {
        "id": "iLu1J4xJMmQB"
      }
    },
    {
      "cell_type": "markdown",
      "source": [
        "#NumerOn(ヌメロン)を作ろう\n",
        "\n",
        "NumerOnとは？\n",
        "* 基本ルール\n",
        "\n",
        "1. それぞれのプレイヤーが、0-9までの数字が書かれた10枚のカードのうち3枚を使って、3桁の番号を作成する。カードに重複は無いので「550」「377」「999」といった同じ数字を2つ以上使用した番号は作れない。\n",
        "\n",
        "2. 先攻のプレイヤーは相手の番号を推理してコールする。相手はコールされた番号と自分の番号を見比べ、コールされた番号がどの程度合っているかを発表する。数字と桁が合っていた場合は「EAT」（イート）、数字は合っているが桁は合っていない場合は「BITE」（バイト）となる。\n",
        "\n",
        " 1. 例として相手の番号が「765」・コールされた番号が「746」であった場合は、3桁のうち「7」は桁の位置が合致しているためEAT、「6」は数字自体は合っているが桁の位置が違うためBITE。EATが1つ・BITEが1つなので、「1EAT-1BITE」となる。\n",
        "\n",
        "3. これを先攻・後攻が繰り返して行い、先に相手の番号を完全に当てきった（3桁なら3EATを相手に発表させた）プレイヤーの勝利となる。\n",
        "\n",
        "[参考 NumerOn(Wiki)](https://ja.wikipedia.org/wiki/Numer0n)\n",
        "\n"
      ],
      "metadata": {
        "id": "i-hyFzBMN_gU"
      }
    },
    {
      "cell_type": "markdown",
      "source": [
        "## NumerOn簡略化バーションの考案\n",
        "\n",
        "敵のＡＩについては考えないようにしたいので、簡略化バージョンを、考えていきます。\n",
        "\n",
        "* ターンの進行\n",
        "\n",
        "1. 相手の数字を生成\n",
        "    1. 数字に重複がないかチェックする\n",
        "2. 適当な数字3桁を入力\n",
        "    1. 入力に重複はないかチェックする\n",
        "3. EATとBITEの確認\n",
        "    1. ３桁の数字を判断する\n",
        "    2. EATとBITEの判断を行う\n",
        "4. 2と3を繰り返す\n",
        "5. 3EATになった時点で、ゲームクリア"
      ],
      "metadata": {
        "id": "TDIEtskLPUCz"
      }
    },
    {
      "cell_type": "markdown",
      "source": [
        "### 1.相手の数字を生成\n",
        "\n",
        "ランダム関数を使ってランダムな数字を設定します。\n",
        "\n",
        "後々面倒になるので、それぞれの桁について、配列に格納します。"
      ],
      "metadata": {
        "id": "ix1P2m6bP5Qm"
      }
    },
    {
      "cell_type": "code",
      "source": [
        "import random\n",
        "enemyNumberArray = [random.randint(0,9) for number in range(3)]\n",
        "print(enemyNumberArray)"
      ],
      "metadata": {
        "id": "_MfmhSl69S38",
        "colab": {
          "base_uri": "https://localhost:8080/"
        },
        "outputId": "4881544e-0e49-4535-ca5f-cc9a437ff887"
      },
      "execution_count": null,
      "outputs": [
        {
          "output_type": "stream",
          "name": "stdout",
          "text": [
            "[0, 7, 6]\n"
          ]
        }
      ]
    },
    {
      "cell_type": "markdown",
      "source": [
        "重複チェックに関して、一度実装してみましょう。\n"
      ],
      "metadata": {
        "id": "aGJUUrAGWxxy"
      }
    },
    {
      "cell_type": "code",
      "source": [
        "import random\n",
        "enemyNumberArray = [random.randint(0,9) for _ in range(3)]\n",
        "if enemyNumberArray[0] == enemyNumberArray[1] or enemyNumberArray[1] == enemyNumberArray[2] or enemyNumberArray[2] == enemyNumberArray[0]:\n",
        "    print(\"重複\")\n",
        "print(enemyNumberArray)"
      ],
      "metadata": {
        "colab": {
          "base_uri": "https://localhost:8080/"
        },
        "id": "yRZHZ1GIW0SG",
        "outputId": "73b6c32c-58f5-4785-803e-8809b2afb067"
      },
      "execution_count": null,
      "outputs": [
        {
          "output_type": "stream",
          "name": "stdout",
          "text": [
            "重複\n",
            "[9, 5, 5]\n"
          ]
        }
      ]
    },
    {
      "cell_type": "markdown",
      "source": [
        "### 2.適当な数字３桁を入力する。\n",
        "\n",
        "必ず３桁の数字を入力するようにしよう。"
      ],
      "metadata": {
        "id": "Ndq16VlCYu9f"
      }
    },
    {
      "cell_type": "code",
      "source": [
        "print(\"３桁の数字を入力してください。ただし、重複してはいけません\")\n",
        "while True:\n",
        "    try:\n",
        "        playerNumber = int(input(\"設定されていそうな数字を入力: \"))\n",
        "        if playerNumber < 1000:\n",
        "            print(\"入力された値は\" + str(playerNumber) + \"です。\")\n",
        "            break\n",
        "        else:\n",
        "            print(\"数字は1000より小さい値にしてね\")\n",
        "    except ValueError:\n",
        "        print(\"数字しか駄目だよ・・・\")"
      ],
      "metadata": {
        "colab": {
          "base_uri": "https://localhost:8080/"
        },
        "id": "ZSWbZxGKZBLm",
        "outputId": "48641dce-65aa-4f02-e5e9-bc49cc5715fa"
      },
      "execution_count": null,
      "outputs": [
        {
          "output_type": "stream",
          "name": "stdout",
          "text": [
            "３桁の数字を入力してください。ただし、重複してはいけません\n",
            "設定されていそうな数字を入力: sfuodghis\n",
            "数字しか駄目だよ・・・\n",
            "設定されていそうな数字を入力: 11111\n",
            "数字は1000より小さい値にしてね\n",
            "設定されていそうな数字を入力: -234\n",
            "入力された値は-234です。\n"
          ]
        }
      ]
    },
    {
      "cell_type": "markdown",
      "source": [
        "配列に数字を入れる仕組み（関数）を作ろう"
      ],
      "metadata": {
        "id": "GqIN1EMebfvd"
      }
    },
    {
      "cell_type": "code",
      "source": [
        "def NumbertoArray(number):\n",
        "    numberArray = [int(number/100),int((number%100)/10),number%10]\n",
        "    return numberArray\n",
        "\n",
        "print(NumbertoArray(123))"
      ],
      "metadata": {
        "id": "HE3OfNoSbkKk",
        "colab": {
          "base_uri": "https://localhost:8080/"
        },
        "outputId": "2485a6bf-3e5b-44c6-f995-b85c8caf0ccf"
      },
      "execution_count": null,
      "outputs": [
        {
          "output_type": "stream",
          "name": "stdout",
          "text": [
            "[2, 9, 3]\n"
          ]
        }
      ]
    },
    {
      "cell_type": "markdown",
      "source": [
        "その配列の値に重複について判断する関数を作成します。"
      ],
      "metadata": {
        "id": "bGrMQsxCXmFa"
      }
    },
    {
      "cell_type": "code",
      "source": [
        "def CheckforDuplicates(numberArray):\n",
        "    return numberArray[0] != numberArray[1] and numberArray[1] != numberArray[2] and numberArray[2] != numberArray[0]\n",
        "print(CheckforDuplicates([1,1,2]))"
      ],
      "metadata": {
        "colab": {
          "base_uri": "https://localhost:8080/"
        },
        "id": "wOfk0KaKYPsB",
        "outputId": "48ae0660-3bd7-4c4f-9dd8-9ab04b192e02"
      },
      "execution_count": null,
      "outputs": [
        {
          "output_type": "stream",
          "name": "stdout",
          "text": [
            "False\n"
          ]
        }
      ]
    },
    {
      "cell_type": "markdown",
      "source": [
        "上記、内容を合成して適当な数字３桁が適切な値か判断するプログラムを作成します。"
      ],
      "metadata": {
        "id": "5N-O0Jv5Y2O_"
      }
    },
    {
      "cell_type": "code",
      "source": [
        "def NumbertoArray(number):\n",
        "    numberArray = [int(number/100),int((number%100)/10),number%10]\n",
        "    return numberArray\n",
        "\n",
        "def CheckforDuplicates(numberArray):\n",
        "    return numberArray[0] != numberArray[1] and numberArray[1] != numberArray[2] and numberArray[2] != numberArray[0]\n",
        "\n",
        "print(\"３桁の数字を入力してください。ただし、重複してはいけません\")\n",
        "while True:\n",
        "    try:\n",
        "        playerNumber = int(input(\"設定されていそうな数字を入力: \"))\n",
        "        if playerNumber < 1000:\n",
        "            print(\"入力された値は\" + str(playerNumber) + \"です。\")\n",
        "            playerNumberArray = NumbertoArray(playerNumber)\n",
        "            if CheckforDuplicates(playerNumberArray):\n",
        "                break\n",
        "            else:\n",
        "                print(\"重複しているよ\")\n",
        "        else:\n",
        "            print(\"数字は1000より小さい値にしてね\")\n",
        "    except ValueError:\n",
        "        print(\"数字しか駄目だよ・・・\")\n"
      ],
      "metadata": {
        "colab": {
          "base_uri": "https://localhost:8080/"
        },
        "id": "0ZFk2yl4ZTcL",
        "outputId": "ed808b8c-17a7-4d52-b2c5-50f38db047a0"
      },
      "execution_count": null,
      "outputs": [
        {
          "output_type": "stream",
          "name": "stdout",
          "text": [
            "３桁の数字を入力してください。ただし、重複してはいけません\n",
            "設定されていそうな数字を入力: 2\n",
            "入力された値は2です。\n",
            "重複しているよ\n",
            "設定されていそうな数字を入力: 20\n",
            "入力された値は20です。\n",
            "重複しているよ\n",
            "設定されていそうな数字を入力: 120\n",
            "入力された値は120です。\n"
          ]
        }
      ]
    },
    {
      "cell_type": "markdown",
      "source": [
        "### 3.EATとBITEの確認\n",
        "\n",
        "２つの配列から数字と位置の関係が重複している場合、「EAT」と表示し、\n",
        "数字の情報が重複している場合は、「BITE」と表示するようにしよう。"
      ],
      "metadata": {
        "id": "Nvc7OSdTaaTu"
      }
    },
    {
      "cell_type": "code",
      "source": [
        "def EAT(enemyNumberArray,playerNumberArray):\n",
        "    eatCount = 0\n",
        "    for i in range(3):\n",
        "        if enemyNumberArray[i] == playerNumberArray[i]:\n",
        "            eatCount += 1\n",
        "    return eatCount\n",
        "\n",
        "def BITE(enemyNumberArray,playerNumberArray):\n",
        "    biteCount = 0\n",
        "    for i in range(3):\n",
        "        for j in range(3):\n",
        "            if i != j and enemyNumberArray[i] == playerNumberArray[j]:\n",
        "                biteCount += 1\n",
        "    return biteCount"
      ],
      "metadata": {
        "id": "Ia_O5_0RbA_6"
      },
      "execution_count": null,
      "outputs": []
    },
    {
      "cell_type": "markdown",
      "source": [
        "### 4.繰り返し行うプログラム\n",
        "\n",
        "whileループで実装する。"
      ],
      "metadata": {
        "id": "ELW-sluCeVtu"
      }
    },
    {
      "cell_type": "code",
      "source": [
        "def NumbertoArray(number):\n",
        "    numberArray = [int(number/100),int((number%100)/10),number%10]\n",
        "    return numberArray\n",
        "\n",
        "def CheckforDuplicates(numberArray):\n",
        "    return numberArray[0] != numberArray[1] and numberArray[1] != numberArray[2] and numberArray[2] != numberArray[0]\n",
        "\n",
        "def EAT(enemyNumberArray,playerNumberArray):\n",
        "    eatCount = 0\n",
        "    for i in range(3):\n",
        "        if enemyNumberArray[i] == playerNumberArray[i]:\n",
        "            eatCount += 1\n",
        "    return eatCount\n",
        "\n",
        "def BITE(enemyNumberArray,playerNumberArray):\n",
        "    biteCount = 0\n",
        "    for i in range(3):\n",
        "        for j in range(3):\n",
        "            if i != j and enemyNumberArray[i] == playerNumberArray[j]:\n",
        "                biteCount += 1\n",
        "    return biteCount\n",
        "\n",
        "enemyNumberArray = [1,2,3]\n",
        "while True:\n",
        "    print(\"３桁の数字を入力してください。ただし、重複してはいけません\")\n",
        "    while True:\n",
        "        try:\n",
        "            playerNumber = int(input(\"設定されていそうな数字を入力: \"))\n",
        "            if playerNumber < 1000:\n",
        "                print(\"入力された値は\" + str(playerNumber) + \"です。\")\n",
        "                playerNumberArray = NumbertoArray(playerNumber)\n",
        "                if CheckforDuplicates(playerNumberArray):\n",
        "                    break\n",
        "                else:\n",
        "                    print(\"重複しているよ\")\n",
        "            else:\n",
        "                print(\"数字は1000より小さい値にしてね\")\n",
        "        except ValueError:\n",
        "            print(\"数字しか駄目だよ・・・\")\n",
        "    print(str(EAT(enemyNumberArray,playerNumberArray)) + \"E:\" + str(BITE(enemyNumberArray,playerNumberArray)) + \"B\")"
      ],
      "metadata": {
        "colab": {
          "base_uri": "https://localhost:8080/",
          "height": 690
        },
        "id": "ERs7n-ele0fj",
        "outputId": "c0660838-ad08-4b70-dae5-d5eb04617e9c"
      },
      "execution_count": null,
      "outputs": [
        {
          "output_type": "stream",
          "name": "stdout",
          "text": [
            "３桁の数字を入力してください。ただし、重複してはいけません\n",
            "設定されていそうな数字を入力: 321\n",
            "入力された値は321です。\n",
            "1E:2B\n",
            "３桁の数字を入力してください。ただし、重複してはいけません\n",
            "設定されていそうな数字を入力: 432\n",
            "入力された値は432です。\n",
            "0E:2B\n",
            "３桁の数字を入力してください。ただし、重複してはいけません\n",
            "設定されていそうな数字を入力: 547\n",
            "入力された値は547です。\n",
            "0E:0B\n",
            "３桁の数字を入力してください。ただし、重複してはいけません\n",
            "設定されていそうな数字を入力: 123\n",
            "入力された値は123です。\n",
            "3E:0B\n",
            "３桁の数字を入力してください。ただし、重複してはいけません\n"
          ]
        },
        {
          "output_type": "error",
          "ename": "KeyboardInterrupt",
          "evalue": "ignored",
          "traceback": [
            "\u001b[0;31m---------------------------------------------------------------------------\u001b[0m",
            "\u001b[0;31mKeyboardInterrupt\u001b[0m                         Traceback (most recent call last)",
            "\u001b[0;32m<ipython-input-15-000167d6ff49>\u001b[0m in \u001b[0;36m<cell line: 24>\u001b[0;34m()\u001b[0m\n\u001b[1;32m     26\u001b[0m     \u001b[0;32mwhile\u001b[0m \u001b[0;32mTrue\u001b[0m\u001b[0;34m:\u001b[0m\u001b[0;34m\u001b[0m\u001b[0;34m\u001b[0m\u001b[0m\n\u001b[1;32m     27\u001b[0m         \u001b[0;32mtry\u001b[0m\u001b[0;34m:\u001b[0m\u001b[0;34m\u001b[0m\u001b[0;34m\u001b[0m\u001b[0m\n\u001b[0;32m---> 28\u001b[0;31m             \u001b[0mplayerNumber\u001b[0m \u001b[0;34m=\u001b[0m \u001b[0mint\u001b[0m\u001b[0;34m(\u001b[0m\u001b[0minput\u001b[0m\u001b[0;34m(\u001b[0m\u001b[0;34m\"設定されていそうな数字を入力: \"\u001b[0m\u001b[0;34m)\u001b[0m\u001b[0;34m)\u001b[0m\u001b[0;34m\u001b[0m\u001b[0;34m\u001b[0m\u001b[0m\n\u001b[0m\u001b[1;32m     29\u001b[0m             \u001b[0;32mif\u001b[0m \u001b[0mplayerNumber\u001b[0m \u001b[0;34m<\u001b[0m \u001b[0;36m1000\u001b[0m\u001b[0;34m:\u001b[0m\u001b[0;34m\u001b[0m\u001b[0;34m\u001b[0m\u001b[0m\n\u001b[1;32m     30\u001b[0m                 \u001b[0mprint\u001b[0m\u001b[0;34m(\u001b[0m\u001b[0;34m\"入力された値は\"\u001b[0m \u001b[0;34m+\u001b[0m \u001b[0mstr\u001b[0m\u001b[0;34m(\u001b[0m\u001b[0mplayerNumber\u001b[0m\u001b[0;34m)\u001b[0m \u001b[0;34m+\u001b[0m \u001b[0;34m\"です。\"\u001b[0m\u001b[0;34m)\u001b[0m\u001b[0;34m\u001b[0m\u001b[0;34m\u001b[0m\u001b[0m\n",
            "\u001b[0;32m/usr/local/lib/python3.10/dist-packages/ipykernel/kernelbase.py\u001b[0m in \u001b[0;36mraw_input\u001b[0;34m(self, prompt)\u001b[0m\n\u001b[1;32m    849\u001b[0m                 \u001b[0;34m\"raw_input was called, but this frontend does not support input requests.\"\u001b[0m\u001b[0;34m\u001b[0m\u001b[0;34m\u001b[0m\u001b[0m\n\u001b[1;32m    850\u001b[0m             )\n\u001b[0;32m--> 851\u001b[0;31m         return self._input_request(str(prompt),\n\u001b[0m\u001b[1;32m    852\u001b[0m             \u001b[0mself\u001b[0m\u001b[0;34m.\u001b[0m\u001b[0m_parent_ident\u001b[0m\u001b[0;34m,\u001b[0m\u001b[0;34m\u001b[0m\u001b[0;34m\u001b[0m\u001b[0m\n\u001b[1;32m    853\u001b[0m             \u001b[0mself\u001b[0m\u001b[0;34m.\u001b[0m\u001b[0m_parent_header\u001b[0m\u001b[0;34m,\u001b[0m\u001b[0;34m\u001b[0m\u001b[0;34m\u001b[0m\u001b[0m\n",
            "\u001b[0;32m/usr/local/lib/python3.10/dist-packages/ipykernel/kernelbase.py\u001b[0m in \u001b[0;36m_input_request\u001b[0;34m(self, prompt, ident, parent, password)\u001b[0m\n\u001b[1;32m    893\u001b[0m             \u001b[0;32mexcept\u001b[0m \u001b[0mKeyboardInterrupt\u001b[0m\u001b[0;34m:\u001b[0m\u001b[0;34m\u001b[0m\u001b[0;34m\u001b[0m\u001b[0m\n\u001b[1;32m    894\u001b[0m                 \u001b[0;31m# re-raise KeyboardInterrupt, to truncate traceback\u001b[0m\u001b[0;34m\u001b[0m\u001b[0;34m\u001b[0m\u001b[0m\n\u001b[0;32m--> 895\u001b[0;31m                 \u001b[0;32mraise\u001b[0m \u001b[0mKeyboardInterrupt\u001b[0m\u001b[0;34m(\u001b[0m\u001b[0;34m\"Interrupted by user\"\u001b[0m\u001b[0;34m)\u001b[0m \u001b[0;32mfrom\u001b[0m \u001b[0;32mNone\u001b[0m\u001b[0;34m\u001b[0m\u001b[0;34m\u001b[0m\u001b[0m\n\u001b[0m\u001b[1;32m    896\u001b[0m             \u001b[0;32mexcept\u001b[0m \u001b[0mException\u001b[0m \u001b[0;32mas\u001b[0m \u001b[0me\u001b[0m\u001b[0;34m:\u001b[0m\u001b[0;34m\u001b[0m\u001b[0;34m\u001b[0m\u001b[0m\n\u001b[1;32m    897\u001b[0m                 \u001b[0mself\u001b[0m\u001b[0;34m.\u001b[0m\u001b[0mlog\u001b[0m\u001b[0;34m.\u001b[0m\u001b[0mwarning\u001b[0m\u001b[0;34m(\u001b[0m\u001b[0;34m\"Invalid Message:\"\u001b[0m\u001b[0;34m,\u001b[0m \u001b[0mexc_info\u001b[0m\u001b[0;34m=\u001b[0m\u001b[0;32mTrue\u001b[0m\u001b[0;34m)\u001b[0m\u001b[0;34m\u001b[0m\u001b[0;34m\u001b[0m\u001b[0m\n",
            "\u001b[0;31mKeyboardInterrupt\u001b[0m: Interrupted by user"
          ]
        }
      ]
    },
    {
      "cell_type": "markdown",
      "source": [
        "### 5.ゲームクリア条件\n",
        "\n",
        "3EATになった時点でゲームクリア"
      ],
      "metadata": {
        "id": "Q74D6ai_gvyU"
      }
    },
    {
      "cell_type": "code",
      "source": [
        "def NumbertoArray(number):\n",
        "    numberArray = [int(number/100),int((number%100)/10),number%10]\n",
        "    return numberArray\n",
        "\n",
        "def CheckforDuplicates(numberArray):\n",
        "    return numberArray[0] != numberArray[1] and numberArray[1] != numberArray[2] and numberArray[2] != numberArray[0]\n",
        "\n",
        "def EAT(enemyNumberArray,playerNumberArray):\n",
        "    eatCount = 0\n",
        "    for i in range(3):\n",
        "        if enemyNumberArray[i] == playerNumberArray[i]:\n",
        "            eatCount += 1\n",
        "    return eatCount\n",
        "\n",
        "def BITE(enemyNumberArray,playerNumberArray):\n",
        "    biteCount = 0\n",
        "    for i in range(3):\n",
        "        for j in range(3):\n",
        "            if i != j and enemyNumberArray[i] == playerNumberArray[j]:\n",
        "                biteCount += 1\n",
        "    return biteCount\n",
        "\n",
        "enemyNumberArray = [1,2,3]\n",
        "while True:\n",
        "    print(\"３桁の数字を入力してください。ただし、重複してはいけません\")\n",
        "    while True:\n",
        "        try:\n",
        "            playerNumber = int(input(\"設定されていそうな数字を入力: \"))\n",
        "            if playerNumber < 1000:\n",
        "                print(\"入力された値は\" + str(playerNumber) + \"です。\")\n",
        "                playerNumberArray = NumbertoArray(playerNumber)\n",
        "                if CheckforDuplicates(playerNumberArray):\n",
        "                    break\n",
        "                else:\n",
        "                    print(\"重複しているよ\")\n",
        "            else:\n",
        "                print(\"数字は1000より小さい値にしてね\")\n",
        "        except ValueError:\n",
        "            print(\"数字しか駄目だよ・・・\")\n",
        "    print(str(EAT(enemyNumberArray,playerNumberArray)) + \"E:\" + str(BITE(enemyNumberArray,playerNumberArray)) + \"B\")\n",
        "    if EAT(enemyNumberArray,playerNumberArray) == 3:\n",
        "        print(\"GameClear\")\n",
        "        break"
      ],
      "metadata": {
        "colab": {
          "base_uri": "https://localhost:8080/"
        },
        "id": "T8EK5kUZg4t6",
        "outputId": "1f6ef335-6399-478e-f743-ad9ed0133369"
      },
      "execution_count": null,
      "outputs": [
        {
          "output_type": "stream",
          "name": "stdout",
          "text": [
            "３桁の数字を入力してください。ただし、重複してはいけません\n",
            "設定されていそうな数字を入力: 213\n",
            "入力された値は213です。\n",
            "1E:2B\n",
            "３桁の数字を入力してください。ただし、重複してはいけません\n",
            "設定されていそうな数字を入力: 523\n",
            "入力された値は523です。\n",
            "2E:0B\n",
            "３桁の数字を入力してください。ただし、重複してはいけません\n",
            "設定されていそうな数字を入力: 333\n",
            "入力された値は333です。\n",
            "重複しているよ\n",
            "設定されていそうな数字を入力: 234\n",
            "入力された値は234です。\n",
            "0E:2B\n",
            "３桁の数字を入力してください。ただし、重複してはいけません\n",
            "設定されていそうな数字を入力: 123\n",
            "入力された値は123です。\n",
            "3E:0B\n"
          ]
        }
      ]
    },
    {
      "cell_type": "markdown",
      "source": [
        "### 6.完成\n",
        "\n",
        "最初に作ったランダムな３桁の数値を生成するプログラムを用いていい感じに成形します。"
      ],
      "metadata": {
        "id": "TLX3rK_tijp_"
      }
    },
    {
      "cell_type": "code",
      "source": [
        "import random\n",
        "\n",
        "def NumbertoArray(number):\n",
        "    numberArray = [int(number/100),int((number%100)/10),number%10]\n",
        "    print(numberArray)\n",
        "    return numberArray\n",
        "\n",
        "def CheckforDuplicates(numberArray):\n",
        "    return numberArray[0] != numberArray[1] and numberArray[1] != numberArray[2] and numberArray[2] != numberArray[0]\n",
        "\n",
        "def EAT(enemyNumberArray,playerNumberArray):\n",
        "    eatCount = 0\n",
        "    for i in range(3):\n",
        "        if enemyNumberArray[i] == playerNumberArray[i]:\n",
        "            eatCount += 1\n",
        "    return eatCount\n",
        "\n",
        "def BITE(enemyNumberArray,playerNumberArray):\n",
        "    biteCount = 0\n",
        "    for i in range(3):\n",
        "        for j in range(3):\n",
        "            if i != j and enemyNumberArray[i] == playerNumberArray[j]:\n",
        "                biteCount += 1\n",
        "    return biteCount\n",
        "\n",
        "def main():\n",
        "    while True:\n",
        "        enemyNumberArray = [random.randint(0,9) for number in range(3)]\n",
        "        if CheckforDuplicates(enemyNumberArray):\n",
        "            break\n",
        "    while True:\n",
        "        print(\"３桁の数字を入力してください。ただし、重複してはいけません\")\n",
        "        while True:\n",
        "            try:\n",
        "                playerNumber = int(input(\"設定されていそうな数字を入力: \"))\n",
        "                if playerNumber < 1000:\n",
        "                    print(\"入力された値は\" + str(playerNumber) + \"です。\")\n",
        "                    playerNumberArray = NumbertoArray(playerNumber)\n",
        "                    if CheckforDuplicates(playerNumberArray):\n",
        "                        break\n",
        "                    else:\n",
        "                        print(\"重複しているよ\")\n",
        "                else:\n",
        "                    print(\"数字は1000より小さい値にしてね\")\n",
        "            except ValueError:\n",
        "                print(\"数字しか駄目だよ・・・\")\n",
        "        print(str(EAT(enemyNumberArray,playerNumberArray)) + \"E:\" + str(BITE(enemyNumberArray,playerNumberArray)) + \"B\")\n",
        "        if EAT(enemyNumberArray,playerNumberArray) == 3:\n",
        "            print(\"GameClear\")\n",
        "            break\n",
        "\n",
        "if __name__ == \"__main__\":\n",
        "    main()"
      ],
      "metadata": {
        "colab": {
          "base_uri": "https://localhost:8080/",
          "height": 551
        },
        "id": "WkHzUa6Eiy2f",
        "outputId": "35d38ab0-c427-4bb2-df96-112fbcb2edcb"
      },
      "execution_count": null,
      "outputs": [
        {
          "output_type": "stream",
          "name": "stdout",
          "text": [
            "３桁の数字を入力してください。ただし、重複してはいけません\n",
            "設定されていそうな数字を入力: 123\n",
            "入力された値は123です。\n",
            "[1, 2, 3]\n",
            "0E:0B\n",
            "３桁の数字を入力してください。ただし、重複してはいけません\n",
            "設定されていそうな数字を入力: 12\n",
            "入力された値は12です。\n",
            "[0, 1, 2]\n",
            "0E:1B\n",
            "３桁の数字を入力してください。ただし、重複してはいけません\n"
          ]
        },
        {
          "output_type": "error",
          "ename": "KeyboardInterrupt",
          "evalue": "ignored",
          "traceback": [
            "\u001b[0;31m---------------------------------------------------------------------------\u001b[0m",
            "\u001b[0;31mKeyboardInterrupt\u001b[0m                         Traceback (most recent call last)",
            "\u001b[0;32m<ipython-input-4-ef96b5816d9f>\u001b[0m in \u001b[0;36m<cell line: 52>\u001b[0;34m()\u001b[0m\n\u001b[1;32m     51\u001b[0m \u001b[0;34m\u001b[0m\u001b[0m\n\u001b[1;32m     52\u001b[0m \u001b[0;32mif\u001b[0m \u001b[0m__name__\u001b[0m \u001b[0;34m==\u001b[0m \u001b[0;34m\"__main__\"\u001b[0m\u001b[0;34m:\u001b[0m\u001b[0;34m\u001b[0m\u001b[0;34m\u001b[0m\u001b[0m\n\u001b[0;32m---> 53\u001b[0;31m     \u001b[0mmain\u001b[0m\u001b[0;34m(\u001b[0m\u001b[0;34m)\u001b[0m\u001b[0;34m\u001b[0m\u001b[0;34m\u001b[0m\u001b[0m\n\u001b[0m",
            "\u001b[0;32m<ipython-input-4-ef96b5816d9f>\u001b[0m in \u001b[0;36mmain\u001b[0;34m()\u001b[0m\n\u001b[1;32m     33\u001b[0m         \u001b[0;32mwhile\u001b[0m \u001b[0;32mTrue\u001b[0m\u001b[0;34m:\u001b[0m\u001b[0;34m\u001b[0m\u001b[0;34m\u001b[0m\u001b[0m\n\u001b[1;32m     34\u001b[0m             \u001b[0;32mtry\u001b[0m\u001b[0;34m:\u001b[0m\u001b[0;34m\u001b[0m\u001b[0;34m\u001b[0m\u001b[0m\n\u001b[0;32m---> 35\u001b[0;31m                 \u001b[0mplayerNumber\u001b[0m \u001b[0;34m=\u001b[0m \u001b[0mint\u001b[0m\u001b[0;34m(\u001b[0m\u001b[0minput\u001b[0m\u001b[0;34m(\u001b[0m\u001b[0;34m\"設定されていそうな数字を入力: \"\u001b[0m\u001b[0;34m)\u001b[0m\u001b[0;34m)\u001b[0m\u001b[0;34m\u001b[0m\u001b[0;34m\u001b[0m\u001b[0m\n\u001b[0m\u001b[1;32m     36\u001b[0m                 \u001b[0;32mif\u001b[0m \u001b[0mplayerNumber\u001b[0m \u001b[0;34m<\u001b[0m \u001b[0;36m1000\u001b[0m\u001b[0;34m:\u001b[0m\u001b[0;34m\u001b[0m\u001b[0;34m\u001b[0m\u001b[0m\n\u001b[1;32m     37\u001b[0m                     \u001b[0mprint\u001b[0m\u001b[0;34m(\u001b[0m\u001b[0;34m\"入力された値は\"\u001b[0m \u001b[0;34m+\u001b[0m \u001b[0mstr\u001b[0m\u001b[0;34m(\u001b[0m\u001b[0mplayerNumber\u001b[0m\u001b[0;34m)\u001b[0m \u001b[0;34m+\u001b[0m \u001b[0;34m\"です。\"\u001b[0m\u001b[0;34m)\u001b[0m\u001b[0;34m\u001b[0m\u001b[0;34m\u001b[0m\u001b[0m\n",
            "\u001b[0;32m/usr/local/lib/python3.10/dist-packages/ipykernel/kernelbase.py\u001b[0m in \u001b[0;36mraw_input\u001b[0;34m(self, prompt)\u001b[0m\n\u001b[1;32m    849\u001b[0m                 \u001b[0;34m\"raw_input was called, but this frontend does not support input requests.\"\u001b[0m\u001b[0;34m\u001b[0m\u001b[0;34m\u001b[0m\u001b[0m\n\u001b[1;32m    850\u001b[0m             )\n\u001b[0;32m--> 851\u001b[0;31m         return self._input_request(str(prompt),\n\u001b[0m\u001b[1;32m    852\u001b[0m             \u001b[0mself\u001b[0m\u001b[0;34m.\u001b[0m\u001b[0m_parent_ident\u001b[0m\u001b[0;34m,\u001b[0m\u001b[0;34m\u001b[0m\u001b[0;34m\u001b[0m\u001b[0m\n\u001b[1;32m    853\u001b[0m             \u001b[0mself\u001b[0m\u001b[0;34m.\u001b[0m\u001b[0m_parent_header\u001b[0m\u001b[0;34m,\u001b[0m\u001b[0;34m\u001b[0m\u001b[0;34m\u001b[0m\u001b[0m\n",
            "\u001b[0;32m/usr/local/lib/python3.10/dist-packages/ipykernel/kernelbase.py\u001b[0m in \u001b[0;36m_input_request\u001b[0;34m(self, prompt, ident, parent, password)\u001b[0m\n\u001b[1;32m    893\u001b[0m             \u001b[0;32mexcept\u001b[0m \u001b[0mKeyboardInterrupt\u001b[0m\u001b[0;34m:\u001b[0m\u001b[0;34m\u001b[0m\u001b[0;34m\u001b[0m\u001b[0m\n\u001b[1;32m    894\u001b[0m                 \u001b[0;31m# re-raise KeyboardInterrupt, to truncate traceback\u001b[0m\u001b[0;34m\u001b[0m\u001b[0;34m\u001b[0m\u001b[0m\n\u001b[0;32m--> 895\u001b[0;31m                 \u001b[0;32mraise\u001b[0m \u001b[0mKeyboardInterrupt\u001b[0m\u001b[0;34m(\u001b[0m\u001b[0;34m\"Interrupted by user\"\u001b[0m\u001b[0;34m)\u001b[0m \u001b[0;32mfrom\u001b[0m \u001b[0;32mNone\u001b[0m\u001b[0;34m\u001b[0m\u001b[0;34m\u001b[0m\u001b[0m\n\u001b[0m\u001b[1;32m    896\u001b[0m             \u001b[0;32mexcept\u001b[0m \u001b[0mException\u001b[0m \u001b[0;32mas\u001b[0m \u001b[0me\u001b[0m\u001b[0;34m:\u001b[0m\u001b[0;34m\u001b[0m\u001b[0;34m\u001b[0m\u001b[0m\n\u001b[1;32m    897\u001b[0m                 \u001b[0mself\u001b[0m\u001b[0;34m.\u001b[0m\u001b[0mlog\u001b[0m\u001b[0;34m.\u001b[0m\u001b[0mwarning\u001b[0m\u001b[0;34m(\u001b[0m\u001b[0;34m\"Invalid Message:\"\u001b[0m\u001b[0;34m,\u001b[0m \u001b[0mexc_info\u001b[0m\u001b[0;34m=\u001b[0m\u001b[0;32mTrue\u001b[0m\u001b[0;34m)\u001b[0m\u001b[0;34m\u001b[0m\u001b[0;34m\u001b[0m\u001b[0m\n",
            "\u001b[0;31mKeyboardInterrupt\u001b[0m: Interrupted by user"
          ]
        }
      ]
    },
    {
      "cell_type": "markdown",
      "source": [
        "# ソートし、表示するプログラムを記述しなさい。\n",
        "\n",
        "アルゴリズムは問いません。\n",
        "\n",
        "a = [random.randint(0,100) for i in range(1000)]\n"
      ],
      "metadata": {
        "id": "LAys4yU0qOCM"
      }
    },
    {
      "cell_type": "code",
      "source": [
        "# バブルソート\n",
        "import random\n",
        "a = [random.randint(0,500) for i in range(500)]\n",
        "n = len(a)\n",
        "for i in range(n):\n",
        "    for j in range(0, n-i-1):\n",
        "        if a[j] > a[j+1]:\n",
        "            a[j], a[j+1] = a[j+1], a[j]\n",
        "    print(a)"
      ],
      "metadata": {
        "id": "QN8KWuNHqNX1"
      },
      "execution_count": null,
      "outputs": []
    },
    {
      "cell_type": "code",
      "source": [
        "#選択ソート\n",
        "import random\n",
        "a = [random.randint(0,500) for i in range(500)]\n",
        "n = len(a)\n",
        "for i in range(n):\n",
        "    min_index = i\n",
        "    for j in range(i + 1, n):\n",
        "        if a[j] < a[min_index]:\n",
        "            min_index = j\n",
        "    a[i], a[min_index] = a[min_index], a[i]\n",
        "\n",
        "    print(a)"
      ],
      "metadata": {
        "id": "M5aIx_8SrrMI"
      },
      "execution_count": null,
      "outputs": []
    },
    {
      "cell_type": "markdown",
      "source": [
        "## NumerOnの復習"
      ],
      "metadata": {
        "id": "DblAtnbgyTK3"
      }
    },
    {
      "cell_type": "code",
      "source": [
        "import random\n",
        "\n",
        "def NumbertoArray(number):\n",
        "    numberArray = [int(number/100),int((number%100)/10),number%10]\n",
        "    print(numberArray)\n",
        "    return numberArray\n",
        "\n",
        "def CheckforDuplicates(numberArray):\n",
        "    return numberArray[0] != numberArray[1] and numberArray[1] != numberArray[2] and numberArray[2] != numberArray[0]\n",
        "\n",
        "def EAT(enemyNumberArray,playerNumberArray):\n",
        "    eatCount = 0\n",
        "    for i in range(3):\n",
        "        if enemyNumberArray[i] == playerNumberArray[i]:\n",
        "            eatCount += 1\n",
        "    return eatCount\n",
        "\n",
        "def BITE(enemyNumberArray,playerNumberArray):\n",
        "    biteCount = 0\n",
        "    for i in range(3):\n",
        "        for j in range(3):\n",
        "            if i != j and enemyNumberArray[i] == playerNumberArray[j]:\n",
        "                biteCount += 1\n",
        "    return biteCount\n",
        "\n",
        "def main():\n",
        "    while True:\n",
        "        enemyNumberArray = [random.randint(0,9) for number in range(3)]\n",
        "        if CheckforDuplicates(enemyNumberArray):\n",
        "            break\n",
        "    while True:\n",
        "        print(\"３桁の数字を入力してください。ただし、重複してはいけません\")\n",
        "        while True:\n",
        "            try:\n",
        "                playerNumber = int(input(\"設定されていそうな数字を入力: \"))\n",
        "                if playerNumber < 1000:\n",
        "                    print(\"入力された値は\" + str(playerNumber) + \"です。\")\n",
        "                    playerNumberArray = NumbertoArray(playerNumber)\n",
        "                    if CheckforDuplicates(playerNumberArray):\n",
        "                        break\n",
        "                    else:\n",
        "                        print(\"重複しているよ\")\n",
        "                else:\n",
        "                    print(\"数字は1000より小さい値にしてね\")\n",
        "            except ValueError:\n",
        "                print(\"数字しか駄目だよ・・・\")\n",
        "        print(str(EAT(enemyNumberArray,playerNumberArray)) + \"E:\" + str(BITE(enemyNumberArray,playerNumberArray)) + \"B\")\n",
        "        if EAT(enemyNumberArray,playerNumberArray) == 3:\n",
        "            print(\"GameClear\")\n",
        "            break\n",
        "\n",
        "if __name__ == \"__main__\":\n",
        "    main()"
      ],
      "metadata": {
        "id": "LhLgauYsyRlx"
      },
      "execution_count": null,
      "outputs": []
    },
    {
      "cell_type": "markdown",
      "source": [
        "# 構造化プログラミング\n",
        "\n",
        "プログラムは制作が容易であり、長期的に高い信頼性のもとで使用できるように設計する必要があります。"
      ],
      "metadata": {
        "id": "fZB6OQkjNLDD"
      }
    },
    {
      "cell_type": "markdown",
      "source": [
        "## モジュール\n",
        "\n",
        "システムを制作する際、いきなり大きなプログラムを制作することは難しいです。\n",
        "\n",
        "そこで、**モジュール**という小さなプログラムをいくつか作り、それらを組み合わせて大きなシステムを構築していきます。\n",
        "\n",
        "<img src=\"https://www.momoyama-usagi.com/wp-content/uploads/2021/05/20200802213952-1.gif\" width=\"800\">\n",
        "\n",
        "モジュールを端的に説明すると、\n",
        "\n",
        "*一つの機能をまとめたプログラム（群）*\n",
        "\n",
        "であり、\n",
        "\n",
        "私たちが最もわかりやすい例でいうと、皆さんが前回作った関数はモジュールに該当します。\n",
        "\n",
        "~~~python\n",
        "def BITE(enemyNumberArray,playerNumberArray):\n",
        "    biteCount = 0\n",
        "    for i in range(3):\n",
        "        for j in range(3):\n",
        "            if i != j and enemyNumberArray[i] == playerNumberArray[j]:\n",
        "                biteCount += 1\n",
        "    return biteCount\n",
        "~~~\n",
        "\n",
        "これは、前回作ったBITE関数です。\n",
        "\n",
        "２つの配列において、数字の位置と値が重複していた場合、その個数を返す関数でした。"
      ],
      "metadata": {
        "id": "mEH7Ur3mNkiO"
      }
    },
    {
      "cell_type": "markdown",
      "source": [
        "## 構造化プログラミング\n",
        "\n",
        "機能毎のモジュールに分けてプログラムを制作し、それらをまとめて大きなシステムを制作していく方法を**構造化プログラミング**と言います。\n",
        "\n",
        "前回のNumerOnを制作した際は、制作手順だけでプログラミングを行なっていました。\n",
        "\n",
        "しかし、大きなシステムを制作する際、何もない状態からプログラムを記述し始めても、様々な問題が生じることが予想されます。\n",
        "\n",
        "構造化プログラミングを行なっていくために、モジュールの働きと関連性を明確にしながらプログラムを設計することを**構造化設計**と言います。\n",
        "\n",
        "> 構造化プログラミングがわかったあなたは、モジュールでプログラム分けて記述する方法の有用性が少しわかりましたか？\n",
        "\n",
        "> おそらく、メリットを感じなかった人もいるでしょう。\n",
        "\n",
        "> 例えば、\n",
        "\n",
        ">> テストの点数を３０点上げようと思って、とにかく勉強するぞ！！\n",
        "\n",
        ">という人は、大抵うまくいきませんよね？\n",
        "\n",
        "> いたら、その人はシンプルに前回のテストをサボっていたのではないでしょうか？\n",
        "\n",
        "> 実際にうまくいく人は、どうするか。\n",
        "\n",
        ">> 勉強の仕方を考えながら上手に点数を取る方法を考える\n",
        "\n",
        "> のではないでしょうか？\n",
        "\n",
        "> 例えば、\n",
        "\n",
        ">> 先生にどこを勉強すればいいか聞く\n",
        "\n",
        ">> 日頃の授業で先生が特に熱心に解説している箇所をメモする\n",
        "\n",
        ">> わかりやすくノートをまとめている子のノートを真似してみる\n",
        "\n",
        "> などのような行動を細分化していくのではないでしょうか？\n",
        "\n",
        "> モジュールに分けた方が、やるべきことが具体化し、簡単に行動できると思います。\n",
        "\n",
        "> プログラミングでも同様に、プログラムを細分化していき、少しずつ制作していく必要があります。"
      ],
      "metadata": {
        "id": "hdfaDN2pavQW"
      }
    },
    {
      "cell_type": "markdown",
      "source": [
        "### プログラムのモジュール化\n",
        "\n",
        "では、モジュールの作り方を考えていきましょう。\n",
        "\n",
        "1. プログラムの分割\n",
        "\n",
        "    ある程度の作業をまとめたプログラムを制作した後に、モジュール化する\n",
        "\n",
        "2. 機能の階層構造\n",
        "\n",
        "    機能毎にそれぞれの親に当たる機能と子に当たる機能を考える（先ほどのモジュール図を参考にする）\n",
        "\n",
        "3. プログラムの再利用化\n",
        "\n",
        "    何度も使う機能をモジュール化する\n",
        "\n",
        "\n",
        "では、前回作ったNumerOnのプログラムをモジュールごとに分割してみてください。\n",
        "\n",
        "とりあえず、機能を箇条書きにするだけでもOKですが、\n",
        "\n",
        "機能の上位と下位や再利用化などにも言及してみてください。\n",
        "\n",
        "[スライド](https://docs.google.com/presentation/)にアクセスして、制作してください。\n",
        "\n",
        "制作したスライドを提出してください。\n"
      ],
      "metadata": {
        "id": "pvtvxkwHdtxV"
      }
    },
    {
      "cell_type": "markdown",
      "source": [
        "[NumerOn.png](data:image/png;base64,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)"
      ],
      "metadata": {
        "id": "tNINcIOpeAOR"
      }
    },
    {
      "cell_type": "markdown",
      "source": [
        "# プログラムのテスト技法\n",
        "\n",
        "制作したプログラムが正しく動作するかをテストする方法はいくつか存在している"
      ],
      "metadata": {
        "id": "c1Hhm9MKYos8"
      }
    },
    {
      "cell_type": "markdown",
      "source": [
        "## テストの種類\n",
        "\n",
        "それぞれのプログラムを制作する際に、そのモジュール（関数）がうまく動作するか確認のため、テスト（**単体テスト**）を行う。\n",
        "\n",
        "また、単体テストをクリアしたモジュールを組み合わせてできたプログラムの動作も同様にテスト（**結合（統合）テスト**）を行う。"
      ],
      "metadata": {
        "id": "ubQW-cQvZLf6"
      }
    },
    {
      "cell_type": "markdown",
      "source": [
        "### 単体テスト\n",
        "\n",
        "\n",
        "実は、前回作ったこの関数はテストを行っていませんでした。そこで、皆さんには、この関数のテストを行っていただきます。\n",
        "\n",
        "上記、プログラムをコピーしてテストを行いなさい。"
      ],
      "metadata": {
        "id": "R39NvccfbkhC"
      }
    },
    {
      "cell_type": "code",
      "source": [],
      "metadata": {
        "id": "reP8i50VckZT"
      },
      "execution_count": null,
      "outputs": []
    },
    {
      "cell_type": "markdown",
      "source": [
        "#### ブラックボックステスト\n",
        "\n",
        "<img src=\"https://4.bp.blogspot.com/-2OnoGSjxaQM/Wc8fTDz8DsI/AAAAAAABHEk/jeaYzSea9WEuhrROKqCgyMOoBUJ0gxbPwCLcBGAs/s800/blackbox_close_question.png\" width=\"500\">\n",
        "\n",
        "ブラックボックスとは？\n",
        "> [wikipedia ブラックボックス](https://ja.wikipedia.org/wiki/%E3%83%96%E3%83%A9%E3%83%83%E3%82%AF%E3%83%9C%E3%83%83%E3%82%AF%E3%82%B9)\n",
        ">> 内部の動作原理や構造を理解していなくても、外部から見た機能や使い方のみを知っていれば十分に得られる結果を利用する事のできる装置や機構の概念。\n",
        "\n",
        "ざっくりいうと、\n",
        "\n",
        "内部の状況・状態が全く分からない箱であるが、使い方がわかっているので利用できる装置のこと。\n",
        "\n",
        "例えば、スマートフォンの中身を知ってて使っている人は少ないけど、十分利用できますよね。\n",
        "\n",
        "ブラックボックステストは、システムへの入力とそれに対して得られる出力だけに着目して、様々な入力に対して期待どおりの出力が得られるかどうかを検証していくテストである。\n",
        "\n",
        "システムの内部構造は考慮しないので、ブラックボックスといわれている。\n",
        "\n",
        "手法として\n",
        "\n",
        "1. 同値分割\n",
        "2. 限界値分析\n",
        "3. 原因－結果グラフ\n",
        "4. エラー推測\n",
        "\n",
        "などがある。\n",
        "\n",
        "調べてみよう！\n",
        "\n",
        "それぞれの手法について、調べてみてください。\n",
        "\n",
        "1. 同値分割\n",
        "\n",
        "    \n",
        "\n",
        "2. 限界値分析\n",
        "\n",
        "\n",
        "\n",
        "3. 原因－結果グラフ\n",
        "\n",
        "4. エラー推測"
      ],
      "metadata": {
        "id": "mjV7-F0PclRk"
      }
    },
    {
      "cell_type": "markdown",
      "source": [
        "# 脱出ゲームを作ろう\n",
        "\n",
        "今回作成するゲームは、脱出ゲームです。\n",
        "\n",
        "イメージを一度文章で記述してみますので、モジュール化させていきましょう。"
      ],
      "metadata": {
        "id": "HIAlZHxWriMK"
      }
    },
    {
      "cell_type": "markdown",
      "source": [
        "## ゲームのイメージ\n",
        "\n",
        "* 11×11のマップを用意して、そこに壁と道を配置します。\n",
        "\n",
        "* 中央には、人を配置する。\n",
        "\n",
        "* 上下左右を入力すると、マップ全体が動く。\n",
        "\n",
        "* 人が移動すると、もといた場所は壁になる。\n",
        "\n",
        "* 壁は、ランダムで生成される。\n",
        "\n",
        "* 移動した数の分だけ得点になる。\n",
        "\n",
        "* 壁に当たりに行くとゲームオーバー\n",
        "\n",
        "* （30×30くらいのマップを用意する方が良い）"
      ],
      "metadata": {
        "id": "cZ4sTCdAr3kS"
      }
    },
    {
      "cell_type": "markdown",
      "source": [
        "## モジュールに分けて必要なプログラムを考えよう\n",
        "\n",
        "といっても、いきなりできる人とできない人がいると思います。\n",
        "\n",
        "\n",
        "\n",
        "[figma](https://www.figma.com/)\n",
        "\n",
        "[figma(ワークシート)](https://www.figma.com/file/yYcyHUvsQGJ06d73sjiIdZ/%E8%84%B1%E5%87%BA%E3%82%B2%E3%83%BC%E3%83%A0%E3%81%AE%E3%82%A4%E3%83%A1%E3%83%BC%E3%82%B8%E4%BD%9C%E6%88%90?type=whiteboard&node-id=0%3A1&t=0LVUs8tsbqNhXdS2-1)"
      ],
      "metadata": {
        "id": "VtHJS0hhwYUS"
      }
    },
    {
      "cell_type": "markdown",
      "source": [
        "## 階層構造を考えてみよう"
      ],
      "metadata": {
        "id": "gK9Nmo_1Gk2h"
      }
    },
    {
      "cell_type": "markdown",
      "source": [
        "## マップモジュールを作成しよう"
      ],
      "metadata": {
        "id": "RWLUrYuG0nQG"
      }
    },
    {
      "cell_type": "markdown",
      "source": [
        "### 土台を作ろう\n",
        "\n",
        "11×11のマップをそのまま生成するのではなく、30×30のマップ配列を準備する。\n",
        "\n",
        "まず、シンプルに30×30の二重配列を準備して、要素にはランダムに1か0を入力する。"
      ],
      "metadata": {
        "id": "KzNkBJw0wcSy"
      }
    },
    {
      "cell_type": "code",
      "source": [
        "import random\n",
        "\n",
        "map = [[random.randint(0,1) for _ in range(30)] for _ in range(30)]\n",
        "\n",
        "for m in map:\n",
        "    print(m)"
      ],
      "metadata": {
        "colab": {
          "base_uri": "https://localhost:8080/"
        },
        "id": "GQY7szLQ0DI0",
        "outputId": "7e4d2b48-5942-4450-ded1-8796060026e6"
      },
      "execution_count": null,
      "outputs": [
        {
          "output_type": "stream",
          "name": "stdout",
          "text": [
            "[1, 1, 1, 0, 0, 1, 1, 0, 1, 1, 1, 0, 1, 1, 0, 0, 0, 1, 0, 0, 0, 1, 0, 0, 1, 0, 0, 1, 1, 0]\n",
            "[1, 1, 0, 1, 0, 0, 0, 1, 0, 1, 0, 0, 1, 1, 0, 0, 0, 0, 1, 0, 0, 1, 0, 0, 0, 1, 1, 1, 0, 1]\n",
            "[1, 1, 1, 1, 1, 1, 0, 0, 0, 0, 0, 0, 1, 1, 0, 1, 1, 1, 0, 1, 0, 1, 1, 0, 0, 0, 1, 0, 0, 1]\n",
            "[1, 1, 1, 1, 0, 1, 0, 0, 1, 1, 1, 0, 0, 1, 1, 0, 1, 1, 0, 1, 1, 1, 0, 1, 1, 0, 0, 0, 1, 1]\n",
            "[0, 0, 1, 1, 0, 1, 1, 1, 1, 0, 1, 1, 0, 1, 0, 0, 1, 0, 1, 0, 0, 1, 1, 0, 0, 1, 1, 0, 1, 0]\n",
            "[0, 1, 0, 0, 1, 1, 0, 1, 1, 1, 1, 0, 1, 0, 1, 0, 0, 0, 0, 0, 0, 0, 1, 0, 0, 0, 1, 1, 0, 1]\n",
            "[0, 0, 0, 1, 0, 1, 0, 0, 1, 0, 0, 1, 1, 1, 0, 0, 1, 0, 1, 0, 0, 0, 1, 1, 0, 0, 1, 1, 0, 1]\n",
            "[1, 1, 1, 1, 0, 1, 0, 1, 1, 1, 1, 0, 0, 0, 0, 1, 1, 0, 0, 1, 0, 1, 0, 0, 1, 0, 1, 0, 1, 0]\n",
            "[0, 0, 0, 0, 1, 1, 0, 1, 0, 0, 0, 0, 0, 0, 0, 0, 0, 0, 0, 0, 0, 0, 0, 0, 0, 1, 1, 0, 0, 0]\n",
            "[1, 0, 0, 0, 1, 1, 1, 0, 0, 0, 1, 0, 0, 1, 0, 0, 0, 0, 1, 1, 1, 1, 1, 1, 0, 0, 0, 1, 0, 1]\n",
            "[1, 0, 0, 1, 1, 0, 1, 0, 1, 0, 0, 0, 0, 0, 0, 0, 1, 1, 0, 1, 0, 0, 1, 0, 1, 0, 1, 1, 0, 1]\n",
            "[0, 0, 1, 0, 0, 0, 1, 0, 0, 0, 1, 1, 1, 1, 1, 0, 0, 1, 0, 0, 0, 1, 1, 0, 0, 1, 0, 1, 1, 0]\n",
            "[1, 0, 1, 0, 0, 1, 0, 1, 1, 1, 1, 0, 1, 1, 1, 0, 1, 1, 1, 1, 1, 0, 1, 1, 1, 0, 0, 0, 1, 0]\n",
            "[0, 0, 0, 1, 1, 0, 0, 0, 0, 1, 0, 1, 0, 1, 1, 1, 0, 0, 0, 1, 1, 1, 0, 0, 1, 0, 1, 1, 0, 0]\n",
            "[0, 0, 0, 1, 0, 0, 0, 0, 1, 1, 0, 1, 0, 1, 1, 0, 0, 0, 0, 1, 1, 0, 0, 0, 0, 1, 0, 0, 0, 1]\n",
            "[1, 1, 1, 0, 1, 1, 1, 1, 1, 1, 0, 0, 1, 0, 0, 1, 0, 1, 0, 0, 1, 1, 1, 0, 1, 0, 0, 1, 0, 1]\n",
            "[0, 1, 0, 0, 0, 0, 1, 1, 1, 0, 0, 1, 1, 1, 0, 0, 0, 0, 1, 0, 0, 1, 0, 1, 0, 0, 0, 0, 1, 1]\n",
            "[0, 1, 1, 0, 0, 1, 0, 0, 1, 1, 1, 1, 0, 0, 0, 0, 0, 0, 0, 0, 1, 0, 0, 1, 0, 1, 1, 1, 0, 1]\n",
            "[0, 1, 0, 1, 1, 0, 1, 0, 1, 1, 0, 1, 1, 0, 0, 1, 1, 0, 0, 1, 0, 0, 1, 0, 0, 1, 1, 1, 1, 0]\n",
            "[0, 0, 1, 0, 0, 1, 1, 1, 0, 1, 0, 0, 0, 0, 1, 0, 1, 0, 0, 0, 1, 0, 1, 0, 1, 0, 1, 0, 0, 1]\n",
            "[1, 0, 1, 0, 0, 1, 0, 0, 0, 1, 0, 0, 1, 1, 0, 0, 0, 1, 0, 0, 1, 0, 1, 1, 0, 0, 1, 1, 1, 0]\n",
            "[1, 0, 1, 0, 0, 1, 0, 1, 1, 0, 1, 1, 0, 1, 1, 1, 0, 1, 1, 1, 1, 0, 1, 1, 1, 1, 1, 0, 0, 1]\n",
            "[1, 0, 1, 1, 0, 1, 0, 1, 0, 1, 0, 1, 1, 0, 1, 1, 1, 1, 0, 0, 0, 1, 0, 0, 1, 1, 0, 1, 0, 1]\n",
            "[1, 1, 0, 1, 0, 1, 0, 1, 0, 0, 1, 1, 0, 1, 0, 1, 1, 0, 1, 0, 1, 0, 0, 1, 1, 0, 0, 0, 1, 1]\n",
            "[0, 0, 0, 0, 1, 1, 1, 1, 0, 0, 0, 0, 0, 1, 1, 1, 1, 1, 1, 1, 1, 0, 0, 0, 0, 0, 1, 0, 1, 1]\n",
            "[0, 1, 1, 1, 0, 0, 1, 0, 0, 1, 1, 1, 1, 1, 1, 0, 1, 1, 0, 0, 1, 1, 0, 1, 0, 0, 1, 0, 1, 1]\n",
            "[0, 0, 0, 0, 1, 1, 1, 1, 0, 0, 1, 0, 1, 0, 1, 1, 1, 1, 0, 1, 0, 1, 0, 0, 1, 1, 1, 1, 1, 0]\n",
            "[1, 0, 1, 0, 0, 1, 0, 1, 0, 1, 0, 0, 1, 0, 0, 0, 1, 0, 1, 0, 1, 0, 0, 0, 0, 1, 0, 0, 0, 1]\n",
            "[1, 0, 1, 0, 1, 0, 0, 1, 0, 1, 0, 1, 0, 0, 1, 0, 1, 1, 1, 1, 0, 0, 1, 1, 1, 0, 1, 0, 0, 1]\n",
            "[1, 0, 0, 0, 1, 0, 0, 1, 0, 1, 0, 0, 1, 1, 0, 0, 0, 1, 0, 1, 1, 1, 1, 0, 0, 0, 1, 1, 0, 0]\n"
          ]
        }
      ]
    },
    {
      "cell_type": "markdown",
      "source": [
        "### マップの見た目に近づけよう\n"
      ],
      "metadata": {
        "id": "a_DKkGeU0vl-"
      }
    },
    {
      "cell_type": "code",
      "source": [
        "import random\n",
        "\n",
        "map = [[random.randint(0,1) for _ in range(30)] for _ in range(30)]\n",
        "\n",
        "for m in map:\n",
        "    for i in m:\n",
        "        if i == 1:\n",
        "            print(\"■\",end = \"\") ## 壁の役割　しかく入力して変換\n",
        "        else:\n",
        "            print(\"　\",end = \"\") ## 道の役割　全角スペース\n",
        "    print(\"\")"
      ],
      "metadata": {
        "colab": {
          "base_uri": "https://localhost:8080/"
        },
        "id": "N5ELex7v0vL4",
        "outputId": "329564f1-74b6-4e95-917c-7c097d946d46"
      },
      "execution_count": null,
      "outputs": [
        {
          "output_type": "stream",
          "name": "stdout",
          "text": [
            "■■■　■　　■■■■　　■　　　　■　■　■■　■　■　■\n",
            "　■■■■　■　　■■　　　■　　■　■■　　　■■■　　■\n",
            "■■■　■　　■　　■■　　■■　　■■■　　　■　■　■■\n",
            "■■■　■　　■■　　　■　■■■■　　　　■■■■■■　■\n",
            "■■　　　　■　　　　　■■■■■■■■　　■　　　　　　　\n",
            "　　■　■■■■■　　■■■■■　　■■■■■■　　■　　　\n",
            "■■■　■　　　　　■■　■■■■■　　■　　　　■　■■■\n",
            "　■　■　　　　■■■■■　■　■　■　■　■　■■　■　　\n",
            "　■　■■■　　■　■■■■■■■　　　■　■　　■■■　　\n",
            "　■　　■■　■■　　■■　　　　　　　　■■　■　　　　　\n",
            "　　　　■　　　■　　■　■　　■■■　　■　　■　　　　　\n",
            "　　■　　　■■■　■　　　■■■　■　　■　　■　　　■■\n",
            "　■　　■■　■　　　　　　■　　■■■■　　■　　■　　　\n",
            "■　■■　　　　■　■■■■■　　　　■　■■　■　　■　■\n",
            "■　■■　■　■■　　　　　　■　　■　■　■■　■　　　　\n",
            "■　　　■　　■■■　■　■■■　　　　■■　　　■　　■　\n",
            "■　■　　　　■　　　■　　　　　　■■■■　■■　■　■　\n",
            "　　■　■■　　　　　　■　　　■■■■　■　　　■　　■■\n",
            "　■■■　■■■■　■　　　■■■■　　　■　　　　■　　　\n",
            "　■　　　　　　　　　　■■　　　■■■　■■　　　■■　　\n",
            "■■■　■■　　■■■■■　　■　　■■　　■　　■　■■■\n",
            "■　　　■　■　■　■■■　■　　■■■■■　■　■　　■　\n",
            "■　　　　■　　　■■　　■　　■　■■　　　　■　■　■■\n",
            "■　　　　■　　■■■　■■　　　■　　　■■　■■　■■■\n",
            "■■■■■■■　　　■　　■　■■　　■■■■　　　　■　■\n",
            "■　　■■　■■■　　　　■　　■　■■■■　　　■　　　■\n",
            "■■■　■■■■　■　■　■　　　■■　　■■　■　■　　■\n",
            "　　■　■　■　　　　■　■■■　　　　　■■　　■■　　　\n",
            "■　■　　　　■　　　　　　　　　■　■　　■　■　■■■■\n",
            "　　　■■　　■■■　　■　■■■■■　　■　　　■■　　■\n"
          ]
        }
      ]
    },
    {
      "cell_type": "markdown",
      "source": [
        "### 壁と道の比率を調節できるようにしよう。"
      ],
      "metadata": {
        "id": "vHKFeSSq1UKa"
      }
    },
    {
      "cell_type": "code",
      "source": [
        "import random\n",
        "\n",
        "difficulty = 40\n",
        "\n",
        "map = [[random.randint(0,100) for _ in range(30)] for _ in range(30)]\n",
        "\n",
        "for m in map:\n",
        "    for i in m:\n",
        "        if i > difficulty:\n",
        "            print(\"■\",end = \"\") ## 壁の役割　しかく入力して変換\n",
        "        else:\n",
        "            print(\"　\",end = \"\") ## 道の役割　全角スペース\n",
        "    print(\"\")"
      ],
      "metadata": {
        "colab": {
          "base_uri": "https://localhost:8080/"
        },
        "id": "HZY7aXBWw56z",
        "outputId": "5b365c16-3fd5-438d-afff-869ab8655955"
      },
      "execution_count": null,
      "outputs": [
        {
          "output_type": "stream",
          "name": "stdout",
          "text": [
            "　■■　　　　　■■　■　■■　■■　■　■　　　■　■　■\n",
            "■■　■■■　■■■■■■　■■　　■■■■　■■■■■　■\n",
            "　■■　　　■　■■■■■　　　■■■　　■■■■■　■■■\n",
            "　　　■■　■■　　■■　■　　■　　■　■■■　　　　　■\n",
            "　■■■　■　■■■■■　　　■■　■　■　■　■　　■■■\n",
            "■　■■■■　■■　　　　　　　　■■■■■　■■■■■■　\n",
            "　　■■■■　　■　■　　■■　■　■■■　■　■■■■　■\n",
            "■■　　■■■　　　■■■■■　■■　■　　　　■■■　　　\n",
            "■■　　■　■　■　■　■　　　■　　■　　　■　　■　■■\n",
            "■■　■■■■■　　　　■　■■　　■　■■■　　■■　　　\n",
            "　■　■■　■　■■■　　　　■■■　　■■　■■■■　■■\n",
            "■　　■■■■■　■　　　■　■　　　　■■■■■　　■■　\n",
            "■　　■　　　■■■　■　■　■■　■■■　■■■■■■■■\n",
            "■　　■■　　　■　■■■■■■　　■■　■　　■　　■■　\n",
            "■■■■■■　　　　　■　■■　■　■■■　　　■■■■■　\n",
            "■　■　　■■■■■■■■　■■■　■　■　■■■■■■■　\n",
            "■　■■■　■　　　　■■■■■■■■■■■■■　■■　■　\n",
            "　■■　■　　　■■■　　■■■　■　　　　■■■■　■　■\n",
            "■■　■　■■■　■■　　■■■　　■■　■　　■■　■■■\n",
            "　■■　■　■　■■■■　■　■　　■■■■　■　　　■■■\n",
            "■　　　　　■　　　　　　　■■■　　■　　■■■　■■■　\n",
            "■　　■■　■■■■■■■　　■■　■■■■　　　■■■■　\n",
            "　　■　　■　　■　　　■■■　　　■■　　　　　　■　■■\n",
            "■　　■　　■■　　　■■　　■■　■　■　　■　■　■■　\n",
            "■　　■■■■　■■■■■　■■■　■■■■　　　■　　■　\n",
            "■■■■■■■　■■■■　　■　　　■■　■■■■■　　■　\n",
            "■■　　■■■■　■■　■■　　■■■　■■　　■　■■　■\n",
            "■■■　■■■■　　■■　■■■　■　■　■■　■■■　■　\n",
            "■■■■　■■　■　■　■■■　■■■■　■■■■　■■　　\n",
            "■■　　■■■　　■■■■　　■　■■■　　■　　　■■■■\n"
          ]
        }
      ]
    },
    {
      "cell_type": "markdown",
      "source": [
        "### マップの中央に人を立てよう"
      ],
      "metadata": {
        "id": "OGoI5BdY1gpe"
      }
    },
    {
      "cell_type": "code",
      "source": [
        "import random\n",
        "\n",
        "difficulty = 40\n",
        "\n",
        "map = [[random.randint(0,100) for _ in range(30)] for _ in range(30)]\n",
        "map[15][15] = -1\n",
        "for m in map:\n",
        "    for i in m:\n",
        "        if i > difficulty:\n",
        "            print(\"■\",end = \"\") ## 壁の役割　しかく入力して変換\n",
        "        elif i == -1:\n",
        "            print(\"人\",end = \"\") ## 人の役割　人\n",
        "        else:\n",
        "            print(\"　\",end = \"\") ## 道の役割　全角スペース\n",
        "    print(\"\")"
      ],
      "metadata": {
        "colab": {
          "base_uri": "https://localhost:8080/"
        },
        "id": "lqVPEGW91qXe",
        "outputId": "16f6504d-958d-4eda-ff86-c89f64fcab39"
      },
      "execution_count": null,
      "outputs": [
        {
          "output_type": "stream",
          "name": "stdout",
          "text": [
            "■　　■　■■■　　■■　■　■■■　■■■　　　■■　■■\n",
            "　■　■■■　■■■　　■　　■　■　　■■■■■　■■■　\n",
            "　■　■■　■　■■　■■　　■　　　■■　■■　　　■■■\n",
            "■　　■■■■■　　■　　■　　■■■■　■■■■■■　■　\n",
            "■■　　　■■■　　　　■　　■　　　■■　■■　■■　　　\n",
            "　■　　■■　■■　■■■■■■　■　■　■　■■　　■■■\n",
            "　　■■　　■■　　　　　　■■■■　■　■■　　■　■　　\n",
            "■　■■■　■■　■■　■　■■■■　　　■■■■■　■　■\n",
            "　■　　■■■■■■■　■■　■　　　■　■■■■　■■　　\n",
            "■■■　■■　　　　　　■　■■　■■■■■■　■■■■■■\n",
            "■　■■■　■■　■■■■■■　　■■■　■　■　■■　■■\n",
            "■　■　■　■■■■■■　　　■■　■■■　■■　■　■　　\n",
            "　■■■■　　　　■■■　■　■■　■■■■■　■■■　■　\n",
            "■■　■　■■■　■■■■　■■　■■■■■■　　■■■■　\n",
            "■■■　　■■■■■　　　■　　■■■　　■■■　■■■　　\n",
            "■■■■■　■■■■　■■■■人■■　　■■■■■■■■■■\n",
            "　■■■■■■■■　■　　■■　■　■■■■　　■■　■　■\n",
            "■■　■■　　　　　■■■　■■　　　■■■■■　■■■■　\n",
            "　■　　　■　■　　■　■■　■■　　■■■■　■■　■■　\n",
            "■■　　■■■■■■■■　■■　■　　■　■　■　■　■■　\n",
            "■　■■　■■　■■　■■■■　　■■■■　　　■　　　■■\n",
            "　■■■■■■■　　■■　■■　　■■■　　　■　■■　　■\n",
            "■■　■　■■　■■　■■　■　■■■■　　　　■■　　■■\n",
            "■■　■　　■■■　■■■■■　■　■　■　■■■　■■■■\n",
            "　　　■　　　　　　■　　　■■■■　■■　■■■　■■　■\n",
            "　　　　　■■■■　■■　　　　　■■　　　　　　■■■　■\n",
            "■■■　■■　　■■■■　■■　　■■　　■■　■■■■■■\n",
            "■■■　　　■■　　　　　　　■　■　　■■　■■　　　■■\n",
            "■　■■■　　　■■■■　■■　■■　　■　　■■■　■　■\n",
            "　■■　　■　　■■■　■■■■　■■■■　■■■　■■　■\n"
          ]
        }
      ]
    },
    {
      "cell_type": "markdown",
      "source": [
        "### マップについて描画の部分を関数にしてみよう\n",
        "\n"
      ],
      "metadata": {
        "id": "fMkIQVUJ2cQd"
      }
    },
    {
      "cell_type": "code",
      "source": [
        "import random\n",
        "difficulty = 50\n",
        "\n",
        "def Map_Draw(map): ## この関数は、30×30の配列を与えると描画します。\n",
        "    map[15][15] = -1\n",
        "    for m in map:\n",
        "        for i in m:\n",
        "            if i > difficulty:\n",
        "                print(\"■\",end = \"\") ## 壁の役割　しかく入力して変換\n",
        "            elif i == -1:\n",
        "                print(\"人\",end = \"\") ## 人の役割　人\n",
        "            else:\n",
        "                print(\"　\",end = \"\") ## 道の役割　全角スペース\n",
        "        print(\"\")\n",
        "\n",
        "map = [[random.randint(0,100) for _ in range(30)] for _ in range(30)]\n",
        "\n",
        "Map_Draw(map)"
      ],
      "metadata": {
        "colab": {
          "base_uri": "https://localhost:8080/"
        },
        "id": "rApdkfuI2kTn",
        "outputId": "c86724c1-4abe-432f-b4b6-9a2c48402395"
      },
      "execution_count": null,
      "outputs": [
        {
          "output_type": "stream",
          "name": "stdout",
          "text": [
            "　■■　　■■　　　　■■　■■■■　■　■　■　■■　　　\n",
            "■■■■■■■■■■　■■■■　■　　　　　　■■　■　　■\n",
            "　　　　■　　　■■　■■　　■■　■　　■■■■　　■　　\n",
            "■■　　■　■■■■■　　　　■　■　■　■　■■■■　　　\n",
            "■■■■　　■■■　■　　■　　　　■■■■　■　■■■■■\n",
            "　■■■　■　■　■■　　　　　■■　■　■■■■　■　■■\n",
            "　■　　■■　■■　■　■　　　　　■■　　　■　　■■　■\n",
            "　　■　■■　■■　■■　■　　　■　■　　■　■■■　■　\n",
            "■■　■　　■■　　　■　　　■■　■　■■　■　　■　　■\n",
            "　　■　　　　■　　　■　　■■　■■　　　■　■■■■■■\n",
            "　　　　　■　　　■　　■■■■　　■■■　■　■　　　　■\n",
            "　　　■■　　■　　■■■■　■　　　■　　　　　　　　　■\n",
            "■■■　　　　■■■　　■　　　　　■　■　■　　　■■　■\n",
            "　　■　■　　■　　■　■　■　■　■　■　　■■■■　■■\n",
            "■　　　■　■　■　■　■■■■　　■■　■　■■　　■　　\n",
            "■■　■■　■■　　　　　■■人■　　　　■■　　　■■■■\n",
            "　　　■　■　■　■　■■■■　■■　■　　■　　■■　■■\n",
            "■■■　■■■■■■■　■　■　■　　　　　■■　■　■　■\n",
            "　　　　■■　■　　■　■　■　　■■　■■　　　■　■■　\n",
            "■■■■　　■■　　■　　　■■　　　■■　■■　　　　■■\n",
            "■　　　　　　■　　■　　■　　　　■■　　　■■■　■■■\n",
            "　　■　■■　　■■■　　　■　　■■■■　　　　■　■■　\n",
            "　　■■　　■　■■　■　　■■■■　　　　■　　■■■■■\n",
            "■　　　■■　　■　　■■■■　　　■　　　　■　　　　　　\n",
            "■■　　■　　　　■　　■　　■　　　■■　　■　　■■■■\n",
            "　■　■■　　　■■　■　■　　　　　　　■■■　■　　■　\n",
            "　■　　　■■■　■　■■　■　　　■　　　　■■■■　　　\n",
            "■　　■■　■　■■■　■　　　　　■■■　■■　　　　　■\n",
            "　■　■■■■■■　■■　　■　　■■■　■　　　　　■　　\n",
            "■　■■■　　■■■■■■■■■■■　　■　　　　　　　■　\n"
          ]
        }
      ]
    },
    {
      "cell_type": "markdown",
      "source": [
        "## マップの移動モジュールを作ろう\n",
        "とりあえず、main関数に入れます。"
      ],
      "metadata": {
        "id": "gXYrZFgf5hyu"
      }
    },
    {
      "cell_type": "code",
      "source": [
        "import random\n",
        "difficulty = 50\n",
        "\n",
        "def main():\n",
        "    map = [[random.randint(0,100) for _ in range(30)] for _ in range(30)]\n",
        "    Map_Draw(map)\n",
        "\n",
        "def Map_Draw(map): ## この関数は、30×30の配列を与えると描画します。\n",
        "    map[15][15] = -1\n",
        "    for m in map:\n",
        "        for i in m:\n",
        "            if i > difficulty:\n",
        "                print(\"■\",end = \"\") ## 壁の役割\n",
        "            elif i == -1:\n",
        "                print(\"人\",end = \"\") ## 人の役割\n",
        "            else:\n",
        "                print(\"　\",end = \"\") ## 道の役割\n",
        "        print(\"\")\n",
        "\n",
        "if __name__ == \"__main__\":\n",
        "    main()"
      ],
      "metadata": {
        "colab": {
          "base_uri": "https://localhost:8080/"
        },
        "id": "E4gHoeFW8Ez6",
        "outputId": "6801ac34-2115-43b1-813c-ec38b0f7c086"
      },
      "execution_count": null,
      "outputs": [
        {
          "output_type": "stream",
          "name": "stdout",
          "text": [
            "￣■￣■■■■￣■■■\n",
            "￣￣■■￣￣￣■■■■\n",
            "￣￣■￣￣■■■￣￣■\n",
            "￣■￣■■■￣■■￣￣\n",
            "■￣■￣■￣￣■￣￣■\n",
            "￣￣■■■人■￣■￣￣\n",
            "■■￣￣■￣■■■■￣\n",
            "■■■■￣■￣￣■￣￣\n",
            "￣￣￣■■■■￣■■■\n",
            "￣■■■■￣■■■■■\n",
            "■■■■￣■■￣￣￣￣\n"
          ]
        }
      ]
    },
    {
      "cell_type": "markdown",
      "source": [
        "### ゲームをループに入れよう"
      ],
      "metadata": {
        "id": "-jGJ1HlQ8fCa"
      }
    },
    {
      "cell_type": "code",
      "source": [
        "import random\n",
        "difficulty = 50\n",
        "\n",
        "def Map_Draw(map): ## この関数は、30×30の配列を与えると描画します。\n",
        "    map[15][15] = -1\n",
        "\n",
        "    for m in map:\n",
        "        for i in m:\n",
        "            if i > difficulty:\n",
        "                print(\"■\",end = \"\") ## 壁の役割\n",
        "            elif i == -1:\n",
        "                print(\"人\",end = \"\") ## 人の役割\n",
        "            else:\n",
        "                print(\"　\",end = \"\") ## 道の役割\n",
        "        print(\"\")\n",
        "\n",
        "def main():\n",
        "    key = \"Start\"\n",
        "    map = [[random.randint(0,100) for i in range(30)] for j in range(30)]\n",
        "    while key != \"e\":\n",
        "        print(\"入力:\",key)\n",
        "        key = input()\n",
        "        Map_Draw(map)\n",
        "\n",
        "if __name__ == \"__main__\":\n",
        "    main()"
      ],
      "metadata": {
        "colab": {
          "base_uri": "https://localhost:8080/"
        },
        "id": "LCDG9_jG8eDy",
        "outputId": "977d9785-78c5-4de7-b61d-8ed06c58ba11"
      },
      "execution_count": null,
      "outputs": [
        {
          "output_type": "stream",
          "name": "stdout",
          "text": [
            "あなたの入力は Start です\n",
            "r\n",
            "￣■￣￣￣■■￣■■\n",
            "￣■￣■■￣■￣■￣\n",
            "■￣￣■￣￣￣￣■■\n",
            "■￣■■■■■■￣￣\n",
            "￣￣■■￣￣￣■■￣\n",
            "￣￣￣￣人￣■■■￣\n",
            "￣■■￣￣■￣￣￣■\n",
            "■￣￣￣￣￣￣￣■￣\n",
            "■￣￣■￣■￣■￣￣\n",
            "■■■■￣￣￣￣￣￣\n",
            "あなたの入力は r です\n",
            "e\n",
            "￣■￣￣￣■■￣■■\n",
            "￣■￣■■￣■￣■￣\n",
            "■￣￣■￣￣￣￣■■\n",
            "■￣■■■■■■￣￣\n",
            "￣￣■■￣￣￣■■￣\n",
            "￣￣￣￣人￣■■■￣\n",
            "￣■■￣￣■￣￣￣■\n",
            "■￣￣￣￣￣￣￣■￣\n",
            "■￣￣■￣■￣■￣￣\n",
            "■■■■￣￣￣￣￣￣\n"
          ]
        }
      ]
    },
    {
      "cell_type": "markdown",
      "source": [
        "### 上に進む処理を追加しよう\n",
        "\n",
        "上に進むとは、map配列全体を下向きにずらせば良い。その関数を用意する。"
      ],
      "metadata": {
        "id": "8aDXYn_071Kz"
      }
    },
    {
      "cell_type": "code",
      "source": [
        "import random\n",
        "difficulty = 50\n",
        "\n",
        "def Map_Draw(map): ## この関数は、30×30の配列を与えると描画します。\n",
        "    map[15][15] = -1\n",
        "\n",
        "    for m in map:\n",
        "        for i in m:\n",
        "            if i > difficulty:\n",
        "                print(\"■\",end = \"\") ## 壁の役割\n",
        "            elif i == -1:\n",
        "                print(\"人\",end = \"\") ## 人の役割\n",
        "            else:\n",
        "                print(\"　\",end = \"\") ## 道の役割\n",
        "        print(\"\")\n",
        "\n",
        "def Up_Move(map):\n",
        "    map_add = [random.randint(0,100) for _ in range(30)]\n",
        "    map.insert(0,map_add)\n",
        "    map.pop(30)\n",
        "    return map\n",
        "\n",
        "def main():\n",
        "    key = \"Start\"\n",
        "    map = [[random.randint(0,100) for i in range(30)] for j in range(30)]\n",
        "    while key != \"e\":\n",
        "        print(\"入力:\",key)\n",
        "        key = input()\n",
        "        Map_Draw(map)\n",
        "\n",
        "if __name__ == \"__main__\":\n",
        "    main()"
      ],
      "metadata": {
        "id": "MYA2LT7N9bSH"
      },
      "execution_count": null,
      "outputs": []
    },
    {
      "cell_type": "markdown",
      "source": [
        "### wを入力した時、Up_Moveが実行されるようにしよう。"
      ],
      "metadata": {
        "id": "LgUcFeT_9Qr1"
      }
    },
    {
      "cell_type": "code",
      "source": [
        "import random\n",
        "difficulty = 50\n",
        "\n",
        "def Map_Draw(map): ## この関数は、30×30の配列を与えると描画します。\n",
        "    map[15][15] = -1\n",
        "\n",
        "    for m in map:\n",
        "        for i in m:\n",
        "            if i > difficulty:\n",
        "                print(\"■\",end = \"\") ## 壁の役割\n",
        "            elif i == -1:\n",
        "                print(\"人\",end = \"\") ## 人の役割\n",
        "            else:\n",
        "                print(\"　\",end = \"\") ## 道の役割\n",
        "        print(\"\")\n",
        "\n",
        "def Up_Move(map): ## この関数は、マップ全体を下向きに移動させて、相対的にキャラクターが上に行きます。\n",
        "    map_add = [random.randint(0,100) for _ in range(30)] ## map配列の一番先頭に追加するためのリストの生成\n",
        "    map.insert(0,map_add)\n",
        "    map.pop(30) ## 先頭に配列を追加したので、最後の行を減らして、配列数をキープします。\n",
        "    return map\n",
        "\n",
        "def main():\n",
        "    key = \"Start\"\n",
        "    map = [[random.randint(0,100) for i in range(30)] for j in range(30)]\n",
        "    while key != \"e\":\n",
        "        print(\"入力:\",key)\n",
        "        key = input()\n",
        "        if key == \"w\":\n",
        "            map = Up_Move(map)\n",
        "        Map_Draw(map)\n",
        "\n",
        "if __name__ == \"__main__\":\n",
        "    main()"
      ],
      "metadata": {
        "colab": {
          "base_uri": "https://localhost:8080/",
          "height": 867
        },
        "id": "KNbKAy2N9apV",
        "outputId": "1d4a3546-a1ca-4c20-bd8c-9414184bfc21"
      },
      "execution_count": null,
      "outputs": [
        {
          "output_type": "stream",
          "name": "stdout",
          "text": [
            "あなたの入力は Start です\n",
            "a\n",
            "■■■■■￣￣￣■■■\n",
            "￣■￣■￣￣￣■■￣￣\n",
            "■■■■■￣■■￣￣■\n",
            "■■￣￣■■■￣￣■■\n",
            "■￣￣■■￣■■￣■￣\n",
            "■￣■■■人￣■￣■￣\n",
            "￣￣￣￣￣￣■￣■￣■\n",
            "￣■■￣■￣■■■￣■\n",
            "■■■￣■■■■￣■■\n",
            "￣■￣■■■￣■￣￣￣\n",
            "■■■￣￣￣￣￣￣￣■\n",
            "あなたの入力は a です\n",
            "w\n",
            "■■■■■￣■■■￣■\n",
            "■■■■■￣￣￣■■■\n",
            "￣■￣■￣￣￣■■￣￣\n",
            "■■■■■￣■■￣￣■\n",
            "■■￣￣■■■￣￣■■\n",
            "■￣￣■■人■■￣■￣\n",
            "■￣■■■■￣■￣■￣\n",
            "￣￣￣￣￣￣■￣■￣■\n",
            "￣■■￣■￣■■■￣■\n",
            "■■■￣■■■■￣■■\n",
            "￣■￣■■■￣■￣￣￣\n",
            "あなたの入力は w です\n"
          ]
        },
        {
          "output_type": "error",
          "ename": "KeyboardInterrupt",
          "evalue": "ignored",
          "traceback": [
            "\u001b[0;31m---------------------------------------------------------------------------\u001b[0m",
            "\u001b[0;31mKeyboardInterrupt\u001b[0m                         Traceback (most recent call last)",
            "\u001b[0;32m<ipython-input-5-6d521edaa935>\u001b[0m in \u001b[0;36m<cell line: 39>\u001b[0;34m()\u001b[0m\n\u001b[1;32m     38\u001b[0m \u001b[0;34m\u001b[0m\u001b[0m\n\u001b[1;32m     39\u001b[0m \u001b[0;32mif\u001b[0m \u001b[0m__name__\u001b[0m \u001b[0;34m==\u001b[0m \u001b[0;34m\"__main__\"\u001b[0m\u001b[0;34m:\u001b[0m\u001b[0;34m\u001b[0m\u001b[0;34m\u001b[0m\u001b[0m\n\u001b[0;32m---> 40\u001b[0;31m     \u001b[0mmain\u001b[0m\u001b[0;34m(\u001b[0m\u001b[0;34m)\u001b[0m\u001b[0;34m\u001b[0m\u001b[0;34m\u001b[0m\u001b[0m\n\u001b[0m",
            "\u001b[0;32m<ipython-input-5-6d521edaa935>\u001b[0m in \u001b[0;36mmain\u001b[0;34m()\u001b[0m\n\u001b[1;32m      6\u001b[0m     \u001b[0;32mwhile\u001b[0m \u001b[0mkey\u001b[0m \u001b[0;34m!=\u001b[0m \u001b[0;34m\"e\"\u001b[0m\u001b[0;34m:\u001b[0m\u001b[0;34m\u001b[0m\u001b[0;34m\u001b[0m\u001b[0m\n\u001b[1;32m      7\u001b[0m         \u001b[0mprint\u001b[0m\u001b[0;34m(\u001b[0m\u001b[0;34m\"あなたの入力は\"\u001b[0m\u001b[0;34m,\u001b[0m\u001b[0mkey\u001b[0m\u001b[0;34m,\u001b[0m\u001b[0;34m\"です\"\u001b[0m\u001b[0;34m)\u001b[0m\u001b[0;34m\u001b[0m\u001b[0;34m\u001b[0m\u001b[0m\n\u001b[0;32m----> 8\u001b[0;31m         \u001b[0mkey\u001b[0m \u001b[0;34m=\u001b[0m \u001b[0minput\u001b[0m\u001b[0;34m(\u001b[0m\u001b[0;34m)\u001b[0m\u001b[0;34m\u001b[0m\u001b[0;34m\u001b[0m\u001b[0m\n\u001b[0m\u001b[1;32m      9\u001b[0m         \u001b[0;32mif\u001b[0m \u001b[0mkey\u001b[0m \u001b[0;34m==\u001b[0m \u001b[0;34m\"w\"\u001b[0m\u001b[0;34m:\u001b[0m\u001b[0;34m\u001b[0m\u001b[0;34m\u001b[0m\u001b[0m\n\u001b[1;32m     10\u001b[0m             \u001b[0mmap\u001b[0m \u001b[0;34m=\u001b[0m \u001b[0mUp_Move\u001b[0m\u001b[0;34m(\u001b[0m\u001b[0mmap\u001b[0m\u001b[0;34m)\u001b[0m\u001b[0;34m\u001b[0m\u001b[0;34m\u001b[0m\u001b[0m\n",
            "\u001b[0;32m/usr/local/lib/python3.10/dist-packages/ipykernel/kernelbase.py\u001b[0m in \u001b[0;36mraw_input\u001b[0;34m(self, prompt)\u001b[0m\n\u001b[1;32m    849\u001b[0m                 \u001b[0;34m\"raw_input was called, but this frontend does not support input requests.\"\u001b[0m\u001b[0;34m\u001b[0m\u001b[0;34m\u001b[0m\u001b[0m\n\u001b[1;32m    850\u001b[0m             )\n\u001b[0;32m--> 851\u001b[0;31m         return self._input_request(str(prompt),\n\u001b[0m\u001b[1;32m    852\u001b[0m             \u001b[0mself\u001b[0m\u001b[0;34m.\u001b[0m\u001b[0m_parent_ident\u001b[0m\u001b[0;34m,\u001b[0m\u001b[0;34m\u001b[0m\u001b[0;34m\u001b[0m\u001b[0m\n\u001b[1;32m    853\u001b[0m             \u001b[0mself\u001b[0m\u001b[0;34m.\u001b[0m\u001b[0m_parent_header\u001b[0m\u001b[0;34m,\u001b[0m\u001b[0;34m\u001b[0m\u001b[0;34m\u001b[0m\u001b[0m\n",
            "\u001b[0;32m/usr/local/lib/python3.10/dist-packages/ipykernel/kernelbase.py\u001b[0m in \u001b[0;36m_input_request\u001b[0;34m(self, prompt, ident, parent, password)\u001b[0m\n\u001b[1;32m    893\u001b[0m             \u001b[0;32mexcept\u001b[0m \u001b[0mKeyboardInterrupt\u001b[0m\u001b[0;34m:\u001b[0m\u001b[0;34m\u001b[0m\u001b[0;34m\u001b[0m\u001b[0m\n\u001b[1;32m    894\u001b[0m                 \u001b[0;31m# re-raise KeyboardInterrupt, to truncate traceback\u001b[0m\u001b[0;34m\u001b[0m\u001b[0;34m\u001b[0m\u001b[0m\n\u001b[0;32m--> 895\u001b[0;31m                 \u001b[0;32mraise\u001b[0m \u001b[0mKeyboardInterrupt\u001b[0m\u001b[0;34m(\u001b[0m\u001b[0;34m\"Interrupted by user\"\u001b[0m\u001b[0;34m)\u001b[0m \u001b[0;32mfrom\u001b[0m \u001b[0;32mNone\u001b[0m\u001b[0;34m\u001b[0m\u001b[0;34m\u001b[0m\u001b[0m\n\u001b[0m\u001b[1;32m    896\u001b[0m             \u001b[0;32mexcept\u001b[0m \u001b[0mException\u001b[0m \u001b[0;32mas\u001b[0m \u001b[0me\u001b[0m\u001b[0;34m:\u001b[0m\u001b[0;34m\u001b[0m\u001b[0;34m\u001b[0m\u001b[0m\n\u001b[1;32m    897\u001b[0m                 \u001b[0mself\u001b[0m\u001b[0;34m.\u001b[0m\u001b[0mlog\u001b[0m\u001b[0;34m.\u001b[0m\u001b[0mwarning\u001b[0m\u001b[0;34m(\u001b[0m\u001b[0;34m\"Invalid Message:\"\u001b[0m\u001b[0;34m,\u001b[0m \u001b[0mexc_info\u001b[0m\u001b[0;34m=\u001b[0m\u001b[0;32mTrue\u001b[0m\u001b[0;34m)\u001b[0m\u001b[0;34m\u001b[0m\u001b[0;34m\u001b[0m\u001b[0m\n",
            "\u001b[0;31mKeyboardInterrupt\u001b[0m: Interrupted by user"
          ]
        }
      ]
    },
    {
      "cell_type": "markdown",
      "source": [
        "### 画面描画のリフレッシュ\n",
        "\n",
        "IPython.displayモジュールのclear_output関数を使って実装します。"
      ],
      "metadata": {
        "id": "COksaXqnAtXz"
      }
    },
    {
      "cell_type": "code",
      "source": [
        "import random\n",
        "from IPython.display import clear_output\n",
        "difficulty = 50\n",
        "\n",
        "def Map_Draw(map): ## この関数は、30×30の配列を与えると描画します。\n",
        "    map[15][15] = -1\n",
        "\n",
        "    for m in map:\n",
        "        for i in m:\n",
        "            if i > difficulty:\n",
        "                print(\"■\",end = \"\") ## 壁の役割\n",
        "            elif i == -1:\n",
        "                print(\"人\",end = \"\") ## 人の役割\n",
        "            else:\n",
        "                print(\"　\",end = \"\") ## 道の役割\n",
        "        print(\"\")\n",
        "\n",
        "def Up_Move(map): ## この関数は、マップ全体を下向きに移動させて、相対的にキャラクターが上に行きます。\n",
        "    map_add = [random.randint(0,100) for _ in range(30)] ## map配列の一番先頭に追加するためのリストの生成\n",
        "    map.insert(0,map_add)\n",
        "    map.pop(30) ## 先頭に配列を追加したので、最後の行を減らして、配列数をキープします。\n",
        "    return map\n",
        "\n",
        "def main():\n",
        "    key = \"Start\"\n",
        "    map = [[random.randint(0,100) for i in range(30)] for j in range(30)]\n",
        "    while key != \"e\":\n",
        "        clear_output()\n",
        "        print(\"入力:\",key)\n",
        "        key = input()\n",
        "        if key == \"w\":\n",
        "            map = Up_Move(map)\n",
        "        Map_Draw(map)\n",
        "\n",
        "if __name__ == \"__main__\":\n",
        "    main()"
      ],
      "metadata": {
        "colab": {
          "base_uri": "https://localhost:8080/"
        },
        "id": "Vw0lJnGtBu3t",
        "outputId": "120ac93f-8740-4ef8-8c4c-b8754d9fd34c"
      },
      "execution_count": null,
      "outputs": [
        {
          "output_type": "stream",
          "name": "stdout",
          "text": [
            "入力: q\n",
            "e\n",
            "■■　■　■■■■■　■■　■　　■■■　■　■　　　　　　\n",
            "　■■　■■　　　　　■■　■　■■■　■　■■■　■■■■\n",
            "　■■■　　■■　　■　■■　　■■　■　　■　　■■　■■\n",
            "　■　■■■■　　　■　　■■　■■　■　　　　■　■　　■\n",
            "　　■　　■　　　■■■■■■■■　■■　■■■　　■　■■\n",
            "　■　　　■　　■　　■　■■　■■　■■■　　　　　■■　\n",
            "　■■■■■　■■　■　■　　　■■■■■■■■■　■　■■\n",
            "■■■　■　■■■　　■■■　　　　　　■　　■　■■　■■\n",
            "　　■■■■　　■■　　■■■　■　　■　■　■■■　■　　\n",
            "■■■　■■　　　　■　■　　　■■　■■■　　　　■■　■\n",
            "■■　■　　■　■■■　■■■　■　　　■■■　■■■■■　\n",
            "　■■　■　■　　　■　　■　　■■　　　　■■　　■　　　\n",
            "　　■　■　　　　　　■　　■　　■　　■　　■■■　　　　\n",
            "　　■　　　■■　■　　■■■■■　■■■■　■　　■■■　\n",
            "■■　■■　■　■　　　■　■　■■■■　■■　　　　■　　\n",
            "　■　■　　■　　■　■　■　人　　■　■■■■　　　■■■\n",
            "■　■　　■　　　■■■■■　人■■　　　　■■　■　　　　\n",
            "■■　　　■　　　　　■■　■人■　■■　　■■■　■　■　\n",
            "■■■■■　■■■　　　■■■　　　■　■■　　■■■　■■\n",
            "　　　■■　■■■■■■■■■■　■　■■■■　　　　■　　\n",
            "■■　　　■■　■　　　　　　　　■■■■　　■■　　■　■\n",
            "　　　　　■　■　　■　　　■　■■　■■■　　　　■　　　\n",
            "■■　■　　　　■■■■　　■　■■■　　　■　　　■■　　\n",
            "　■　■■　　　　　　■■■■■■　　　■　■■■　　　　■\n",
            "　■　　　　■■■　■　■　　　　　■　■　　■　　■■■　\n",
            "　　　■■■　■　■　　■　　■■■　■　■■■■■　■　　\n",
            "　　■　　■■　■　■　　■　　　■■　　　■■　　■　■　\n",
            "　　■　■■■　　　■　　■　　■　■■■■　　■　　　　　\n",
            "■■■■　　　■■　■　■　　■　■　■■■■■　■　■　　\n",
            "■　■　　■　■　■■■■　　■■■■■■　■　　■　　■　\n"
          ]
        }
      ]
    },
    {
      "cell_type": "markdown",
      "source": [
        "### デバッグ（上手に表示する方法）\n",
        "\n",
        "今回、うまくいかないのは、画面をクリアするタイミングが悪い\n",
        "\n",
        "順番を考えると以下のようにする必要がある。\n",
        "\n",
        "1. 入力キーの表示\n",
        "\n",
        "2. mapの表示\n",
        "\n",
        "3. 入力\n",
        "\n",
        "4. 画面のクリア"
      ],
      "metadata": {
        "id": "kJ5mrofgCN8U"
      }
    },
    {
      "cell_type": "code",
      "source": [
        "import random\n",
        "from IPython.display import clear_output\n",
        "difficulty = 50\n",
        "\n",
        "def Map_Draw(map): ## この関数は、30×30の配列を与えると描画します。\n",
        "    map[15][15] = -1\n",
        "\n",
        "    for m in map:\n",
        "        for i in m:\n",
        "            if i > difficulty:\n",
        "                print(\"■\",end = \"\") ## 壁の役割\n",
        "            elif i == -1:\n",
        "                print(\"人\",end = \"\") ## 人の役割\n",
        "            else:\n",
        "                print(\"　\",end = \"\") ## 道の役割\n",
        "        print(\"\")\n",
        "\n",
        "def Up_Move(map): ## この関数は、マップ全体を下向きに移動させて、相対的にキャラクターが上に行きます。\n",
        "    map_add = [random.randint(0,100) for _ in range(30)] ## map配列の一番先頭に追加するためのリストの生成\n",
        "    map.insert(0,map_add)\n",
        "    map.pop(30) ## 先頭に配列を追加したので、最後の行を減らして、配列数をキープします。\n",
        "    return map\n",
        "\n",
        "def main():\n",
        "    key = \"Start\"\n",
        "    map = [[random.randint(0,100) for i in range(30)] for j in range(30)]\n",
        "    while key != \"e\":\n",
        "        print(\"入力:\",key)\n",
        "        Map_Draw(map)\n",
        "\n",
        "        key = input()\n",
        "        if key == \"w\":\n",
        "            map = Up_Move(map)\n",
        "        clear_output()\n",
        "\n",
        "\n",
        "if __name__ == \"__main__\":\n",
        "    main()"
      ],
      "metadata": {
        "id": "IPSLPqTSCZ97"
      },
      "execution_count": null,
      "outputs": []
    },
    {
      "cell_type": "markdown",
      "source": [
        "### マップの描画範囲を狭めよう"
      ],
      "metadata": {
        "id": "hEOVwF_z3fFx"
      }
    },
    {
      "cell_type": "code",
      "source": [
        "import random\n",
        "from IPython.display import clear_output\n",
        "difficulty = 50\n",
        "\n",
        "def Map_Draw(map): ## この関数は、30×30の配列を与えると描画します。\n",
        "    map[15][15] = -1\n",
        "    trim_map = []\n",
        "    for i in range(10,21):\n",
        "        map_list = []\n",
        "        for j in range(10,21):\n",
        "            map_list.append(map[i][j])\n",
        "        trim_map.append(map_list)\n",
        "    for m in trim_map:\n",
        "        for i in m:\n",
        "            if i > difficulty:\n",
        "                print(\"■\",end = \"\") ## 壁の役割\n",
        "            elif i == -1:\n",
        "                print(\"人\",end = \"\") ## 人の役割\n",
        "            else:\n",
        "                print(\"　\",end = \"\") ## 道の役割\n",
        "        print(\"\")\n",
        "\n",
        "def Up_Move(map): ## この関数は、マップ全体を下向きに移動させて、相対的にキャラクターが上に行きます。\n",
        "    map_add = [random.randint(0,100) for _ in range(30)] ## map配列の一番先頭に追加するためのリストの生成\n",
        "    map.insert(0,map_add)\n",
        "    map.pop(30) ## 先頭に配列を追加したので、最後の行を減らして、配列数をキープします。\n",
        "    return map\n",
        "\n",
        "def main():\n",
        "    key = \"Start\"\n",
        "    map = [[random.randint(0,100) for i in range(30)] for j in range(30)]\n",
        "    while key != \"e\":\n",
        "        print(\"入力:\",key)\n",
        "        Map_Draw(map)\n",
        "\n",
        "        key = input()\n",
        "        if key == \"w\":\n",
        "            map = Up_Move(map)\n",
        "        clear_output()\n",
        "\n",
        "\n",
        "if __name__ == \"__main__\":\n",
        "    main()"
      ],
      "metadata": {
        "id": "-2LKJtsP3kAh"
      },
      "execution_count": null,
      "outputs": []
    },
    {
      "cell_type": "markdown",
      "source": [
        "### 移動した後の道を壁にしよう\n",
        "現在、mapのインデックス番号は０～２９です。\n",
        "\n",
        "そのうち表示されているのは、１０～２０の計１１個\n",
        "\n",
        "１０，１１，１２，１３，１４\n",
        "\n",
        "１５，１６，１７，１８，１９，２０\n",
        "\n",
        "ここで、人が表示されているのは\n",
        "\n",
        "インデックス番号５なので\n",
        "\n",
        "map[15][15]である。\n"
      ],
      "metadata": {
        "id": "b9WF43SE5pqn"
      }
    },
    {
      "cell_type": "code",
      "source": [
        "import random\n",
        "from IPython.display import clear_output\n",
        "difficulty = 50\n",
        "\n",
        "def Map_Draw(map): ## この関数は、30×30の配列を与えると描画します。\n",
        "    map[15][15] = -1\n",
        "    trim_map = []\n",
        "    for i in range(10,21):\n",
        "        map_list = []\n",
        "        for j in range(10,21):\n",
        "            map_list.append(map[i][j])\n",
        "        trim_map.append(map_list)\n",
        "    for m in trim_map:\n",
        "        for i in m:\n",
        "            if i > difficulty:\n",
        "                print(\"■\",end = \"\") ## 壁の役割\n",
        "            elif i == -1:\n",
        "                print(\"人\",end = \"\") ## 人の役割\n",
        "                map[15][15] = 100    ## 変更した箇所\n",
        "            else:\n",
        "                print(\"　\",end = \"\") ## 道の役割\n",
        "        print(\"\")\n",
        "\n",
        "def Up_Move(map): ## この関数は、マップ全体を下向きに移動させて、相対的にキャラクターが上に行きます。\n",
        "    map_add = [random.randint(0,100) for _ in range(30)] ## map配列の一番先頭に追加するためのリストの生成\n",
        "    map.insert(0,map_add)\n",
        "    map.pop(30) ## 先頭に配列を追加したので、最後の行を減らして、配列数をキープします。\n",
        "    return map\n",
        "\n",
        "def main():\n",
        "    key = \"Start\"\n",
        "    map = [[random.randint(0,100) for i in range(30)] for j in range(30)]\n",
        "    while key != \"e\":\n",
        "        print(\"入力:\",key)\n",
        "        Map_Draw(map)\n",
        "\n",
        "        key = input()\n",
        "        if key == \"w\":\n",
        "            map = Up_Move(map)\n",
        "        clear_output()\n",
        "\n",
        "\n",
        "if __name__ == \"__main__\":\n",
        "    main()"
      ],
      "metadata": {
        "id": "8bn-vZDRkUbu"
      },
      "execution_count": null,
      "outputs": []
    },
    {
      "cell_type": "markdown",
      "source": [
        "### 下に進む処理を追加しよう"
      ],
      "metadata": {
        "id": "onLWjotep2k-"
      }
    },
    {
      "cell_type": "code",
      "source": [
        "import random\n",
        "from IPython.display import clear_output\n",
        "difficulty = 50\n",
        "\n",
        "def field_Draw(field): ## この関数は、30×30の配列を与えると描画します。\n",
        "    field[15][15] = -1\n",
        "    trim_field = []\n",
        "    for i in range(10,21):\n",
        "        field_list = []\n",
        "        for j in range(10,21):\n",
        "            field_list.append(field[i][j])\n",
        "        trim_field.append(field_list)\n",
        "    for m in trim_field:\n",
        "        for i in m:\n",
        "            if i > difficulty:\n",
        "                print(\"■\",end = \"\") ## 壁の役割\n",
        "            elif i == -1:\n",
        "                print(\"人\",end = \"\") ## 人の役割\n",
        "                field[15][15] = 100    ## 変更した箇所\n",
        "            else:\n",
        "                print(\"　\",end = \"\") ## 道の役割\n",
        "        print(\"\")\n",
        "    return field\n",
        "\n",
        "def Up_Move(field): ## この関数は、マップ全体を下向きに移動させて、相対的にキャラクターが上に行きます。\n",
        "    field_add = [random.randint(0,100) for _ in range(30)] ## field配列の一番先頭に追加するためのリストの生成\n",
        "    field.insert(0,field_add)\n",
        "    field.pop(30) ## 先頭に配列を追加したので、最後の行を減らして、配列数をキープします。\n",
        "    return field\n",
        "\n",
        "def Down_Move(field): ## この関数は、マップ全体を上向きに移動させて、相対的にキャラクターが上に行きます。\n",
        "    field_add = [random.randint(0,100) for _ in range(30)] ## field配列の一番最後に追加するためのリストの生成\n",
        "    field.insert(29,field_add)\n",
        "    field.pop(0) ## 最後に配列を追加したので、行を減らして、配列数をキープします。\n",
        "    return field\n",
        "\n",
        "def main():\n",
        "    key = \"Start\"\n",
        "    field = [[random.randint(0,100) for i in range(30)] for j in range(30)]\n",
        "    while key != \"e\":\n",
        "        print(\"入力:\",key)\n",
        "        field_Draw(field)\n",
        "\n",
        "        key = input()\n",
        "        if key == \"w\":\n",
        "            field = Up_Move(field)\n",
        "        clear_output()\n",
        "\n",
        "\n",
        "if __name__ == \"__main__\":\n",
        "    main()"
      ],
      "metadata": {
        "id": "KolXpUuZogil"
      },
      "execution_count": null,
      "outputs": []
    },
    {
      "cell_type": "markdown",
      "source": [
        "### sを入力したとき、Down_Moveが実行されるようにしよう\n",
        "\n",
        "ついでに、それ以外の入力はすべて終了にしています。"
      ],
      "metadata": {
        "id": "UzK6QrzWoZKm"
      }
    },
    {
      "cell_type": "code",
      "source": [
        "import random\n",
        "from IPython.display import clear_output\n",
        "difficulty = 50\n",
        "\n",
        "def field_Draw(field): ## この関数は、30×30の配列を与えると描画します。\n",
        "    field[15][15] = -1\n",
        "    trim_field = []\n",
        "    for i in range(10,21):\n",
        "        field_list = []\n",
        "        for j in range(10,21):\n",
        "            field_list.append(field[i][j])\n",
        "        trim_field.append(field_list)\n",
        "    for m in trim_field:\n",
        "        for i in m:\n",
        "            if i > difficulty:\n",
        "                print(\"■\",end = \"\") ## 壁の役割\n",
        "            elif i == -1:\n",
        "                print(\"人\",end = \"\") ## 人の役割\n",
        "                field[15][15] = 100    ## 変更した箇所\n",
        "            else:\n",
        "                print(\"　\",end = \"\") ## 道の役割\n",
        "        print(\"\")\n",
        "    return field\n",
        "\n",
        "def Up_Move(field): ## この関数は、マップ全体を下向きに移動させて、相対的にキャラクターが上に行きます。\n",
        "    field_add = [random.randint(0,100) for _ in range(30)] ## field配列の一番先頭に追加するためのリストの生成\n",
        "    print(field_add)\n",
        "    field.insert(0,field_add)\n",
        "    field.pop(30) ## 先頭に配列を追加したので、最後の行を減らして、配列数をキープします。\n",
        "    return field\n",
        "\n",
        "def Down_Move(field): ## この関数は、マップ全体を上向きに移動させて、相対的にキャラクターが上に行きます。\n",
        "    field_add = [random.randint(0,100) for _ in range(30)] ## field配列の一番最後に追加するためのリストの生成\n",
        "    print(field_add)\n",
        "    field.insert(29,field_add)\n",
        "    field.pop(0) ## 最後に配列を追加したので、行を減らして、配列数をキープします。\n",
        "    return field\n",
        "\n",
        "def main():\n",
        "    key = \"Start\"\n",
        "    field = [[random.randint(0,100) for i in range(30)] for j in range(30)]\n",
        "    while key != \"e\":\n",
        "        print(\"あなたの入力は\",key,\"です\")\n",
        "\n",
        "        field = field_Draw(field)\n",
        "\n",
        "        key = input()\n",
        "        if key == \"w\":\n",
        "            field = Up_Move(field)\n",
        "        elif key == \"s\":\n",
        "            field = Down_Move(field)\n",
        "        else:\n",
        "            break\n",
        "        clear_output()\n",
        "\n",
        "\n",
        "if __name__ == \"__main__\":\n",
        "    main()"
      ],
      "metadata": {
        "colab": {
          "base_uri": "https://localhost:8080/"
        },
        "id": "8PsbzsFOpNMM",
        "outputId": "e42b82ca-5344-4019-f9cf-41f2cc01f78d"
      },
      "execution_count": null,
      "outputs": [
        {
          "name": "stdout",
          "output_type": "stream",
          "text": [
            "あなたの入力は Start です\n",
            "￣■■￣■■￣￣￣￣￣\n",
            "■￣￣■■■￣￣■■￣\n",
            "￣￣■■￣￣￣￣■■￣\n",
            "■￣■￣￣￣■￣■￣■\n",
            "￣￣■■￣￣￣￣■￣■\n",
            "￣￣■■■人■￣￣￣￣\n",
            "■￣￣￣■￣■■■￣■\n",
            "■￣￣■■■■■■■■\n",
            "■■￣■■■￣■■■￣\n",
            "■￣■■■￣■■￣■￣\n",
            "■￣￣■■■￣■￣￣￣\n",
            "h\n"
          ]
        }
      ]
    },
    {
      "cell_type": "markdown",
      "source": [
        "### 左に進む処理を追加しよう"
      ],
      "metadata": {
        "id": "iPpDdFQnpwK1"
      }
    },
    {
      "cell_type": "code",
      "source": [
        "import random\n",
        "from IPython.display import clear_output\n",
        "difficulty = 50\n",
        "\n",
        "def field_Draw(field): ## この関数は、30×30の配列を与えると描画します。\n",
        "    field[15][15] = -1\n",
        "    trim_field = []\n",
        "    for i in range(10,21):\n",
        "        field_list = []\n",
        "        for j in range(10,21):\n",
        "            field_list.append(field[i][j])\n",
        "        trim_field.append(field_list)\n",
        "    for m in trim_field:\n",
        "        for i in m:\n",
        "            if i > difficulty:\n",
        "                print(\"■\",end = \"\") ## 壁の役割\n",
        "            elif i == -1:\n",
        "                print(\"人\",end = \"\") ## 人の役割\n",
        "                field[15][15] = 100    ## 変更した箇所\n",
        "            else:\n",
        "                print(\"　\",end = \"\") ## 道の役割\n",
        "        print(\"\")\n",
        "    return field\n",
        "\n",
        "def Up_Move(field): ## この関数は、マップ全体を下向きに移動させて、相対的にキャラクターが上に行きます。\n",
        "    field_add = [random.randint(0,100) for _ in range(30)] ## field配列の一番先頭に追加するためのリストの生成\n",
        "    print(field_add)\n",
        "    field.insert(0,field_add)\n",
        "    field.pop(30) ## 先頭に配列を追加したので、最後の行を減らして、配列数をキープします。\n",
        "    return field\n",
        "\n",
        "def Down_Move(field): ## この関数は、マップ全体を上向きに移動させて、相対的にキャラクターが上に行きます。\n",
        "    field_add = [random.randint(0,100) for _ in range(30)] ## field配列の一番最後に追加するためのリストの生成\n",
        "    print(field_add)\n",
        "    field.insert(29,field_add)\n",
        "    field.pop(0) ## 最後に配列を追加したので、行を減らして、配列数をキープします。\n",
        "    return field\n",
        "\n",
        "def Left_Move(map):\n",
        "    for row in map:\n",
        "        row.insert(0,random.randint(0,100))\n",
        "        row.pop(29)\n",
        "    return map\n",
        "\n",
        "def main():\n",
        "    key = \"Start\"\n",
        "    field = [[random.randint(0,100) for i in range(30)] for j in range(30)]\n",
        "    while key != \"e\":\n",
        "        print(\"あなたの入力は\",key,\"です\")\n",
        "\n",
        "        field = field_Draw(field)\n",
        "\n",
        "        key = input()\n",
        "        if key == \"w\":\n",
        "            field = Up_Move(field)\n",
        "        elif key == \"s\":\n",
        "            field = Down_Move(field)\n",
        "        else:\n",
        "            break\n",
        "        clear_output()\n",
        "\n",
        "\n",
        "if __name__ == \"__main__\":\n",
        "    main()"
      ],
      "metadata": {
        "colab": {
          "base_uri": "https://localhost:8080/"
        },
        "id": "ivoiyCE4qCWG",
        "outputId": "d4adbcef-3027-45ee-ae04-424cc005b562"
      },
      "execution_count": null,
      "outputs": [
        {
          "name": "stdout",
          "output_type": "stream",
          "text": [
            "あなたの入力は Start です\n",
            "■￣￣￣￣￣■￣￣■■\n",
            "￣￣￣￣￣￣■￣￣￣￣\n",
            "■■￣￣■■■■￣￣￣\n",
            "￣￣￣■■￣■■■￣￣\n",
            "■￣■■■￣■￣￣■■\n",
            "￣￣￣■■人￣￣￣■■\n",
            "￣￣￣￣■■￣￣￣■￣\n",
            "■■￣■■￣■￣￣￣￣\n",
            "￣■■￣■■￣￣￣■■\n",
            "￣■■￣￣￣■■￣■￣\n",
            "■■■■■￣￣■￣￣￣\n",
            "e\n"
          ]
        }
      ]
    },
    {
      "cell_type": "markdown",
      "source": [
        "### aを入力したとき、Left_Moveが実行されるようにしよう\n",
        "\n",
        "確認のため、drawに以下のコードを追加してみてください。\n",
        "\n",
        "~~~python\n",
        "for i in map:\n",
        "    print(i)\n",
        "~~~"
      ],
      "metadata": {
        "id": "-EpcdsfergJ9"
      }
    },
    {
      "cell_type": "code",
      "source": [
        "import random\n",
        "from IPython.display import clear_output\n",
        "difficulty = 50\n",
        "\n",
        "def field_Draw(field): ## この関数は、30×30の配列を与えると描画します。\n",
        "    field[15][15] = -1\n",
        "    trim_field = []\n",
        "    for i in range(10,21):\n",
        "        field_list = []\n",
        "        for j in range(10,21):\n",
        "            field_list.append(field[i][j])\n",
        "        trim_field.append(field_list)\n",
        "    for m in trim_field:\n",
        "        for i in m:\n",
        "            if i > difficulty:\n",
        "                print(\"■\",end = \"\") ## 壁の役割\n",
        "            elif i == -1:\n",
        "                print(\"人\",end = \"\") ## 人の役割\n",
        "                field[15][15] = 100    ## 変更した箇所\n",
        "            else:\n",
        "                print(\"　\",end = \"\") ## 道の役割\n",
        "        print(\"\")\n",
        "    for i in field:\n",
        "        print(i)\n",
        "    return field\n",
        "\n",
        "def Up_Move(field): ## この関数は、マップ全体を下向きに移動させて、相対的にキャラクターが上に行きます。\n",
        "    field_add = [random.randint(0,100) for _ in range(30)] ## field配列の一番先頭に追加するためのリストの生成\n",
        "    print(field_add)\n",
        "    field.insert(0,field_add)\n",
        "    field.pop(30) ## 先頭に配列を追加したので、最後の行を減らして、配列数をキープします。\n",
        "    return field\n",
        "\n",
        "def Down_Move(field): ## この関数は、マップ全体を上向きに移動させて、相対的にキャラクターが上に行きます。\n",
        "    field_add = [random.randint(0,100) for _ in range(30)] ## field配列の一番最後に追加するためのリストの生成\n",
        "    print(field_add)\n",
        "    field.insert(29,field_add)\n",
        "    field.pop(0) ## 最後に配列を追加したので、行を減らして、配列数をキープします。\n",
        "    return field\n",
        "\n",
        "def Left_Move(field):\n",
        "    for row in field:\n",
        "        row.insert(0,random.randint(0,100))\n",
        "        row.pop(29)\n",
        "    return field\n",
        "\n",
        "def main():\n",
        "    key = \"Start\"\n",
        "    field = [[random.randint(0,100) for i in range(30)] for j in range(30)]\n",
        "    while key != \"e\":\n",
        "        print(\"あなたの入力は\",key,\"です\")\n",
        "\n",
        "        field = field_Draw(field)\n",
        "\n",
        "        key = input()\n",
        "        if key == \"w\":\n",
        "            field = Up_Move(field)\n",
        "        elif key == \"s\":\n",
        "            field = Down_Move(field)\n",
        "        elif key == \"a\":\n",
        "            field = Left_Move(field)\n",
        "        else:\n",
        "            break\n",
        "        clear_output()\n",
        "\n",
        "\n",
        "if __name__ == \"__main__\":\n",
        "    main()"
      ],
      "metadata": {
        "colab": {
          "base_uri": "https://localhost:8080/"
        },
        "id": "KYxbVaIRr3_1",
        "outputId": "8ddb9f91-b05d-46a7-b07f-3e975136a036"
      },
      "execution_count": null,
      "outputs": [
        {
          "name": "stdout",
          "output_type": "stream",
          "text": [
            "あなたの入力は a です\n",
            "■￣■■￣■￣￣￣￣￣\n",
            "￣￣￣■■■￣■■■■\n",
            "■■￣￣￣■￣■■■■\n",
            "■■■■￣￣￣■￣￣￣\n",
            "■■￣￣￣■■￣■■■\n",
            "￣￣■■■人■■■■■\n",
            "■￣￣■￣■■￣￣￣■\n",
            "￣￣■■■￣■■■■￣\n",
            "■■■■■■￣￣■￣￣\n",
            "￣■￣■￣￣￣￣￣￣￣\n",
            "￣￣■■■￣￣￣￣￣■\n",
            "e\n"
          ]
        }
      ]
    },
    {
      "cell_type": "markdown",
      "source": [
        "### 右に進む処理を追加しよう"
      ],
      "metadata": {
        "id": "U5d3_8v4sqSb"
      }
    },
    {
      "cell_type": "code",
      "source": [
        "import random\n",
        "from IPython.display import clear_output\n",
        "\n",
        "def main():\n",
        "    key = \"Start\"\n",
        "    map = [[random.randint(0,100) for _ in range(30)] for _ in range(30)]\n",
        "    while key != \"e\":\n",
        "        print(\"あなたの入力は\",key,\"です\")\n",
        "\n",
        "        map = Map_Draw(map)\n",
        "\n",
        "        key = input()\n",
        "        if key == \"w\":\n",
        "            map = Up_Move(map)\n",
        "        elif key == \"s\":\n",
        "            map = Down_Move(map)\n",
        "        elif key == \"a\":\n",
        "            map = Left_Move(map)\n",
        "        else:\n",
        "            break\n",
        "        clear_output()\n",
        "\n",
        "def Up_Move(map): ## この関数は、マップ全体を下向きに移動させて、相対的にキャラクターが上に行きます。\n",
        "    map_add = [random.randint(0,100) for _ in range(30)] ## map配列の一番先頭に追加するためのリストの生成\n",
        "    map.insert(0,map_add)\n",
        "    map.pop(29) ## 先頭に配列を追加したので、最後の行を減らして、配列数をキープします。\n",
        "    return map\n",
        "\n",
        "def Down_Move(map): ## この関数は、マップ全体を上向きに移動させて、相対的にキャラクターが上に行きます。\n",
        "    map_add = [random.randint(0,100) for _ in range(30)] ## map配列の一番最後に追加するためのリストの生成\n",
        "    map.insert(29,map_add)\n",
        "    map.pop(0) ## 最後に配列を追加したので、行を減らして、配列数をキープします。\n",
        "    return map\n",
        "\n",
        "def Left_Move(map):\n",
        "    for row in map:\n",
        "        row.insert(0,random.randint(0,100))\n",
        "        row.pop(29)\n",
        "    return map\n",
        "\n",
        "def Right_Move(map):\n",
        "    for row in map:\n",
        "        row.insert(29,random.randint(0,100))\n",
        "        row.pop(0)\n",
        "    return map\n",
        "\n",
        "def Map_Draw(map): ## この関数は、30×30の配列を与えると描画します。\n",
        "    difficulty = 50\n",
        "    trim_map = []\n",
        "    for i in range(10,21):\n",
        "        map_list = []\n",
        "        for j in range(10,21):\n",
        "            map_list.append(map[i][j])\n",
        "        trim_map.append(map_list)\n",
        "    trim_map[5][5] = -1\n",
        "    for m in trim_map:\n",
        "        for i in m:\n",
        "            if i > difficulty:\n",
        "                print(\"■\",end = \"\") ## 壁の役割　しかく入力して変換\n",
        "            elif i == -1:\n",
        "                print(\"人\",end = \"\") ## 人の役割　人\n",
        "                map[15][15] = 100 ## 変更した箇所\n",
        "            else:\n",
        "                print(\"￣\",end = \"\") ## 道の役割　全角スペース\n",
        "        print(\"\")\n",
        "    return map\n",
        "\n",
        "if __name__ == \"__main__\":\n",
        "    main()"
      ],
      "metadata": {
        "id": "KrPvMpY9suUs"
      },
      "execution_count": null,
      "outputs": []
    },
    {
      "cell_type": "markdown",
      "source": [
        "### dが入力されたとき、Right_Moveが実行されるようにしよう"
      ],
      "metadata": {
        "id": "L1plTGTMs4gk"
      }
    },
    {
      "cell_type": "code",
      "source": [
        "import random\n",
        "from IPython.display import clear_output\n",
        "\n",
        "def main():\n",
        "    key = \"Start\"\n",
        "    map = [[random.randint(0,100) for _ in range(30)] for _ in range(30)]\n",
        "    while key != \"e\":\n",
        "        print(\"あなたの入力は\",key,\"です\")\n",
        "\n",
        "        map = Map_Draw(map)\n",
        "\n",
        "        key = input()\n",
        "        if key == \"w\":\n",
        "            map = Up_Move(map)\n",
        "        elif key == \"s\":\n",
        "            map = Down_Move(map)\n",
        "        elif key == \"a\":\n",
        "            map = Left_Move(map)\n",
        "        elif key == \"d\":\n",
        "            map = Right_Move(map)\n",
        "        else:\n",
        "            break\n",
        "\n",
        "        clear_output()\n",
        "\n",
        "def Up_Move(map): ## この関数は、マップ全体を下向きに移動させて、相対的にキャラクターが上に行きます。\n",
        "    map_add = [random.randint(0,100) for _ in range(30)] ## map配列の一番先頭に追加するためのリストの生成\n",
        "    map.insert(0,map_add)\n",
        "    map.pop(29) ## 先頭に配列を追加したので、最後の行を減らして、配列数をキープします。\n",
        "    return map\n",
        "\n",
        "def Down_Move(map): ## この関数は、マップ全体を上向きに移動させて、相対的にキャラクターが上に行きます。\n",
        "    map_add = [random.randint(0,100) for _ in range(30)] ## map配列の一番最後に追加するためのリストの生成\n",
        "    map.insert(29,map_add)\n",
        "    map.pop(0) ## 最後に配列を追加したので、行を減らして、配列数をキープします。\n",
        "    return map\n",
        "\n",
        "def Left_Move(map):\n",
        "    for row in map:\n",
        "        row.insert(0,random.randint(0,100))\n",
        "        row.pop(29)\n",
        "    return map\n",
        "\n",
        "def Right_Move(map):\n",
        "    for row in map:\n",
        "        row.insert(29,random.randint(0,100))\n",
        "        row.pop(0)\n",
        "    return map\n",
        "\n",
        "def Map_Draw(map): ## この関数は、30×30の配列を与えると描画します。\n",
        "    difficulty = 50\n",
        "    trim_map = []\n",
        "    for i in range(10,21):\n",
        "        map_list = []\n",
        "        for j in range(10,21):\n",
        "            map_list.append(map[i][j])\n",
        "        trim_map.append(map_list)\n",
        "    trim_map[5][5] = -1\n",
        "    for m in trim_map:\n",
        "        for i in m:\n",
        "            if i > difficulty:\n",
        "                print(\"■\",end = \"\") ## 壁の役割　しかく入力して変換\n",
        "            elif i == -1:\n",
        "                print(\"人\",end = \"\") ## 人の役割　人\n",
        "                map[15][15] = 100 ## 変更した箇所\n",
        "            else:\n",
        "                print(\"￣\",end = \"\") ## 道の役割　全角スペース\n",
        "        print(\"\")\n",
        "    return map\n",
        "\n",
        "if __name__ == \"__main__\":\n",
        "    main()"
      ],
      "metadata": {
        "colab": {
          "base_uri": "https://localhost:8080/"
        },
        "id": "lluCMR8jtBaS",
        "outputId": "69a4ab68-2e65-46c9-8994-38c114f1d5c7"
      },
      "execution_count": null,
      "outputs": [
        {
          "name": "stdout",
          "output_type": "stream",
          "text": [
            "あなたの入力は w です\n",
            "￣￣■■■￣￣■￣￣￣\n",
            "￣￣￣￣■■■￣■■■\n",
            "■■￣■￣￣￣■￣￣■\n",
            "￣￣￣￣￣￣￣■￣￣￣\n",
            "■■■￣￣￣■￣■■■\n",
            "■■■■￣人■■￣■￣\n",
            "■■■■■■￣￣■￣■\n",
            "■■￣■■■■￣￣■■\n",
            "■■■￣■■￣￣￣￣■\n",
            "■■￣■■■￣■■￣■\n",
            "■■￣￣■■￣■￣■￣\n",
            "q\n"
          ]
        }
      ]
    },
    {
      "cell_type": "markdown",
      "source": [
        "## 得点のカウント"
      ],
      "metadata": {
        "id": "i6Q4fYZftbds"
      }
    },
    {
      "cell_type": "code",
      "source": [
        "import random\n",
        "from IPython.display import clear_output\n",
        "\n",
        "def main():\n",
        "    key = \"Start\"\n",
        "    point_count = 0\n",
        "    map = [[random.randint(0,100) for _ in range(30)] for _ in range(30)]\n",
        "    while key != \"e\":\n",
        "        print(\"あなたの入力は\",key,\"です\")\n",
        "        print(\"あなたの点数は\",str(point_count),\"点です\")\n",
        "        map = Map_Draw(map)\n",
        "\n",
        "        key = input()\n",
        "        if key == \"w\":\n",
        "            map = Up_Move(map)\n",
        "        elif key == \"s\":\n",
        "            map = Down_Move(map)\n",
        "        elif key == \"a\":\n",
        "            map = Left_Move(map)\n",
        "        elif key == \"d\":\n",
        "            map = Right_Move(map)\n",
        "        else:\n",
        "            break\n",
        "\n",
        "        clear_output()\n",
        "        point_count += 1\n",
        "\n",
        "def Up_Move(map): ## この関数は、マップ全体を下向きに移動させて、相対的にキャラクターが上に行きます。\n",
        "    map_add = [random.randint(0,100) for _ in range(30)] ## map配列の一番先頭に追加するためのリストの生成\n",
        "    map.insert(0,map_add)\n",
        "    map.pop(29) ## 先頭に配列を追加したので、最後の行を減らして、配列数をキープします。\n",
        "    return map\n",
        "\n",
        "def Down_Move(map): ## この関数は、マップ全体を上向きに移動させて、相対的にキャラクターが上に行きます。\n",
        "    map_add = [random.randint(0,100) for _ in range(30)] ## map配列の一番最後に追加するためのリストの生成\n",
        "    map.insert(29,map_add)\n",
        "    map.pop(0) ## 最後に配列を追加したので、行を減らして、配列数をキープします。\n",
        "    return map\n",
        "\n",
        "def Left_Move(map):\n",
        "    for row in map:\n",
        "        row.insert(0,random.randint(0,100))\n",
        "        row.pop(29)\n",
        "    return map\n",
        "\n",
        "def Right_Move(map):\n",
        "    for row in map:\n",
        "        row.insert(29,random.randint(0,100))\n",
        "        row.pop(0)\n",
        "    return map\n",
        "\n",
        "def Map_Draw(map): ## この関数は、30×30の配列を与えると描画します。\n",
        "    difficulty = 50\n",
        "    trim_map = []\n",
        "    for i in range(10,21):\n",
        "        map_list = []\n",
        "        for j in range(10,21):\n",
        "            map_list.append(map[i][j])\n",
        "        trim_map.append(map_list)\n",
        "    trim_map[5][5] = -1\n",
        "    for m in trim_map:\n",
        "        for i in m:\n",
        "            if i > difficulty:\n",
        "                print(\"■\",end = \"\") ## 壁の役割　しかく入力して変換\n",
        "            elif i == -1:\n",
        "                print(\"人\",end = \"\") ## 人の役割　人\n",
        "                map[15][15] = 100 ## 変更した箇所\n",
        "            else:\n",
        "                print(\"￣\",end = \"\") ## 道の役割　全角スペース\n",
        "        print(\"\")\n",
        "    return map\n",
        "\n",
        "if __name__ == \"__main__\":\n",
        "    main()"
      ],
      "metadata": {
        "colab": {
          "base_uri": "https://localhost:8080/"
        },
        "id": "tUf9l988top0",
        "outputId": "7229f101-276b-41ce-929b-3d362579a7f4"
      },
      "execution_count": null,
      "outputs": [
        {
          "name": "stdout",
          "output_type": "stream",
          "text": [
            "あなたの入力は w です\n",
            "あなたの点数は 12 点です\n",
            "■￣￣■■■■￣￣￣■\n",
            "■￣￣■■￣■■￣■￣\n",
            "■■■■■■￣■￣￣￣\n",
            "■￣￣￣■■￣■￣■￣\n",
            "■￣￣■￣■■￣￣■■\n",
            "￣■■■■人￣￣■■■\n",
            "￣￣￣￣￣■■■■■■\n",
            "■￣■￣■■■■■■■\n",
            "￣■￣■￣■■■■￣￣\n",
            "￣■■■■￣￣￣■■■\n",
            "￣￣￣■￣■■■￣■￣\n",
            "e\n"
          ]
        }
      ]
    },
    {
      "cell_type": "markdown",
      "source": [
        "## 終了処理を追加しよう\n",
        "\n",
        "|map||左|中|右|\n",
        "| ----- ||----|----|----|\n",
        "|上||[14][14]|[14][15]|[14][16]|\n",
        "|中||[15][14]|[15][15]|[15][16]|\n",
        "|下||[16][14]|[16][15]|[16][16]|\n"
      ],
      "metadata": {
        "id": "e_Pz2d8nuJpA"
      }
    },
    {
      "cell_type": "code",
      "source": [
        "import random\n",
        "from IPython.display import clear_output\n",
        "\n",
        "difficulty = 50\n",
        "\n",
        "def main():\n",
        "    key = \"Start\"\n",
        "    point_count = 0\n",
        "    map = [[random.randint(0,100) for _ in range(30)] for _ in range(30)]\n",
        "    while key != \"e\":\n",
        "        print(\"あなたの入力は\",key,\"です\")\n",
        "        print(\"あなたの点数は\",str(point_count),\"点です\")\n",
        "        map = Map_Draw(map)\n",
        "\n",
        "        key = input()\n",
        "        if key == \"w\":\n",
        "            if map[14][15] > difficulty:\n",
        "                break\n",
        "            map = Up_Move(map)\n",
        "        elif key == \"s\":\n",
        "            if map[16][15] > difficulty:\n",
        "                break\n",
        "            map = Down_Move(map)\n",
        "        elif key == \"a\":\n",
        "            if map[15][14] > difficulty:\n",
        "                break\n",
        "            map = Left_Move(map)\n",
        "        elif key == \"d\":\n",
        "            if map[15][16] > difficulty:\n",
        "                break\n",
        "            map = Right_Move(map)\n",
        "        else:\n",
        "            break\n",
        "\n",
        "        clear_output()\n",
        "        point_count += 1\n",
        "    clear_output()\n",
        "    print(\"あなたの最終点数は\",str(point_count),\"点です\")\n",
        "\n",
        "def Up_Move(map): ## この関数は、マップ全体を下向きに移動させて、相対的にキャラクターが上に行きます。\n",
        "    map_add = [random.randint(0,100) for _ in range(30)] ## map配列の一番先頭に追加するためのリストの生成\n",
        "    map.insert(0,map_add)\n",
        "    map.pop(29) ## 先頭に配列を追加したので、最後の行を減らして、配列数をキープします。\n",
        "    return map\n",
        "\n",
        "def Down_Move(map): ## この関数は、マップ全体を上向きに移動させて、相対的にキャラクターが上に行きます。\n",
        "    map_add = [random.randint(0,100) for _ in range(30)] ## map配列の一番最後に追加するためのリストの生成\n",
        "    map.insert(29,map_add)\n",
        "    map.pop(0) ## 最後に配列を追加したので、行を減らして、配列数をキープします。\n",
        "    return map\n",
        "\n",
        "def Left_Move(map):\n",
        "    for row in map:\n",
        "        row.insert(0,random.randint(0,100))\n",
        "        row.pop(29)\n",
        "    return map\n",
        "\n",
        "def Right_Move(map):\n",
        "    for row in map:\n",
        "        row.insert(29,random.randint(0,100))\n",
        "        row.pop(0)\n",
        "    return map\n",
        "\n",
        "def Map_Draw(map): ## この関数は、30×30の配列を与えると描画します。\n",
        "\n",
        "    trim_map = []\n",
        "    for i in range(10,21):\n",
        "        map_list = []\n",
        "        for j in range(10,21):\n",
        "            map_list.append(map[i][j])\n",
        "        trim_map.append(map_list)\n",
        "    trim_map[5][5] = -1\n",
        "    for m in trim_map:\n",
        "        for i in m:\n",
        "            if i > difficulty:\n",
        "                print(\"■\",end = \"\") ## 壁の役割　しかく入力して変換\n",
        "            elif i == -1:\n",
        "                print(\"人\",end = \"\") ## 人の役割　人\n",
        "                map[15][15] = 100 ## 変更した箇所\n",
        "            else:\n",
        "                print(\"￣\",end = \"\") ## 道の役割　全角スペース\n",
        "        print(\"\")\n",
        "    return map\n",
        "\n",
        "if __name__ == \"__main__\":\n",
        "    main()"
      ],
      "metadata": {
        "colab": {
          "base_uri": "https://localhost:8080/"
        },
        "id": "uqUo3v54uP6_",
        "outputId": "fc1e32dc-af47-4096-e83e-bbcfc8ff5365"
      },
      "execution_count": null,
      "outputs": [
        {
          "output_type": "stream",
          "name": "stdout",
          "text": [
            "あなたの最終点数は 4 点です\n"
          ]
        }
      ]
    },
    {
      "cell_type": "markdown",
      "source": [
        "# 今日やること\n",
        "\n",
        "- 課題の確認\n",
        "    - C-課題(以下どちらか)\n",
        "        - paizaラーニング講座「Dランク獲得ストーリー」\n",
        "        - スキルチェックＣランク問題 ５問\n",
        "    - 欠点者課題\n",
        "        Cランクレベルアップメニュー\n",
        "\n",
        "-"
      ],
      "metadata": {
        "id": "8ubxc1wCqgeH"
      }
    },
    {
      "cell_type": "markdown",
      "source": [
        "# ポケモンを作ろう\n",
        "\n",
        "ポケットモンスター、縮めてポケモン。\n",
        "\n",
        "この星の、不思議な不思議な生き物、海に森に町に、その種類は、100、200、300……いや、それ以上かもしれない。\n",
        "\n",
        "そしてこの少年、そんなポケモンが大好きな、マサラタウンのサトシ。\n",
        "\n",
        "オーキド博士から最初のポケモン、ピカチュウをもらい、故郷マサラタウンを後にして、バトルアンドゲット、ポケモントレーナーとしての、修行の旅に出たのだった。\n",
        "\n",
        "幾多の試練を乗り越えて、ポケモンリーグのチャンピオンになる為に、最高のポケモンマスターになる為に、出会いと別れを繰り返し、サトシと、その仲間達の旅は今日も続く。続くったら続く。"
      ],
      "metadata": {
        "id": "Mk2X3wYS0ksB"
      }
    },
    {
      "cell_type": "markdown",
      "source": [
        "## 見える部分を考えよう\n",
        "\n",
        "* 戦闘画面で見える部分って何？\n",
        "\n",
        "<img src=\"https://raimura.com/wp-content/uploads/2023/01/79e15324da2866c64d613f626ad0dd61.png\" width=\"500\">\n",
        "\n",
        "\n",
        "1. 名前・レベル・ＨＰバー・ＨＰ\n",
        "\n",
        "2. 選択肢\n",
        "\n",
        "3. キャラクター画像\n",
        "\n",
        "おおよそこの３つ？？\n",
        "\n",
        "\n"
      ],
      "metadata": {
        "id": "TyBNSIqb1Cvt"
      }
    },
    {
      "cell_type": "markdown",
      "source": [
        "## 名前・レベル・ＨＰバー・ＨＰ\n",
        "\n",
        "名前・レベルを出力したい。\n",
        "\n",
        "出力関数を作っていい感じに表示するようにしよう。"
      ],
      "metadata": {
        "id": "HZEUMQJF2BYu"
      }
    },
    {
      "cell_type": "code",
      "source": [
        "def status(name,lebel):\n",
        "    print(\"  \",name,\":L\",lebel)\n",
        "\n",
        "status(\"ピカチュウ\",45)"
      ],
      "metadata": {
        "colab": {
          "base_uri": "https://localhost:8080/"
        },
        "id": "XTvph1I32Y0I",
        "outputId": "290db1a6-3e8d-4872-ac9d-30b5c2c6b975"
      },
      "execution_count": null,
      "outputs": [
        {
          "output_type": "stream",
          "name": "stdout",
          "text": [
            "   ピカチュウ :L 45\n"
          ]
        }
      ]
    },
    {
      "cell_type": "markdown",
      "source": [
        "とりあえずは、HPバーっぽいものも作ってみましょう。"
      ],
      "metadata": {
        "id": "Rdf6Rul7yYky"
      }
    },
    {
      "cell_type": "code",
      "source": [
        "def hp_ber(max_hp,current_hp):\n",
        "    hp_percentage = int(current_hp/max_hp * 10)\n",
        "    print(\"HP:|\",end=\"\")\n",
        "    for i in range(10):\n",
        "        if i < hp_percentage:\n",
        "            print(\"*\",end=\"\")\n",
        "        else:\n",
        "            print(\"　\",end=\"\")\n",
        "    print(\"|\")\n",
        "\n",
        "hp_ber(200,0)"
      ],
      "metadata": {
        "colab": {
          "base_uri": "https://localhost:8080/"
        },
        "id": "tiqDXSig3z58",
        "outputId": "a7e2dba9-67f1-4108-b803-6d75f4a503c6"
      },
      "execution_count": null,
      "outputs": [
        {
          "output_type": "stream",
          "name": "stdout",
          "text": [
            "HP:|　　　　　　　　　　|\n"
          ]
        }
      ]
    },
    {
      "cell_type": "markdown",
      "source": [
        "上の２つの関数を組み合わせるとこのようなことができます。"
      ],
      "metadata": {
        "id": "ARXXfyPn8JrN"
      }
    },
    {
      "cell_type": "code",
      "source": [
        "status(\"ジュゴン\",54)\n",
        "hp_ber(200,200)"
      ],
      "metadata": {
        "colab": {
          "base_uri": "https://localhost:8080/"
        },
        "id": "pCJErUMS8HNa",
        "outputId": "c1c44506-56a2-410f-dcc1-ac25affd058b"
      },
      "execution_count": null,
      "outputs": [
        {
          "output_type": "stream",
          "name": "stdout",
          "text": [
            "   ジュゴン :L 54\n",
            "HP:|**********|\n"
          ]
        }
      ]
    },
    {
      "cell_type": "markdown",
      "source": [
        "### Tips 命名規則\n",
        "\n",
        "プログラミングの記述において使う言語によって、変数や関数の名前の付け方には規則がある。\n",
        "\n",
        "[Python命名規則一覧](https://qiita.com/naomi7325/items/4eb1d2a40277361e898b)\n",
        "\n",
        "Pythonでは、単語と単語の間をアンダースコア( _ )で繋ぐと言うルールが存在している。\n",
        "\n",
        "そのため、my_favorite_instance などのように記述しなければならない。\n",
        "\n",
        "このような記述方式を**snake case**(スネークケース)と言う。\n",
        "\n",
        "<img src=\"https://p.e-words.jp/img/Snake-Case.png\" width=\"250\">\n",
        "\n",
        "\n",
        "えっ？この前まで、enemyNumberArray みたいに記述してましたよね？\n",
        "\n",
        "と言う察しのいい人がいたら名乗り出てください。\n",
        "\n",
        "完全に先生のミスです。\n",
        "\n",
        "これはテキスト制作時、Swift と言う言語を使いまくっていたので、ミスっていただけです。\n",
        "\n",
        "ちなみに、このように単語の先頭文字を大文字にする変数の記述方法は、**camel case**(キャメルケース)と言います。\n",
        "\n",
        "<img src=\"https://p.e-words.jp/img/Camel-Case.png\" width=\"250\">\n",
        "\n",
        "えっ、enemyNumberArray 先頭文字大文字じゃない。と思ったあなたは鋭い。\n",
        "\n",
        "これは、**Lower Camel Case**と呼ばれていて、先頭の文字は小文字、それ以外の単語の先頭文字は大文字になっています。\n",
        "\n",
        "ちなみに、単にキャメルケースと言われてもピンとこないので、ローワーキャメルケースと対比して、**Upper Camel Case**という時もあります。\n",
        "\n",
        "\n",
        "ぺちゃくちゃお話ししましたが、テストでは出ません。\n",
        "\n",
        "理由は、どっちにしろ実行できる場合が多いので、気にしなくて良いからです。\n",
        "\n",
        "職場で、命名規則を適当にしてたら、同僚に嫌われるくらいです。\n",
        "\n",
        "名前つけるのには流派があるので、注意。"
      ],
      "metadata": {
        "id": "U1ffkk6ijszU"
      }
    },
    {
      "cell_type": "markdown",
      "source": [
        "# 要素知識について\n",
        "\n",
        "* 入出力(input(),print())\n",
        "* リストの内包表記\n",
        "* for,whileループ　break\n",
        "* 関数\n",
        "* if文\n",
        "* リスト(多重配列も)\n",
        "* リストに対する処理（append,insert,popなども覚えておいて）\n",
        "* random(shuffleメソッドも使ってるね)\n",
        "* try except（おそらく、あまり強調しては出さない）\n"
      ],
      "metadata": {
        "id": "KDL3qKGwjoN-"
      }
    },
    {
      "cell_type": "markdown",
      "source": [
        "## 入出力\n",
        "\n",
        "* input()\n",
        "* print()"
      ],
      "metadata": {
        "id": "er_yCU7pjt7M"
      }
    },
    {
      "cell_type": "markdown",
      "source": [
        "### input()\n",
        "\n",
        "input()は入力される文字列を変数などに代入する際に用いる。\n"
      ],
      "metadata": {
        "id": "CUCq_tSso6LT"
      }
    },
    {
      "cell_type": "code",
      "source": [
        "a = input()\n",
        "print(a)"
      ],
      "metadata": {
        "colab": {
          "base_uri": "https://localhost:8080/"
        },
        "id": "I7X-bnXCol-L",
        "outputId": "fd16f7fd-30ed-4184-86db-702ebaa1bdc1"
      },
      "execution_count": null,
      "outputs": [
        {
          "output_type": "stream",
          "name": "stdout",
          "text": [
            "adfsaf\n",
            "adfsaf\n"
          ]
        }
      ]
    },
    {
      "cell_type": "markdown",
      "source": [
        "string型であらわされるので、数値を入力すると・・・"
      ],
      "metadata": {
        "id": "cnDUgGTMpT4Q"
      }
    },
    {
      "cell_type": "code",
      "source": [
        "a = input(\"数値を入力してください\")\n",
        "print(a)\n",
        "print(\"数値であれば、計算できる？\")\n",
        "\n",
        "print(a*5)"
      ],
      "metadata": {
        "colab": {
          "base_uri": "https://localhost:8080/"
        },
        "id": "Vks6ym0TpVhw",
        "outputId": "e4c97d02-68df-4962-d61c-49cfa33fd7c3"
      },
      "execution_count": null,
      "outputs": [
        {
          "output_type": "stream",
          "name": "stdout",
          "text": [
            "数値を入力してください5\n",
            "5\n",
            "数値であれば、計算できる？\n",
            "555555555555555\n"
          ]
        }
      ]
    },
    {
      "cell_type": "markdown",
      "source": [
        "int()などで、数値にする必要がある。"
      ],
      "metadata": {
        "id": "gLoveIwVpuXx"
      }
    },
    {
      "cell_type": "code",
      "source": [
        "a = int(input(\"数値を入力してください\"))\n",
        "print(a)\n",
        "print(\"数値であれば、計算できる？\")\n",
        "\n",
        "print(a*5)"
      ],
      "metadata": {
        "colab": {
          "base_uri": "https://localhost:8080/"
        },
        "id": "ZkPGq-VHp1QT",
        "outputId": "a9083e41-0e1a-45e0-e520-268db4a2e6e2"
      },
      "execution_count": null,
      "outputs": [
        {
          "output_type": "stream",
          "name": "stdout",
          "text": [
            "数値を入力してください12\n",
            "12\n",
            "数値であれば、計算できる？\n",
            "60\n"
          ]
        }
      ]
    },
    {
      "cell_type": "markdown",
      "source": [
        "### print()\n",
        "\n",
        "print()では文字や数字を出力できる。"
      ],
      "metadata": {
        "id": "dGXsA7QtqD4g"
      }
    },
    {
      "cell_type": "code",
      "source": [
        "text = \"Hello\"\n",
        "num = 15\n",
        "\n",
        "print(text)\n",
        "print(num)"
      ],
      "metadata": {
        "colab": {
          "base_uri": "https://localhost:8080/"
        },
        "id": "bW_FF6icqZDI",
        "outputId": "4499d004-b124-4479-8061-290eea90a5bf"
      },
      "execution_count": null,
      "outputs": [
        {
          "output_type": "stream",
          "name": "stdout",
          "text": [
            "Hello\n",
            "15\n"
          ]
        }
      ]
    },
    {
      "cell_type": "markdown",
      "source": [
        "もちろん、文字列を結合することや、計算などもできる"
      ],
      "metadata": {
        "id": "3pinXtCRqwy3"
      }
    },
    {
      "cell_type": "code",
      "source": [
        "print(\"abc\" + \"def\")\n",
        "print(123*3)"
      ],
      "metadata": {
        "colab": {
          "base_uri": "https://localhost:8080/"
        },
        "id": "OiZba9ghsJ39",
        "outputId": "44bafbbb-789d-424a-ca91-7bf786b2f902"
      },
      "execution_count": null,
      "outputs": [
        {
          "output_type": "stream",
          "name": "stdout",
          "text": [
            "abcdef\n",
            "369\n"
          ]
        }
      ]
    },
    {
      "cell_type": "markdown",
      "source": [
        "しかし、文字列と数値を結合できない"
      ],
      "metadata": {
        "id": "pMazdREpqiqr"
      }
    },
    {
      "cell_type": "code",
      "source": [
        "text = \"Hello\"\n",
        "num = 15\n",
        "\n",
        "print(text,num)\n",
        "\n",
        "print(text + num)"
      ],
      "metadata": {
        "colab": {
          "base_uri": "https://localhost:8080/",
          "height": 232
        },
        "id": "d96BGatWqtC_",
        "outputId": "735bef42-1c72-43e3-8581-7cecf6663738"
      },
      "execution_count": null,
      "outputs": [
        {
          "output_type": "stream",
          "name": "stdout",
          "text": [
            "Hello 15\n"
          ]
        },
        {
          "output_type": "error",
          "ename": "TypeError",
          "evalue": "ignored",
          "traceback": [
            "\u001b[0;31m---------------------------------------------------------------------------\u001b[0m",
            "\u001b[0;31mTypeError\u001b[0m                                 Traceback (most recent call last)",
            "\u001b[0;32m<ipython-input-6-06077510e180>\u001b[0m in \u001b[0;36m<cell line: 6>\u001b[0;34m()\u001b[0m\n\u001b[1;32m      4\u001b[0m \u001b[0mprint\u001b[0m\u001b[0;34m(\u001b[0m\u001b[0mtext\u001b[0m\u001b[0;34m,\u001b[0m\u001b[0mnum\u001b[0m\u001b[0;34m)\u001b[0m\u001b[0;34m\u001b[0m\u001b[0;34m\u001b[0m\u001b[0m\n\u001b[1;32m      5\u001b[0m \u001b[0;34m\u001b[0m\u001b[0m\n\u001b[0;32m----> 6\u001b[0;31m \u001b[0mprint\u001b[0m\u001b[0;34m(\u001b[0m\u001b[0mtext\u001b[0m \u001b[0;34m+\u001b[0m \u001b[0mnum\u001b[0m\u001b[0;34m)\u001b[0m\u001b[0;34m\u001b[0m\u001b[0;34m\u001b[0m\u001b[0m\n\u001b[0m",
            "\u001b[0;31mTypeError\u001b[0m: can only concatenate str (not \"int\") to str"
          ]
        }
      ]
    },
    {
      "cell_type": "code",
      "source": [
        "text = \"Hello\"\n",
        "num = 15\n",
        "print(text + str(num))"
      ],
      "metadata": {
        "colab": {
          "base_uri": "https://localhost:8080/"
        },
        "id": "Z-djP600sYft",
        "outputId": "82b7a64d-9bc4-4d93-87b9-49a4e8d80e9e"
      },
      "execution_count": null,
      "outputs": [
        {
          "output_type": "stream",
          "name": "stdout",
          "text": [
            "Hello15\n"
          ]
        }
      ]
    },
    {
      "cell_type": "markdown",
      "source": [
        "print()では、文末で勝手に改行される"
      ],
      "metadata": {
        "id": "LXeSPyQ_sq-f"
      }
    },
    {
      "cell_type": "code",
      "source": [
        "print(1)\n",
        "print(2)\n",
        "\n",
        "print(1)\n",
        "print(2)"
      ],
      "metadata": {
        "colab": {
          "base_uri": "https://localhost:8080/"
        },
        "id": "sJGMJ6hYsqXk",
        "outputId": "07b84f53-ef51-4ee6-b3df-6944d6144cd5"
      },
      "execution_count": null,
      "outputs": [
        {
          "output_type": "stream",
          "name": "stdout",
          "text": [
            "1\n",
            "2\n",
            "1\n",
            "2\n"
          ]
        }
      ]
    },
    {
      "cell_type": "markdown",
      "source": [
        "改行を回避する方法がある。"
      ],
      "metadata": {
        "id": "_NrRb56es7ld"
      }
    },
    {
      "cell_type": "code",
      "source": [
        "print(1,end=\"\")\n",
        "print(2,end=\"\")\n",
        "\n",
        "print(1,end=\"\")\n",
        "print(2,end=\"\")"
      ],
      "metadata": {
        "colab": {
          "base_uri": "https://localhost:8080/"
        },
        "id": "k_h9bWdOtAw8",
        "outputId": "e78432a3-20f1-454f-d270-1a230b9eb319"
      },
      "execution_count": null,
      "outputs": [
        {
          "output_type": "stream",
          "name": "stdout",
          "text": [
            "1212"
          ]
        }
      ]
    },
    {
      "cell_type": "markdown",
      "source": [
        "改行のみを挿入する場合は、print()と入力すればよい"
      ],
      "metadata": {
        "id": "XTA-gKuwtJu8"
      }
    },
    {
      "cell_type": "code",
      "source": [
        "print(1,end=\"\")\n",
        "print(2,end=\"\")\n",
        "print()\n",
        "print(1,end=\"\")\n",
        "print(2,end=\"\")"
      ],
      "metadata": {
        "colab": {
          "base_uri": "https://localhost:8080/"
        },
        "id": "kY0qfC9RtNjA",
        "outputId": "6aea60fa-9ff1-47c1-f00c-cbcafa443ec2"
      },
      "execution_count": null,
      "outputs": [
        {
          "output_type": "stream",
          "name": "stdout",
          "text": [
            "12\n",
            "12"
          ]
        }
      ]
    },
    {
      "cell_type": "markdown",
      "source": [
        "## リストの内包表記"
      ],
      "metadata": {
        "id": "zKzY-Zv_ugGT"
      }
    },
    {
      "cell_type": "code",
      "source": [],
      "metadata": {
        "id": "YLWhakn0ufdj"
      },
      "execution_count": null,
      "outputs": []
    },
    {
      "cell_type": "code",
      "source": [],
      "metadata": {
        "id": "QF69kHeuucTj"
      },
      "execution_count": null,
      "outputs": []
    },
    {
      "cell_type": "markdown",
      "source": [
        "ババ抜き"
      ],
      "metadata": {
        "id": "gWHMMI31NQ1N"
      }
    },
    {
      "cell_type": "markdown",
      "source": [],
      "metadata": {
        "id": "VjxWiBUTpSOK"
      }
    },
    {
      "cell_type": "code",
      "source": [
        "import random\n",
        "\n",
        "enemyhands = [i for i in range(1,14)]\n",
        "playerhands = [i for i in range(1,13)]\n",
        "\n",
        "while True:\n",
        "    draw = int(input())\n",
        "    if draw < (enemyhands.len()+1) and draw > 0:\n",
        "        break\n",
        "draw_card = enemyhands.pop(draw)\n",
        "\n",
        "for card in ramge(playerhands):\n"
      ],
      "metadata": {
        "id": "b77f1qLINQYF"
      },
      "execution_count": null,
      "outputs": []
    },
    {
      "cell_type": "code",
      "source": [],
      "metadata": {
        "id": "sufqucmENSTN"
      },
      "execution_count": null,
      "outputs": []
    },
    {
      "cell_type": "markdown",
      "metadata": {
        "id": "fKMgZTaJueL4"
      },
      "source": [
        "\n",
        "# オブジェクト指向について学ぼう\n",
        "\n",
        ">[参考 オブジェクト指向について](https://aiacademy.jp/media/?p=131)\n",
        ">\n",
        ">[参考 任天堂Wiki（クリボー画像）](https://w.atwiki.jp/nitendo/pages/952.html)\n",
        "\n",
        "オブジェクトという概念について、学習します。\n",
        "\n",
        "### オブジェクトとは？\n",
        "\n",
        "プログラムにおいて、様々な要素をまとめた「もの」\n",
        "\n",
        "例えば\n",
        "\n",
        "<img src=\"https://img.atwiki.jp/nitendo/attach/952/111/1.jpg\" width=\"200\">\n",
        "\n",
        "はご存じですか？\n",
        "\n",
        "スーパーマリオブラザーズというゲームに出てくるクリボーという敵キャラクターです。\n",
        "\n",
        "この生物の説明をしてみる。\n",
        "\n",
        "名前：　　　クリボー\n",
        "\n",
        "移動方法：　歩く\n",
        "\n",
        "倒し方：　　踏みつける\n",
        "\n",
        "\n",
        "プログラムに記述してみる。\n",
        "\n"
      ]
    },
    {
      "cell_type": "code",
      "execution_count": null,
      "metadata": {
        "id": "RgmZ9cXQqtRn"
      },
      "outputs": [],
      "source": [
        "def main():\n",
        "    name = \"クリボー\"\n",
        "    move = \"歩く\"\n",
        "    dead = \"踏みつける\"\n",
        "\n",
        "    print(\"名前：\", name,\"　移動方法：\",move,\"　倒し方：\",dead)\n",
        "\n",
        "if __name__==\"__main__\":\n",
        "    main()"
      ]
    },
    {
      "cell_type": "markdown",
      "metadata": {
        "id": "eAzTJGASrtSO"
      },
      "source": [
        "では、この生物をご存じですか？\n",
        "\n",
        "<img src=\"https://img.atwiki.jp/nitendo/attach/2478/609/1.png\" width=\"200\">\n",
        "\n",
        "この生物は、よく似た生物ですが、移動方法が異なっています。\n",
        "\n",
        "言葉で説明すると\n",
        "\n",
        "名前：　　　パタクリボー\n",
        "\n",
        "移動方法：　ジャンプ\n",
        "\n",
        "倒し方：　　踏みつける\n",
        "\n",
        "\n",
        "では、この生物のプログラムも併せて記述してみましょう。"
      ]
    },
    {
      "cell_type": "code",
      "execution_count": null,
      "metadata": {
        "id": "oDIS1nwTuGyB"
      },
      "outputs": [],
      "source": [
        "def main():\n",
        "    name1 = \"クリボー\"\n",
        "    move1 = \"歩く\"\n",
        "    dead = \"踏みつける\"\n",
        "\n",
        "    name2 = \"パタクリボー\"\n",
        "    move2 = \"ジャンプ\"\n",
        "\n",
        "    print(\"名前：\", name1,\"　移動方法：\",move1,\"　倒し方：\",dead)\n",
        "    print(\"名前：\", name2,\"　移動方法：\",move2,\"　倒し方：\",dead)\n",
        "\n",
        "if __name__==\"__main__\":\n",
        "    main()"
      ]
    },
    {
      "cell_type": "markdown",
      "metadata": {
        "id": "L7vbCAV-u-0U"
      },
      "source": [
        "では、さらに以下の生物を知っていますか？\n",
        "\n",
        "<img src=\"https://img.atwiki.jp/nitendo/attach/2092/908/1.png\" width=\"200\">\n",
        "\n",
        "\n",
        "<img src=\"https://img.atwiki.jp/nitendo/attach/3211/585/1.png\" width=\"200\">\n",
        "\n",
        "<img src=\"https://img.atwiki.jp/nitendo/attach/3668/962/1.png\" width=\"200\">\n",
        "\n",
        "\n",
        "はい、皆さんも簡単に分かりますよね？\n",
        "\n",
        "トゲクリボーさんとほねクリボーさんとやみトゲクリボーですね。\n",
        "\n",
        "簡単すぎましたか？\n",
        "\n",
        "では、これらの生物の特徴をまとめましょう。\n",
        "\n",
        "___\n",
        "\n",
        "名前：　　　トゲクリボー\n",
        "\n",
        "移動方法：　歩く\n",
        "\n",
        "倒し方：　　ファイアボールを当てる\n",
        "\n",
        "___\n",
        "\n",
        "名前：　　　ほねクリボー\n",
        "\n",
        "移動方法：　歩く\n",
        "\n",
        "倒し方：　　踏みつける\n",
        "\n",
        "___\n",
        "\n",
        "名前：　　　やみトゲクリボー\n",
        "\n",
        "移動方法：　歩く\n",
        "\n",
        "倒し方：　　ファイアボールを当てる\n",
        "\n",
        "___\n",
        "\n",
        "\n",
        "では、プログラムにしてみましょう。"
      ]
    },
    {
      "cell_type": "code",
      "execution_count": null,
      "metadata": {
        "id": "V32-VUDmzIzb"
      },
      "outputs": [],
      "source": [
        "def main():\n",
        "    name1 = \"クリボー\"\n",
        "    move1 = \"歩く\"\n",
        "    dead1 = \"踏みつける\"\n",
        "\n",
        "    name2 = \"パタクリボー\"\n",
        "    move2 = \"ジャンプ\"\n",
        "\n",
        "    name3 = \"トゲクリボー\"\n",
        "    dead2 = \"ファイアボールを当てる\"\n",
        "\n",
        "    name4 = \"ほねクリボー\"\n",
        "\n",
        "    name5 = \"やみトゲクリボー\"\n",
        "\n",
        "\n",
        "    print(\"名前：\", name1,\"　移動方法：\",move1,\"　倒し方：\",dead1)\n",
        "    print(\"名前：\", name2,\"　移動方法：\",move2,\"　倒し方：\",dead1)\n",
        "    print(\"名前：\", name3,\"　移動方法：\",move1,\"　倒し方：\",dead2)\n",
        "    print(\"名前：\", name4,\"　移動方法：\",move1,\"　倒し方：\",dead1)\n",
        "    print(\"名前：\", name5,\"　移動方法：\",move1,\"　倒し方：\",dead2)\n",
        "\n",
        "\n",
        "if __name__==\"__main__\":\n",
        "    main()"
      ]
    },
    {
      "cell_type": "markdown",
      "metadata": {
        "id": "ojxsJPtRzIFf"
      },
      "source": [
        "正直、名前と移動方法と倒し方について記述するだけであれば、問題がありませんが、もう少したくさんの情報を追加するといよいよわからなくなります。\n",
        "\n",
        "`speed ,  health` などを追加していきます。"
      ]
    },
    {
      "cell_type": "code",
      "execution_count": null,
      "metadata": {
        "id": "hphKcZxSf_ko"
      },
      "outputs": [],
      "source": [
        "def main():\n",
        "    name1 = \"クリボー\"\n",
        "    move1 = \"歩く\"\n",
        "    dead1 = \"踏みつける\"\n",
        "    speed1 = 10\n",
        "    health1 = 1\n",
        "\n",
        "    name2 = \"パタクリボー\"\n",
        "    move2 = \"ジャンプ\"\n",
        "    speed2 = 20\n",
        "    health2 = 2\n",
        "\n",
        "    name3 = \"トゲクリボー\"\n",
        "    dead2 = \"ファイアボールを当てる\"\n",
        "\n",
        "    name4 = \"ほねクリボー\"\n",
        "    speed3 = 15\n",
        "    health3 = 3\n",
        "\n",
        "    name5 = \"やみトゲクリボー\"\n",
        "    speed4 = 20\n",
        "    health4 = 4\n",
        "\n",
        "    print(\"名前：\", name1,\"　移動方法：\",move1,\"　倒し方：\",dead1,\"　スピード：\", speed1,\"　体力：\",health1)\n",
        "    print(\"名前：\", name2,\"　移動方法：\",move2,\"　倒し方：\",dead1,\"　スピード：\", speed2,\"　体力：\",health2)\n",
        "    print(\"名前：\", name3,\"　移動方法：\",move1,\"　倒し方：\",dead2,\"　スピード：\", speed1,\"　体力：\",health1)\n",
        "    print(\"名前：\", name4,\"　移動方法：\",move1,\"　倒し方：\",dead1,\"　スピード：\", speed3,\"　体力：\",health3)\n",
        "    print(\"名前：\", name5,\"　移動方法：\",move1,\"　倒し方：\",dead2,\"　スピード：\", speed4,\"　体力：\",health4)\n",
        "\n",
        "\n",
        "if __name__==\"__main__\":\n",
        "    main()"
      ]
    },
    {
      "cell_type": "markdown",
      "metadata": {
        "id": "B1U4iAD-g-Pf"
      },
      "source": [
        "では、さらに倒し方を追加して、動きに関しての画像を追加して、、、\n",
        "\n",
        "というようなことを行っていると日が暮れてしまいます。\n",
        "\n",
        "それに、クリボーの種類は、５種類ではありません。\n",
        "\n",
        "少し調べただけで、３０種類近くいます。\n",
        "\n",
        "ここで質問ですが、このやり方で、ミスなく３０匹のデータを作れそうですか？\n",
        "\n",
        "私なら、無理です。\n",
        "\n",
        "そこで、便利なものを作っていきます。\n",
        "\n",
        "それが、クラスです。"
      ]
    },
    {
      "cell_type": "markdown",
      "metadata": {
        "id": "uzLmCV-Lho1d"
      },
      "source": [
        "___\n",
        "\n",
        "## **Class(クラス)**とは？\n",
        "\n",
        "<br>\n",
        "\n",
        "**オブジェクトの設計図**\n",
        "\n",
        "<br>\n",
        "\n",
        "という表現をよくされています。\n",
        "\n",
        "設計図とはどういう意味でしょう？\n",
        "\n",
        "<br>\n",
        "\n",
        "ねじや板をつなげて椅子や棚を作るように\n",
        "なにかを作るとき、それぞれのパーツをオブジェクトと考え、\n",
        "\n",
        "クラスという設計図で組み立てていくという考え方です。\n",
        "\n",
        "<br>\n",
        "\n",
        "意味が分からない？\n",
        "\n",
        "<br>\n",
        "\n",
        "問題ありません\n",
        "\n",
        "<br>\n",
        "\n",
        "例えば、クリボークラスを作ってみます。\n",
        "\n",
        "ちなみにクリボーの英語名は「Goomba」というそうです。\n"
      ]
    },
    {
      "cell_type": "code",
      "execution_count": null,
      "metadata": {
        "id": "QD2T3eJmeMxB",
        "colab": {
          "base_uri": "https://localhost:8080/"
        },
        "outputId": "79ab690f-656d-4df0-e83c-089106cb920f"
      },
      "outputs": [
        {
          "output_type": "stream",
          "name": "stdout",
          "text": [
            "名前：クリボー\n",
            "移動方法：歩く\n",
            "スピード：10\n",
            "倒し方：踏みつける\n",
            "体力：1\n",
            "<__main__.Goomba object at 0x7e9d1153ed40>\n"
          ]
        }
      ],
      "source": [
        "class Goomba():\n",
        "    def __init__(self):\n",
        "        self._name = \"クリボー\"\n",
        "        self._move = \"歩く\"\n",
        "        self._dead = \"踏みつける\"\n",
        "        self._speed = 10\n",
        "        self._health = 1\n",
        "\n",
        "    def getName(self):\n",
        "        return \"名前：{}\".format(self._name)\n",
        "\n",
        "    def getMove(self):\n",
        "        return \"移動方法：{}\".format(self._move)\n",
        "\n",
        "    def getSpeed(self):\n",
        "        return \"スピード：{}\".format(self._speed)\n",
        "\n",
        "    def getDead(self):\n",
        "        return \"倒し方：{}\".format(self._dead)\n",
        "\n",
        "    def getHealth(self):\n",
        "        return \"体力：{}\".format(self._health)\n",
        "\n",
        "def main():\n",
        "    print(Goomba().getName())\n",
        "    print(Goomba().getMove())\n",
        "    print(Goomba().getSpeed())\n",
        "    print(Goomba().getDead())\n",
        "    print(Goomba().getHealth())\n",
        "    print(Goomba())\n",
        "\n",
        "if __name__==\"__main__\":\n",
        "    main()"
      ]
    },
    {
      "cell_type": "markdown",
      "metadata": {
        "id": "pkgzJ4R5iHoe"
      },
      "source": [
        "これを同様に繰り返していけば、全体を記述していけそうですよね？\n",
        "\n",
        "<br>\n",
        "\n",
        "え、？\n",
        "\n",
        "長くなってしまっている？？\n",
        "\n",
        "気のせいだと思いますが、、、\n",
        "\n",
        "<br>\n",
        "\n",
        "では、続きを書いていきましょう。\n",
        "\n"
      ]
    },
    {
      "cell_type": "code",
      "execution_count": null,
      "metadata": {
        "id": "73uyJRjblfDE",
        "colab": {
          "base_uri": "https://localhost:8080/"
        },
        "outputId": "9d610ccf-ccde-47dc-f9ab-75a0d57510e2"
      },
      "outputs": [
        {
          "output_type": "stream",
          "name": "stdout",
          "text": [
            "名前：やみトゲクリボー\n"
          ]
        }
      ],
      "source": [
        "class Goomba():\n",
        "    def __init__(self):\n",
        "        self._name = \"クリボー\"\n",
        "        self._move = \"歩く\"\n",
        "        self._dead = \"踏みつける\"\n",
        "        self._speed = 10\n",
        "        self._health = 1\n",
        "\n",
        "    def getName(self):\n",
        "        return \"名前：{}\".format(self._name)\n",
        "\n",
        "    def getMove(self):\n",
        "        return \"移動方法：{}\".format(self._move)\n",
        "\n",
        "    def getSpeed(self):\n",
        "        return \"スピード：{}\".format(self._speed)\n",
        "\n",
        "    def getDead(self):\n",
        "        return \"倒し方：{}\".format(self._dead)\n",
        "\n",
        "    def getHealth(self):\n",
        "        return \"体力：{}\".format(self._health)\n",
        "\n",
        "class ParaGoomba(Goomba):\n",
        "    def __init__(self):\n",
        "        self._name=\"パタクリボー\"\n",
        "        self._move = \"ジャンプ\"\n",
        "        self._dead = \"踏みつける\"\n",
        "        self._speed = 20\n",
        "        self._health = 2\n",
        "\n",
        "class SpikedGoomba(Goomba):\n",
        "    def __init__(self):\n",
        "        self._name=\"トゲクリボー\"\n",
        "        self._move = \"歩く\"\n",
        "        self._dead = \"ファイアボールを当てる\"\n",
        "        self._speed = 10\n",
        "        self._health = 1\n",
        "\n",
        "class BoneGoomba(Goomba):\n",
        "    def __init__(self):\n",
        "        self._name = \"ほねクリボー\"\n",
        "        self._move = \"歩く\"\n",
        "        self._dead = \"踏みつける\"\n",
        "        self._speed = 15\n",
        "        self._health = 3\n",
        "\n",
        "class SpikyGloomba(SpikedGoomba):\n",
        "    def __init__(self):\n",
        "        self._name=\"やみトゲクリボー\"\n",
        "        self._move = \"歩く\"\n",
        "        self._dead = \"ファイアボールを当てる\"\n",
        "        self._speed = 20\n",
        "        self._health = 4\n",
        "\n",
        "def main():\n",
        "    print(SpikyGloomba().getName())\n",
        "\n",
        "if __name__==\"__main__\":\n",
        "    main()"
      ]
    },
    {
      "cell_type": "markdown",
      "metadata": {
        "id": "ZpGRCxuaxBtp"
      },
      "source": [
        "これで好きなモンスターを好きなタイミングで出力できますね。\n",
        "\n",
        "え、やっぱり前のほうがわかりやすい？\n",
        "\n",
        "じゃあ、前の時に設定していたやみトゲクリボーの変数を言ってみてください。\n",
        "\n",
        "<br>\n",
        "\n",
        "簡単ですか？\n",
        "\n",
        "<br>\n",
        "\n",
        "では、今のやり方でクリボーの倒し方を出力してください。\n",
        "\n",
        "`Goomba().getDead()`\n",
        "\n",
        "ですよね？\n",
        "\n",
        "このように、することで、少しだけわかりやすく記述していくことができます。\n",
        "\n",
        "本当はもう少し踏み込んで、継承やらなんやらで説明したいですが、今回は関数的な使い方にとどめておきます。\n",
        "\n",
        "知っている人は、周りの人に教えてあげてください。"
      ]
    },
    {
      "cell_type": "markdown",
      "metadata": {
        "id": "9jzLhDaPi9kT"
      },
      "source": [
        "___\n",
        "\n",
        "## ポケモンでクラスを考える\n",
        "\n",
        ">\n",
        ">[参考 ポケモンで学ぶ！クラスとオブジェクト指向](https://zenn.dev/m_coder/books/oop-learning-with-pokemon)\n",
        ">\n",
        ">>この学習サイトで用いられている言語は**Kotlin**です。\n",
        ">>\n",
        ">>ある程度プログラミングを知っていないと、わからない可能性がありますので、注意してください。\n",
        "\n",
        "<br>\n",
        "\n",
        "次は、ポケモンでクラスの理解を深めてみよう\n",
        "\n",
        "<br>\n",
        "\n",
        "前回の授業が分かっていれば、次のコードを読み取れるはずです。"
      ]
    },
    {
      "cell_type": "code",
      "execution_count": null,
      "metadata": {
        "id": "frmwX2iYn3DT"
      },
      "outputs": [],
      "source": [
        "class Pokemon():\n",
        "    def __init__(self):\n",
        "        self._name = \"リザードン\"\n",
        "        self._type1 = \"ほのお\"\n",
        "        self._type2 = \"ひこう\"\n",
        "        self._hp = 100\n",
        "\n",
        "    def attack(self):\n",
        "        print(self._name,\"のこうげき！\")\n",
        "\n",
        "def main():\n",
        "    Pokemon().attack()\n",
        "\n",
        "if __name__ == \"__main__\":\n",
        "    main()\n"
      ]
    },
    {
      "cell_type": "markdown",
      "metadata": {
        "id": "NsOl9gMT4BZJ"
      },
      "source": [
        "ポケモンのクラスを作成してみました。\n",
        "\n",
        "パッと見た感じ、リザードンのクラスでしかありません。\n",
        "<img src=\"https://zukan.pokemon.co.jp/zukan-api/up/images/index/42062cbeca16839af3efe8a7d61ceb27a30f758b.png\" width=\"200\">\n",
        "\n",
        "現状では、リザードンのためだけのクラスです。\n",
        "\n",
        "ちなみに現在のポケモンの総数をご存じでしょうか？\n",
        "\n",
        "<br>\n",
        "\n",
        "なんとその数　**１００８匹**　です。（２０２３年２月現在）\n",
        "\n",
        "それらすべてのポケモンを実装することは非常に難しいと思います。\n",
        "\n",
        "例えば"
      ]
    },
    {
      "cell_type": "code",
      "execution_count": null,
      "metadata": {
        "id": "9Ou-0aMB59CR"
      },
      "outputs": [],
      "source": [
        "def main():\n",
        "    pokemontype = {\"ノーマル\":1,\"ほのう\":2,\"みず\":3,\"でんき\":4}\n",
        "    pokemon1 = [\"フシギダネ\",\"草\",\"毒\",0.7,6.9,\"しんりょく\"]"
      ]
    },
    {
      "cell_type": "code",
      "execution_count": null,
      "metadata": {
        "id": "yS0q57XtjCmf"
      },
      "outputs": [],
      "source": [
        "type_name = {\"炎\":1, \"水\":2, \"草\":3}\n",
        "\n",
        "\n",
        "class TypeCompatibility(self,):\n",
        "    def __init__(self):\n"
      ]
    },
    {
      "cell_type": "markdown",
      "metadata": {
        "id": "sQLMFefSyTGD"
      },
      "source": [
        "---\n",
        "\n",
        "# 2048を作ろう\n",
        "\n",
        "## 2048がわかりますか？\n",
        "\n",
        "[参考 2048 ゲームですので、確認ができたらブラウザを閉じる](https://play2048.co/)\n",
        "\n",
        "## 今回作成するゲームの参考動画\n",
        "\n",
        "[参考 YouTube (google colabでゲームを作りたい！2048実装Part1)](https://youtu.be/ZVzZAiQ0Og0)\n",
        "\n",
        "この動画の内容とは一部変えています。\n",
        "\n",
        "また、Pythonだけでは、上手に表示できないため、HTMLやCSSなど利用しています。\n",
        "\n",
        "\n",
        "\n"
      ]
    },
    {
      "cell_type": "markdown",
      "metadata": {
        "id": "HLTsFBmtx3lF"
      },
      "source": [
        "---\n",
        "\n",
        "## ゲームの要素\n",
        "\n",
        "**ゲーム作成は要素分けから**\n",
        "\n",
        "- スコア\n",
        "    - 混ざったタイルの合計値が加算される\n",
        "\n",
        "- タイル\n",
        "    - ４×４のマス目に正方形のタイル\n",
        "\n",
        "- ゲームオーバー\n",
        "    - 全タイルが数字で埋まってしまうと終了\n",
        "\n",
        "- 操作\n",
        "    - 上下左右に動かすことができる。\n",
        "\n",
        "- タイル生成\n",
        "    - ２ or ４の数値が生成される\n",
        "\n",
        "- ビュー\n",
        "    - Colabでは見かけを作ることが難しい。\n",
        "    - 今回はHTMLとCSSを組み合わせてプログラムしていきます。"
      ]
    },
    {
      "cell_type": "markdown",
      "metadata": {
        "id": "qUL0bJswt9Hd"
      },
      "source": [
        "___\n",
        "\n",
        "## ゲームの下地を作っていこう\n",
        "\n",
        "まず最初に、ゲームのマス目を作ってみよう。"
      ]
    },
    {
      "cell_type": "code",
      "source": [
        "tiles = [[1 for c in range(4)] for r in range(4)]\n",
        "print(tiles)"
      ],
      "metadata": {
        "id": "pGL28ltv130v"
      },
      "execution_count": null,
      "outputs": []
    },
    {
      "cell_type": "markdown",
      "source": [
        "いままでの内容がしっかりわかっていたら、こうなることはよくわかると思います。\n",
        "\n",
        "しかし、これをいい感じに表示するためにはひと手間かかります。"
      ],
      "metadata": {
        "id": "TGCumtq-3_4u"
      }
    },
    {
      "cell_type": "code",
      "source": [
        "tiles = [[1 for c in range(4)] for r in range(4)]\n",
        "for r in tiles:\n",
        "    print(r)"
      ],
      "metadata": {
        "colab": {
          "base_uri": "https://localhost:8080/"
        },
        "id": "cWkOVPrp4OtY",
        "outputId": "2536618b-5bf2-435e-f241-e6a7b09bed73"
      },
      "execution_count": null,
      "outputs": [
        {
          "output_type": "stream",
          "name": "stdout",
          "text": [
            "[1, 1, 1, 1]\n",
            "[1, 1, 1, 1]\n",
            "[1, 1, 1, 1]\n",
            "[1, 1, 1, 1]\n"
          ]
        }
      ]
    },
    {
      "cell_type": "markdown",
      "source": [
        "## ライブラリを使おう\n",
        "\n",
        "毎回、表示するたびにforループを回すのは非効率ですし、記述忘れもあると思います。\n",
        "\n",
        "このような煩わしい作業を上手に関数にすることは、さらに手間がかかります。\n",
        "\n",
        "そこで、すでに世の中に存在しているプログラムを使うことができます。\n",
        "\n",
        "今回は、pythonの標準的なライブラリであるNumPyを使います。"
      ],
      "metadata": {
        "id": "YzzHVw1h4fKP"
      }
    },
    {
      "cell_type": "markdown",
      "source": [
        "### NumPy\n",
        "\n",
        "[NumPy公式](https://numpy.org/ja/)\n",
        "\n",
        "> 公式ホームページより\n",
        ">> Pythonを使って働くほとんどの科学者はNumPyの力を利用しています。\n",
        ">> Numpy は、 C や Fortran のような言語の計算パフォーマンスを、Pythonにもたらします。 このパワーはNumPyのシンプルさから来ており、NumPyによるソリューションの多くは明確でエレガントになります。\n",
        "\n",
        "興味のある人は、このサイトでは、説明が難しいと思いますので、[こちらのサイト](https://tutorials.chainer.org/ja/08_Introduction_to_NumPy.html)で確認してみてください。\n",
        "\n",
        "ざっくりいうと、NumPyは数学とかシュミレーションの際に使われるライブラリです。自然計算や機械学習には必須といっても過言ではありません。\n",
        "\n",
        "しかし、今回はたかが、タイルを並べるだけです。\n",
        "\n",
        "なぜ使いたいか、、、公式曰く**明確でエレガント**な機能を使いたいからです。\n",
        "\n",
        "以下のコードを入力してみてください。"
      ],
      "metadata": {
        "id": "de_vqvbC5ihZ"
      }
    },
    {
      "cell_type": "code",
      "source": [
        "import numpy as np\n",
        "tiles = np.array([[1 for c in range(4)] for r in range(4)])\n",
        "print(tiles)"
      ],
      "metadata": {
        "id": "uARkEski3efW"
      },
      "execution_count": null,
      "outputs": []
    },
    {
      "cell_type": "markdown",
      "source": [
        "このようにprint文できれいに表示してくれています。\n",
        "\n",
        "これが今回使う理由です。簡単にプログラムをスマートにエレガントにしてくれます。\n",
        "\n",
        "以上を踏まえて、関数にしていきます。"
      ],
      "metadata": {
        "id": "624Ql1q49_Z4"
      }
    },
    {
      "cell_type": "code",
      "source": [
        "import numpy as np\n",
        "def desp(size):\n",
        "    tiles = np.array([[1 for c in range(size)] for r in range(size)])\n",
        "    print(tiles)\n",
        "\n",
        "def main():\n",
        "    desp(4)\n",
        "\n",
        "if __name__==\"__main__\":\n",
        "    main()"
      ],
      "metadata": {
        "colab": {
          "base_uri": "https://localhost:8080/"
        },
        "id": "TSgjuFw5-ZqQ",
        "outputId": "8489bbcc-c01f-4266-925f-2d7f066f2377"
      },
      "execution_count": null,
      "outputs": [
        {
          "output_type": "stream",
          "name": "stdout",
          "text": [
            "[[1 1 1 1]\n",
            " [1 1 1 1]\n",
            " [1 1 1 1]\n",
            " [1 1 1 1]]\n"
          ]
        }
      ]
    },
    {
      "cell_type": "markdown",
      "source": [
        "## classの導入"
      ],
      "metadata": {
        "id": "jy4NOYiR-ZFh"
      }
    },
    {
      "cell_type": "markdown",
      "source": [
        "### Model classを定義してみる\n",
        "\n",
        "今回作成するModelクラスでは、主に以下のようなことをしていきます。\n",
        "\n",
        "- ゲームの基本的な部分の設計\n",
        "    - 表を作成し、その中に数値を格納する\n",
        "    - 移動に関しての設計\n",
        "\n",
        "現物がないとイメージが付きませんよね。とりあえず、準備していきます。\n",
        "\n",
        "まずは、クラスと `__init__` を定義しましょう。\n",
        "\n",
        "ちなみに`__init__`はクラスに引数を渡すための特殊メソッドです。\n",
        "\n",
        "~~~python\n",
        "def kansu(a):\n",
        "    print(a)\n",
        "~~~\n",
        "\n",
        "上記関数でいうと、`a`の部分になります。"
      ],
      "metadata": {
        "id": "Q64Z5HQy26Eq"
      }
    },
    {
      "cell_type": "code",
      "execution_count": null,
      "metadata": {
        "colab": {
          "base_uri": "https://localhost:8080/"
        },
        "outputId": "07ca6066-096e-4edb-bbd8-bb3e88abc19b",
        "id": "sqKG1TR32gkU"
      },
      "outputs": [
        {
          "output_type": "stream",
          "name": "stdout",
          "text": [
            "None\n"
          ]
        }
      ],
      "source": [
        "import numpy as np\n",
        "\n",
        "class Model():\n",
        "    def __init__(self,size=(4,4)):\n",
        "        tiles = np.array([[1 for c in range(size[1])] for r in range(size[0])])\n",
        "\n",
        "def main():\n",
        "    print(Model())\n",
        "\n",
        "if __name__==\"__main__\":\n",
        "    main()"
      ]
    },
    {
      "cell_type": "markdown",
      "source": [
        "このあたりから、イメージはできるけど、どのように実装すればいいかわからなくなってくる。\n",
        "\n",
        "今回の問題は、モデルクラスを作成できても、モデルクラスを活用することができない。\n",
        "\n",
        "何が必要かわからない場合は、往々にしてネット民にはggrksと言われてしまうので、確認してみましょう。"
      ],
      "metadata": {
        "id": "5hW6M7f84Y3L"
      }
    },
    {
      "cell_type": "markdown",
      "source": [
        "### `__str__`の導入\n",
        "\n",
        "`__str__`とは、クラスを直接プリントできるようになる特殊メソッドです。\n",
        "\n",
        "厳密には、オブジェクトの文字列表現を定義するために用いる特殊メソッドです。\n",
        "\n",
        "つまり、このクラスをプリントで表示すると、`__str__`を呼び出します。\n",
        "\n",
        "そのため、約束事として、このメソッドの戻り値`return`では、文字列でなければなりません。"
      ],
      "metadata": {
        "id": "V3BWl5SP64yz"
      }
    },
    {
      "cell_type": "code",
      "source": [
        "class aisatsu():\n",
        "    def __str__(self):\n",
        "        return \"Hello World\"\n",
        "\n",
        "print(aisatsu())"
      ],
      "metadata": {
        "colab": {
          "base_uri": "https://localhost:8080/"
        },
        "id": "XbEOHhma620j",
        "outputId": "aa764f7c-4386-4e29-ab39-5ccd51a55c0a"
      },
      "execution_count": null,
      "outputs": [
        {
          "output_type": "stream",
          "name": "stdout",
          "text": [
            "Hello World\n"
          ]
        }
      ]
    },
    {
      "cell_type": "markdown",
      "source": [
        "これを使うことで、表示が可能になります。"
      ],
      "metadata": {
        "id": "sc2i_mmH8HrS"
      }
    },
    {
      "cell_type": "code",
      "execution_count": null,
      "metadata": {
        "colab": {
          "base_uri": "https://localhost:8080/",
          "height": 360
        },
        "outputId": "47964616-1257-4868-f091-35572d37bda1",
        "id": "Y-BY28c58GXI"
      },
      "outputs": [
        {
          "output_type": "error",
          "ename": "NameError",
          "evalue": "name 'tiles' is not defined",
          "traceback": [
            "\u001b[0;31m---------------------------------------------------------------------------\u001b[0m",
            "\u001b[0;31mNameError\u001b[0m                                 Traceback (most recent call last)",
            "\u001b[0;32m<ipython-input-9-4f272c1f99be>\u001b[0m in \u001b[0;36m<cell line: 13>\u001b[0;34m()\u001b[0m\n\u001b[1;32m     12\u001b[0m \u001b[0;34m\u001b[0m\u001b[0m\n\u001b[1;32m     13\u001b[0m \u001b[0;32mif\u001b[0m \u001b[0m__name__\u001b[0m\u001b[0;34m==\u001b[0m\u001b[0;34m\"__main__\"\u001b[0m\u001b[0;34m:\u001b[0m\u001b[0;34m\u001b[0m\u001b[0;34m\u001b[0m\u001b[0m\n\u001b[0;32m---> 14\u001b[0;31m     \u001b[0mmain\u001b[0m\u001b[0;34m(\u001b[0m\u001b[0;34m)\u001b[0m\u001b[0;34m\u001b[0m\u001b[0;34m\u001b[0m\u001b[0m\n\u001b[0m",
            "\u001b[0;32m<ipython-input-9-4f272c1f99be>\u001b[0m in \u001b[0;36mmain\u001b[0;34m()\u001b[0m\n\u001b[1;32m      9\u001b[0m \u001b[0;34m\u001b[0m\u001b[0m\n\u001b[1;32m     10\u001b[0m \u001b[0;32mdef\u001b[0m \u001b[0mmain\u001b[0m\u001b[0;34m(\u001b[0m\u001b[0;34m)\u001b[0m\u001b[0;34m:\u001b[0m\u001b[0;34m\u001b[0m\u001b[0;34m\u001b[0m\u001b[0m\n\u001b[0;32m---> 11\u001b[0;31m     \u001b[0mprint\u001b[0m\u001b[0;34m(\u001b[0m\u001b[0mModel\u001b[0m\u001b[0;34m(\u001b[0m\u001b[0;34m)\u001b[0m\u001b[0;34m)\u001b[0m\u001b[0;34m\u001b[0m\u001b[0;34m\u001b[0m\u001b[0m\n\u001b[0m\u001b[1;32m     12\u001b[0m \u001b[0;34m\u001b[0m\u001b[0m\n\u001b[1;32m     13\u001b[0m \u001b[0;32mif\u001b[0m \u001b[0m__name__\u001b[0m\u001b[0;34m==\u001b[0m\u001b[0;34m\"__main__\"\u001b[0m\u001b[0;34m:\u001b[0m\u001b[0;34m\u001b[0m\u001b[0;34m\u001b[0m\u001b[0m\n",
            "\u001b[0;32m<ipython-input-9-4f272c1f99be>\u001b[0m in \u001b[0;36m__str__\u001b[0;34m(self)\u001b[0m\n\u001b[1;32m      6\u001b[0m \u001b[0;34m\u001b[0m\u001b[0m\n\u001b[1;32m      7\u001b[0m     \u001b[0;32mdef\u001b[0m \u001b[0m__str__\u001b[0m\u001b[0;34m(\u001b[0m\u001b[0mself\u001b[0m\u001b[0;34m)\u001b[0m\u001b[0;34m:\u001b[0m\u001b[0;34m\u001b[0m\u001b[0;34m\u001b[0m\u001b[0m\n\u001b[0;32m----> 8\u001b[0;31m         \u001b[0;32mreturn\u001b[0m \u001b[0;34m\"{}\"\u001b[0m\u001b[0;34m.\u001b[0m\u001b[0mformat\u001b[0m\u001b[0;34m(\u001b[0m\u001b[0mtiles\u001b[0m\u001b[0;34m)\u001b[0m\u001b[0;34m\u001b[0m\u001b[0;34m\u001b[0m\u001b[0m\n\u001b[0m\u001b[1;32m      9\u001b[0m \u001b[0;34m\u001b[0m\u001b[0m\n\u001b[1;32m     10\u001b[0m \u001b[0;32mdef\u001b[0m \u001b[0mmain\u001b[0m\u001b[0;34m(\u001b[0m\u001b[0;34m)\u001b[0m\u001b[0;34m:\u001b[0m\u001b[0;34m\u001b[0m\u001b[0;34m\u001b[0m\u001b[0m\n",
            "\u001b[0;31mNameError\u001b[0m: name 'tiles' is not defined"
          ]
        }
      ],
      "source": [
        "import numpy as np\n",
        "\n",
        "class Model():\n",
        "    def __init__(self,size=(4,4)):\n",
        "        tiles = np.array([[1 for c in range(size[1])] for r in range(size[0])])\n",
        "\n",
        "    def __str__(self):\n",
        "        return \"{}\".format(tiles)\n",
        "\n",
        "def main():\n",
        "    print(Model())\n",
        "\n",
        "if __name__==\"__main__\":\n",
        "    main()"
      ]
    },
    {
      "cell_type": "markdown",
      "source": [
        "あれ、失敗した？？？\n",
        "\n",
        "これは、それぞれの関数が、別の変数を扱っているからになります。\n",
        "\n",
        "次のプログラムが正解です。\n",
        "\n",
        "イメージ図はホワイトボードを参照する。\n"
      ],
      "metadata": {
        "id": "EB2L0SXO8UsU"
      }
    },
    {
      "cell_type": "code",
      "execution_count": null,
      "metadata": {
        "colab": {
          "base_uri": "https://localhost:8080/"
        },
        "id": "KPTdL628IfYL",
        "outputId": "6fc62501-24dd-430f-aea1-b49d70f6de09"
      },
      "outputs": [
        {
          "name": "stdout",
          "output_type": "stream",
          "text": [
            "[[1 1 1 1]\n",
            " [1 1 1 1]\n",
            " [1 1 1 1]\n",
            " [1 1 1 1]]\n"
          ]
        }
      ],
      "source": [
        "import numpy as np\n",
        "\n",
        "class Model():\n",
        "    def __init__(self,size=(4,4)):\n",
        "        self._size = size\n",
        "        self._tiles = np.array([[1 for c in range(self._size[1])] for r in range(self._size[0])])\n",
        "\n",
        "    def __str__(self):\n",
        "        return \"{}\".format(self._tiles)\n",
        "\n",
        "def main():\n",
        "    print(Model())\n",
        "\n",
        "\n",
        "if __name__==\"__main__\":\n",
        "    main()"
      ]
    },
    {
      "cell_type": "markdown",
      "metadata": {
        "id": "A3MnGf33ylAu"
      },
      "source": [
        "## Modelクラスの役割\n",
        "\n",
        "このModelクラスでは、主に以下のようなことをしていきます。\n",
        "\n",
        "- ゲームの基本的な部分の設計\n",
        "    - 表を作成し、その中に数値を格納する\n",
        "    - 移動に関しての設計\n",
        "\n",
        "今回は、NumPyを用いて、表を作成、描画しているところです。\n",
        "\n",
        "プログラムに注釈をつけるとこんな感じ。"
      ]
    },
    {
      "cell_type": "code",
      "execution_count": null,
      "metadata": {
        "colab": {
          "base_uri": "https://localhost:8080/"
        },
        "id": "NNpfTiFEyhom",
        "outputId": "4a0d24ce-36a8-4979-ea0b-8900117668f5"
      },
      "outputs": [
        {
          "name": "stdout",
          "output_type": "stream",
          "text": [
            "[[1 1 1 1]\n",
            " [1 1 1 1]\n",
            " [1 1 1 1]\n",
            " [1 1 1 1]]\n"
          ]
        }
      ],
      "source": [
        "import numpy as np                      #NumPyを使う\n",
        "\n",
        "class Model():                          #Modelクラスを作る\n",
        "    def __init__(self,size=(4,4)):      #Modelクラスの最初に動作するのは次の内容である\n",
        "                                        #ただし、sizeは縦横４マスであることを示す\n",
        "                                        #この部分を、5とかにするとマス目の数が変えられる\n",
        "\n",
        "        self._size = size               #このクラスで使うsizeはさっきのかっこの部分の値を参照する\n",
        "        self._tiles = np.array([[1 for c in range(self._size[1])] for r in range(self._size[0])])\n",
        "                                        #マス目の生成を行っています。\n",
        "\n",
        "    def __str__(self):                  #printでModelが呼び出された場合、ここのreturnの結果が返る\n",
        "        return \"{}\".format(self._tiles) #マス目の出力結果を返します。文字列でないといけません。\n",
        "\n",
        "def main():                             #Pythonのプログラムで、最初に動作しているのは、main関数である\n",
        "    print(Model() )                     #printでModelクラスを呼び出す\n",
        "\n",
        "\n",
        "if __name__==\"__main__\":                #おまじない\n",
        "    main()"
      ]
    },
    {
      "cell_type": "markdown",
      "metadata": {
        "id": "XXmCmgPaHt8j"
      },
      "source": [
        "## スコアを追加しよう\n",
        "\n",
        "次は、スコアを追加します。\n",
        "\n",
        "新たに変数を追加する場合は、`__init__`にとりあえず書き込んでいきます。"
      ]
    },
    {
      "cell_type": "code",
      "execution_count": null,
      "metadata": {
        "colab": {
          "base_uri": "https://localhost:8080/"
        },
        "id": "7tm6SUVDs0Pt",
        "outputId": "05913375-6d09-4ea5-cfc6-84b2fc6c589b"
      },
      "outputs": [
        {
          "name": "stdout",
          "output_type": "stream",
          "text": [
            "Score:0\n",
            "Gameover:False\n",
            "------------\n",
            "[[1 1 1 1]\n",
            " [1 1 1 1]\n",
            " [1 1 1 1]\n",
            " [1 1 1 1]]\n"
          ]
        }
      ],
      "source": [
        "import numpy as np\n",
        "\n",
        "class Model():\n",
        "    def __init__(self,size =(4,4),score = 0,done=False):\n",
        "        self._size=size\n",
        "        self._score = score\n",
        "        self._done = done\n",
        "        self._empty = 1\n",
        "\n",
        "        self._tiles = np.array([[self._empty for c in range(self._size[1])] for r in range(self._size[0])])\n",
        "\n",
        "    def __str__(self):\n",
        "        return \"Score:{}\\nGameover:{}\\n------------\\n{}\".format(self._score,self._done,self._tiles)\n",
        "\n",
        "def main():\n",
        "    print(Model())\n",
        "\n",
        "\n",
        "if __name__==\"__main__\":\n",
        "    main()"
      ]
    },
    {
      "cell_type": "markdown",
      "metadata": {
        "id": "nMRXjiRAtfpq"
      },
      "source": [
        "いくつかの変数を追加しました。\n",
        "\n",
        "追加した部分は、スコアに関する部分です。\n"
      ]
    },
    {
      "cell_type": "code",
      "execution_count": null,
      "metadata": {
        "colab": {
          "base_uri": "https://localhost:8080/"
        },
        "id": "kmuxGM9Ft7_Y",
        "outputId": "7aa66985-fd1e-4415-8cca-7f5beb594811"
      },
      "outputs": [
        {
          "output_type": "stream",
          "name": "stdout",
          "text": [
            "Score:0\n",
            "Gameover:False\n",
            "------------\n",
            "[[1 1 1 1]\n",
            " [1 1 1 1]\n",
            " [1 1 1 1]\n",
            " [1 1 1 1]]\n"
          ]
        }
      ],
      "source": [
        "import numpy as np\n",
        "\n",
        "class Model():\n",
        "    def __init__(self,size =(4,4),score = 0,done=False):    #scoreとdoneを追加しました。\n",
        "                                                            #scoreの初期値は0、doneは終了を意味しています。\n",
        "                                                            #最初はFalseつまり、偽を意味しています。\n",
        "        self._size=size\n",
        "        self._score = score                                 #scoreとdoneのクラス内での値をそれぞれ定義しています。\n",
        "        self._done = done\n",
        "        self._empty = 1                                     #先ほどは、雑に１を入力していましたが、empty（空）を定義しました。\n",
        "                                                            #とはいえ、最初は１を入れています。この１に意味はありません。見やすいのと後でプログラムが容易なため入れているだけです。\n",
        "        self._tiles = np.array([[self._empty for c in range(self._size[1])] for r in range(self._size[0])])\n",
        "\n",
        "    def __str__(self):\n",
        "        return \"Score:{}\\nGameover:{}\\n------------\\n{}\".format(self._score,self._done,self._tiles)\n",
        "                                                            #__str__の中身を少し加えました。最初にスコアとゲームオーバーの行を挿入しただけで、後は、同じです。\n",
        "def main():\n",
        "    print(Model())\n",
        "\n",
        "\n",
        "if __name__==\"__main__\":\n",
        "    main()"
      ]
    },
    {
      "cell_type": "markdown",
      "source": [
        "## 新しくを表示しよう\n",
        "\n",
        "端的に言えば、ランダムな場所に数字を表示したい。\n",
        "\n",
        "そのため、update()関数を作ります。\n",
        "\n",
        "新しく数字が出てくる場所は、何も入っていないところでなければなりません。\n",
        "\n",
        "そのために、何も入っていない場所を探す必要があります。\n",
        "\n",
        "forループで探すこともできますが、今回は便利なNumpyを用いて簡単に探しましょう。"
      ],
      "metadata": {
        "id": "bPxcBvpyAF9T"
      }
    },
    {
      "cell_type": "markdown",
      "source": [
        "### Numpy where メソッド\n",
        "\n",
        "where メソッドを丁寧に覚える必要はありません。\n",
        "\n",
        "使える分の理解で十分です。\n",
        "\n",
        "軽く説明すると、`np`で作った配列に対して、条件に該当するindex番号を返す関数です。"
      ],
      "metadata": {
        "id": "s5hTsTTWB5ck"
      }
    },
    {
      "cell_type": "code",
      "source": [
        "import numpy as np\n",
        "a = np.array([[0,0,0,1],[0,0,0,0],[0,0,0,0],[0,0,0,0]])\n",
        "print(a)"
      ],
      "metadata": {
        "colab": {
          "base_uri": "https://localhost:8080/"
        },
        "id": "wbfZbJ21CLNy",
        "outputId": "22e0f111-4969-49f2-9fff-f4e81e119f05"
      },
      "execution_count": null,
      "outputs": [
        {
          "output_type": "stream",
          "name": "stdout",
          "text": [
            "[[0 0 0 1]\n",
            " [0 0 0 0]\n",
            " [0 0 0 0]\n",
            " [0 0 0 0]]\n"
          ]
        }
      ]
    },
    {
      "cell_type": "code",
      "source": [
        "import numpy as np\n",
        "a = np.array([[0,0,0,1],[0,0,1,0],[0,0,0,0],[0,0,0,0]])\n",
        "print(a)\n",
        "print(np.where(a==1))"
      ],
      "metadata": {
        "colab": {
          "base_uri": "https://localhost:8080/"
        },
        "outputId": "93d1cd01-2575-4b30-fb4d-c0a85f4cd13d",
        "id": "4b8yTUgkCeJl"
      },
      "execution_count": null,
      "outputs": [
        {
          "output_type": "stream",
          "name": "stdout",
          "text": [
            "[[0 0 0 1]\n",
            " [0 0 1 0]\n",
            " [0 0 0 0]\n",
            " [0 0 0 0]]\n",
            "(array([0, 1]), array([3, 2]))\n"
          ]
        }
      ]
    },
    {
      "cell_type": "code",
      "execution_count": null,
      "metadata": {
        "colab": {
          "base_uri": "https://localhost:8080/"
        },
        "outputId": "151d18ee-86b9-4b55-cb31-319e3c34a212",
        "id": "VyWcbhTcAXXf"
      },
      "outputs": [
        {
          "output_type": "stream",
          "name": "stdout",
          "text": [
            "Score:0\n",
            "Gameover:False\n",
            "------------\n",
            "[[1 1 1 1]\n",
            " [1 1 1 1]\n",
            " [1 1 1 1]\n",
            " [1 1 1 1]]\n",
            "Score:0\n",
            "Gameover:False\n",
            "------------\n",
            "[[1 1 1 1]\n",
            " [1 1 1 1]\n",
            " [1 1 1 1]\n",
            " [1 1 1 1]]\n"
          ]
        }
      ],
      "source": [
        "import numpy as np\n",
        "\n",
        "class Model():\n",
        "    def __init__(self,size =(4,4),score = 0,done=False):\n",
        "        self._size=size\n",
        "        self._score = score\n",
        "        self._done = done\n",
        "        self._empty = 1\n",
        "\n",
        "        self._tiles = np.array([[self._empty for c in range(self._size[1])] for r in range(self._size[0])])\n",
        "\n",
        "    def __str__(self):\n",
        "        return \"Score:{}\\nGameover:{}\\n------------\\n{}\".format(self._score,self._done,self._tiles)\n",
        "\n",
        "    def update(self):\n",
        "        rows,cols = np.where(self._tiles == self._empty)\n",
        "        if len(rows) == 0:\n",
        "            self._done = True\n",
        "        else:\n",
        "            idx = np.random.randint(0,len(rows))\n",
        "            row,col = rows[idx],cols[idx]\n",
        "            val = 2\n",
        "            self._tiles[row,col]=val\n",
        "\n",
        "def main():\n",
        "    print(Model())\n",
        "    Model().update()\n",
        "    print(Model())\n",
        "\n",
        "\n",
        "if __name__==\"__main__\":\n",
        "    main()"
      ]
    },
    {
      "cell_type": "markdown",
      "source": [
        "## クラスの罠\n",
        "クラスは、呼び出される物事に別のものとなります。\n",
        "\n",
        "クラスを上記のように記述してしまうと別のものを変更していることになります。\n",
        "\n",
        "解決策はとても簡単で、変数にクラスを入れてしまうだけです。\n",
        "\n",
        "ついでに、後で編集しやすいので、新しく出る値を調節できるようにしましょう。"
      ],
      "metadata": {
        "id": "1g73JV6zEh54"
      }
    },
    {
      "cell_type": "code",
      "source": [
        "import numpy as np\n",
        "\n",
        "class Model():\n",
        "    def __init__(self,size =(4,4),score = 0,done=False):\n",
        "        self._size=size\n",
        "        self._score = score\n",
        "        self._done = done\n",
        "        self._empty = 1\n",
        "\n",
        "        self._tiles = np.array([[self._empty for c in range(self._size[1])] for r in range(self._size[0])])\n",
        "\n",
        "    def __str__(self):\n",
        "        return \"Score:{}\\nGameover:{}\\n------------\\n{}\".format(self._score,self._done,self._tiles)\n",
        "\n",
        "    def update(self):\n",
        "        rows,cols = np.where(self._tiles == self._empty)\n",
        "        if len(rows) == 0:\n",
        "            self._done = True\n",
        "        else:\n",
        "            idx = np.random.randint(0,len(rows))\n",
        "            row,col = rows[idx],cols[idx]\n",
        "            val = self.new_tile_val()\n",
        "            self._tiles[row,col]=val\n",
        "\n",
        "    def new_tile_val(self):\n",
        "        return 2\n",
        "\n",
        "def main():\n",
        "    m = Model()\n",
        "    print(m)\n",
        "    m.update()\n",
        "    print(m)\n",
        "\n",
        "\n",
        "if __name__==\"__main__\":\n",
        "    main()"
      ],
      "metadata": {
        "colab": {
          "base_uri": "https://localhost:8080/"
        },
        "id": "TS-DjLtUE7B7",
        "outputId": "78b0a7d9-952b-422e-b6f2-476e7f7bded7"
      },
      "execution_count": null,
      "outputs": [
        {
          "output_type": "stream",
          "name": "stdout",
          "text": [
            "Score:0\n",
            "Gameover:False\n",
            "------------\n",
            "[[1 1 1 1]\n",
            " [1 1 1 1]\n",
            " [1 1 1 1]\n",
            " [1 1 1 1]]\n",
            "Score:0\n",
            "Gameover:False\n",
            "------------\n",
            "[[1 1 1 1]\n",
            " [1 1 2 1]\n",
            " [1 1 1 1]\n",
            " [1 1 1 1]]\n"
          ]
        }
      ]
    },
    {
      "cell_type": "markdown",
      "metadata": {
        "id": "w7jOl0MO6RVe"
      },
      "source": [
        "## 移動方法を実装しよう\n",
        "\n",
        "2048というゲームは上下左右にタイルが移動するという特徴が有りますが、\n",
        "\n",
        "今回は、まず上向きでのタイルの移動について考えてみましょう。\n",
        "\n",
        "ロジックを考えてみましょう。どのように実装しますか？\n",
        "\n",
        "とりあえず、次のプログラムで考えてみましょう。"
      ]
    },
    {
      "cell_type": "code",
      "source": [
        "import numpy as np\n",
        "\n",
        "a = np.array([[0,0,0,0],[0,0,0,0],[0,0,0,0],[0,0,1,0]])\n",
        "\n",
        "print(a)"
      ],
      "metadata": {
        "colab": {
          "base_uri": "https://localhost:8080/"
        },
        "id": "FLQQ9lE9GkLo",
        "outputId": "babf788b-74c7-43e8-a480-21b945e213b4"
      },
      "execution_count": null,
      "outputs": [
        {
          "output_type": "stream",
          "name": "stdout",
          "text": [
            "[[0 0 0 0]\n",
            " [0 0 0 0]\n",
            " [0 0 0 0]\n",
            " [0 0 1 0]]\n"
          ]
        }
      ]
    },
    {
      "cell_type": "code",
      "source": [
        "import numpy as np\n",
        "\n",
        "a = np.array([[0,0,0,0],[0,0,0,0],[0,0,0,0],[0,0,1,0]])\n",
        "\n",
        "for row in range(4):\n",
        "    for col in range(4):\n",
        "        r = row\n",
        "        c = col\n",
        "\n",
        "print(a)"
      ],
      "metadata": {
        "colab": {
          "base_uri": "https://localhost:8080/"
        },
        "outputId": "babf788b-74c7-43e8-a480-21b945e213b4",
        "id": "zILLfyzjG4jl"
      },
      "execution_count": null,
      "outputs": [
        {
          "output_type": "stream",
          "name": "stdout",
          "text": [
            "[[0 0 0 0]\n",
            " [0 0 0 0]\n",
            " [0 0 0 0]\n",
            " [0 0 1 0]]\n"
          ]
        }
      ]
    },
    {
      "cell_type": "code",
      "source": [
        "# グリッドの行に対して繰り返し\n",
        "for row in range(self._size[0]):\n",
        "    # グリッドの列に対して繰り返し\n",
        "    for col in range(self._size[1]):\n",
        "        # 現在の行と列を保存\n",
        "        r = row\n",
        "        c = col\n",
        "        # 現在の列の上にあるタイルをトップに達するまで上に移動させる\n",
        "        while True:\n",
        "            # 1行上に移動\n",
        "            r -= 1\n",
        "            # 新しい行がグリッドの境界内にあるか確認\n",
        "            if 0 <= r < self._size[0]:\n",
        "                # 現在のタイルが空であるか確認\n",
        "                if self._tiles[r, c] == self._empty:\n",
        "                    # もし空なら下のタイルを上に移動させる\n",
        "                    self._tiles[r, c] = self._tiles[r + 1, c]\n",
        "                    self._tiles[r + 1, c] = self._empty\n",
        "                # 現在のタイルが上のタイルと等しいか確認\n",
        "                elif self._tiles[r, c] == self._tiles[r + 1, c]:\n",
        "                    # もし等しければ、タイルを統合してスコアを更新\n",
        "                    self._tiles[r, c] += self._tiles[r + 1, c]\n",
        "                    self._tiles[r + 1, c] = self._empty\n",
        "                    self._score += self._tiles[r, c]\n",
        "                    # 統合後にループを抜ける\n",
        "                    break\n",
        "                else:\n",
        "                    # 空でも等しくなくても、ループを抜ける\n",
        "                    break\n",
        "            else:\n",
        "                # 新しい行がグリッドの境界外であれば、ループを抜ける\n",
        "                break\n"
      ],
      "metadata": {
        "id": "K1ajdJcnGS4w"
      },
      "execution_count": null,
      "outputs": []
    },
    {
      "cell_type": "markdown",
      "source": [
        "#### 小さいプログラムで実装"
      ],
      "metadata": {
        "id": "46MFu_6C_Sx5"
      }
    },
    {
      "cell_type": "code",
      "source": [
        "import numpy as np\n",
        "\n",
        "a = np.array([[0,0,0,0],[0,0,0,0],[0,0,0,0],[0,0,1,0]])\n",
        "print(a)\n",
        "\n",
        "for row in range(4):\n",
        "    for col in range(4):\n",
        "        r = row\n",
        "        c = col\n",
        "        while True:\n",
        "            r -= 1\n",
        "            if 0 <= r < 4:\n",
        "                if a[r,c] == 0:\n",
        "                    a[r,c] = a[r+1,c]\n",
        "                    a[r+1,c] = 0\n",
        "                elif a[r,c] == a[r+1,c]:\n",
        "                    a[r,c] += a[r+1,c]\n",
        "                    a[r+1,c] = 0\n",
        "                    break\n",
        "                else:\n",
        "                    break\n",
        "            else:\n",
        "                break\n",
        "\n",
        "\n",
        "print(a)"
      ],
      "metadata": {
        "colab": {
          "base_uri": "https://localhost:8080/"
        },
        "id": "L535hS-7_WzS",
        "outputId": "8cfd23b6-0981-4b4a-f55f-7bd836441497"
      },
      "execution_count": null,
      "outputs": [
        {
          "output_type": "stream",
          "name": "stdout",
          "text": [
            "[[0 0 0 0]\n",
            " [0 0 0 0]\n",
            " [0 0 0 0]\n",
            " [0 0 1 0]]\n",
            "[[0 0 1 0]\n",
            " [0 0 0 0]\n",
            " [0 0 0 0]\n",
            " [0 0 0 0]]\n"
          ]
        }
      ]
    },
    {
      "cell_type": "code",
      "execution_count": null,
      "metadata": {
        "colab": {
          "base_uri": "https://localhost:8080/"
        },
        "id": "EhDr2RdMxQy_",
        "outputId": "155d771f-3bba-4be4-b0ba-3406365ea0ee"
      },
      "outputs": [
        {
          "output_type": "stream",
          "name": "stdout",
          "text": [
            "Score:0\n",
            "Gameover:False\n",
            "------------\n",
            "[[1 1 1 1]\n",
            " [1 1 1 1]\n",
            " [1 1 1 1]\n",
            " [1 1 1 1]]\n",
            "Score:0\n",
            "Gameover:False\n",
            "------------\n",
            "[[1 2 1 1]\n",
            " [1 1 1 1]\n",
            " [1 1 1 1]\n",
            " [1 1 1 1]]\n",
            "Score:0\n",
            "Gameover:False\n",
            "------------\n",
            "[[1 2 1 1]\n",
            " [1 1 1 1]\n",
            " [1 1 1 1]\n",
            " [1 1 1 1]]\n"
          ]
        }
      ],
      "source": [
        "import numpy as np\n",
        "\n",
        "class Model():\n",
        "    def __init__(self,size =(4,4),score = 0,done=False):\n",
        "        self._size=size\n",
        "        self._score = score\n",
        "        self._done = done\n",
        "        self._empty = 1\n",
        "\n",
        "        self._tiles = np.array([[self._empty for c in range(self._size[1])] for r in range(self._size[0])])\n",
        "\n",
        "    def __str__(self):\n",
        "        return \"Score:{}\\nGameover:{}\\n------------\\n{}\".format(self._score,self._done,self._tiles)\n",
        "\n",
        "    def up(self):\n",
        "        for row in range(self._size[0]):\n",
        "            for col in range(self._size[1]):\n",
        "                r = row\n",
        "                c = col\n",
        "                while True:\n",
        "                    r -= 1\n",
        "                    if 0<= r < self._size[0]:\n",
        "                        if self._tiles[r,c] == self._empty:\n",
        "                            self._tiles[r,c] = self._tiles[r+1,c]\n",
        "                            self._tiles[r+1,c] = self._empty\n",
        "                        elif self._tiles[r,c] == self._tiles[r+1,c]:\n",
        "                            self._tiles[r,c] += self._tiles[r+1,c]\n",
        "                            self._tiles[r+1,c] = self._empty\n",
        "                            self._score += self._tiles[r,c]\n",
        "                            break\n",
        "                        else:\n",
        "                            break\n",
        "                    else:\n",
        "                        break\n",
        "\n",
        "    def update(self):\n",
        "        rows,cols = np.where(self._tiles == self._empty)\n",
        "        if len(rows) == 0:\n",
        "            self._done = True\n",
        "        else:\n",
        "            idx = np.random.randint(0,len(rows))\n",
        "            row,col = rows[idx],cols[idx]\n",
        "            val = self.new_tile_val()\n",
        "            self._tiles[row,col]=val\n",
        "\n",
        "    def new_tile_val(self):\n",
        "        return 2\n",
        "\n",
        "def main():\n",
        "    m = Model()\n",
        "    print(m)\n",
        "    m.update()\n",
        "    print(m)\n",
        "    m.up()\n",
        "    print(m)\n",
        "\n",
        "\n",
        "if __name__==\"__main__\":\n",
        "    main()"
      ]
    },
    {
      "cell_type": "markdown",
      "metadata": {
        "id": "eKPsK5VVdSBD"
      },
      "source": [
        "このプログラムの説明は難しい"
      ]
    },
    {
      "cell_type": "markdown",
      "metadata": {
        "id": "Hms4MZ-7p9-7"
      },
      "source": [
        "行列について\n",
        "\n",
        "|行列|| 行１  |  行２  |  行３  |  行４  |  行５  |\n",
        "|----||--------|--------|--------|--------|--------|\n",
        "|列１||１行１列|２行１列|３行１列|４行１列|５行１列|\n",
        "|列２||１行２列|２行２列|３行２列|４行２列|５行２列|\n",
        "|列３||１行３列|２行３列|３行３列|４行３列|５行３列|\n",
        "|列４||１行４列|２行４列|３行４列|４行４列|５行４列|\n",
        "|列５||１行５列|２行５列|３行５列|４行５列|５行５列|\n",
        "\n",
        "Row,Columnについて\n",
        "\n",
        "|  RC   ||Row1|Row2|Row3|Row4|Row5|\n",
        "| ----- ||----|----|----|----|----|\n",
        "|Column1||R1C1|R2C1|R3C1|R4C1|R5C1|\n",
        "|Column2||R1C2|R2C2|R3C2|R4C2|R5C2|\n",
        "|Column3||R1C3|R2C3|R3C3|R4C3|R5C3|\n",
        "|Column4||R1C4|R2C4|R3C4|R4C4|R5C4|\n",
        "|Column5||R1C5|R2C5|R3C5|R4C5|R5C5|"
      ]
    },
    {
      "cell_type": "markdown",
      "source": [
        "## 上下左右に動かしてみよう\n",
        "\n",
        "ここのアルゴリズムは、 up 関数をベースに action 関数を作っているのですが、時間の都合で写経とします。\n",
        "\n",
        "ついでに、画面の更新も `clear_output`を使って行っておきます。"
      ],
      "metadata": {
        "id": "rEDXE1u5BdVT"
      }
    },
    {
      "cell_type": "code",
      "execution_count": null,
      "metadata": {
        "colab": {
          "base_uri": "https://localhost:8080/"
        },
        "id": "6m3r9532QMNk",
        "outputId": "67d4d838-fdce-49a0-f8b6-575a60cfbc96"
      },
      "outputs": [
        {
          "output_type": "stream",
          "name": "stdout",
          "text": [
            "Score:0\n",
            "Gameover:False\n",
            "------------\n",
            "[[2 1 1 1]\n",
            " [1 1 1 1]\n",
            " [2 2 1 1]\n",
            " [1 1 1 1]]\n"
          ]
        }
      ],
      "source": [
        "import numpy as np\n",
        "from IPython.display import clear_output\n",
        "\n",
        "class Model():\n",
        "    def __init__(self,size =(4,4),score = 0,done=False):\n",
        "        self._size=size\n",
        "        self._score = score\n",
        "        self._done = done\n",
        "        self._empty = 1\n",
        "        self._tiles = np.array([[self._empty for c in range(self._size[1])] for r in range(self._size[0])])\n",
        "\n",
        "    def __str__(self):\n",
        "        return \"Score:{}\\nGameover:{}\\n------------\\n{}\".format(self._score,self._done,self._tiles)\n",
        "\n",
        "    def action(self,command):\n",
        "        param={\n",
        "            \"u\":[range(self._size[0]),range(self._size[1]),-1,0],\n",
        "            \"d\":[range(self._size[0]-1,-1,-1),range(self._size[1]-1,-1,-1),1,0],\n",
        "            \"l\":[range(self._size[0]),range(self._size[1]),0,-1],\n",
        "            \"r\":[range(self._size[0]-1,-1,-1),range(self._size[1]-1,-1,-1),0,1],\n",
        "        }\n",
        "        rows,cols,dr,dc = param[command]\n",
        "        for row in rows:\n",
        "            for col in cols:\n",
        "                r = row\n",
        "                c = col\n",
        "                while True:\n",
        "                    r +=dr\n",
        "                    c += dc\n",
        "                    if 0 <= r < self._size[0] and 0 <= c < self._size[1]:\n",
        "                        if self._tiles[r,c] == self._empty:\n",
        "                            self._tiles[r,c] = self._tiles[r-dr,c-dc]\n",
        "                            self._tiles[r-dr,c-dc] = self._empty\n",
        "                        elif self._tiles[r,c] == self._tiles[r-dr,c-dc]:\n",
        "                            self._tiles[r,c] += self._tiles[r-dr,c-dc]\n",
        "                            self._tiles[r-dr,c-dc] = self._empty\n",
        "                            self._score += self._tiles[r,c]\n",
        "                            break\n",
        "                        else:\n",
        "                            break\n",
        "                    else:\n",
        "                        break\n",
        "\n",
        "\n",
        "\n",
        "    def update(self):\n",
        "        rows,cols = np.where(self._tiles == self._empty)\n",
        "        if len(rows)==0:\n",
        "            self._done = True\n",
        "        else:\n",
        "            idx = np.random.randint(0,len(rows))\n",
        "            row,col = rows[idx],cols[idx]\n",
        "            val = self.new_tile_val()\n",
        "            self._tiles[row,col] = val\n",
        "\n",
        "    def new_tile_val(self):\n",
        "        return 2\n",
        "\n",
        "\n",
        "\n",
        "def main():\n",
        "    m = Model()\n",
        "    m.update()\n",
        "    while True:\n",
        "        clear_output()\n",
        "        print(m)\n",
        "        command = input()\n",
        "        if command in [\"u\",\"d\",\"l\",\"r\"]:\n",
        "            m.action(command)\n",
        "            m.update()\n",
        "        else:\n",
        "            break\n",
        "\n",
        "if __name__==\"__main__\":\n",
        "    main()"
      ]
    },
    {
      "cell_type": "markdown",
      "source": [
        "## HTMLを実装しよう\n",
        "\n",
        "覚えている人も覚えていない人も写経です。\n",
        "写してください。"
      ],
      "metadata": {
        "id": "yxw7yXXnEgHr"
      }
    },
    {
      "cell_type": "code",
      "execution_count": null,
      "metadata": {
        "id": "W533UfbTtJbd",
        "colab": {
          "base_uri": "https://localhost:8080/",
          "height": 794
        },
        "outputId": "44be37c5-5c0a-4a28-8ffc-d59d5fb6bc41"
      },
      "outputs": [
        {
          "output_type": "display_data",
          "data": {
            "text/plain": [
              "<IPython.core.display.HTML object>"
            ],
            "text/html": [
              "\n",
              "        <html>\n",
              "        <head>\n",
              "            <style></style>\n",
              "        </head>\n",
              "        <body>\n",
              "            <h1>2048</h1>\n",
              "            <hr>\n",
              "            <h2>Score:0</h2>\n",
              "            <h2>Gameover:False</h2>\n",
              "            <hr>\n",
              "            <div class='tiles'><table border='1' align ='center'><tr><td width = '60pt' height='60pt'>2</td><td width = '60pt' height='60pt'>1</td><td width = '60pt' height='60pt'>1</td><td width = '60pt' height='60pt'>1</td></tr><tr><td width = '60pt' height='60pt'>1</td><td width = '60pt' height='60pt'>1</td><td width = '60pt' height='60pt'>1</td><td width = '60pt' height='60pt'>1</td></tr><tr><td width = '60pt' height='60pt'>2</td><td width = '60pt' height='60pt'>1</td><td width = '60pt' height='60pt'>1</td><td width = '60pt' height='60pt'>1</td></tr><tr><td width = '60pt' height='60pt'>1</td><td width = '60pt' height='60pt'>1</td><td width = '60pt' height='60pt'>1</td><td width = '60pt' height='60pt'>1</td></tr></table></div>\n",
              "        </body>\n",
              "        </html>\n",
              "\n",
              "        "
            ]
          },
          "metadata": {}
        },
        {
          "output_type": "error",
          "ename": "KeyboardInterrupt",
          "evalue": "Interrupted by user",
          "traceback": [
            "\u001b[0;31m---------------------------------------------------------------------------\u001b[0m",
            "\u001b[0;31mKeyboardInterrupt\u001b[0m                         Traceback (most recent call last)",
            "\u001b[0;32m<ipython-input-3-0ff8ba4d54cc>\u001b[0m in \u001b[0;36m<cell line: 113>\u001b[0;34m()\u001b[0m\n\u001b[1;32m    112\u001b[0m \u001b[0;34m\u001b[0m\u001b[0m\n\u001b[1;32m    113\u001b[0m \u001b[0;32mif\u001b[0m \u001b[0m__name__\u001b[0m\u001b[0;34m==\u001b[0m\u001b[0;34m\"__main__\"\u001b[0m\u001b[0;34m:\u001b[0m\u001b[0;34m\u001b[0m\u001b[0;34m\u001b[0m\u001b[0m\n\u001b[0;32m--> 114\u001b[0;31m     \u001b[0mmain\u001b[0m\u001b[0;34m(\u001b[0m\u001b[0;34m)\u001b[0m\u001b[0;34m\u001b[0m\u001b[0;34m\u001b[0m\u001b[0m\n\u001b[0m",
            "\u001b[0;32m<ipython-input-3-0ff8ba4d54cc>\u001b[0m in \u001b[0;36mmain\u001b[0;34m()\u001b[0m\n\u001b[1;32m    104\u001b[0m         \u001b[0mclear_output\u001b[0m\u001b[0;34m(\u001b[0m\u001b[0;34m)\u001b[0m\u001b[0;34m\u001b[0m\u001b[0;34m\u001b[0m\u001b[0m\n\u001b[1;32m    105\u001b[0m         \u001b[0mv\u001b[0m\u001b[0;34m.\u001b[0m\u001b[0mdisplay\u001b[0m\u001b[0;34m(\u001b[0m\u001b[0;34m)\u001b[0m\u001b[0;34m\u001b[0m\u001b[0;34m\u001b[0m\u001b[0m\n\u001b[0;32m--> 106\u001b[0;31m         \u001b[0mcommand\u001b[0m \u001b[0;34m=\u001b[0m \u001b[0minput\u001b[0m\u001b[0;34m(\u001b[0m\u001b[0;34m)\u001b[0m\u001b[0;34m\u001b[0m\u001b[0;34m\u001b[0m\u001b[0m\n\u001b[0m\u001b[1;32m    107\u001b[0m         \u001b[0;32mif\u001b[0m \u001b[0mcommand\u001b[0m \u001b[0;32min\u001b[0m \u001b[0;34m[\u001b[0m\u001b[0;34m\"u\"\u001b[0m\u001b[0;34m,\u001b[0m\u001b[0;34m\"d\"\u001b[0m\u001b[0;34m,\u001b[0m\u001b[0;34m\"l\"\u001b[0m\u001b[0;34m,\u001b[0m\u001b[0;34m\"r\"\u001b[0m\u001b[0;34m]\u001b[0m\u001b[0;34m:\u001b[0m\u001b[0;34m\u001b[0m\u001b[0;34m\u001b[0m\u001b[0m\n\u001b[1;32m    108\u001b[0m             \u001b[0mm\u001b[0m\u001b[0;34m.\u001b[0m\u001b[0maction\u001b[0m\u001b[0;34m(\u001b[0m\u001b[0mcommand\u001b[0m\u001b[0;34m)\u001b[0m\u001b[0;34m\u001b[0m\u001b[0;34m\u001b[0m\u001b[0m\n",
            "\u001b[0;32m/usr/local/lib/python3.10/dist-packages/ipykernel/kernelbase.py\u001b[0m in \u001b[0;36mraw_input\u001b[0;34m(self, prompt)\u001b[0m\n\u001b[1;32m    849\u001b[0m                 \u001b[0;34m\"raw_input was called, but this frontend does not support input requests.\"\u001b[0m\u001b[0;34m\u001b[0m\u001b[0;34m\u001b[0m\u001b[0m\n\u001b[1;32m    850\u001b[0m             )\n\u001b[0;32m--> 851\u001b[0;31m         return self._input_request(str(prompt),\n\u001b[0m\u001b[1;32m    852\u001b[0m             \u001b[0mself\u001b[0m\u001b[0;34m.\u001b[0m\u001b[0m_parent_ident\u001b[0m\u001b[0;34m,\u001b[0m\u001b[0;34m\u001b[0m\u001b[0;34m\u001b[0m\u001b[0m\n\u001b[1;32m    853\u001b[0m             \u001b[0mself\u001b[0m\u001b[0;34m.\u001b[0m\u001b[0m_parent_header\u001b[0m\u001b[0;34m,\u001b[0m\u001b[0;34m\u001b[0m\u001b[0;34m\u001b[0m\u001b[0m\n",
            "\u001b[0;32m/usr/local/lib/python3.10/dist-packages/ipykernel/kernelbase.py\u001b[0m in \u001b[0;36m_input_request\u001b[0;34m(self, prompt, ident, parent, password)\u001b[0m\n\u001b[1;32m    893\u001b[0m             \u001b[0;32mexcept\u001b[0m \u001b[0mKeyboardInterrupt\u001b[0m\u001b[0;34m:\u001b[0m\u001b[0;34m\u001b[0m\u001b[0;34m\u001b[0m\u001b[0m\n\u001b[1;32m    894\u001b[0m                 \u001b[0;31m# re-raise KeyboardInterrupt, to truncate traceback\u001b[0m\u001b[0;34m\u001b[0m\u001b[0;34m\u001b[0m\u001b[0m\n\u001b[0;32m--> 895\u001b[0;31m                 \u001b[0;32mraise\u001b[0m \u001b[0mKeyboardInterrupt\u001b[0m\u001b[0;34m(\u001b[0m\u001b[0;34m\"Interrupted by user\"\u001b[0m\u001b[0;34m)\u001b[0m \u001b[0;32mfrom\u001b[0m \u001b[0;32mNone\u001b[0m\u001b[0;34m\u001b[0m\u001b[0;34m\u001b[0m\u001b[0m\n\u001b[0m\u001b[1;32m    896\u001b[0m             \u001b[0;32mexcept\u001b[0m \u001b[0mException\u001b[0m \u001b[0;32mas\u001b[0m \u001b[0me\u001b[0m\u001b[0;34m:\u001b[0m\u001b[0;34m\u001b[0m\u001b[0;34m\u001b[0m\u001b[0m\n\u001b[1;32m    897\u001b[0m                 \u001b[0mself\u001b[0m\u001b[0;34m.\u001b[0m\u001b[0mlog\u001b[0m\u001b[0;34m.\u001b[0m\u001b[0mwarning\u001b[0m\u001b[0;34m(\u001b[0m\u001b[0;34m\"Invalid Message:\"\u001b[0m\u001b[0;34m,\u001b[0m \u001b[0mexc_info\u001b[0m\u001b[0;34m=\u001b[0m\u001b[0;32mTrue\u001b[0m\u001b[0;34m)\u001b[0m\u001b[0;34m\u001b[0m\u001b[0;34m\u001b[0m\u001b[0m\n",
            "\u001b[0;31mKeyboardInterrupt\u001b[0m: Interrupted by user"
          ]
        }
      ],
      "source": [
        "import numpy as np\n",
        "from IPython.display import display, HTML,clear_output\n",
        "class Model():\n",
        "    def __init__(self,size =(4,4),score = 0,done=False):\n",
        "        self._size=size\n",
        "        self._score = score\n",
        "        self._done = done\n",
        "        self._empty = 1\n",
        "        self._tiles = np.array([[self._empty for c in range(self._size[1])] for r in range(self._size[0])])\n",
        "\n",
        "    def __str__(self):\n",
        "        return \"Score:{}\\nGameover:{}\\n------------\\n{}\".format(self._score,self._done,self._tiles)\n",
        "\n",
        "    def action(self,command):\n",
        "        param={\n",
        "            \"u\":[range(self._size[0]),range(self._size[1]),-1,0],\n",
        "            \"d\":[range(self._size[0]-1,-1,-1),range(self._size[1]-1,-1,-1),1,0],\n",
        "            \"l\":[range(self._size[0]),range(self._size[1]),0,-1],\n",
        "            \"r\":[range(self._size[0]-1,-1,-1),range(self._size[1]-1,-1,-1),0,1],\n",
        "        }\n",
        "        rows,cols,dr,dc = param[command]\n",
        "        for row in rows:\n",
        "            for col in cols:\n",
        "                r = row\n",
        "                c = col\n",
        "                while True:\n",
        "                    r +=dr\n",
        "                    c += dc\n",
        "                    if 0 <= r < self._size[0] and 0 <= c < self._size[1]:\n",
        "                        if self._tiles[r,c] == self._empty:\n",
        "                            self._tiles[r,c] = self._tiles[r-dr,c-dc]\n",
        "                            self._tiles[r-dr,c-dc] = self._empty\n",
        "                        elif self._tiles[r,c] == self._tiles[r-dr,c-dc]:\n",
        "                            self._tiles[r,c] += self._tiles[r-dr,c-dc]\n",
        "                            self._tiles[r-dr,c-dc] = self._empty\n",
        "                            self._score += self._tiles[r,c]\n",
        "                            break\n",
        "                        else:\n",
        "                            break\n",
        "                    else:\n",
        "                        break\n",
        "\n",
        "\n",
        "\n",
        "    def update(self):\n",
        "        rows,cols = np.where(self._tiles == self._empty)\n",
        "        if len(rows)==0:\n",
        "            self._done = True\n",
        "        else:\n",
        "            idx = np.random.randint(0,len(rows))\n",
        "            row,col = rows[idx],cols[idx]\n",
        "            val = self.new_tile_val()\n",
        "            self._tiles[row,col] = val\n",
        "\n",
        "    def new_tile_val(self):\n",
        "        return 2\n",
        "class View():\n",
        "    def __init__(self, model):\n",
        "        self._model = model\n",
        "        self._html = \"\"\n",
        "        self._css = \"\"\n",
        "\n",
        "    def css(self):\n",
        "        pass\n",
        "\n",
        "    def html(self):\n",
        "        self.css()\n",
        "\n",
        "        table = \"<table border='1' align ='center'>\"\n",
        "        for r in range(self._model._size[0]):\n",
        "            table += \"<tr>\"\n",
        "            for c in range(self._model._size[1]):\n",
        "                table += \"<td width = '60pt' height='60pt'>{}</td>\".format(self._model._tiles[r,c])\n",
        "            table += \"</tr>\"\n",
        "        table += \"</table>\"\n",
        "\n",
        "        self._html = \"\"\"\n",
        "        <html>\n",
        "        <head>\n",
        "            <style>{}</style>\n",
        "        </head>\n",
        "        <body>\n",
        "            <h1>2048</h1>\n",
        "            <hr>\n",
        "            <h2>Score:{}</h2>\n",
        "            <h2>Gameover:{}</h2>\n",
        "            <hr>\n",
        "            <div class='tiles'>{}</div>\n",
        "        </body>\n",
        "        </html>\n",
        "\n",
        "        \"\"\".format(self._css,self._model._score,self._model._done,table)\n",
        "\n",
        "    def display(self):\n",
        "        self.html()\n",
        "        display(HTML(self._html))\n",
        "\n",
        "def main():\n",
        "    m = Model()\n",
        "    v = View(model = m)\n",
        "    m.update()\n",
        "    while True:\n",
        "        clear_output()\n",
        "        v.display()\n",
        "        command = input()\n",
        "        if command in [\"u\",\"d\",\"l\",\"r\"]:\n",
        "            m.action(command)\n",
        "            m.update()\n",
        "        else:\n",
        "            break\n",
        "\n",
        "if __name__==\"__main__\":\n",
        "    main()"
      ]
    },
    {
      "cell_type": "code",
      "execution_count": null,
      "metadata": {
        "id": "GUy9tkc160QC",
        "colab": {
          "base_uri": "https://localhost:8080/",
          "height": 828
        },
        "outputId": "fe779ce1-c132-488c-f07f-61b1c0a0aa37"
      },
      "outputs": [
        {
          "output_type": "display_data",
          "data": {
            "text/plain": [
              "<IPython.core.display.HTML object>"
            ],
            "text/html": [
              "\n",
              "        <html>\n",
              "            <head>\n",
              "                <style></style>\n",
              "            </head>\n",
              "            <body>\n",
              "                <h1>2048</h1>\n",
              "                <hr>\n",
              "                <h2>Score:0</h2>\n",
              "                <h2>Gameover:False</h2>\n",
              "                <hr>\n",
              "                <div class='tiles'><table border='1' align ='center'><tr><td width = '60pt' height='60pt'>1</td><td width = '60pt' height='60pt'>2</td><td width = '60pt' height='60pt'>1</td><td width = '60pt' height='60pt'>1</td></tr><tr><td width = '60pt' height='60pt'>1</td><td width = '60pt' height='60pt'>1</td><td width = '60pt' height='60pt'>1</td><td width = '60pt' height='60pt'>1</td></tr><tr><td width = '60pt' height='60pt'>1</td><td width = '60pt' height='60pt'>1</td><td width = '60pt' height='60pt'>1</td><td width = '60pt' height='60pt'>1</td></tr><tr><td width = '60pt' height='60pt'>1</td><td width = '60pt' height='60pt'>1</td><td width = '60pt' height='60pt'>1</td><td width = '60pt' height='60pt'>1</td></tr></table></div>\n",
              "            </body>\n",
              "        </html>\n",
              "\n",
              "        "
            ]
          },
          "metadata": {}
        },
        {
          "output_type": "error",
          "ename": "KeyboardInterrupt",
          "evalue": "Interrupted by user",
          "traceback": [
            "\u001b[0;31m---------------------------------------------------------------------------\u001b[0m",
            "\u001b[0;31mKeyboardInterrupt\u001b[0m                         Traceback (most recent call last)",
            "\u001b[0;32m<ipython-input-40-5ce301bb0e04>\u001b[0m in \u001b[0;36m<cell line: 58>\u001b[0;34m()\u001b[0m\n\u001b[1;32m     57\u001b[0m \u001b[0;34m\u001b[0m\u001b[0m\n\u001b[1;32m     58\u001b[0m \u001b[0;32mif\u001b[0m \u001b[0m__name__\u001b[0m\u001b[0;34m==\u001b[0m\u001b[0;34m\"__main__\"\u001b[0m\u001b[0;34m:\u001b[0m\u001b[0;34m\u001b[0m\u001b[0;34m\u001b[0m\u001b[0m\n\u001b[0;32m---> 59\u001b[0;31m     \u001b[0mmain\u001b[0m\u001b[0;34m(\u001b[0m\u001b[0;34m)\u001b[0m\u001b[0;34m\u001b[0m\u001b[0;34m\u001b[0m\u001b[0m\n\u001b[0m\u001b[1;32m     60\u001b[0m \u001b[0;34m\u001b[0m\u001b[0m\n\u001b[1;32m     61\u001b[0m \u001b[0;32mclass\u001b[0m \u001b[0mModel\u001b[0m\u001b[0;34m(\u001b[0m\u001b[0;34m)\u001b[0m\u001b[0;34m:\u001b[0m\u001b[0;34m\u001b[0m\u001b[0;34m\u001b[0m\u001b[0m\n",
            "\u001b[0;32m<ipython-input-40-5ce301bb0e04>\u001b[0m in \u001b[0;36mmain\u001b[0;34m()\u001b[0m\n\u001b[1;32m     49\u001b[0m         \u001b[0mclear_output\u001b[0m\u001b[0;34m(\u001b[0m\u001b[0;34m)\u001b[0m\u001b[0;34m\u001b[0m\u001b[0;34m\u001b[0m\u001b[0m\n\u001b[1;32m     50\u001b[0m         \u001b[0mv\u001b[0m\u001b[0;34m.\u001b[0m\u001b[0mdisplay\u001b[0m\u001b[0;34m(\u001b[0m\u001b[0;34m)\u001b[0m\u001b[0;34m\u001b[0m\u001b[0;34m\u001b[0m\u001b[0m\n\u001b[0;32m---> 51\u001b[0;31m         \u001b[0mcommand\u001b[0m \u001b[0;34m=\u001b[0m \u001b[0minput\u001b[0m\u001b[0;34m(\u001b[0m\u001b[0;34m)\u001b[0m\u001b[0;34m\u001b[0m\u001b[0;34m\u001b[0m\u001b[0m\n\u001b[0m\u001b[1;32m     52\u001b[0m         \u001b[0;32mif\u001b[0m \u001b[0mcommand\u001b[0m \u001b[0;32min\u001b[0m \u001b[0;34m[\u001b[0m\u001b[0;34m\"u\"\u001b[0m\u001b[0;34m,\u001b[0m\u001b[0;34m\"d\"\u001b[0m\u001b[0;34m,\u001b[0m\u001b[0;34m\"l\"\u001b[0m\u001b[0;34m,\u001b[0m\u001b[0;34m\"r\"\u001b[0m\u001b[0;34m]\u001b[0m\u001b[0;34m:\u001b[0m\u001b[0;34m\u001b[0m\u001b[0;34m\u001b[0m\u001b[0m\n\u001b[1;32m     53\u001b[0m             \u001b[0mm\u001b[0m\u001b[0;34m.\u001b[0m\u001b[0maction\u001b[0m\u001b[0;34m(\u001b[0m\u001b[0mcommand\u001b[0m\u001b[0;34m)\u001b[0m\u001b[0;34m\u001b[0m\u001b[0;34m\u001b[0m\u001b[0m\n",
            "\u001b[0;32m/usr/local/lib/python3.10/dist-packages/ipykernel/kernelbase.py\u001b[0m in \u001b[0;36mraw_input\u001b[0;34m(self, prompt)\u001b[0m\n\u001b[1;32m    849\u001b[0m                 \u001b[0;34m\"raw_input was called, but this frontend does not support input requests.\"\u001b[0m\u001b[0;34m\u001b[0m\u001b[0;34m\u001b[0m\u001b[0m\n\u001b[1;32m    850\u001b[0m             )\n\u001b[0;32m--> 851\u001b[0;31m         return self._input_request(str(prompt),\n\u001b[0m\u001b[1;32m    852\u001b[0m             \u001b[0mself\u001b[0m\u001b[0;34m.\u001b[0m\u001b[0m_parent_ident\u001b[0m\u001b[0;34m,\u001b[0m\u001b[0;34m\u001b[0m\u001b[0;34m\u001b[0m\u001b[0m\n\u001b[1;32m    853\u001b[0m             \u001b[0mself\u001b[0m\u001b[0;34m.\u001b[0m\u001b[0m_parent_header\u001b[0m\u001b[0;34m,\u001b[0m\u001b[0;34m\u001b[0m\u001b[0;34m\u001b[0m\u001b[0m\n",
            "\u001b[0;32m/usr/local/lib/python3.10/dist-packages/ipykernel/kernelbase.py\u001b[0m in \u001b[0;36m_input_request\u001b[0;34m(self, prompt, ident, parent, password)\u001b[0m\n\u001b[1;32m    893\u001b[0m             \u001b[0;32mexcept\u001b[0m \u001b[0mKeyboardInterrupt\u001b[0m\u001b[0;34m:\u001b[0m\u001b[0;34m\u001b[0m\u001b[0;34m\u001b[0m\u001b[0m\n\u001b[1;32m    894\u001b[0m                 \u001b[0;31m# re-raise KeyboardInterrupt, to truncate traceback\u001b[0m\u001b[0;34m\u001b[0m\u001b[0;34m\u001b[0m\u001b[0m\n\u001b[0;32m--> 895\u001b[0;31m                 \u001b[0;32mraise\u001b[0m \u001b[0mKeyboardInterrupt\u001b[0m\u001b[0;34m(\u001b[0m\u001b[0;34m\"Interrupted by user\"\u001b[0m\u001b[0;34m)\u001b[0m \u001b[0;32mfrom\u001b[0m \u001b[0;32mNone\u001b[0m\u001b[0;34m\u001b[0m\u001b[0;34m\u001b[0m\u001b[0m\n\u001b[0m\u001b[1;32m    896\u001b[0m             \u001b[0;32mexcept\u001b[0m \u001b[0mException\u001b[0m \u001b[0;32mas\u001b[0m \u001b[0me\u001b[0m\u001b[0;34m:\u001b[0m\u001b[0;34m\u001b[0m\u001b[0;34m\u001b[0m\u001b[0m\n\u001b[1;32m    897\u001b[0m                 \u001b[0mself\u001b[0m\u001b[0;34m.\u001b[0m\u001b[0mlog\u001b[0m\u001b[0;34m.\u001b[0m\u001b[0mwarning\u001b[0m\u001b[0;34m(\u001b[0m\u001b[0;34m\"Invalid Message:\"\u001b[0m\u001b[0;34m,\u001b[0m \u001b[0mexc_info\u001b[0m\u001b[0;34m=\u001b[0m\u001b[0;32mTrue\u001b[0m\u001b[0;34m)\u001b[0m\u001b[0;34m\u001b[0m\u001b[0;34m\u001b[0m\u001b[0m\n",
            "\u001b[0;31mKeyboardInterrupt\u001b[0m: Interrupted by user"
          ]
        }
      ],
      "source": [
        "import numpy as np\n",
        "from IPython.display import clear_output\n",
        "\n",
        "class View():\n",
        "    def __init__(self, model):\n",
        "        self._model = model\n",
        "        self._html = \"\"\n",
        "        self._css = \"\"\n",
        "\n",
        "    def css(self):\n",
        "        pass\n",
        "\n",
        "    def html(self):\n",
        "        self.css()\n",
        "        table = \"<table border='1' align ='center'>\"\n",
        "        for r in range(self._model._size[0]):\n",
        "            table += \"<tr>\"\n",
        "            for c in range(self._model._size[1]):\n",
        "                table += \"<td width = '60pt' height='60pt'>{}</td>\".format(self._model._tiles[r,c])\n",
        "            table += \"</tr>\"\n",
        "        table += \"</table>\"\n",
        "\n",
        "        self._html = \"\"\"\n",
        "        <html>\n",
        "            <head>\n",
        "                <style>{}</style>\n",
        "            </head>\n",
        "            <body>\n",
        "                <h1>2048</h1>\n",
        "                <hr>\n",
        "                <h2>Score:{}</h2>\n",
        "                <h2>Gameover:{}</h2>\n",
        "                <hr>\n",
        "                <div class='tiles'>{}</div>\n",
        "            </body>\n",
        "        </html>\n",
        "\n",
        "        \"\"\".format(self._css,self._model._score,self._model._done,table)\n",
        "\n",
        "    def display(self):\n",
        "        self.html()\n",
        "        display(HTML(self._html))\n",
        "\n",
        "def main():\n",
        "    m = Model()\n",
        "    v = View(model = m)\n",
        "    m.update()\n",
        "    while True:\n",
        "        clear_output()\n",
        "        v.display()\n",
        "        command = input()\n",
        "        if command in [\"u\",\"d\",\"l\",\"r\"]:\n",
        "            m.action(command)\n",
        "            m.update()\n",
        "        else:\n",
        "            break\n",
        "\n",
        "if __name__==\"__main__\":\n",
        "    main()\n",
        "\n",
        "class Model():\n",
        "    def __init__(self,size =(4,4),score = 0,done=False):\n",
        "        self._size=size\n",
        "        self._score = score\n",
        "        self._done = done\n",
        "        self._empty = 1\n",
        "        self._tiles = np.array([[self._empty for c in range(self._size[1])] for r in range(self._size[0])])\n",
        "\n",
        "    def __str__(self):\n",
        "        return \"Score:{}\\nGameover:{}\\n------------\\n{}\".format(self._score,self._done,self._tiles)\n",
        "\n",
        "    def action(self,command):\n",
        "        param={\n",
        "            \"u\":[range(self._size[0]),range(self._size[1]),-1,0],\n",
        "            \"d\":[range(self._size[0]-1,-1,-1),range(self._size[1]-1,-1,-1),1,0],\n",
        "            \"l\":[range(self._size[0]),range(self._size[1]),0,-1],\n",
        "            \"r\":[range(self._size[0]-1,-1,-1),range(self._size[1]-1,-1,-1),0,1],\n",
        "        }\n",
        "        rows,cols,dr,dc = param[command]\n",
        "        for row in rows:\n",
        "            for col in cols:\n",
        "                r = row\n",
        "                c = col\n",
        "                while True:\n",
        "                    r +=dr\n",
        "                    c += dc\n",
        "                    if 0 <= r < self._size[0] and 0 <= c < self._size[1]:\n",
        "                        if self._tiles[r,c] == self._empty:\n",
        "                            self._tiles[r,c] = self._tiles[r-dr,c-dc]\n",
        "                            self._tiles[r-dr,c-dc] = self._empty\n",
        "                        elif self._tiles[r,c] == self._tiles[r-dr,c-dc]:\n",
        "                            self._tiles[r,c] += self._tiles[r-dr,c-dc]\n",
        "                            self._tiles[r-dr,c-dc] = self._empty\n",
        "                            self._score += self._tiles[r,c]\n",
        "                            break\n",
        "                        else:\n",
        "                            break\n",
        "                    else:\n",
        "                        break\n",
        "\n",
        "\n",
        "\n",
        "    def update(self):\n",
        "        rows,cols = np.where(self._tiles == self._empty)\n",
        "        if len(rows)==0:\n",
        "            self._done = True\n",
        "        else:\n",
        "            idx = np.random.randint(0,len(rows))\n",
        "            row,col = rows[idx],cols[idx]\n",
        "            val = self.new_tile_val()\n",
        "            self._tiles[row,col] = val\n",
        "\n",
        "    def new_tile_val(self):\n",
        "        return 2"
      ]
    },
    {
      "cell_type": "code",
      "execution_count": null,
      "metadata": {
        "id": "g5W8ueWjRnk9",
        "colab": {
          "base_uri": "https://localhost:8080/",
          "height": 468
        },
        "outputId": "8e7758ec-67b7-4863-8d68-f10e9e39818d"
      },
      "outputs": [
        {
          "output_type": "display_data",
          "data": {
            "text/plain": [
              "<IPython.core.display.HTML object>"
            ],
            "text/html": [
              "\n",
              "        <html>\n",
              "            <head>\n",
              "                <style>\n",
              "        * {text-align:center;}\n",
              "        .tiles{font-size:24px;}\n",
              "        </style>\n",
              "            </head>\n",
              "            <body>\n",
              "                <h1>2048</h1>\n",
              "                <hr>\n",
              "                <h2>Score:4</h2>\n",
              "                <h2>Gameover:False</h2>\n",
              "                <hr>\n",
              "                <div class='tiles'><table border='1' align ='center'><tr><td width = '60pt' height='60pt' bgcolor='ffcc80'>4</td><td width='60' height='60pt'></td><td width='60' height='60pt'></td><td width = '60pt' height='60pt' bgcolor='ffcc40'>2</td></tr><tr><td width = '60pt' height='60pt' bgcolor='ffcc40'>2</td><td width='60' height='60pt'></td><td width='60' height='60pt'></td><td width='60' height='60pt'></td></tr><tr><td width='60' height='60pt'></td><td width='60' height='60pt'></td><td width = '60pt' height='60pt' bgcolor='ffcc40'>2</td><td width='60' height='60pt'></td></tr><tr><td width='60' height='60pt'></td><td width='60' height='60pt'></td><td width='60' height='60pt'></td><td width='60' height='60pt'></td></tr></table></div>\n",
              "            </body>\n",
              "        </html>\n",
              "        "
            ]
          },
          "metadata": {}
        }
      ],
      "source": [
        "import numpy as np\n",
        "from IPython.display import display, HTML,clear_output\n",
        "class Model():\n",
        "    def __init__(self,size =(4,4),score = 0,done=False):\n",
        "        self._size=size\n",
        "        self._score = score\n",
        "        self._done = done\n",
        "        self._empty = 1\n",
        "        self._tiles = np.array([[self._empty for c in range(self._size[1])] for r in range(self._size[0])])\n",
        "\n",
        "    def __str__(self):\n",
        "        return \"Score:{}\\nGameover:{}\\n------------\\n{}\".format(self._score,self._done,self._tiles)\n",
        "\n",
        "    def action(self,command):\n",
        "        param={\n",
        "            \"u\":[range(self._size[0]),range(self._size[1]),-1,0],\n",
        "            \"d\":[range(self._size[0]-1,-1,-1),range(self._size[1]-1,-1,-1),1,0],\n",
        "            \"l\":[range(self._size[0]),range(self._size[1]),0,-1],\n",
        "            \"r\":[range(self._size[0]-1,-1,-1),range(self._size[1]-1,-1,-1),0,1],\n",
        "        }\n",
        "        rows,cols,dr,dc = param[command]\n",
        "        for row in rows:\n",
        "            for col in cols:\n",
        "                r = row\n",
        "                c = col\n",
        "                while True:\n",
        "                    r +=dr\n",
        "                    c += dc\n",
        "                    if 0 <= r < self._size[0] and 0 <= c < self._size[1]:\n",
        "                        if self._tiles[r,c] == self._empty:\n",
        "                            self._tiles[r,c] = self._tiles[r-dr,c-dc]\n",
        "                            self._tiles[r-dr,c-dc] = self._empty\n",
        "                        elif self._tiles[r,c] == self._tiles[r-dr,c-dc]:\n",
        "                            self._tiles[r,c] += self._tiles[r-dr,c-dc]\n",
        "                            self._tiles[r-dr,c-dc] = self._empty\n",
        "                            self._score += self._tiles[r,c]\n",
        "                            break\n",
        "                        else:\n",
        "                            break\n",
        "                    else:\n",
        "                        break\n",
        "\n",
        "\n",
        "\n",
        "    def update(self):\n",
        "        rows,cols = np.where(self._tiles == self._empty)\n",
        "        if len(rows)==0:\n",
        "            self._done = True\n",
        "        else:\n",
        "            idx = np.random.randint(0,len(rows))\n",
        "            row,col = rows[idx],cols[idx]\n",
        "            val = self.new_tile_val()\n",
        "            self._tiles[row,col] = val\n",
        "\n",
        "    def new_tile_val(self):\n",
        "        return 2\n",
        "class View():\n",
        "    def __init__(self, model):\n",
        "        self._model = model\n",
        "        self._html = \"\"\n",
        "        self._css = \"\"\n",
        "\n",
        "    def css(self):\n",
        "        self._css = \"\"\"\n",
        "        * {text-align:center;}\n",
        "        .tiles{font-size:24px;}\n",
        "        \"\"\"\n",
        "\n",
        "    def html(self):\n",
        "        self.css()\n",
        "        table = \"<table border='1' align ='center'>\"\n",
        "        for r in range(self._model._size[0]):\n",
        "            table += \"<tr>\"\n",
        "            for c in range(self._model._size[1]):\n",
        "                if self._model._tiles[r,c] != self._model._empty:\n",
        "                    color = \"ffcc{:02x}\".format(min(np.log2(self._model._tiles[r,c]).astype(\"int\")*64,255))\n",
        "                    table += \"<td width = '60pt' height='60pt' bgcolor='{}'>{}</td>\".format(color,self._model._tiles[r,c])\n",
        "                else:\n",
        "                    table += \"<td width='60' height='60pt'></td>\"\n",
        "            table += \"</tr>\"\n",
        "        table += \"</table>\"\n",
        "\n",
        "        self._html = \"\"\"\n",
        "        <html>\n",
        "            <head>\n",
        "                <style>{}</style>\n",
        "            </head>\n",
        "            <body>\n",
        "                <h1>2048</h1>\n",
        "                <hr>\n",
        "                <h2>Score:{}</h2>\n",
        "                <h2>Gameover:{}</h2>\n",
        "                <hr>\n",
        "                <div class='tiles'>{}</div>\n",
        "            </body>\n",
        "        </html>\n",
        "        \"\"\".format(self._css,self._model._score,self._model._done,table)\n",
        "\n",
        "    def display(self):\n",
        "        self.html()\n",
        "        display(HTML(self._html))\n",
        "\n",
        "def main():\n",
        "    m = Model()\n",
        "    v = View(model = m)\n",
        "    m.update()\n",
        "    while True:\n",
        "        clear_output()\n",
        "        v.display()\n",
        "        command = input()\n",
        "        if command in [\"u\",\"d\",\"l\",\"r\"]:\n",
        "            m.action(command)\n",
        "            m.update()\n",
        "        else:\n",
        "            break\n",
        "\n",
        "if __name__==\"__main__\":\n",
        "    main()\n"
      ]
    },
    {
      "cell_type": "code",
      "execution_count": null,
      "metadata": {
        "id": "el-LznSTVojD"
      },
      "outputs": [],
      "source": [
        "class View():\n",
        "    def __init__(self, model):\n",
        "        self._model = model\n",
        "        self._html = \"\"\n",
        "        self._css = \"\"\n",
        "        self._js = \"\"\n",
        "\n",
        "    def css(self):\n",
        "        self._css = \"\"\"\n",
        "        * {text-align:center;}\n",
        "        .tiles{font-size:24px;}\n",
        "        \"\"\"\n",
        "    def js(self):\n",
        "        self._js = \"\"\"\n",
        "        document.querySelector('#u').onclick = () => {google.colab.kernel.invokeFunction('update',['u'],{});};\n",
        "        document.querySelector('#d').onclick = () => {google.colab.kernel.invokeFunction('update',['d'],{});};\n",
        "        document.querySelector('#l').onclick = () => {google.colab.kernel.invokeFunction('update',['l'],{});};\n",
        "        document.querySelector('#r').onclick = () => {google.colab.kernel.invokeFunction('update',['r'],{});};\n",
        "        \"\"\"\n",
        "\n",
        "    def html(self):\n",
        "        self.css()\n",
        "        self.js()\n",
        "        table = \"<table border='1' align ='center'>\"\n",
        "        for r in range(self._model._size[0]):\n",
        "            table += \"<tr>\"\n",
        "            for c in range(self._model._size[1]):\n",
        "                if self._model._tiles[r,c] != self._model._empty:\n",
        "                    color = \"ffcc{:02x}\".format(min(np.log2(self._model._tiles[r,c]).astype(\"int\")*64,255))\n",
        "                    table += \"<td width = '60pt' height='60pt' bgcolor='{}'>{}</td>\".format(color,self._model._tiles[r,c])\n",
        "                else:\n",
        "                    table += \"<td width='60' height='60pt'></td>\"\n",
        "            table += \"</tr>\"\n",
        "        table += \"</table>\"\n",
        "\n",
        "        self._html = \"\"\"\n",
        "        <html>\n",
        "            <head>\n",
        "                <style>{}</style>\n",
        "                <script>{}</script>\n",
        "            </head>\n",
        "            <body>\n",
        "                <h1>2048</h1>\n",
        "                <hr>\n",
        "                <h2>Score:{}</h2>\n",
        "                <h2>Gameover:{}</h2>\n",
        "                <hr>\n",
        "                <button id ='u'>↑</button>\n",
        "                <br>\n",
        "                <button id ='l'>←</button><button id ='d'>↓</button><button id ='r'>→</button>\n",
        "                <hr>\n",
        "                <div class='tiles'>{}</div>\n",
        "            </body>\n",
        "        </html>\n",
        "        \"\"\".format(self._css,self._js,self._model._score,self._model._done,table)\n",
        "\n",
        "    def display(self):\n",
        "        self.html()\n",
        "        display(HTML(self._html))\n",
        "        output.register_callback('update',self.update)\n",
        "\n",
        "    def update(self,command):\n",
        "        self._model.action(command)\n",
        "        self._model.update()\n",
        "        self.html()\n",
        "        clear_output()\n",
        "        self.display()\n",
        "\n",
        "def main():\n",
        "    m = Model()\n",
        "    v = View(model = m)\n",
        "    m.update()\n",
        "    v.display()\n",
        "\n",
        "if __name__==\"__main__\":\n",
        "    main()\n",
        "\n",
        "\n"
      ]
    },
    {
      "cell_type": "markdown",
      "source": [
        "# 総括テスト対策\n",
        "\n",
        "バグの原因と対策"
      ],
      "metadata": {
        "id": "SKWRhboatdyi"
      }
    },
    {
      "cell_type": "code",
      "source": [
        "print("
      ],
      "metadata": {
        "colab": {
          "base_uri": "https://localhost:8080/",
          "height": 148
        },
        "id": "Ok4YS5Dauexq",
        "outputId": "5c5fc79b-8feb-47e3-f83e-6be8d04e3aaf"
      },
      "execution_count": null,
      "outputs": [
        {
          "output_type": "error",
          "ename": "SyntaxError",
          "evalue": "ignored",
          "traceback": [
            "\u001b[0;36m  File \u001b[0;32m\"<ipython-input-1-424fbb3a34c5>\"\u001b[0;36m, line \u001b[0;32m1\u001b[0m\n\u001b[0;31m    print(\u001b[0m\n\u001b[0m          ^\u001b[0m\n\u001b[0;31mSyntaxError\u001b[0m\u001b[0;31m:\u001b[0m incomplete input\n"
          ]
        }
      ]
    },
    {
      "cell_type": "code",
      "source": [
        "text2 = \"hello\"\n",
        "\n",
        "print(text2)\n"
      ],
      "metadata": {
        "colab": {
          "base_uri": "https://localhost:8080/"
        },
        "id": "ssFn7NQGuoTi",
        "outputId": "9008e871-8981-436c-b9f2-6ef7cb54cfa7"
      },
      "execution_count": null,
      "outputs": [
        {
          "output_type": "stream",
          "name": "stdout",
          "text": [
            "hello\n"
          ]
        }
      ]
    },
    {
      "cell_type": "code",
      "source": [
        "text = 3\n",
        "\n",
        "print(\"ごくろう\", text)"
      ],
      "metadata": {
        "colab": {
          "base_uri": "https://localhost:8080/"
        },
        "id": "7qqUe4mAu-I6",
        "outputId": "ceb4698e-fb09-494e-d86b-65e3bc6c5ea2"
      },
      "execution_count": null,
      "outputs": [
        {
          "output_type": "stream",
          "name": "stdout",
          "text": [
            "ごくろう 3\n"
          ]
        }
      ]
    },
    {
      "cell_type": "code",
      "source": [
        "text = 3\n",
        "\n",
        "print(5+ text)"
      ],
      "metadata": {
        "colab": {
          "base_uri": "https://localhost:8080/"
        },
        "id": "SohK6mqmvdVl",
        "outputId": "51461cf9-b081-422a-9b8d-21994ec37ec5"
      },
      "execution_count": null,
      "outputs": [
        {
          "output_type": "stream",
          "name": "stdout",
          "text": [
            "8\n"
          ]
        }
      ]
    },
    {
      "cell_type": "markdown",
      "source": [
        "print()関数において\n",
        "()かっこの中は、統一しなければならない。\n",
        "\n",
        "例えば、\n",
        "数字なら数字\n",
        "文字なら文字\n"
      ],
      "metadata": {
        "id": "Qxr-jxo5vJdK"
      }
    },
    {
      "cell_type": "markdown",
      "source": [
        "リストの内包表記"
      ],
      "metadata": {
        "id": "HX87uCWZv16l"
      }
    },
    {
      "cell_type": "code",
      "source": [
        "a = [for i in range(10)]\n",
        "\n",
        "print(a)"
      ],
      "metadata": {
        "colab": {
          "base_uri": "https://localhost:8080/",
          "height": 148
        },
        "id": "WcvrOAjKv5oy",
        "outputId": "957fca06-2d4b-42b7-fdc5-fc42f43153f0"
      },
      "execution_count": null,
      "outputs": [
        {
          "output_type": "error",
          "ename": "SyntaxError",
          "evalue": "ignored",
          "traceback": [
            "\u001b[0;36m  File \u001b[0;32m\"<ipython-input-12-33affb703815>\"\u001b[0;36m, line \u001b[0;32m1\u001b[0m\n\u001b[0;31m    a = [for i in range(10)]\u001b[0m\n\u001b[0m         ^\u001b[0m\n\u001b[0;31mSyntaxError\u001b[0m\u001b[0;31m:\u001b[0m invalid syntax\n"
          ]
        }
      ]
    },
    {
      "cell_type": "code",
      "source": [
        "b = [j for j in range(5)]\n",
        "print(b)\n",
        "a = [b for i in range(5)]\n",
        "print(a)\n",
        "for w in a:\n",
        "    print(w)"
      ],
      "metadata": {
        "colab": {
          "base_uri": "https://localhost:8080/"
        },
        "id": "Z2YN_CLZwPKC",
        "outputId": "016e975b-dd3a-47cf-c76e-f7ca6df96fb3"
      },
      "execution_count": null,
      "outputs": [
        {
          "output_type": "stream",
          "name": "stdout",
          "text": [
            "[0, 1, 2, 3, 4]\n",
            "[[0, 1, 2, 3, 4], [0, 1, 2, 3, 4], [0, 1, 2, 3, 4], [0, 1, 2, 3, 4], [0, 1, 2, 3, 4]]\n",
            "[0, 1, 2, 3, 4]\n",
            "[0, 1, 2, 3, 4]\n",
            "[0, 1, 2, 3, 4]\n",
            "[0, 1, 2, 3, 4]\n",
            "[0, 1, 2, 3, 4]\n"
          ]
        }
      ]
    },
    {
      "cell_type": "markdown",
      "source": [
        "for文\n"
      ],
      "metadata": {
        "id": "jcy-0fxCwDlr"
      }
    },
    {
      "cell_type": "code",
      "source": [
        "for i in range(10):\n",
        "    print(i,end = \" \")"
      ],
      "metadata": {
        "colab": {
          "base_uri": "https://localhost:8080/"
        },
        "id": "ESu_ickTwJLs",
        "outputId": "de2ef25d-8e71-4c75-8b24-fa117fa7138b"
      },
      "execution_count": null,
      "outputs": [
        {
          "output_type": "stream",
          "name": "stdout",
          "text": [
            "0 1 2 3 4 5 6 7 8 9 "
          ]
        }
      ]
    },
    {
      "cell_type": "code",
      "source": [
        "kudamono = [\"mikan\",\"budou\",\"banana\",\"ringo\"]\n",
        "#kudamono[0] == \"mikan\"\n",
        "#kudamono[1] == \"budou\"\n",
        "#kudamono[2] == \"banana\"\n",
        "\n",
        "\n",
        "for i in range(4):# 0~2\n",
        "    print(kudamono[i])\n",
        "\n",
        "for f in kudamono:\n",
        "    print(f)"
      ],
      "metadata": {
        "colab": {
          "base_uri": "https://localhost:8080/"
        },
        "id": "XKwsupTQxqZR",
        "outputId": "28c26c03-f4a2-401f-f063-3b7142f762c0"
      },
      "execution_count": null,
      "outputs": [
        {
          "output_type": "stream",
          "name": "stdout",
          "text": [
            "mikan\n",
            "budou\n",
            "banana\n",
            "ringo\n",
            "mikan\n",
            "budou\n",
            "banana\n",
            "ringo\n"
          ]
        }
      ]
    },
    {
      "cell_type": "markdown",
      "source": [
        "配列\n",
        "\n",
        "append()\n",
        "\n",
        "pop()\n",
        "\n",
        "insert()"
      ],
      "metadata": {
        "id": "ReXMncPF0Qi2"
      }
    },
    {
      "cell_type": "code",
      "source": [
        "kudamono = [\"mikan\",\"budou\",\"banana\",\"ringo\"]\n",
        "\n",
        "#kudamono[4] = \"momo\"\n",
        "print(kudamono)\n",
        "\n",
        "kudamono.append(\"momo\")\n",
        "\n",
        "print(kudamono)\n",
        "\n",
        "kudamono.pop(1)\n",
        "\n",
        "print(kudamono)"
      ],
      "metadata": {
        "colab": {
          "base_uri": "https://localhost:8080/"
        },
        "id": "nHR_sjGuzn7b",
        "outputId": "66320188-3827-4ae3-e9bc-41c37845766d"
      },
      "execution_count": null,
      "outputs": [
        {
          "output_type": "stream",
          "name": "stdout",
          "text": [
            "['mikan', 'budou', 'banana', 'ringo']\n",
            "['mikan', 'budou', 'banana', 'ringo', 'momo']\n",
            "['mikan', 'banana', 'ringo', 'momo']\n"
          ]
        }
      ]
    },
    {
      "cell_type": "code",
      "source": [
        "kudamono = [\"mikan\",\"budou\",\"momo\"]\n",
        "print(kudamono.pop(0))\n",
        "\n"
      ],
      "metadata": {
        "id": "J6Qt051-67Vx",
        "outputId": "0b62996b-684c-42f4-d315-394246b683ad",
        "colab": {
          "base_uri": "https://localhost:8080/"
        }
      },
      "execution_count": null,
      "outputs": [
        {
          "output_type": "stream",
          "name": "stdout",
          "text": [
            "mikan\n"
          ]
        }
      ]
    },
    {
      "cell_type": "markdown",
      "source": [
        "  0 1 2 3 4  j\n",
        "0 0 1 2 3 4\n",
        "1 5 6 7 8 9\n",
        "2 10\n",
        "3\n",
        "4\n",
        "5\n",
        "6\n",
        "7\n",
        "i"
      ],
      "metadata": {
        "id": "3uEvCY1J9pt-"
      }
    },
    {
      "cell_type": "code",
      "source": [
        "import random\n",
        "\n",
        "name_list = [i for i in range(1,39)]\n",
        "random.shuffle(name_list)\n",
        "name_list.append(\"\")\n",
        "name_list.append(\"\")\n",
        "\n",
        "print(\"\\t\\t教卓\\t\\t\")\n",
        "\n",
        "for i in range(8):\n",
        "    for j in range(5):\n",
        "        print(name_list[i*5+j],end = \"\\t\")\n",
        "    print()\n",
        "\n"
      ],
      "metadata": {
        "colab": {
          "base_uri": "https://localhost:8080/"
        },
        "id": "vfBxPwk667De",
        "outputId": "4d8c19d3-44a9-47d7-9e20-90ff3ddcc587"
      },
      "execution_count": null,
      "outputs": [
        {
          "output_type": "stream",
          "name": "stdout",
          "text": [
            "\t\t教卓\t\t\n",
            "28\t18\t34\t22\t30\t\n",
            "36\t14\t5\t2\t15\t\n",
            "21\t13\t19\t31\t20\t\n",
            "16\t1\t10\t17\t32\t\n",
            "4\t25\t12\t11\t3\t\n",
            "29\t33\t27\t8\t38\t\n",
            "37\t7\t9\t6\t26\t\n",
            "23\t24\t35\t\t\t\n"
          ]
        }
      ]
    },
    {
      "cell_type": "code",
      "source": [
        "import random\n",
        "name_list = [i for i in range(1,39)]\n",
        "random.shuffle(name_list)\n",
        "print(name_list)"
      ],
      "metadata": {
        "colab": {
          "base_uri": "https://localhost:8080/"
        },
        "id": "CN1WtOjM_jlL",
        "outputId": "240c94cb-cacb-40b9-eb14-e76bc6b6789c"
      },
      "execution_count": null,
      "outputs": [
        {
          "output_type": "stream",
          "name": "stdout",
          "text": [
            "[9, 1, 19, 5, 36, 34, 37, 15, 7, 3, 38, 23, 10, 13, 26, 24, 29, 17, 4, 33, 18, 28, 16, 35, 20, 11, 32, 25, 22, 31, 21, 27, 6, 30, 8, 2, 12, 14]\n"
          ]
        }
      ]
    },
    {
      "cell_type": "markdown",
      "source": [
        "* ババ抜きのプログラム\n",
        "\n",
        "要件\n",
        "\n",
        "実装してみたら意外と大変かも、、、\n",
        "自分と相手のターンを交互にまわしてみて。\n",
        "最初に配列として、0～12のカードをお互いに引いて、ジョーカーとして、１３をどちらかの手札にappendしてください。そして、お互いにカードを引き合ってください。毎回カードをシャッフルすると\n",
        "いい勝負になるのでは？？\n"
      ],
      "metadata": {
        "id": "8ClgQVDBBGc6"
      }
    },
    {
      "cell_type": "code",
      "source": [
        "import random\n",
        "\n",
        "p = [i for i in range(1,14)]\n",
        "e = [i for i in range(1,15)]\n",
        "\n",
        "flag = 0\n",
        "while flag  == 0:\n",
        "    print(len(e),\"までの数字を入力してください\")\n",
        "    dn = int(input()) - 1\n",
        "    random.shuffle(e)\n",
        "    d = e.pop(dn)\n",
        "\n",
        "    print(\"playerが引いたカードは:\",d)\n",
        "    for i in range(len(p)):\n",
        "        if p[i] == d:\n",
        "\n",
        "            print(\"match\",len(p))\n",
        "            p.pop(i)\n",
        "            break\n",
        "    print(\"p:\",p)\n",
        "    random.shuffle(p)\n",
        "\n",
        "    d = p.pop(0)\n",
        "    print(\"enemyが引いたカードは:\",d)\n",
        "    for i in range(len(e)):\n",
        "        if e[i] == d:\n",
        "            print(\"enemy match\",len(e))\n",
        "            e.pop(i)\n",
        "            break\n",
        "    print(\"e:\",e)\n",
        "\n",
        "print(\"point:\",13 - len(p))\n"
      ],
      "metadata": {
        "colab": {
          "base_uri": "https://localhost:8080/",
          "height": 1000
        },
        "id": "9NiSwdbeBILa",
        "outputId": "a055033a-e64e-4e9e-bd0a-8ab09133874c"
      },
      "execution_count": null,
      "outputs": [
        {
          "output_type": "stream",
          "name": "stdout",
          "text": [
            "14 までの数字を入力してください\n",
            "1\n",
            "playerが引いたカードは: 8\n",
            "match 13\n",
            "p: [1, 2, 3, 4, 5, 6, 7, 9, 10, 11, 12, 13]\n",
            "enemyが引いたカードは: 2\n",
            "enemy match 13\n",
            "e: [7, 6, 3, 9, 5, 10, 1, 12, 11, 13, 4, 14]\n",
            "12 までの数字を入力してください\n",
            "1\n",
            "playerが引いたカードは: 10\n",
            "match 11\n",
            "p: [1, 6, 9, 11, 4, 5, 7, 12, 13, 3]\n",
            "enemyが引いたカードは: 5\n",
            "enemy match 11\n",
            "e: [3, 14, 12, 7, 1, 11, 6, 9, 4, 13]\n",
            "10 までの数字を入力してください\n",
            "1\n",
            "playerが引いたカードは: 11\n",
            "match 9\n",
            "p: [1, 13, 4, 6, 12, 9, 3, 7]\n",
            "enemyが引いたカードは: 6\n",
            "enemy match 9\n",
            "e: [13, 1, 7, 3, 9, 14, 4, 12]\n",
            "8 までの数字を入力してください\n",
            "1\n",
            "playerが引いたカードは: 3\n",
            "match 7\n",
            "p: [13, 4, 12, 9, 7, 1]\n",
            "enemyが引いたカードは: 13\n",
            "enemy match 7\n",
            "e: [9, 4, 12, 14, 7, 1]\n",
            "6 までの数字を入力してください\n",
            "1\n",
            "playerが引いたカードは: 7\n",
            "match 5\n",
            "p: [9, 1, 12, 4]\n",
            "enemyが引いたカードは: 4\n",
            "enemy match 5\n",
            "e: [9, 1, 14, 12]\n",
            "4 までの数字を入力してください\n",
            "1\n",
            "playerが引いたカードは: 1\n",
            "match 3\n",
            "p: [9, 12]\n",
            "enemyが引いたカードは: 9\n",
            "enemy match 3\n",
            "e: [12, 14]\n",
            "2 までの数字を入力してください\n",
            "1\n",
            "playerが引いたカードは: 12\n",
            "match 1\n",
            "p: []\n"
          ]
        },
        {
          "output_type": "error",
          "ename": "IndexError",
          "evalue": "ignored",
          "traceback": [
            "\u001b[0;31m---------------------------------------------------------------------------\u001b[0m",
            "\u001b[0;31mIndexError\u001b[0m                                Traceback (most recent call last)",
            "\u001b[0;32m<ipython-input-35-97cc67c0431f>\u001b[0m in \u001b[0;36m<cell line: 7>\u001b[0;34m()\u001b[0m\n\u001b[1;32m     20\u001b[0m     \u001b[0mprint\u001b[0m\u001b[0;34m(\u001b[0m\u001b[0;34m\"p:\"\u001b[0m\u001b[0;34m,\u001b[0m\u001b[0mp\u001b[0m\u001b[0;34m)\u001b[0m\u001b[0;34m\u001b[0m\u001b[0;34m\u001b[0m\u001b[0m\n\u001b[1;32m     21\u001b[0m     \u001b[0mrandom\u001b[0m\u001b[0;34m.\u001b[0m\u001b[0mshuffle\u001b[0m\u001b[0;34m(\u001b[0m\u001b[0mp\u001b[0m\u001b[0;34m)\u001b[0m\u001b[0;34m\u001b[0m\u001b[0;34m\u001b[0m\u001b[0m\n\u001b[0;32m---> 22\u001b[0;31m     \u001b[0md\u001b[0m \u001b[0;34m=\u001b[0m \u001b[0mp\u001b[0m\u001b[0;34m.\u001b[0m\u001b[0mpop\u001b[0m\u001b[0;34m(\u001b[0m\u001b[0;36m0\u001b[0m\u001b[0;34m)\u001b[0m\u001b[0;34m\u001b[0m\u001b[0;34m\u001b[0m\u001b[0m\n\u001b[0m\u001b[1;32m     23\u001b[0m     \u001b[0mprint\u001b[0m\u001b[0;34m(\u001b[0m\u001b[0;34m\"enemyが引いたカードは:\"\u001b[0m\u001b[0;34m,\u001b[0m\u001b[0md\u001b[0m\u001b[0;34m)\u001b[0m\u001b[0;34m\u001b[0m\u001b[0;34m\u001b[0m\u001b[0m\n\u001b[1;32m     24\u001b[0m     \u001b[0;32mfor\u001b[0m \u001b[0mi\u001b[0m \u001b[0;32min\u001b[0m \u001b[0mrange\u001b[0m\u001b[0;34m(\u001b[0m\u001b[0mlen\u001b[0m\u001b[0;34m(\u001b[0m\u001b[0me\u001b[0m\u001b[0;34m)\u001b[0m\u001b[0;34m)\u001b[0m\u001b[0;34m:\u001b[0m\u001b[0;34m\u001b[0m\u001b[0;34m\u001b[0m\u001b[0m\n",
            "\u001b[0;31mIndexError\u001b[0m: pop from empty list"
          ]
        }
      ]
    },
    {
      "cell_type": "code",
      "source": [
        "limit = 500\n",
        "for i in range(2, limit):\n",
        "    for j in range(2, i):\n",
        "        if i % j == 0:\n",
        "            break\n",
        "    else:\n",
        "        print(i)"
      ],
      "metadata": {
        "id": "GWzI-XbJITNK",
        "outputId": "8dcb0641-660c-43a9-f487-748489ba9a3e",
        "colab": {
          "base_uri": "https://localhost:8080/"
        }
      },
      "execution_count": null,
      "outputs": [
        {
          "output_type": "stream",
          "name": "stdout",
          "text": [
            "2\n",
            "3\n",
            "5\n",
            "7\n",
            "11\n",
            "13\n",
            "17\n",
            "19\n",
            "23\n",
            "29\n",
            "31\n",
            "37\n",
            "41\n",
            "43\n",
            "47\n",
            "53\n",
            "59\n",
            "61\n",
            "67\n",
            "71\n",
            "73\n",
            "79\n",
            "83\n",
            "89\n",
            "97\n",
            "101\n",
            "103\n",
            "107\n",
            "109\n",
            "113\n",
            "127\n",
            "131\n",
            "137\n",
            "139\n",
            "149\n",
            "151\n",
            "157\n",
            "163\n",
            "167\n",
            "173\n",
            "179\n",
            "181\n",
            "191\n",
            "193\n",
            "197\n",
            "199\n",
            "211\n",
            "223\n",
            "227\n",
            "229\n",
            "233\n",
            "239\n",
            "241\n",
            "251\n",
            "257\n",
            "263\n",
            "269\n",
            "271\n",
            "277\n",
            "281\n",
            "283\n",
            "293\n",
            "307\n",
            "311\n",
            "313\n",
            "317\n",
            "331\n",
            "337\n",
            "347\n",
            "349\n",
            "353\n",
            "359\n",
            "367\n",
            "373\n",
            "379\n",
            "383\n",
            "389\n",
            "397\n",
            "401\n",
            "409\n",
            "419\n",
            "421\n",
            "431\n",
            "433\n",
            "439\n",
            "443\n",
            "449\n",
            "457\n",
            "461\n",
            "463\n",
            "467\n",
            "479\n",
            "487\n",
            "491\n",
            "499\n"
          ]
        }
      ]
    },
    {
      "cell_type": "code",
      "source": [
        "def fibonacci(n):\n",
        "    if n <= 2:\n",
        "        return 1\n",
        "    else:\n",
        "        return fibonacci(n - 2) + fibonacci(n - 1)\n",
        "for i in range(1,100):\n",
        "    print(fibonacci(i))"
      ],
      "metadata": {
        "colab": {
          "base_uri": "https://localhost:8080/",
          "height": 1000
        },
        "id": "PCI54rKaKctr",
        "outputId": "9f8acb6e-43c6-43c3-db57-a0481d55767f"
      },
      "execution_count": null,
      "outputs": [
        {
          "output_type": "stream",
          "name": "stdout",
          "text": [
            "1\n",
            "1\n",
            "2\n",
            "3\n",
            "5\n",
            "8\n",
            "13\n",
            "21\n",
            "34\n",
            "55\n",
            "89\n",
            "144\n",
            "233\n",
            "377\n",
            "610\n",
            "987\n",
            "1597\n",
            "2584\n",
            "4181\n",
            "6765\n",
            "10946\n",
            "17711\n",
            "28657\n",
            "46368\n",
            "75025\n",
            "121393\n",
            "196418\n",
            "317811\n",
            "514229\n",
            "832040\n",
            "1346269\n",
            "2178309\n",
            "3524578\n",
            "5702887\n",
            "9227465\n",
            "14930352\n",
            "24157817\n"
          ]
        },
        {
          "output_type": "error",
          "ename": "KeyboardInterrupt",
          "evalue": "ignored",
          "traceback": [
            "\u001b[0;31m---------------------------------------------------------------------------\u001b[0m",
            "\u001b[0;31mKeyboardInterrupt\u001b[0m                         Traceback (most recent call last)",
            "\u001b[0;32m<ipython-input-44-ffec16ecac04>\u001b[0m in \u001b[0;36m<cell line: 6>\u001b[0;34m()\u001b[0m\n\u001b[1;32m      5\u001b[0m         \u001b[0;32mreturn\u001b[0m \u001b[0mfibonacci\u001b[0m\u001b[0;34m(\u001b[0m\u001b[0mn\u001b[0m \u001b[0;34m-\u001b[0m \u001b[0;36m2\u001b[0m\u001b[0;34m)\u001b[0m \u001b[0;34m+\u001b[0m \u001b[0mfibonacci\u001b[0m\u001b[0;34m(\u001b[0m\u001b[0mn\u001b[0m \u001b[0;34m-\u001b[0m \u001b[0;36m1\u001b[0m\u001b[0;34m)\u001b[0m\u001b[0;34m\u001b[0m\u001b[0;34m\u001b[0m\u001b[0m\n\u001b[1;32m      6\u001b[0m \u001b[0;32mfor\u001b[0m \u001b[0mi\u001b[0m \u001b[0;32min\u001b[0m \u001b[0mrange\u001b[0m\u001b[0;34m(\u001b[0m\u001b[0;36m1\u001b[0m\u001b[0;34m,\u001b[0m\u001b[0;36m100\u001b[0m\u001b[0;34m)\u001b[0m\u001b[0;34m:\u001b[0m\u001b[0;34m\u001b[0m\u001b[0;34m\u001b[0m\u001b[0m\n\u001b[0;32m----> 7\u001b[0;31m     \u001b[0mprint\u001b[0m\u001b[0;34m(\u001b[0m\u001b[0mfibonacci\u001b[0m\u001b[0;34m(\u001b[0m\u001b[0mi\u001b[0m\u001b[0;34m)\u001b[0m\u001b[0;34m)\u001b[0m\u001b[0;34m\u001b[0m\u001b[0;34m\u001b[0m\u001b[0m\n\u001b[0m",
            "\u001b[0;32m<ipython-input-44-ffec16ecac04>\u001b[0m in \u001b[0;36mfibonacci\u001b[0;34m(n)\u001b[0m\n\u001b[1;32m      3\u001b[0m         \u001b[0;32mreturn\u001b[0m \u001b[0;36m1\u001b[0m\u001b[0;34m\u001b[0m\u001b[0;34m\u001b[0m\u001b[0m\n\u001b[1;32m      4\u001b[0m     \u001b[0;32melse\u001b[0m\u001b[0;34m:\u001b[0m\u001b[0;34m\u001b[0m\u001b[0;34m\u001b[0m\u001b[0m\n\u001b[0;32m----> 5\u001b[0;31m         \u001b[0;32mreturn\u001b[0m \u001b[0mfibonacci\u001b[0m\u001b[0;34m(\u001b[0m\u001b[0mn\u001b[0m \u001b[0;34m-\u001b[0m \u001b[0;36m2\u001b[0m\u001b[0;34m)\u001b[0m \u001b[0;34m+\u001b[0m \u001b[0mfibonacci\u001b[0m\u001b[0;34m(\u001b[0m\u001b[0mn\u001b[0m \u001b[0;34m-\u001b[0m \u001b[0;36m1\u001b[0m\u001b[0;34m)\u001b[0m\u001b[0;34m\u001b[0m\u001b[0;34m\u001b[0m\u001b[0m\n\u001b[0m\u001b[1;32m      6\u001b[0m \u001b[0;32mfor\u001b[0m \u001b[0mi\u001b[0m \u001b[0;32min\u001b[0m \u001b[0mrange\u001b[0m\u001b[0;34m(\u001b[0m\u001b[0;36m1\u001b[0m\u001b[0;34m,\u001b[0m\u001b[0;36m100\u001b[0m\u001b[0;34m)\u001b[0m\u001b[0;34m:\u001b[0m\u001b[0;34m\u001b[0m\u001b[0;34m\u001b[0m\u001b[0m\n\u001b[1;32m      7\u001b[0m     \u001b[0mprint\u001b[0m\u001b[0;34m(\u001b[0m\u001b[0mfibonacci\u001b[0m\u001b[0;34m(\u001b[0m\u001b[0mi\u001b[0m\u001b[0;34m)\u001b[0m\u001b[0;34m)\u001b[0m\u001b[0;34m\u001b[0m\u001b[0;34m\u001b[0m\u001b[0m\n",
            "\u001b[0;32m<ipython-input-44-ffec16ecac04>\u001b[0m in \u001b[0;36mfibonacci\u001b[0;34m(n)\u001b[0m\n\u001b[1;32m      3\u001b[0m         \u001b[0;32mreturn\u001b[0m \u001b[0;36m1\u001b[0m\u001b[0;34m\u001b[0m\u001b[0;34m\u001b[0m\u001b[0m\n\u001b[1;32m      4\u001b[0m     \u001b[0;32melse\u001b[0m\u001b[0;34m:\u001b[0m\u001b[0;34m\u001b[0m\u001b[0;34m\u001b[0m\u001b[0m\n\u001b[0;32m----> 5\u001b[0;31m         \u001b[0;32mreturn\u001b[0m \u001b[0mfibonacci\u001b[0m\u001b[0;34m(\u001b[0m\u001b[0mn\u001b[0m \u001b[0;34m-\u001b[0m \u001b[0;36m2\u001b[0m\u001b[0;34m)\u001b[0m \u001b[0;34m+\u001b[0m \u001b[0mfibonacci\u001b[0m\u001b[0;34m(\u001b[0m\u001b[0mn\u001b[0m \u001b[0;34m-\u001b[0m \u001b[0;36m1\u001b[0m\u001b[0;34m)\u001b[0m\u001b[0;34m\u001b[0m\u001b[0;34m\u001b[0m\u001b[0m\n\u001b[0m\u001b[1;32m      6\u001b[0m \u001b[0;32mfor\u001b[0m \u001b[0mi\u001b[0m \u001b[0;32min\u001b[0m \u001b[0mrange\u001b[0m\u001b[0;34m(\u001b[0m\u001b[0;36m1\u001b[0m\u001b[0;34m,\u001b[0m\u001b[0;36m100\u001b[0m\u001b[0;34m)\u001b[0m\u001b[0;34m:\u001b[0m\u001b[0;34m\u001b[0m\u001b[0;34m\u001b[0m\u001b[0m\n\u001b[1;32m      7\u001b[0m     \u001b[0mprint\u001b[0m\u001b[0;34m(\u001b[0m\u001b[0mfibonacci\u001b[0m\u001b[0;34m(\u001b[0m\u001b[0mi\u001b[0m\u001b[0;34m)\u001b[0m\u001b[0;34m)\u001b[0m\u001b[0;34m\u001b[0m\u001b[0;34m\u001b[0m\u001b[0m\n",
            "\u001b[0;32m<ipython-input-44-ffec16ecac04>\u001b[0m in \u001b[0;36mfibonacci\u001b[0;34m(n)\u001b[0m\n\u001b[1;32m      3\u001b[0m         \u001b[0;32mreturn\u001b[0m \u001b[0;36m1\u001b[0m\u001b[0;34m\u001b[0m\u001b[0;34m\u001b[0m\u001b[0m\n\u001b[1;32m      4\u001b[0m     \u001b[0;32melse\u001b[0m\u001b[0;34m:\u001b[0m\u001b[0;34m\u001b[0m\u001b[0;34m\u001b[0m\u001b[0m\n\u001b[0;32m----> 5\u001b[0;31m         \u001b[0;32mreturn\u001b[0m \u001b[0mfibonacci\u001b[0m\u001b[0;34m(\u001b[0m\u001b[0mn\u001b[0m \u001b[0;34m-\u001b[0m \u001b[0;36m2\u001b[0m\u001b[0;34m)\u001b[0m \u001b[0;34m+\u001b[0m \u001b[0mfibonacci\u001b[0m\u001b[0;34m(\u001b[0m\u001b[0mn\u001b[0m \u001b[0;34m-\u001b[0m \u001b[0;36m1\u001b[0m\u001b[0;34m)\u001b[0m\u001b[0;34m\u001b[0m\u001b[0;34m\u001b[0m\u001b[0m\n\u001b[0m\u001b[1;32m      6\u001b[0m \u001b[0;32mfor\u001b[0m \u001b[0mi\u001b[0m \u001b[0;32min\u001b[0m \u001b[0mrange\u001b[0m\u001b[0;34m(\u001b[0m\u001b[0;36m1\u001b[0m\u001b[0;34m,\u001b[0m\u001b[0;36m100\u001b[0m\u001b[0;34m)\u001b[0m\u001b[0;34m:\u001b[0m\u001b[0;34m\u001b[0m\u001b[0;34m\u001b[0m\u001b[0m\n\u001b[1;32m      7\u001b[0m     \u001b[0mprint\u001b[0m\u001b[0;34m(\u001b[0m\u001b[0mfibonacci\u001b[0m\u001b[0;34m(\u001b[0m\u001b[0mi\u001b[0m\u001b[0;34m)\u001b[0m\u001b[0;34m)\u001b[0m\u001b[0;34m\u001b[0m\u001b[0;34m\u001b[0m\u001b[0m\n",
            "\u001b[0;32m<ipython-input-44-ffec16ecac04>\u001b[0m in \u001b[0;36mfibonacci\u001b[0;34m(n)\u001b[0m\n\u001b[1;32m      3\u001b[0m         \u001b[0;32mreturn\u001b[0m \u001b[0;36m1\u001b[0m\u001b[0;34m\u001b[0m\u001b[0;34m\u001b[0m\u001b[0m\n\u001b[1;32m      4\u001b[0m     \u001b[0;32melse\u001b[0m\u001b[0;34m:\u001b[0m\u001b[0;34m\u001b[0m\u001b[0;34m\u001b[0m\u001b[0m\n\u001b[0;32m----> 5\u001b[0;31m         \u001b[0;32mreturn\u001b[0m \u001b[0mfibonacci\u001b[0m\u001b[0;34m(\u001b[0m\u001b[0mn\u001b[0m \u001b[0;34m-\u001b[0m \u001b[0;36m2\u001b[0m\u001b[0;34m)\u001b[0m \u001b[0;34m+\u001b[0m \u001b[0mfibonacci\u001b[0m\u001b[0;34m(\u001b[0m\u001b[0mn\u001b[0m \u001b[0;34m-\u001b[0m \u001b[0;36m1\u001b[0m\u001b[0;34m)\u001b[0m\u001b[0;34m\u001b[0m\u001b[0;34m\u001b[0m\u001b[0m\n\u001b[0m\u001b[1;32m      6\u001b[0m \u001b[0;32mfor\u001b[0m \u001b[0mi\u001b[0m \u001b[0;32min\u001b[0m \u001b[0mrange\u001b[0m\u001b[0;34m(\u001b[0m\u001b[0;36m1\u001b[0m\u001b[0;34m,\u001b[0m\u001b[0;36m100\u001b[0m\u001b[0;34m)\u001b[0m\u001b[0;34m:\u001b[0m\u001b[0;34m\u001b[0m\u001b[0;34m\u001b[0m\u001b[0m\n\u001b[1;32m      7\u001b[0m     \u001b[0mprint\u001b[0m\u001b[0;34m(\u001b[0m\u001b[0mfibonacci\u001b[0m\u001b[0;34m(\u001b[0m\u001b[0mi\u001b[0m\u001b[0;34m)\u001b[0m\u001b[0;34m)\u001b[0m\u001b[0;34m\u001b[0m\u001b[0;34m\u001b[0m\u001b[0m\n",
            "\u001b[0;32m<ipython-input-44-ffec16ecac04>\u001b[0m in \u001b[0;36mfibonacci\u001b[0;34m(n)\u001b[0m\n\u001b[1;32m      3\u001b[0m         \u001b[0;32mreturn\u001b[0m \u001b[0;36m1\u001b[0m\u001b[0;34m\u001b[0m\u001b[0;34m\u001b[0m\u001b[0m\n\u001b[1;32m      4\u001b[0m     \u001b[0;32melse\u001b[0m\u001b[0;34m:\u001b[0m\u001b[0;34m\u001b[0m\u001b[0;34m\u001b[0m\u001b[0m\n\u001b[0;32m----> 5\u001b[0;31m         \u001b[0;32mreturn\u001b[0m \u001b[0mfibonacci\u001b[0m\u001b[0;34m(\u001b[0m\u001b[0mn\u001b[0m \u001b[0;34m-\u001b[0m \u001b[0;36m2\u001b[0m\u001b[0;34m)\u001b[0m \u001b[0;34m+\u001b[0m \u001b[0mfibonacci\u001b[0m\u001b[0;34m(\u001b[0m\u001b[0mn\u001b[0m \u001b[0;34m-\u001b[0m \u001b[0;36m1\u001b[0m\u001b[0;34m)\u001b[0m\u001b[0;34m\u001b[0m\u001b[0;34m\u001b[0m\u001b[0m\n\u001b[0m\u001b[1;32m      6\u001b[0m \u001b[0;32mfor\u001b[0m \u001b[0mi\u001b[0m \u001b[0;32min\u001b[0m \u001b[0mrange\u001b[0m\u001b[0;34m(\u001b[0m\u001b[0;36m1\u001b[0m\u001b[0;34m,\u001b[0m\u001b[0;36m100\u001b[0m\u001b[0;34m)\u001b[0m\u001b[0;34m:\u001b[0m\u001b[0;34m\u001b[0m\u001b[0;34m\u001b[0m\u001b[0m\n\u001b[1;32m      7\u001b[0m     \u001b[0mprint\u001b[0m\u001b[0;34m(\u001b[0m\u001b[0mfibonacci\u001b[0m\u001b[0;34m(\u001b[0m\u001b[0mi\u001b[0m\u001b[0;34m)\u001b[0m\u001b[0;34m)\u001b[0m\u001b[0;34m\u001b[0m\u001b[0;34m\u001b[0m\u001b[0m\n",
            "\u001b[0;32m<ipython-input-44-ffec16ecac04>\u001b[0m in \u001b[0;36mfibonacci\u001b[0;34m(n)\u001b[0m\n\u001b[1;32m      3\u001b[0m         \u001b[0;32mreturn\u001b[0m \u001b[0;36m1\u001b[0m\u001b[0;34m\u001b[0m\u001b[0;34m\u001b[0m\u001b[0m\n\u001b[1;32m      4\u001b[0m     \u001b[0;32melse\u001b[0m\u001b[0;34m:\u001b[0m\u001b[0;34m\u001b[0m\u001b[0;34m\u001b[0m\u001b[0m\n\u001b[0;32m----> 5\u001b[0;31m         \u001b[0;32mreturn\u001b[0m \u001b[0mfibonacci\u001b[0m\u001b[0;34m(\u001b[0m\u001b[0mn\u001b[0m \u001b[0;34m-\u001b[0m \u001b[0;36m2\u001b[0m\u001b[0;34m)\u001b[0m \u001b[0;34m+\u001b[0m \u001b[0mfibonacci\u001b[0m\u001b[0;34m(\u001b[0m\u001b[0mn\u001b[0m \u001b[0;34m-\u001b[0m \u001b[0;36m1\u001b[0m\u001b[0;34m)\u001b[0m\u001b[0;34m\u001b[0m\u001b[0;34m\u001b[0m\u001b[0m\n\u001b[0m\u001b[1;32m      6\u001b[0m \u001b[0;32mfor\u001b[0m \u001b[0mi\u001b[0m \u001b[0;32min\u001b[0m \u001b[0mrange\u001b[0m\u001b[0;34m(\u001b[0m\u001b[0;36m1\u001b[0m\u001b[0;34m,\u001b[0m\u001b[0;36m100\u001b[0m\u001b[0;34m)\u001b[0m\u001b[0;34m:\u001b[0m\u001b[0;34m\u001b[0m\u001b[0;34m\u001b[0m\u001b[0m\n\u001b[1;32m      7\u001b[0m     \u001b[0mprint\u001b[0m\u001b[0;34m(\u001b[0m\u001b[0mfibonacci\u001b[0m\u001b[0;34m(\u001b[0m\u001b[0mi\u001b[0m\u001b[0;34m)\u001b[0m\u001b[0;34m)\u001b[0m\u001b[0;34m\u001b[0m\u001b[0;34m\u001b[0m\u001b[0m\n",
            "\u001b[0;32m<ipython-input-44-ffec16ecac04>\u001b[0m in \u001b[0;36mfibonacci\u001b[0;34m(n)\u001b[0m\n\u001b[1;32m      3\u001b[0m         \u001b[0;32mreturn\u001b[0m \u001b[0;36m1\u001b[0m\u001b[0;34m\u001b[0m\u001b[0;34m\u001b[0m\u001b[0m\n\u001b[1;32m      4\u001b[0m     \u001b[0;32melse\u001b[0m\u001b[0;34m:\u001b[0m\u001b[0;34m\u001b[0m\u001b[0;34m\u001b[0m\u001b[0m\n\u001b[0;32m----> 5\u001b[0;31m         \u001b[0;32mreturn\u001b[0m \u001b[0mfibonacci\u001b[0m\u001b[0;34m(\u001b[0m\u001b[0mn\u001b[0m \u001b[0;34m-\u001b[0m \u001b[0;36m2\u001b[0m\u001b[0;34m)\u001b[0m \u001b[0;34m+\u001b[0m \u001b[0mfibonacci\u001b[0m\u001b[0;34m(\u001b[0m\u001b[0mn\u001b[0m \u001b[0;34m-\u001b[0m \u001b[0;36m1\u001b[0m\u001b[0;34m)\u001b[0m\u001b[0;34m\u001b[0m\u001b[0;34m\u001b[0m\u001b[0m\n\u001b[0m\u001b[1;32m      6\u001b[0m \u001b[0;32mfor\u001b[0m \u001b[0mi\u001b[0m \u001b[0;32min\u001b[0m \u001b[0mrange\u001b[0m\u001b[0;34m(\u001b[0m\u001b[0;36m1\u001b[0m\u001b[0;34m,\u001b[0m\u001b[0;36m100\u001b[0m\u001b[0;34m)\u001b[0m\u001b[0;34m:\u001b[0m\u001b[0;34m\u001b[0m\u001b[0;34m\u001b[0m\u001b[0m\n\u001b[1;32m      7\u001b[0m     \u001b[0mprint\u001b[0m\u001b[0;34m(\u001b[0m\u001b[0mfibonacci\u001b[0m\u001b[0;34m(\u001b[0m\u001b[0mi\u001b[0m\u001b[0;34m)\u001b[0m\u001b[0;34m)\u001b[0m\u001b[0;34m\u001b[0m\u001b[0;34m\u001b[0m\u001b[0m\n",
            "\u001b[0;32m<ipython-input-44-ffec16ecac04>\u001b[0m in \u001b[0;36mfibonacci\u001b[0;34m(n)\u001b[0m\n\u001b[1;32m      3\u001b[0m         \u001b[0;32mreturn\u001b[0m \u001b[0;36m1\u001b[0m\u001b[0;34m\u001b[0m\u001b[0;34m\u001b[0m\u001b[0m\n\u001b[1;32m      4\u001b[0m     \u001b[0;32melse\u001b[0m\u001b[0;34m:\u001b[0m\u001b[0;34m\u001b[0m\u001b[0;34m\u001b[0m\u001b[0m\n\u001b[0;32m----> 5\u001b[0;31m         \u001b[0;32mreturn\u001b[0m \u001b[0mfibonacci\u001b[0m\u001b[0;34m(\u001b[0m\u001b[0mn\u001b[0m \u001b[0;34m-\u001b[0m \u001b[0;36m2\u001b[0m\u001b[0;34m)\u001b[0m \u001b[0;34m+\u001b[0m \u001b[0mfibonacci\u001b[0m\u001b[0;34m(\u001b[0m\u001b[0mn\u001b[0m \u001b[0;34m-\u001b[0m \u001b[0;36m1\u001b[0m\u001b[0;34m)\u001b[0m\u001b[0;34m\u001b[0m\u001b[0;34m\u001b[0m\u001b[0m\n\u001b[0m\u001b[1;32m      6\u001b[0m \u001b[0;32mfor\u001b[0m \u001b[0mi\u001b[0m \u001b[0;32min\u001b[0m \u001b[0mrange\u001b[0m\u001b[0;34m(\u001b[0m\u001b[0;36m1\u001b[0m\u001b[0;34m,\u001b[0m\u001b[0;36m100\u001b[0m\u001b[0;34m)\u001b[0m\u001b[0;34m:\u001b[0m\u001b[0;34m\u001b[0m\u001b[0;34m\u001b[0m\u001b[0m\n\u001b[1;32m      7\u001b[0m     \u001b[0mprint\u001b[0m\u001b[0;34m(\u001b[0m\u001b[0mfibonacci\u001b[0m\u001b[0;34m(\u001b[0m\u001b[0mi\u001b[0m\u001b[0;34m)\u001b[0m\u001b[0;34m)\u001b[0m\u001b[0;34m\u001b[0m\u001b[0;34m\u001b[0m\u001b[0m\n",
            "\u001b[0;32m<ipython-input-44-ffec16ecac04>\u001b[0m in \u001b[0;36mfibonacci\u001b[0;34m(n)\u001b[0m\n\u001b[1;32m      3\u001b[0m         \u001b[0;32mreturn\u001b[0m \u001b[0;36m1\u001b[0m\u001b[0;34m\u001b[0m\u001b[0;34m\u001b[0m\u001b[0m\n\u001b[1;32m      4\u001b[0m     \u001b[0;32melse\u001b[0m\u001b[0;34m:\u001b[0m\u001b[0;34m\u001b[0m\u001b[0;34m\u001b[0m\u001b[0m\n\u001b[0;32m----> 5\u001b[0;31m         \u001b[0;32mreturn\u001b[0m \u001b[0mfibonacci\u001b[0m\u001b[0;34m(\u001b[0m\u001b[0mn\u001b[0m \u001b[0;34m-\u001b[0m \u001b[0;36m2\u001b[0m\u001b[0;34m)\u001b[0m \u001b[0;34m+\u001b[0m \u001b[0mfibonacci\u001b[0m\u001b[0;34m(\u001b[0m\u001b[0mn\u001b[0m \u001b[0;34m-\u001b[0m \u001b[0;36m1\u001b[0m\u001b[0;34m)\u001b[0m\u001b[0;34m\u001b[0m\u001b[0;34m\u001b[0m\u001b[0m\n\u001b[0m\u001b[1;32m      6\u001b[0m \u001b[0;32mfor\u001b[0m \u001b[0mi\u001b[0m \u001b[0;32min\u001b[0m \u001b[0mrange\u001b[0m\u001b[0;34m(\u001b[0m\u001b[0;36m1\u001b[0m\u001b[0;34m,\u001b[0m\u001b[0;36m100\u001b[0m\u001b[0;34m)\u001b[0m\u001b[0;34m:\u001b[0m\u001b[0;34m\u001b[0m\u001b[0;34m\u001b[0m\u001b[0m\n\u001b[1;32m      7\u001b[0m     \u001b[0mprint\u001b[0m\u001b[0;34m(\u001b[0m\u001b[0mfibonacci\u001b[0m\u001b[0;34m(\u001b[0m\u001b[0mi\u001b[0m\u001b[0;34m)\u001b[0m\u001b[0;34m)\u001b[0m\u001b[0;34m\u001b[0m\u001b[0;34m\u001b[0m\u001b[0m\n",
            "\u001b[0;32m<ipython-input-44-ffec16ecac04>\u001b[0m in \u001b[0;36mfibonacci\u001b[0;34m(n)\u001b[0m\n\u001b[1;32m      3\u001b[0m         \u001b[0;32mreturn\u001b[0m \u001b[0;36m1\u001b[0m\u001b[0;34m\u001b[0m\u001b[0;34m\u001b[0m\u001b[0m\n\u001b[1;32m      4\u001b[0m     \u001b[0;32melse\u001b[0m\u001b[0;34m:\u001b[0m\u001b[0;34m\u001b[0m\u001b[0;34m\u001b[0m\u001b[0m\n\u001b[0;32m----> 5\u001b[0;31m         \u001b[0;32mreturn\u001b[0m \u001b[0mfibonacci\u001b[0m\u001b[0;34m(\u001b[0m\u001b[0mn\u001b[0m \u001b[0;34m-\u001b[0m \u001b[0;36m2\u001b[0m\u001b[0;34m)\u001b[0m \u001b[0;34m+\u001b[0m \u001b[0mfibonacci\u001b[0m\u001b[0;34m(\u001b[0m\u001b[0mn\u001b[0m \u001b[0;34m-\u001b[0m \u001b[0;36m1\u001b[0m\u001b[0;34m)\u001b[0m\u001b[0;34m\u001b[0m\u001b[0;34m\u001b[0m\u001b[0m\n\u001b[0m\u001b[1;32m      6\u001b[0m \u001b[0;32mfor\u001b[0m \u001b[0mi\u001b[0m \u001b[0;32min\u001b[0m \u001b[0mrange\u001b[0m\u001b[0;34m(\u001b[0m\u001b[0;36m1\u001b[0m\u001b[0;34m,\u001b[0m\u001b[0;36m100\u001b[0m\u001b[0;34m)\u001b[0m\u001b[0;34m:\u001b[0m\u001b[0;34m\u001b[0m\u001b[0;34m\u001b[0m\u001b[0m\n\u001b[1;32m      7\u001b[0m     \u001b[0mprint\u001b[0m\u001b[0;34m(\u001b[0m\u001b[0mfibonacci\u001b[0m\u001b[0;34m(\u001b[0m\u001b[0mi\u001b[0m\u001b[0;34m)\u001b[0m\u001b[0;34m)\u001b[0m\u001b[0;34m\u001b[0m\u001b[0;34m\u001b[0m\u001b[0m\n",
            "\u001b[0;32m<ipython-input-44-ffec16ecac04>\u001b[0m in \u001b[0;36mfibonacci\u001b[0;34m(n)\u001b[0m\n\u001b[1;32m      3\u001b[0m         \u001b[0;32mreturn\u001b[0m \u001b[0;36m1\u001b[0m\u001b[0;34m\u001b[0m\u001b[0;34m\u001b[0m\u001b[0m\n\u001b[1;32m      4\u001b[0m     \u001b[0;32melse\u001b[0m\u001b[0;34m:\u001b[0m\u001b[0;34m\u001b[0m\u001b[0;34m\u001b[0m\u001b[0m\n\u001b[0;32m----> 5\u001b[0;31m         \u001b[0;32mreturn\u001b[0m \u001b[0mfibonacci\u001b[0m\u001b[0;34m(\u001b[0m\u001b[0mn\u001b[0m \u001b[0;34m-\u001b[0m \u001b[0;36m2\u001b[0m\u001b[0;34m)\u001b[0m \u001b[0;34m+\u001b[0m \u001b[0mfibonacci\u001b[0m\u001b[0;34m(\u001b[0m\u001b[0mn\u001b[0m \u001b[0;34m-\u001b[0m \u001b[0;36m1\u001b[0m\u001b[0;34m)\u001b[0m\u001b[0;34m\u001b[0m\u001b[0;34m\u001b[0m\u001b[0m\n\u001b[0m\u001b[1;32m      6\u001b[0m \u001b[0;32mfor\u001b[0m \u001b[0mi\u001b[0m \u001b[0;32min\u001b[0m \u001b[0mrange\u001b[0m\u001b[0;34m(\u001b[0m\u001b[0;36m1\u001b[0m\u001b[0;34m,\u001b[0m\u001b[0;36m100\u001b[0m\u001b[0;34m)\u001b[0m\u001b[0;34m:\u001b[0m\u001b[0;34m\u001b[0m\u001b[0;34m\u001b[0m\u001b[0m\n\u001b[1;32m      7\u001b[0m     \u001b[0mprint\u001b[0m\u001b[0;34m(\u001b[0m\u001b[0mfibonacci\u001b[0m\u001b[0;34m(\u001b[0m\u001b[0mi\u001b[0m\u001b[0;34m)\u001b[0m\u001b[0;34m)\u001b[0m\u001b[0;34m\u001b[0m\u001b[0;34m\u001b[0m\u001b[0m\n",
            "\u001b[0;32m<ipython-input-44-ffec16ecac04>\u001b[0m in \u001b[0;36mfibonacci\u001b[0;34m(n)\u001b[0m\n\u001b[1;32m      3\u001b[0m         \u001b[0;32mreturn\u001b[0m \u001b[0;36m1\u001b[0m\u001b[0;34m\u001b[0m\u001b[0;34m\u001b[0m\u001b[0m\n\u001b[1;32m      4\u001b[0m     \u001b[0;32melse\u001b[0m\u001b[0;34m:\u001b[0m\u001b[0;34m\u001b[0m\u001b[0;34m\u001b[0m\u001b[0m\n\u001b[0;32m----> 5\u001b[0;31m         \u001b[0;32mreturn\u001b[0m \u001b[0mfibonacci\u001b[0m\u001b[0;34m(\u001b[0m\u001b[0mn\u001b[0m \u001b[0;34m-\u001b[0m \u001b[0;36m2\u001b[0m\u001b[0;34m)\u001b[0m \u001b[0;34m+\u001b[0m \u001b[0mfibonacci\u001b[0m\u001b[0;34m(\u001b[0m\u001b[0mn\u001b[0m \u001b[0;34m-\u001b[0m \u001b[0;36m1\u001b[0m\u001b[0;34m)\u001b[0m\u001b[0;34m\u001b[0m\u001b[0;34m\u001b[0m\u001b[0m\n\u001b[0m\u001b[1;32m      6\u001b[0m \u001b[0;32mfor\u001b[0m \u001b[0mi\u001b[0m \u001b[0;32min\u001b[0m \u001b[0mrange\u001b[0m\u001b[0;34m(\u001b[0m\u001b[0;36m1\u001b[0m\u001b[0;34m,\u001b[0m\u001b[0;36m100\u001b[0m\u001b[0;34m)\u001b[0m\u001b[0;34m:\u001b[0m\u001b[0;34m\u001b[0m\u001b[0;34m\u001b[0m\u001b[0m\n\u001b[1;32m      7\u001b[0m     \u001b[0mprint\u001b[0m\u001b[0;34m(\u001b[0m\u001b[0mfibonacci\u001b[0m\u001b[0;34m(\u001b[0m\u001b[0mi\u001b[0m\u001b[0;34m)\u001b[0m\u001b[0;34m)\u001b[0m\u001b[0;34m\u001b[0m\u001b[0;34m\u001b[0m\u001b[0m\n",
            "\u001b[0;32m<ipython-input-44-ffec16ecac04>\u001b[0m in \u001b[0;36mfibonacci\u001b[0;34m(n)\u001b[0m\n\u001b[1;32m      3\u001b[0m         \u001b[0;32mreturn\u001b[0m \u001b[0;36m1\u001b[0m\u001b[0;34m\u001b[0m\u001b[0;34m\u001b[0m\u001b[0m\n\u001b[1;32m      4\u001b[0m     \u001b[0;32melse\u001b[0m\u001b[0;34m:\u001b[0m\u001b[0;34m\u001b[0m\u001b[0;34m\u001b[0m\u001b[0m\n\u001b[0;32m----> 5\u001b[0;31m         \u001b[0;32mreturn\u001b[0m \u001b[0mfibonacci\u001b[0m\u001b[0;34m(\u001b[0m\u001b[0mn\u001b[0m \u001b[0;34m-\u001b[0m \u001b[0;36m2\u001b[0m\u001b[0;34m)\u001b[0m \u001b[0;34m+\u001b[0m \u001b[0mfibonacci\u001b[0m\u001b[0;34m(\u001b[0m\u001b[0mn\u001b[0m \u001b[0;34m-\u001b[0m \u001b[0;36m1\u001b[0m\u001b[0;34m)\u001b[0m\u001b[0;34m\u001b[0m\u001b[0;34m\u001b[0m\u001b[0m\n\u001b[0m\u001b[1;32m      6\u001b[0m \u001b[0;32mfor\u001b[0m \u001b[0mi\u001b[0m \u001b[0;32min\u001b[0m \u001b[0mrange\u001b[0m\u001b[0;34m(\u001b[0m\u001b[0;36m1\u001b[0m\u001b[0;34m,\u001b[0m\u001b[0;36m100\u001b[0m\u001b[0;34m)\u001b[0m\u001b[0;34m:\u001b[0m\u001b[0;34m\u001b[0m\u001b[0;34m\u001b[0m\u001b[0m\n\u001b[1;32m      7\u001b[0m     \u001b[0mprint\u001b[0m\u001b[0;34m(\u001b[0m\u001b[0mfibonacci\u001b[0m\u001b[0;34m(\u001b[0m\u001b[0mi\u001b[0m\u001b[0;34m)\u001b[0m\u001b[0;34m)\u001b[0m\u001b[0;34m\u001b[0m\u001b[0;34m\u001b[0m\u001b[0m\n",
            "\u001b[0;32m<ipython-input-44-ffec16ecac04>\u001b[0m in \u001b[0;36mfibonacci\u001b[0;34m(n)\u001b[0m\n\u001b[1;32m      3\u001b[0m         \u001b[0;32mreturn\u001b[0m \u001b[0;36m1\u001b[0m\u001b[0;34m\u001b[0m\u001b[0;34m\u001b[0m\u001b[0m\n\u001b[1;32m      4\u001b[0m     \u001b[0;32melse\u001b[0m\u001b[0;34m:\u001b[0m\u001b[0;34m\u001b[0m\u001b[0;34m\u001b[0m\u001b[0m\n\u001b[0;32m----> 5\u001b[0;31m         \u001b[0;32mreturn\u001b[0m \u001b[0mfibonacci\u001b[0m\u001b[0;34m(\u001b[0m\u001b[0mn\u001b[0m \u001b[0;34m-\u001b[0m \u001b[0;36m2\u001b[0m\u001b[0;34m)\u001b[0m \u001b[0;34m+\u001b[0m \u001b[0mfibonacci\u001b[0m\u001b[0;34m(\u001b[0m\u001b[0mn\u001b[0m \u001b[0;34m-\u001b[0m \u001b[0;36m1\u001b[0m\u001b[0;34m)\u001b[0m\u001b[0;34m\u001b[0m\u001b[0;34m\u001b[0m\u001b[0m\n\u001b[0m\u001b[1;32m      6\u001b[0m \u001b[0;32mfor\u001b[0m \u001b[0mi\u001b[0m \u001b[0;32min\u001b[0m \u001b[0mrange\u001b[0m\u001b[0;34m(\u001b[0m\u001b[0;36m1\u001b[0m\u001b[0;34m,\u001b[0m\u001b[0;36m100\u001b[0m\u001b[0;34m)\u001b[0m\u001b[0;34m:\u001b[0m\u001b[0;34m\u001b[0m\u001b[0;34m\u001b[0m\u001b[0m\n\u001b[1;32m      7\u001b[0m     \u001b[0mprint\u001b[0m\u001b[0;34m(\u001b[0m\u001b[0mfibonacci\u001b[0m\u001b[0;34m(\u001b[0m\u001b[0mi\u001b[0m\u001b[0;34m)\u001b[0m\u001b[0;34m)\u001b[0m\u001b[0;34m\u001b[0m\u001b[0;34m\u001b[0m\u001b[0m\n",
            "\u001b[0;32m<ipython-input-44-ffec16ecac04>\u001b[0m in \u001b[0;36mfibonacci\u001b[0;34m(n)\u001b[0m\n\u001b[1;32m      3\u001b[0m         \u001b[0;32mreturn\u001b[0m \u001b[0;36m1\u001b[0m\u001b[0;34m\u001b[0m\u001b[0;34m\u001b[0m\u001b[0m\n\u001b[1;32m      4\u001b[0m     \u001b[0;32melse\u001b[0m\u001b[0;34m:\u001b[0m\u001b[0;34m\u001b[0m\u001b[0;34m\u001b[0m\u001b[0m\n\u001b[0;32m----> 5\u001b[0;31m         \u001b[0;32mreturn\u001b[0m \u001b[0mfibonacci\u001b[0m\u001b[0;34m(\u001b[0m\u001b[0mn\u001b[0m \u001b[0;34m-\u001b[0m \u001b[0;36m2\u001b[0m\u001b[0;34m)\u001b[0m \u001b[0;34m+\u001b[0m \u001b[0mfibonacci\u001b[0m\u001b[0;34m(\u001b[0m\u001b[0mn\u001b[0m \u001b[0;34m-\u001b[0m \u001b[0;36m1\u001b[0m\u001b[0;34m)\u001b[0m\u001b[0;34m\u001b[0m\u001b[0;34m\u001b[0m\u001b[0m\n\u001b[0m\u001b[1;32m      6\u001b[0m \u001b[0;32mfor\u001b[0m \u001b[0mi\u001b[0m \u001b[0;32min\u001b[0m \u001b[0mrange\u001b[0m\u001b[0;34m(\u001b[0m\u001b[0;36m1\u001b[0m\u001b[0;34m,\u001b[0m\u001b[0;36m100\u001b[0m\u001b[0;34m)\u001b[0m\u001b[0;34m:\u001b[0m\u001b[0;34m\u001b[0m\u001b[0;34m\u001b[0m\u001b[0m\n\u001b[1;32m      7\u001b[0m     \u001b[0mprint\u001b[0m\u001b[0;34m(\u001b[0m\u001b[0mfibonacci\u001b[0m\u001b[0;34m(\u001b[0m\u001b[0mi\u001b[0m\u001b[0;34m)\u001b[0m\u001b[0;34m)\u001b[0m\u001b[0;34m\u001b[0m\u001b[0;34m\u001b[0m\u001b[0m\n",
            "\u001b[0;32m<ipython-input-44-ffec16ecac04>\u001b[0m in \u001b[0;36mfibonacci\u001b[0;34m(n)\u001b[0m\n\u001b[1;32m      3\u001b[0m         \u001b[0;32mreturn\u001b[0m \u001b[0;36m1\u001b[0m\u001b[0;34m\u001b[0m\u001b[0;34m\u001b[0m\u001b[0m\n\u001b[1;32m      4\u001b[0m     \u001b[0;32melse\u001b[0m\u001b[0;34m:\u001b[0m\u001b[0;34m\u001b[0m\u001b[0;34m\u001b[0m\u001b[0m\n\u001b[0;32m----> 5\u001b[0;31m         \u001b[0;32mreturn\u001b[0m \u001b[0mfibonacci\u001b[0m\u001b[0;34m(\u001b[0m\u001b[0mn\u001b[0m \u001b[0;34m-\u001b[0m \u001b[0;36m2\u001b[0m\u001b[0;34m)\u001b[0m \u001b[0;34m+\u001b[0m \u001b[0mfibonacci\u001b[0m\u001b[0;34m(\u001b[0m\u001b[0mn\u001b[0m \u001b[0;34m-\u001b[0m \u001b[0;36m1\u001b[0m\u001b[0;34m)\u001b[0m\u001b[0;34m\u001b[0m\u001b[0;34m\u001b[0m\u001b[0m\n\u001b[0m\u001b[1;32m      6\u001b[0m \u001b[0;32mfor\u001b[0m \u001b[0mi\u001b[0m \u001b[0;32min\u001b[0m \u001b[0mrange\u001b[0m\u001b[0;34m(\u001b[0m\u001b[0;36m1\u001b[0m\u001b[0;34m,\u001b[0m\u001b[0;36m100\u001b[0m\u001b[0;34m)\u001b[0m\u001b[0;34m:\u001b[0m\u001b[0;34m\u001b[0m\u001b[0;34m\u001b[0m\u001b[0m\n\u001b[1;32m      7\u001b[0m     \u001b[0mprint\u001b[0m\u001b[0;34m(\u001b[0m\u001b[0mfibonacci\u001b[0m\u001b[0;34m(\u001b[0m\u001b[0mi\u001b[0m\u001b[0;34m)\u001b[0m\u001b[0;34m)\u001b[0m\u001b[0;34m\u001b[0m\u001b[0;34m\u001b[0m\u001b[0m\n",
            "\u001b[0;32m<ipython-input-44-ffec16ecac04>\u001b[0m in \u001b[0;36mfibonacci\u001b[0;34m(n)\u001b[0m\n\u001b[1;32m      3\u001b[0m         \u001b[0;32mreturn\u001b[0m \u001b[0;36m1\u001b[0m\u001b[0;34m\u001b[0m\u001b[0;34m\u001b[0m\u001b[0m\n\u001b[1;32m      4\u001b[0m     \u001b[0;32melse\u001b[0m\u001b[0;34m:\u001b[0m\u001b[0;34m\u001b[0m\u001b[0;34m\u001b[0m\u001b[0m\n\u001b[0;32m----> 5\u001b[0;31m         \u001b[0;32mreturn\u001b[0m \u001b[0mfibonacci\u001b[0m\u001b[0;34m(\u001b[0m\u001b[0mn\u001b[0m \u001b[0;34m-\u001b[0m \u001b[0;36m2\u001b[0m\u001b[0;34m)\u001b[0m \u001b[0;34m+\u001b[0m \u001b[0mfibonacci\u001b[0m\u001b[0;34m(\u001b[0m\u001b[0mn\u001b[0m \u001b[0;34m-\u001b[0m \u001b[0;36m1\u001b[0m\u001b[0;34m)\u001b[0m\u001b[0;34m\u001b[0m\u001b[0;34m\u001b[0m\u001b[0m\n\u001b[0m\u001b[1;32m      6\u001b[0m \u001b[0;32mfor\u001b[0m \u001b[0mi\u001b[0m \u001b[0;32min\u001b[0m \u001b[0mrange\u001b[0m\u001b[0;34m(\u001b[0m\u001b[0;36m1\u001b[0m\u001b[0;34m,\u001b[0m\u001b[0;36m100\u001b[0m\u001b[0;34m)\u001b[0m\u001b[0;34m:\u001b[0m\u001b[0;34m\u001b[0m\u001b[0;34m\u001b[0m\u001b[0m\n\u001b[1;32m      7\u001b[0m     \u001b[0mprint\u001b[0m\u001b[0;34m(\u001b[0m\u001b[0mfibonacci\u001b[0m\u001b[0;34m(\u001b[0m\u001b[0mi\u001b[0m\u001b[0;34m)\u001b[0m\u001b[0;34m)\u001b[0m\u001b[0;34m\u001b[0m\u001b[0;34m\u001b[0m\u001b[0m\n",
            "\u001b[0;32m<ipython-input-44-ffec16ecac04>\u001b[0m in \u001b[0;36mfibonacci\u001b[0;34m(n)\u001b[0m\n\u001b[1;32m      3\u001b[0m         \u001b[0;32mreturn\u001b[0m \u001b[0;36m1\u001b[0m\u001b[0;34m\u001b[0m\u001b[0;34m\u001b[0m\u001b[0m\n\u001b[1;32m      4\u001b[0m     \u001b[0;32melse\u001b[0m\u001b[0;34m:\u001b[0m\u001b[0;34m\u001b[0m\u001b[0;34m\u001b[0m\u001b[0m\n\u001b[0;32m----> 5\u001b[0;31m         \u001b[0;32mreturn\u001b[0m \u001b[0mfibonacci\u001b[0m\u001b[0;34m(\u001b[0m\u001b[0mn\u001b[0m \u001b[0;34m-\u001b[0m \u001b[0;36m2\u001b[0m\u001b[0;34m)\u001b[0m \u001b[0;34m+\u001b[0m \u001b[0mfibonacci\u001b[0m\u001b[0;34m(\u001b[0m\u001b[0mn\u001b[0m \u001b[0;34m-\u001b[0m \u001b[0;36m1\u001b[0m\u001b[0;34m)\u001b[0m\u001b[0;34m\u001b[0m\u001b[0;34m\u001b[0m\u001b[0m\n\u001b[0m\u001b[1;32m      6\u001b[0m \u001b[0;32mfor\u001b[0m \u001b[0mi\u001b[0m \u001b[0;32min\u001b[0m \u001b[0mrange\u001b[0m\u001b[0;34m(\u001b[0m\u001b[0;36m1\u001b[0m\u001b[0;34m,\u001b[0m\u001b[0;36m100\u001b[0m\u001b[0;34m)\u001b[0m\u001b[0;34m:\u001b[0m\u001b[0;34m\u001b[0m\u001b[0;34m\u001b[0m\u001b[0m\n\u001b[1;32m      7\u001b[0m     \u001b[0mprint\u001b[0m\u001b[0;34m(\u001b[0m\u001b[0mfibonacci\u001b[0m\u001b[0;34m(\u001b[0m\u001b[0mi\u001b[0m\u001b[0;34m)\u001b[0m\u001b[0;34m)\u001b[0m\u001b[0;34m\u001b[0m\u001b[0;34m\u001b[0m\u001b[0m\n",
            "\u001b[0;32m<ipython-input-44-ffec16ecac04>\u001b[0m in \u001b[0;36mfibonacci\u001b[0;34m(n)\u001b[0m\n\u001b[1;32m      3\u001b[0m         \u001b[0;32mreturn\u001b[0m \u001b[0;36m1\u001b[0m\u001b[0;34m\u001b[0m\u001b[0;34m\u001b[0m\u001b[0m\n\u001b[1;32m      4\u001b[0m     \u001b[0;32melse\u001b[0m\u001b[0;34m:\u001b[0m\u001b[0;34m\u001b[0m\u001b[0;34m\u001b[0m\u001b[0m\n\u001b[0;32m----> 5\u001b[0;31m         \u001b[0;32mreturn\u001b[0m \u001b[0mfibonacci\u001b[0m\u001b[0;34m(\u001b[0m\u001b[0mn\u001b[0m \u001b[0;34m-\u001b[0m \u001b[0;36m2\u001b[0m\u001b[0;34m)\u001b[0m \u001b[0;34m+\u001b[0m \u001b[0mfibonacci\u001b[0m\u001b[0;34m(\u001b[0m\u001b[0mn\u001b[0m \u001b[0;34m-\u001b[0m \u001b[0;36m1\u001b[0m\u001b[0;34m)\u001b[0m\u001b[0;34m\u001b[0m\u001b[0;34m\u001b[0m\u001b[0m\n\u001b[0m\u001b[1;32m      6\u001b[0m \u001b[0;32mfor\u001b[0m \u001b[0mi\u001b[0m \u001b[0;32min\u001b[0m \u001b[0mrange\u001b[0m\u001b[0;34m(\u001b[0m\u001b[0;36m1\u001b[0m\u001b[0;34m,\u001b[0m\u001b[0;36m100\u001b[0m\u001b[0;34m)\u001b[0m\u001b[0;34m:\u001b[0m\u001b[0;34m\u001b[0m\u001b[0;34m\u001b[0m\u001b[0m\n\u001b[1;32m      7\u001b[0m     \u001b[0mprint\u001b[0m\u001b[0;34m(\u001b[0m\u001b[0mfibonacci\u001b[0m\u001b[0;34m(\u001b[0m\u001b[0mi\u001b[0m\u001b[0;34m)\u001b[0m\u001b[0;34m)\u001b[0m\u001b[0;34m\u001b[0m\u001b[0;34m\u001b[0m\u001b[0m\n",
            "\u001b[0;32m<ipython-input-44-ffec16ecac04>\u001b[0m in \u001b[0;36mfibonacci\u001b[0;34m(n)\u001b[0m\n\u001b[1;32m      3\u001b[0m         \u001b[0;32mreturn\u001b[0m \u001b[0;36m1\u001b[0m\u001b[0;34m\u001b[0m\u001b[0;34m\u001b[0m\u001b[0m\n\u001b[1;32m      4\u001b[0m     \u001b[0;32melse\u001b[0m\u001b[0;34m:\u001b[0m\u001b[0;34m\u001b[0m\u001b[0;34m\u001b[0m\u001b[0m\n\u001b[0;32m----> 5\u001b[0;31m         \u001b[0;32mreturn\u001b[0m \u001b[0mfibonacci\u001b[0m\u001b[0;34m(\u001b[0m\u001b[0mn\u001b[0m \u001b[0;34m-\u001b[0m \u001b[0;36m2\u001b[0m\u001b[0;34m)\u001b[0m \u001b[0;34m+\u001b[0m \u001b[0mfibonacci\u001b[0m\u001b[0;34m(\u001b[0m\u001b[0mn\u001b[0m \u001b[0;34m-\u001b[0m \u001b[0;36m1\u001b[0m\u001b[0;34m)\u001b[0m\u001b[0;34m\u001b[0m\u001b[0;34m\u001b[0m\u001b[0m\n\u001b[0m\u001b[1;32m      6\u001b[0m \u001b[0;32mfor\u001b[0m \u001b[0mi\u001b[0m \u001b[0;32min\u001b[0m \u001b[0mrange\u001b[0m\u001b[0;34m(\u001b[0m\u001b[0;36m1\u001b[0m\u001b[0;34m,\u001b[0m\u001b[0;36m100\u001b[0m\u001b[0;34m)\u001b[0m\u001b[0;34m:\u001b[0m\u001b[0;34m\u001b[0m\u001b[0;34m\u001b[0m\u001b[0m\n\u001b[1;32m      7\u001b[0m     \u001b[0mprint\u001b[0m\u001b[0;34m(\u001b[0m\u001b[0mfibonacci\u001b[0m\u001b[0;34m(\u001b[0m\u001b[0mi\u001b[0m\u001b[0;34m)\u001b[0m\u001b[0;34m)\u001b[0m\u001b[0;34m\u001b[0m\u001b[0;34m\u001b[0m\u001b[0m\n",
            "\u001b[0;32m<ipython-input-44-ffec16ecac04>\u001b[0m in \u001b[0;36mfibonacci\u001b[0;34m(n)\u001b[0m\n\u001b[1;32m      3\u001b[0m         \u001b[0;32mreturn\u001b[0m \u001b[0;36m1\u001b[0m\u001b[0;34m\u001b[0m\u001b[0;34m\u001b[0m\u001b[0m\n\u001b[1;32m      4\u001b[0m     \u001b[0;32melse\u001b[0m\u001b[0;34m:\u001b[0m\u001b[0;34m\u001b[0m\u001b[0;34m\u001b[0m\u001b[0m\n\u001b[0;32m----> 5\u001b[0;31m         \u001b[0;32mreturn\u001b[0m \u001b[0mfibonacci\u001b[0m\u001b[0;34m(\u001b[0m\u001b[0mn\u001b[0m \u001b[0;34m-\u001b[0m \u001b[0;36m2\u001b[0m\u001b[0;34m)\u001b[0m \u001b[0;34m+\u001b[0m \u001b[0mfibonacci\u001b[0m\u001b[0;34m(\u001b[0m\u001b[0mn\u001b[0m \u001b[0;34m-\u001b[0m \u001b[0;36m1\u001b[0m\u001b[0;34m)\u001b[0m\u001b[0;34m\u001b[0m\u001b[0;34m\u001b[0m\u001b[0m\n\u001b[0m\u001b[1;32m      6\u001b[0m \u001b[0;32mfor\u001b[0m \u001b[0mi\u001b[0m \u001b[0;32min\u001b[0m \u001b[0mrange\u001b[0m\u001b[0;34m(\u001b[0m\u001b[0;36m1\u001b[0m\u001b[0;34m,\u001b[0m\u001b[0;36m100\u001b[0m\u001b[0;34m)\u001b[0m\u001b[0;34m:\u001b[0m\u001b[0;34m\u001b[0m\u001b[0;34m\u001b[0m\u001b[0m\n\u001b[1;32m      7\u001b[0m     \u001b[0mprint\u001b[0m\u001b[0;34m(\u001b[0m\u001b[0mfibonacci\u001b[0m\u001b[0;34m(\u001b[0m\u001b[0mi\u001b[0m\u001b[0;34m)\u001b[0m\u001b[0;34m)\u001b[0m\u001b[0;34m\u001b[0m\u001b[0;34m\u001b[0m\u001b[0m\n",
            "\u001b[0;32m<ipython-input-44-ffec16ecac04>\u001b[0m in \u001b[0;36mfibonacci\u001b[0;34m(n)\u001b[0m\n\u001b[1;32m      3\u001b[0m         \u001b[0;32mreturn\u001b[0m \u001b[0;36m1\u001b[0m\u001b[0;34m\u001b[0m\u001b[0;34m\u001b[0m\u001b[0m\n\u001b[1;32m      4\u001b[0m     \u001b[0;32melse\u001b[0m\u001b[0;34m:\u001b[0m\u001b[0;34m\u001b[0m\u001b[0;34m\u001b[0m\u001b[0m\n\u001b[0;32m----> 5\u001b[0;31m         \u001b[0;32mreturn\u001b[0m \u001b[0mfibonacci\u001b[0m\u001b[0;34m(\u001b[0m\u001b[0mn\u001b[0m \u001b[0;34m-\u001b[0m \u001b[0;36m2\u001b[0m\u001b[0;34m)\u001b[0m \u001b[0;34m+\u001b[0m \u001b[0mfibonacci\u001b[0m\u001b[0;34m(\u001b[0m\u001b[0mn\u001b[0m \u001b[0;34m-\u001b[0m \u001b[0;36m1\u001b[0m\u001b[0;34m)\u001b[0m\u001b[0;34m\u001b[0m\u001b[0;34m\u001b[0m\u001b[0m\n\u001b[0m\u001b[1;32m      6\u001b[0m \u001b[0;32mfor\u001b[0m \u001b[0mi\u001b[0m \u001b[0;32min\u001b[0m \u001b[0mrange\u001b[0m\u001b[0;34m(\u001b[0m\u001b[0;36m1\u001b[0m\u001b[0;34m,\u001b[0m\u001b[0;36m100\u001b[0m\u001b[0;34m)\u001b[0m\u001b[0;34m:\u001b[0m\u001b[0;34m\u001b[0m\u001b[0;34m\u001b[0m\u001b[0m\n\u001b[1;32m      7\u001b[0m     \u001b[0mprint\u001b[0m\u001b[0;34m(\u001b[0m\u001b[0mfibonacci\u001b[0m\u001b[0;34m(\u001b[0m\u001b[0mi\u001b[0m\u001b[0;34m)\u001b[0m\u001b[0;34m)\u001b[0m\u001b[0;34m\u001b[0m\u001b[0;34m\u001b[0m\u001b[0m\n",
            "\u001b[0;32m<ipython-input-44-ffec16ecac04>\u001b[0m in \u001b[0;36mfibonacci\u001b[0;34m(n)\u001b[0m\n\u001b[1;32m      3\u001b[0m         \u001b[0;32mreturn\u001b[0m \u001b[0;36m1\u001b[0m\u001b[0;34m\u001b[0m\u001b[0;34m\u001b[0m\u001b[0m\n\u001b[1;32m      4\u001b[0m     \u001b[0;32melse\u001b[0m\u001b[0;34m:\u001b[0m\u001b[0;34m\u001b[0m\u001b[0;34m\u001b[0m\u001b[0m\n\u001b[0;32m----> 5\u001b[0;31m         \u001b[0;32mreturn\u001b[0m \u001b[0mfibonacci\u001b[0m\u001b[0;34m(\u001b[0m\u001b[0mn\u001b[0m \u001b[0;34m-\u001b[0m \u001b[0;36m2\u001b[0m\u001b[0;34m)\u001b[0m \u001b[0;34m+\u001b[0m \u001b[0mfibonacci\u001b[0m\u001b[0;34m(\u001b[0m\u001b[0mn\u001b[0m \u001b[0;34m-\u001b[0m \u001b[0;36m1\u001b[0m\u001b[0;34m)\u001b[0m\u001b[0;34m\u001b[0m\u001b[0;34m\u001b[0m\u001b[0m\n\u001b[0m\u001b[1;32m      6\u001b[0m \u001b[0;32mfor\u001b[0m \u001b[0mi\u001b[0m \u001b[0;32min\u001b[0m \u001b[0mrange\u001b[0m\u001b[0;34m(\u001b[0m\u001b[0;36m1\u001b[0m\u001b[0;34m,\u001b[0m\u001b[0;36m100\u001b[0m\u001b[0;34m)\u001b[0m\u001b[0;34m:\u001b[0m\u001b[0;34m\u001b[0m\u001b[0;34m\u001b[0m\u001b[0m\n\u001b[1;32m      7\u001b[0m     \u001b[0mprint\u001b[0m\u001b[0;34m(\u001b[0m\u001b[0mfibonacci\u001b[0m\u001b[0;34m(\u001b[0m\u001b[0mi\u001b[0m\u001b[0;34m)\u001b[0m\u001b[0;34m)\u001b[0m\u001b[0;34m\u001b[0m\u001b[0;34m\u001b[0m\u001b[0m\n",
            "\u001b[0;32m<ipython-input-44-ffec16ecac04>\u001b[0m in \u001b[0;36mfibonacci\u001b[0;34m(n)\u001b[0m\n\u001b[1;32m      3\u001b[0m         \u001b[0;32mreturn\u001b[0m \u001b[0;36m1\u001b[0m\u001b[0;34m\u001b[0m\u001b[0;34m\u001b[0m\u001b[0m\n\u001b[1;32m      4\u001b[0m     \u001b[0;32melse\u001b[0m\u001b[0;34m:\u001b[0m\u001b[0;34m\u001b[0m\u001b[0;34m\u001b[0m\u001b[0m\n\u001b[0;32m----> 5\u001b[0;31m         \u001b[0;32mreturn\u001b[0m \u001b[0mfibonacci\u001b[0m\u001b[0;34m(\u001b[0m\u001b[0mn\u001b[0m \u001b[0;34m-\u001b[0m \u001b[0;36m2\u001b[0m\u001b[0;34m)\u001b[0m \u001b[0;34m+\u001b[0m \u001b[0mfibonacci\u001b[0m\u001b[0;34m(\u001b[0m\u001b[0mn\u001b[0m \u001b[0;34m-\u001b[0m \u001b[0;36m1\u001b[0m\u001b[0;34m)\u001b[0m\u001b[0;34m\u001b[0m\u001b[0;34m\u001b[0m\u001b[0m\n\u001b[0m\u001b[1;32m      6\u001b[0m \u001b[0;32mfor\u001b[0m \u001b[0mi\u001b[0m \u001b[0;32min\u001b[0m \u001b[0mrange\u001b[0m\u001b[0;34m(\u001b[0m\u001b[0;36m1\u001b[0m\u001b[0;34m,\u001b[0m\u001b[0;36m100\u001b[0m\u001b[0;34m)\u001b[0m\u001b[0;34m:\u001b[0m\u001b[0;34m\u001b[0m\u001b[0;34m\u001b[0m\u001b[0m\n\u001b[1;32m      7\u001b[0m     \u001b[0mprint\u001b[0m\u001b[0;34m(\u001b[0m\u001b[0mfibonacci\u001b[0m\u001b[0;34m(\u001b[0m\u001b[0mi\u001b[0m\u001b[0;34m)\u001b[0m\u001b[0;34m)\u001b[0m\u001b[0;34m\u001b[0m\u001b[0;34m\u001b[0m\u001b[0m\n",
            "\u001b[0;32m<ipython-input-44-ffec16ecac04>\u001b[0m in \u001b[0;36mfibonacci\u001b[0;34m(n)\u001b[0m\n\u001b[1;32m      3\u001b[0m         \u001b[0;32mreturn\u001b[0m \u001b[0;36m1\u001b[0m\u001b[0;34m\u001b[0m\u001b[0;34m\u001b[0m\u001b[0m\n\u001b[1;32m      4\u001b[0m     \u001b[0;32melse\u001b[0m\u001b[0;34m:\u001b[0m\u001b[0;34m\u001b[0m\u001b[0;34m\u001b[0m\u001b[0m\n\u001b[0;32m----> 5\u001b[0;31m         \u001b[0;32mreturn\u001b[0m \u001b[0mfibonacci\u001b[0m\u001b[0;34m(\u001b[0m\u001b[0mn\u001b[0m \u001b[0;34m-\u001b[0m \u001b[0;36m2\u001b[0m\u001b[0;34m)\u001b[0m \u001b[0;34m+\u001b[0m \u001b[0mfibonacci\u001b[0m\u001b[0;34m(\u001b[0m\u001b[0mn\u001b[0m \u001b[0;34m-\u001b[0m \u001b[0;36m1\u001b[0m\u001b[0;34m)\u001b[0m\u001b[0;34m\u001b[0m\u001b[0;34m\u001b[0m\u001b[0m\n\u001b[0m\u001b[1;32m      6\u001b[0m \u001b[0;32mfor\u001b[0m \u001b[0mi\u001b[0m \u001b[0;32min\u001b[0m \u001b[0mrange\u001b[0m\u001b[0;34m(\u001b[0m\u001b[0;36m1\u001b[0m\u001b[0;34m,\u001b[0m\u001b[0;36m100\u001b[0m\u001b[0;34m)\u001b[0m\u001b[0;34m:\u001b[0m\u001b[0;34m\u001b[0m\u001b[0;34m\u001b[0m\u001b[0m\n\u001b[1;32m      7\u001b[0m     \u001b[0mprint\u001b[0m\u001b[0;34m(\u001b[0m\u001b[0mfibonacci\u001b[0m\u001b[0;34m(\u001b[0m\u001b[0mi\u001b[0m\u001b[0;34m)\u001b[0m\u001b[0;34m)\u001b[0m\u001b[0;34m\u001b[0m\u001b[0;34m\u001b[0m\u001b[0m\n",
            "\u001b[0;32m<ipython-input-44-ffec16ecac04>\u001b[0m in \u001b[0;36mfibonacci\u001b[0;34m(n)\u001b[0m\n\u001b[1;32m      3\u001b[0m         \u001b[0;32mreturn\u001b[0m \u001b[0;36m1\u001b[0m\u001b[0;34m\u001b[0m\u001b[0;34m\u001b[0m\u001b[0m\n\u001b[1;32m      4\u001b[0m     \u001b[0;32melse\u001b[0m\u001b[0;34m:\u001b[0m\u001b[0;34m\u001b[0m\u001b[0;34m\u001b[0m\u001b[0m\n\u001b[0;32m----> 5\u001b[0;31m         \u001b[0;32mreturn\u001b[0m \u001b[0mfibonacci\u001b[0m\u001b[0;34m(\u001b[0m\u001b[0mn\u001b[0m \u001b[0;34m-\u001b[0m \u001b[0;36m2\u001b[0m\u001b[0;34m)\u001b[0m \u001b[0;34m+\u001b[0m \u001b[0mfibonacci\u001b[0m\u001b[0;34m(\u001b[0m\u001b[0mn\u001b[0m \u001b[0;34m-\u001b[0m \u001b[0;36m1\u001b[0m\u001b[0;34m)\u001b[0m\u001b[0;34m\u001b[0m\u001b[0;34m\u001b[0m\u001b[0m\n\u001b[0m\u001b[1;32m      6\u001b[0m \u001b[0;32mfor\u001b[0m \u001b[0mi\u001b[0m \u001b[0;32min\u001b[0m \u001b[0mrange\u001b[0m\u001b[0;34m(\u001b[0m\u001b[0;36m1\u001b[0m\u001b[0;34m,\u001b[0m\u001b[0;36m100\u001b[0m\u001b[0;34m)\u001b[0m\u001b[0;34m:\u001b[0m\u001b[0;34m\u001b[0m\u001b[0;34m\u001b[0m\u001b[0m\n\u001b[1;32m      7\u001b[0m     \u001b[0mprint\u001b[0m\u001b[0;34m(\u001b[0m\u001b[0mfibonacci\u001b[0m\u001b[0;34m(\u001b[0m\u001b[0mi\u001b[0m\u001b[0;34m)\u001b[0m\u001b[0;34m)\u001b[0m\u001b[0;34m\u001b[0m\u001b[0;34m\u001b[0m\u001b[0m\n",
            "\u001b[0;32m<ipython-input-44-ffec16ecac04>\u001b[0m in \u001b[0;36mfibonacci\u001b[0;34m(n)\u001b[0m\n\u001b[0;32m----> 1\u001b[0;31m \u001b[0;32mdef\u001b[0m \u001b[0mfibonacci\u001b[0m\u001b[0;34m(\u001b[0m\u001b[0mn\u001b[0m\u001b[0;34m)\u001b[0m\u001b[0;34m:\u001b[0m\u001b[0;34m\u001b[0m\u001b[0;34m\u001b[0m\u001b[0m\n\u001b[0m\u001b[1;32m      2\u001b[0m     \u001b[0;32mif\u001b[0m \u001b[0mn\u001b[0m \u001b[0;34m<=\u001b[0m \u001b[0;36m2\u001b[0m\u001b[0;34m:\u001b[0m\u001b[0;34m\u001b[0m\u001b[0;34m\u001b[0m\u001b[0m\n\u001b[1;32m      3\u001b[0m         \u001b[0;32mreturn\u001b[0m \u001b[0;36m1\u001b[0m\u001b[0;34m\u001b[0m\u001b[0;34m\u001b[0m\u001b[0m\n\u001b[1;32m      4\u001b[0m     \u001b[0;32melse\u001b[0m\u001b[0;34m:\u001b[0m\u001b[0;34m\u001b[0m\u001b[0;34m\u001b[0m\u001b[0m\n\u001b[1;32m      5\u001b[0m         \u001b[0;32mreturn\u001b[0m \u001b[0mfibonacci\u001b[0m\u001b[0;34m(\u001b[0m\u001b[0mn\u001b[0m \u001b[0;34m-\u001b[0m \u001b[0;36m2\u001b[0m\u001b[0;34m)\u001b[0m \u001b[0;34m+\u001b[0m \u001b[0mfibonacci\u001b[0m\u001b[0;34m(\u001b[0m\u001b[0mn\u001b[0m \u001b[0;34m-\u001b[0m \u001b[0;36m1\u001b[0m\u001b[0;34m)\u001b[0m\u001b[0;34m\u001b[0m\u001b[0;34m\u001b[0m\u001b[0m\n",
            "\u001b[0;31mKeyboardInterrupt\u001b[0m: "
          ]
        }
      ]
    },
    {
      "cell_type": "code",
      "source": [
        "import math\n",
        "def seisu(c):\n",
        "    n = math.sqrt(c)\n",
        "    ni = int(n)\n",
        "    if n == ni:\n",
        "        print(\"c:\",n)\n",
        "        return True\n",
        "    else:\n",
        "        return False\n",
        "\n",
        "p = 0\n",
        "\n",
        "for i in range(1,101):\n",
        "    for j in range(1,101):\n",
        "        if seisu(i*i+j*j):\n",
        "            print(\"a:\",i,\"b:\",j)\n",
        "            p += 1\n",
        "print(p/2)"
      ],
      "metadata": {
        "colab": {
          "base_uri": "https://localhost:8080/"
        },
        "id": "RjdFpeCINFhh",
        "outputId": "f5513eaa-6f9c-4dc5-a8f2-61c7b5d27728"
      },
      "execution_count": null,
      "outputs": [
        {
          "output_type": "stream",
          "name": "stdout",
          "text": [
            "c: 5.0\n",
            "a: 3 b: 4\n",
            "c: 5.0\n",
            "a: 4 b: 3\n",
            "c: 13.0\n",
            "a: 5 b: 12\n",
            "c: 10.0\n",
            "a: 6 b: 8\n",
            "c: 25.0\n",
            "a: 7 b: 24\n",
            "c: 10.0\n",
            "a: 8 b: 6\n",
            "c: 17.0\n",
            "a: 8 b: 15\n",
            "c: 15.0\n",
            "a: 9 b: 12\n",
            "c: 41.0\n",
            "a: 9 b: 40\n",
            "c: 26.0\n",
            "a: 10 b: 24\n",
            "c: 61.0\n",
            "a: 11 b: 60\n",
            "c: 13.0\n",
            "a: 12 b: 5\n",
            "c: 15.0\n",
            "a: 12 b: 9\n",
            "c: 20.0\n",
            "a: 12 b: 16\n",
            "c: 37.0\n",
            "a: 12 b: 35\n",
            "c: 85.0\n",
            "a: 13 b: 84\n",
            "c: 50.0\n",
            "a: 14 b: 48\n",
            "c: 17.0\n",
            "a: 15 b: 8\n",
            "c: 25.0\n",
            "a: 15 b: 20\n",
            "c: 39.0\n",
            "a: 15 b: 36\n",
            "c: 20.0\n",
            "a: 16 b: 12\n",
            "c: 34.0\n",
            "a: 16 b: 30\n",
            "c: 65.0\n",
            "a: 16 b: 63\n",
            "c: 30.0\n",
            "a: 18 b: 24\n",
            "c: 82.0\n",
            "a: 18 b: 80\n",
            "c: 25.0\n",
            "a: 20 b: 15\n",
            "c: 29.0\n",
            "a: 20 b: 21\n",
            "c: 52.0\n",
            "a: 20 b: 48\n",
            "c: 101.0\n",
            "a: 20 b: 99\n",
            "c: 29.0\n",
            "a: 21 b: 20\n",
            "c: 35.0\n",
            "a: 21 b: 28\n",
            "c: 75.0\n",
            "a: 21 b: 72\n",
            "c: 25.0\n",
            "a: 24 b: 7\n",
            "c: 26.0\n",
            "a: 24 b: 10\n",
            "c: 30.0\n",
            "a: 24 b: 18\n",
            "c: 40.0\n",
            "a: 24 b: 32\n",
            "c: 51.0\n",
            "a: 24 b: 45\n",
            "c: 74.0\n",
            "a: 24 b: 70\n",
            "c: 65.0\n",
            "a: 25 b: 60\n",
            "c: 45.0\n",
            "a: 27 b: 36\n",
            "c: 35.0\n",
            "a: 28 b: 21\n",
            "c: 53.0\n",
            "a: 28 b: 45\n",
            "c: 100.0\n",
            "a: 28 b: 96\n",
            "c: 34.0\n",
            "a: 30 b: 16\n",
            "c: 50.0\n",
            "a: 30 b: 40\n",
            "c: 78.0\n",
            "a: 30 b: 72\n",
            "c: 40.0\n",
            "a: 32 b: 24\n",
            "c: 68.0\n",
            "a: 32 b: 60\n",
            "c: 55.0\n",
            "a: 33 b: 44\n",
            "c: 65.0\n",
            "a: 33 b: 56\n",
            "c: 37.0\n",
            "a: 35 b: 12\n",
            "c: 91.0\n",
            "a: 35 b: 84\n",
            "c: 39.0\n",
            "a: 36 b: 15\n",
            "c: 45.0\n",
            "a: 36 b: 27\n",
            "c: 60.0\n",
            "a: 36 b: 48\n",
            "c: 85.0\n",
            "a: 36 b: 77\n",
            "c: 65.0\n",
            "a: 39 b: 52\n",
            "c: 89.0\n",
            "a: 39 b: 80\n",
            "c: 41.0\n",
            "a: 40 b: 9\n",
            "c: 50.0\n",
            "a: 40 b: 30\n",
            "c: 58.0\n",
            "a: 40 b: 42\n",
            "c: 85.0\n",
            "a: 40 b: 75\n",
            "c: 104.0\n",
            "a: 40 b: 96\n",
            "c: 58.0\n",
            "a: 42 b: 40\n",
            "c: 70.0\n",
            "a: 42 b: 56\n",
            "c: 55.0\n",
            "a: 44 b: 33\n",
            "c: 51.0\n",
            "a: 45 b: 24\n",
            "c: 53.0\n",
            "a: 45 b: 28\n",
            "c: 75.0\n",
            "a: 45 b: 60\n",
            "c: 50.0\n",
            "a: 48 b: 14\n",
            "c: 52.0\n",
            "a: 48 b: 20\n",
            "c: 60.0\n",
            "a: 48 b: 36\n",
            "c: 73.0\n",
            "a: 48 b: 55\n",
            "c: 80.0\n",
            "a: 48 b: 64\n",
            "c: 102.0\n",
            "a: 48 b: 90\n",
            "c: 85.0\n",
            "a: 51 b: 68\n",
            "c: 65.0\n",
            "a: 52 b: 39\n",
            "c: 90.0\n",
            "a: 54 b: 72\n",
            "c: 73.0\n",
            "a: 55 b: 48\n",
            "c: 65.0\n",
            "a: 56 b: 33\n",
            "c: 70.0\n",
            "a: 56 b: 42\n",
            "c: 106.0\n",
            "a: 56 b: 90\n",
            "c: 95.0\n",
            "a: 57 b: 76\n",
            "c: 61.0\n",
            "a: 60 b: 11\n",
            "c: 65.0\n",
            "a: 60 b: 25\n",
            "c: 68.0\n",
            "a: 60 b: 32\n",
            "c: 75.0\n",
            "a: 60 b: 45\n",
            "c: 87.0\n",
            "a: 60 b: 63\n",
            "c: 100.0\n",
            "a: 60 b: 80\n",
            "c: 109.0\n",
            "a: 60 b: 91\n",
            "c: 65.0\n",
            "a: 63 b: 16\n",
            "c: 87.0\n",
            "a: 63 b: 60\n",
            "c: 105.0\n",
            "a: 63 b: 84\n",
            "c: 80.0\n",
            "a: 64 b: 48\n",
            "c: 97.0\n",
            "a: 65 b: 72\n",
            "c: 110.0\n",
            "a: 66 b: 88\n",
            "c: 85.0\n",
            "a: 68 b: 51\n",
            "c: 115.0\n",
            "a: 69 b: 92\n",
            "c: 74.0\n",
            "a: 70 b: 24\n",
            "c: 75.0\n",
            "a: 72 b: 21\n",
            "c: 78.0\n",
            "a: 72 b: 30\n",
            "c: 90.0\n",
            "a: 72 b: 54\n",
            "c: 97.0\n",
            "a: 72 b: 65\n",
            "c: 120.0\n",
            "a: 72 b: 96\n",
            "c: 85.0\n",
            "a: 75 b: 40\n",
            "c: 125.0\n",
            "a: 75 b: 100\n",
            "c: 95.0\n",
            "a: 76 b: 57\n",
            "c: 85.0\n",
            "a: 77 b: 36\n",
            "c: 82.0\n",
            "a: 80 b: 18\n",
            "c: 89.0\n",
            "a: 80 b: 39\n",
            "c: 100.0\n",
            "a: 80 b: 60\n",
            "c: 116.0\n",
            "a: 80 b: 84\n",
            "c: 85.0\n",
            "a: 84 b: 13\n",
            "c: 91.0\n",
            "a: 84 b: 35\n",
            "c: 105.0\n",
            "a: 84 b: 63\n",
            "c: 116.0\n",
            "a: 84 b: 80\n",
            "c: 110.0\n",
            "a: 88 b: 66\n",
            "c: 102.0\n",
            "a: 90 b: 48\n",
            "c: 106.0\n",
            "a: 90 b: 56\n",
            "c: 109.0\n",
            "a: 91 b: 60\n",
            "c: 115.0\n",
            "a: 92 b: 69\n",
            "c: 100.0\n",
            "a: 96 b: 28\n",
            "c: 104.0\n",
            "a: 96 b: 40\n",
            "c: 120.0\n",
            "a: 96 b: 72\n",
            "c: 101.0\n",
            "a: 99 b: 20\n",
            "c: 125.0\n",
            "a: 100 b: 75\n",
            "63.0\n"
          ]
        }
      ]
    },
    {
      "cell_type": "code",
      "source": [
        "import tkinter as tk\n",
        "def execute():\n",
        "    txt = \"こんにちは。\"\n",
        "    lbl.configure(text = txt)\n",
        "\n",
        "root = tk.Tk()\n",
        "root.title(\"こんにちはテスト\")\n",
        "root.geometry(\"400x200\")\n",
        "\n",
        "lbl = tk.Label(text = \"\")\n",
        "btn = tk.Button(text = \"実行\",command = execute)\n",
        "\n",
        "lbl.pack()\n",
        "btn.pack()\n",
        "tk.mainloop()"
      ],
      "metadata": {
        "colab": {
          "base_uri": "https://localhost:8080/",
          "height": 371
        },
        "id": "QKCMDQw2a-fA",
        "outputId": "f83af979-c65b-4f0c-e546-a469bcf0ed67"
      },
      "execution_count": null,
      "outputs": [
        {
          "output_type": "error",
          "ename": "TclError",
          "evalue": "ignored",
          "traceback": [
            "\u001b[0;31m---------------------------------------------------------------------------\u001b[0m",
            "\u001b[0;31mTclError\u001b[0m                                  Traceback (most recent call last)",
            "\u001b[0;32m<ipython-input-3-63341e164e21>\u001b[0m in \u001b[0;36m<cell line: 6>\u001b[0;34m()\u001b[0m\n\u001b[1;32m      4\u001b[0m     \u001b[0mlbl\u001b[0m\u001b[0;34m.\u001b[0m\u001b[0mconfigure\u001b[0m\u001b[0;34m(\u001b[0m\u001b[0mtext\u001b[0m \u001b[0;34m=\u001b[0m \u001b[0mtxt\u001b[0m\u001b[0;34m)\u001b[0m\u001b[0;34m\u001b[0m\u001b[0;34m\u001b[0m\u001b[0m\n\u001b[1;32m      5\u001b[0m \u001b[0;34m\u001b[0m\u001b[0m\n\u001b[0;32m----> 6\u001b[0;31m \u001b[0mroot\u001b[0m \u001b[0;34m=\u001b[0m \u001b[0mtk\u001b[0m\u001b[0;34m.\u001b[0m\u001b[0mTk\u001b[0m\u001b[0;34m(\u001b[0m\u001b[0;34m)\u001b[0m\u001b[0;34m\u001b[0m\u001b[0;34m\u001b[0m\u001b[0m\n\u001b[0m\u001b[1;32m      7\u001b[0m \u001b[0mroot\u001b[0m\u001b[0;34m.\u001b[0m\u001b[0mtitle\u001b[0m\u001b[0;34m(\u001b[0m\u001b[0;34m\"こんにちはテスト\"\u001b[0m\u001b[0;34m)\u001b[0m\u001b[0;34m\u001b[0m\u001b[0;34m\u001b[0m\u001b[0m\n\u001b[1;32m      8\u001b[0m \u001b[0mroot\u001b[0m\u001b[0;34m.\u001b[0m\u001b[0mgeometry\u001b[0m\u001b[0;34m(\u001b[0m\u001b[0;34m\"400x200\"\u001b[0m\u001b[0;34m)\u001b[0m\u001b[0;34m\u001b[0m\u001b[0;34m\u001b[0m\u001b[0m\n",
            "\u001b[0;32m/usr/lib/python3.10/tkinter/__init__.py\u001b[0m in \u001b[0;36m__init__\u001b[0;34m(self, screenName, baseName, className, useTk, sync, use)\u001b[0m\n\u001b[1;32m   2297\u001b[0m                 \u001b[0mbaseName\u001b[0m \u001b[0;34m=\u001b[0m \u001b[0mbaseName\u001b[0m \u001b[0;34m+\u001b[0m \u001b[0mext\u001b[0m\u001b[0;34m\u001b[0m\u001b[0;34m\u001b[0m\u001b[0m\n\u001b[1;32m   2298\u001b[0m         \u001b[0minteractive\u001b[0m \u001b[0;34m=\u001b[0m \u001b[0;32mFalse\u001b[0m\u001b[0;34m\u001b[0m\u001b[0;34m\u001b[0m\u001b[0m\n\u001b[0;32m-> 2299\u001b[0;31m         \u001b[0mself\u001b[0m\u001b[0;34m.\u001b[0m\u001b[0mtk\u001b[0m \u001b[0;34m=\u001b[0m \u001b[0m_tkinter\u001b[0m\u001b[0;34m.\u001b[0m\u001b[0mcreate\u001b[0m\u001b[0;34m(\u001b[0m\u001b[0mscreenName\u001b[0m\u001b[0;34m,\u001b[0m \u001b[0mbaseName\u001b[0m\u001b[0;34m,\u001b[0m \u001b[0mclassName\u001b[0m\u001b[0;34m,\u001b[0m \u001b[0minteractive\u001b[0m\u001b[0;34m,\u001b[0m \u001b[0mwantobjects\u001b[0m\u001b[0;34m,\u001b[0m \u001b[0museTk\u001b[0m\u001b[0;34m,\u001b[0m \u001b[0msync\u001b[0m\u001b[0;34m,\u001b[0m \u001b[0muse\u001b[0m\u001b[0;34m)\u001b[0m\u001b[0;34m\u001b[0m\u001b[0;34m\u001b[0m\u001b[0m\n\u001b[0m\u001b[1;32m   2300\u001b[0m         \u001b[0;32mif\u001b[0m \u001b[0museTk\u001b[0m\u001b[0;34m:\u001b[0m\u001b[0;34m\u001b[0m\u001b[0;34m\u001b[0m\u001b[0m\n\u001b[1;32m   2301\u001b[0m             \u001b[0mself\u001b[0m\u001b[0;34m.\u001b[0m\u001b[0m_loadtk\u001b[0m\u001b[0;34m(\u001b[0m\u001b[0;34m)\u001b[0m\u001b[0;34m\u001b[0m\u001b[0;34m\u001b[0m\u001b[0m\n",
            "\u001b[0;31mTclError\u001b[0m: no display name and no $DISPLAY environment variable"
          ]
        }
      ]
    },
    {
      "cell_type": "code",
      "source": [
        "a = 4\n",
        "b = 10\n",
        "c = 13\n",
        "print(\"{},{},{}:合計{}\".format(a,b,c,a+b+c))"
      ],
      "metadata": {
        "colab": {
          "base_uri": "https://localhost:8080/"
        },
        "id": "BROUnhTwdEWK",
        "outputId": "3f131366-a1c9-4bd8-c07c-e033ce7315e6"
      },
      "execution_count": null,
      "outputs": [
        {
          "output_type": "stream",
          "name": "stdout",
          "text": [
            "4,10,13:合計27\n"
          ]
        }
      ]
    },
    {
      "cell_type": "code",
      "source": [
        "import cv2\n",
        "import aicommon\n",
        "cascade = aicommon.initAI()\n",
        "\n",
        "cap = cv2.VideoCapture(0)\n",
        "\n",
        "if cap.isOpened():\n",
        "    while True:\n",
        "        ref,frame = cap.read()\n",
        "\n",
        "        face = cascade.detectMultiScale(frame)\n",
        "\n",
        "        if len(face) > 0:\n",
        "            for x,y,w,h in face:\n",
        "                cv2.rectangle(frame,(x,y),(x+w,y+h),(0,255,0),thickness=1)\n",
        "        cv2.imshow('camera',frame)\n",
        "\n",
        "        if cv2.waitKey(1) & 0xFF == ord('q'):\n",
        "            break\n",
        "cap.release()\n",
        "cv2.destroyAllWindows()"
      ],
      "metadata": {
        "id": "tlJOm7h6h7_K"
      },
      "execution_count": null,
      "outputs": []
    },
    {
      "cell_type": "code",
      "source": [
        "#pip install FER\n",
        "pip install opencv-python\n",
        "pip install pandas\n",
        "pip install tensorflow"
      ],
      "metadata": {
        "colab": {
          "base_uri": "https://localhost:8080/",
          "height": 145
        },
        "id": "3GKjzaovtoXH",
        "outputId": "743f3f68-46c2-49a9-9c6a-188f6d9436da"
      },
      "execution_count": null,
      "outputs": [
        {
          "output_type": "error",
          "ename": "SyntaxError",
          "evalue": "ignored",
          "traceback": [
            "\u001b[0;36m  File \u001b[0;32m\"<ipython-input-9-2cb96af2c169>\"\u001b[0;36m, line \u001b[0;32m1\u001b[0m\n\u001b[0;31m    pip install FER\u001b[0m\n\u001b[0m        ^\u001b[0m\n\u001b[0;31mSyntaxError\u001b[0m\u001b[0;31m:\u001b[0m invalid syntax\n"
          ]
        }
      ]
    },
    {
      "cell_type": "code",
      "source": [
        "pip install opencv-python"
      ],
      "metadata": {
        "colab": {
          "base_uri": "https://localhost:8080/"
        },
        "id": "_TtbTXqSxR6F",
        "outputId": "df6b4438-b7e3-4c3f-cb85-44601d64f41e"
      },
      "execution_count": null,
      "outputs": [
        {
          "output_type": "stream",
          "name": "stdout",
          "text": [
            "Requirement already satisfied: opencv-python in /usr/local/lib/python3.10/dist-packages (4.8.0.76)\n",
            "Requirement already satisfied: numpy>=1.21.2 in /usr/local/lib/python3.10/dist-packages (from opencv-python) (1.23.5)\n"
          ]
        }
      ]
    },
    {
      "cell_type": "code",
      "source": [
        "pip install pandas"
      ],
      "metadata": {
        "colab": {
          "base_uri": "https://localhost:8080/"
        },
        "id": "vZkXoWOIxQep",
        "outputId": "bf841377-d09e-428e-a0b4-c11c9bbef260"
      },
      "execution_count": null,
      "outputs": [
        {
          "output_type": "stream",
          "name": "stdout",
          "text": [
            "Requirement already satisfied: pandas in /usr/local/lib/python3.10/dist-packages (1.5.3)\n",
            "Requirement already satisfied: python-dateutil>=2.8.1 in /usr/local/lib/python3.10/dist-packages (from pandas) (2.8.2)\n",
            "Requirement already satisfied: pytz>=2020.1 in /usr/local/lib/python3.10/dist-packages (from pandas) (2023.3.post1)\n",
            "Requirement already satisfied: numpy>=1.21.0 in /usr/local/lib/python3.10/dist-packages (from pandas) (1.23.5)\n",
            "Requirement already satisfied: six>=1.5 in /usr/local/lib/python3.10/dist-packages (from python-dateutil>=2.8.1->pandas) (1.16.0)\n"
          ]
        }
      ]
    },
    {
      "cell_type": "code",
      "source": [
        "pip install tensorflow\n"
      ],
      "metadata": {
        "colab": {
          "base_uri": "https://localhost:8080/"
        },
        "id": "iy09BIKjxIOm",
        "outputId": "2704ed20-634a-4d88-b2bb-4d693f501ab3"
      },
      "execution_count": null,
      "outputs": [
        {
          "output_type": "stream",
          "name": "stdout",
          "text": [
            "Requirement already satisfied: tensorflow in /usr/local/lib/python3.10/dist-packages (2.15.0)\n",
            "Requirement already satisfied: absl-py>=1.0.0 in /usr/local/lib/python3.10/dist-packages (from tensorflow) (1.4.0)\n",
            "Requirement already satisfied: astunparse>=1.6.0 in /usr/local/lib/python3.10/dist-packages (from tensorflow) (1.6.3)\n",
            "Requirement already satisfied: flatbuffers>=23.5.26 in /usr/local/lib/python3.10/dist-packages (from tensorflow) (23.5.26)\n",
            "Requirement already satisfied: gast!=0.5.0,!=0.5.1,!=0.5.2,>=0.2.1 in /usr/local/lib/python3.10/dist-packages (from tensorflow) (0.5.4)\n",
            "Requirement already satisfied: google-pasta>=0.1.1 in /usr/local/lib/python3.10/dist-packages (from tensorflow) (0.2.0)\n",
            "Requirement already satisfied: h5py>=2.9.0 in /usr/local/lib/python3.10/dist-packages (from tensorflow) (3.9.0)\n",
            "Requirement already satisfied: libclang>=13.0.0 in /usr/local/lib/python3.10/dist-packages (from tensorflow) (16.0.6)\n",
            "Requirement already satisfied: ml-dtypes~=0.2.0 in /usr/local/lib/python3.10/dist-packages (from tensorflow) (0.2.0)\n",
            "Requirement already satisfied: numpy<2.0.0,>=1.23.5 in /usr/local/lib/python3.10/dist-packages (from tensorflow) (1.23.5)\n",
            "Requirement already satisfied: opt-einsum>=2.3.2 in /usr/local/lib/python3.10/dist-packages (from tensorflow) (3.3.0)\n",
            "Requirement already satisfied: packaging in /usr/local/lib/python3.10/dist-packages (from tensorflow) (23.2)\n",
            "Requirement already satisfied: protobuf!=4.21.0,!=4.21.1,!=4.21.2,!=4.21.3,!=4.21.4,!=4.21.5,<5.0.0dev,>=3.20.3 in /usr/local/lib/python3.10/dist-packages (from tensorflow) (3.20.3)\n",
            "Requirement already satisfied: setuptools in /usr/local/lib/python3.10/dist-packages (from tensorflow) (67.7.2)\n",
            "Requirement already satisfied: six>=1.12.0 in /usr/local/lib/python3.10/dist-packages (from tensorflow) (1.16.0)\n",
            "Requirement already satisfied: termcolor>=1.1.0 in /usr/local/lib/python3.10/dist-packages (from tensorflow) (2.4.0)\n",
            "Requirement already satisfied: typing-extensions>=3.6.6 in /usr/local/lib/python3.10/dist-packages (from tensorflow) (4.5.0)\n",
            "Requirement already satisfied: wrapt<1.15,>=1.11.0 in /usr/local/lib/python3.10/dist-packages (from tensorflow) (1.14.1)\n",
            "Requirement already satisfied: tensorflow-io-gcs-filesystem>=0.23.1 in /usr/local/lib/python3.10/dist-packages (from tensorflow) (0.34.0)\n",
            "Requirement already satisfied: grpcio<2.0,>=1.24.3 in /usr/local/lib/python3.10/dist-packages (from tensorflow) (1.60.0)\n",
            "Requirement already satisfied: tensorboard<2.16,>=2.15 in /usr/local/lib/python3.10/dist-packages (from tensorflow) (2.15.1)\n",
            "Requirement already satisfied: tensorflow-estimator<2.16,>=2.15.0 in /usr/local/lib/python3.10/dist-packages (from tensorflow) (2.15.0)\n",
            "Requirement already satisfied: keras<2.16,>=2.15.0 in /usr/local/lib/python3.10/dist-packages (from tensorflow) (2.15.0)\n",
            "Requirement already satisfied: wheel<1.0,>=0.23.0 in /usr/local/lib/python3.10/dist-packages (from astunparse>=1.6.0->tensorflow) (0.42.0)\n",
            "Requirement already satisfied: google-auth<3,>=1.6.3 in /usr/local/lib/python3.10/dist-packages (from tensorboard<2.16,>=2.15->tensorflow) (2.17.3)\n",
            "Requirement already satisfied: google-auth-oauthlib<2,>=0.5 in /usr/local/lib/python3.10/dist-packages (from tensorboard<2.16,>=2.15->tensorflow) (1.2.0)\n",
            "Requirement already satisfied: markdown>=2.6.8 in /usr/local/lib/python3.10/dist-packages (from tensorboard<2.16,>=2.15->tensorflow) (3.5.1)\n",
            "Requirement already satisfied: requests<3,>=2.21.0 in /usr/local/lib/python3.10/dist-packages (from tensorboard<2.16,>=2.15->tensorflow) (2.31.0)\n",
            "Requirement already satisfied: tensorboard-data-server<0.8.0,>=0.7.0 in /usr/local/lib/python3.10/dist-packages (from tensorboard<2.16,>=2.15->tensorflow) (0.7.2)\n",
            "Requirement already satisfied: werkzeug>=1.0.1 in /usr/local/lib/python3.10/dist-packages (from tensorboard<2.16,>=2.15->tensorflow) (3.0.1)\n",
            "Requirement already satisfied: cachetools<6.0,>=2.0.0 in /usr/local/lib/python3.10/dist-packages (from google-auth<3,>=1.6.3->tensorboard<2.16,>=2.15->tensorflow) (5.3.2)\n",
            "Requirement already satisfied: pyasn1-modules>=0.2.1 in /usr/local/lib/python3.10/dist-packages (from google-auth<3,>=1.6.3->tensorboard<2.16,>=2.15->tensorflow) (0.3.0)\n",
            "Requirement already satisfied: rsa<5,>=3.1.4 in /usr/local/lib/python3.10/dist-packages (from google-auth<3,>=1.6.3->tensorboard<2.16,>=2.15->tensorflow) (4.9)\n",
            "Requirement already satisfied: requests-oauthlib>=0.7.0 in /usr/local/lib/python3.10/dist-packages (from google-auth-oauthlib<2,>=0.5->tensorboard<2.16,>=2.15->tensorflow) (1.3.1)\n",
            "Requirement already satisfied: charset-normalizer<4,>=2 in /usr/local/lib/python3.10/dist-packages (from requests<3,>=2.21.0->tensorboard<2.16,>=2.15->tensorflow) (3.3.2)\n",
            "Requirement already satisfied: idna<4,>=2.5 in /usr/local/lib/python3.10/dist-packages (from requests<3,>=2.21.0->tensorboard<2.16,>=2.15->tensorflow) (3.6)\n",
            "Requirement already satisfied: urllib3<3,>=1.21.1 in /usr/local/lib/python3.10/dist-packages (from requests<3,>=2.21.0->tensorboard<2.16,>=2.15->tensorflow) (2.0.7)\n",
            "Requirement already satisfied: certifi>=2017.4.17 in /usr/local/lib/python3.10/dist-packages (from requests<3,>=2.21.0->tensorboard<2.16,>=2.15->tensorflow) (2023.11.17)\n",
            "Requirement already satisfied: MarkupSafe>=2.1.1 in /usr/local/lib/python3.10/dist-packages (from werkzeug>=1.0.1->tensorboard<2.16,>=2.15->tensorflow) (2.1.3)\n",
            "Requirement already satisfied: pyasn1<0.6.0,>=0.4.6 in /usr/local/lib/python3.10/dist-packages (from pyasn1-modules>=0.2.1->google-auth<3,>=1.6.3->tensorboard<2.16,>=2.15->tensorflow) (0.5.1)\n",
            "Requirement already satisfied: oauthlib>=3.0.0 in /usr/local/lib/python3.10/dist-packages (from requests-oauthlib>=0.7.0->google-auth-oauthlib<2,>=0.5->tensorboard<2.16,>=2.15->tensorflow) (3.2.2)\n"
          ]
        }
      ]
    },
    {
      "cell_type": "markdown",
      "source": [],
      "metadata": {
        "id": "TB135fVTtn9K"
      }
    },
    {
      "cell_type": "code",
      "source": [
        "import cv2\n",
        "from fer import FER\n",
        "\n",
        "emo_detector = FER(mtcnn=True)\n",
        "\n",
        "cap = cv2.VideoCapture(0)\n",
        "\n",
        "if cap.isOpened():\n",
        "    while True:\n",
        "        ref,frame = cap.read()\n",
        "        #感情を検出する\n",
        "        #angry:怒り,disgust:嫌悪,fear:恐怖,happy:幸せ,sad:悲しみ,surprise:驚き,neutral:中立\n",
        "        captured_emotions = emo_detector.detect_emotions(frame)\n",
        "\n",
        "        print(captured_emotions)\n",
        "\n",
        "        dominant_emotion,emotion_score = emo_detector.top_emotion(frame)\n",
        "        print(dominant_emotion,emotion_score)\n",
        "\n",
        "        cv2.putText(frame,\n",
        "                    text=str(dominant_emotion)+','+str(emotion_score),\n",
        "                    org = (5,30),\n",
        "                    fontFace=cv2.FONT_HERSHEY_SIMPLEX,\n",
        "                    fontScale=0.7,\n",
        "                    color=(0,0,255),\n",
        "                    thickness=1,\n",
        "                    lineType=cv2.LINE_AA)\n",
        "\n",
        "        if len(captured_emotions) > 0:\n",
        "            x,y,w,h= captured_emotions[0]['box']\n",
        "            cv2.rectangle(frame,(x,y),(x+w,y+h),(0,255,255),thickness=2)\n",
        "\n",
        "        cv2.imshow('camera',frame)\n",
        "\n",
        "        if cv2.waitKey(1) & 0xFF == ord('q'):\n",
        "            break\n",
        "\n",
        "cap.release()\n",
        "cv2.destroyAllWindows()"
      ],
      "metadata": {
        "id": "v4jHWdybmIDN"
      },
      "execution_count": null,
      "outputs": []
    },
    {
      "cell_type": "code",
      "source": [
        " pip install Janome"
      ],
      "metadata": {
        "colab": {
          "base_uri": "https://localhost:8080/"
        },
        "id": "_ft9EDvYozzi",
        "outputId": "15c86583-aa1b-4258-81b6-199183c0aaf1"
      },
      "execution_count": null,
      "outputs": [
        {
          "output_type": "stream",
          "name": "stdout",
          "text": [
            "Collecting Janome\n",
            "  Downloading Janome-0.5.0-py2.py3-none-any.whl (19.7 MB)\n",
            "\u001b[2K     \u001b[90m━━━━━━━━━━━━━━━━━━━━━━━━━━━━━━━━━━━━━━━━\u001b[0m \u001b[32m19.7/19.7 MB\u001b[0m \u001b[31m32.3 MB/s\u001b[0m eta \u001b[36m0:00:00\u001b[0m\n",
            "\u001b[?25hInstalling collected packages: Janome\n",
            "Successfully installed Janome-0.5.0\n"
          ]
        }
      ]
    },
    {
      "cell_type": "code",
      "source": [
        "from janome.tokenizer import Tokenizer\n",
        "tok = Tokenizer()\n",
        "\n",
        "text = input(\"文章を入力してください。\")\n",
        "\n",
        "tokens = tok.tokenize(text)\n",
        "\n",
        "counter = {}\n",
        "\n",
        "for t in tokens:\n",
        "    bf = t.base_form\n",
        "    if not bf in counter:\n",
        "        counter[bf] = 0\n",
        "    counter[bf] += 1\n",
        "\n",
        "sc = sorted(counter.items(),key=lambda x:x[1],reverse=True)\n",
        "\n",
        "for i, t in enumerate(sc):\n",
        "    if i >= 100:\n",
        "        break\n",
        "    key,cnt = t\n",
        "    print((i+1),\".\",key,\"=\",cnt)"
      ],
      "metadata": {
        "colab": {
          "base_uri": "https://localhost:8080/"
        },
        "id": "rGCv8m1OoxEr",
        "outputId": "ec9da115-2f72-4df7-ee91-8a7506b75602"
      },
      "execution_count": null,
      "outputs": [
        {
          "output_type": "stream",
          "name": "stdout",
          "text": [
            "文章を入力してください。日本国民は正当に選挙された国会における代表者を通じて行動し、われらとわれらの子孫のために、諸国民と協和による成果と、わが国全土にわたって自由のもたらす恵沢を確保し、政府の行為によって再び戦争の惨禍が起こることのないようにすることを決意し、ここに主権が国民に存することを宣言し、この憲法を確定する。\n",
            "1 . する = 7\n",
            "2 . 、 = 6\n",
            "3 . の = 6\n",
            "4 . に = 5\n",
            "5 . を = 4\n",
            "6 . 国民 = 3\n",
            "7 . と = 3\n",
            "8 . こと = 3\n",
            "9 . われ = 2\n",
            "10 . ら = 2\n",
            "11 . が = 2\n",
            "12 . 日本 = 1\n",
            "13 . は = 1\n",
            "14 . 正当 = 1\n",
            "15 . 選挙 = 1\n",
            "16 . れる = 1\n",
            "17 . た = 1\n",
            "18 . 国会 = 1\n",
            "19 . における = 1\n",
            "20 . 代表 = 1\n",
            "21 . 者 = 1\n",
            "22 . を通じて = 1\n",
            "23 . 行動 = 1\n",
            "24 . 子孫 = 1\n",
            "25 . ため = 1\n",
            "26 . 諸 = 1\n",
            "27 . 協和 = 1\n",
            "28 . による = 1\n",
            "29 . 成果 = 1\n",
            "30 . わが国 = 1\n",
            "31 . 全土 = 1\n",
            "32 . にわたって = 1\n",
            "33 . 自由 = 1\n",
            "34 . もたらす = 1\n",
            "35 . 恵沢 = 1\n",
            "36 . 確保 = 1\n",
            "37 . 政府 = 1\n",
            "38 . 行為 = 1\n",
            "39 . によって = 1\n",
            "40 . 再び = 1\n",
            "41 . 戦争 = 1\n",
            "42 . 惨禍 = 1\n",
            "43 . 起こる = 1\n",
            "44 . ない = 1\n",
            "45 . よう = 1\n",
            "46 . 決意 = 1\n",
            "47 . ここ = 1\n",
            "48 . 主権 = 1\n",
            "49 . 存する = 1\n",
            "50 . 宣言 = 1\n",
            "51 . この = 1\n",
            "52 . 憲法 = 1\n",
            "53 . 確定 = 1\n",
            "54 . 。 = 1\n"
          ]
        }
      ]
    },
    {
      "cell_type": "code",
      "source": [
        "import cv2\n",
        "\n",
        "def initAI():\n",
        "    xml_data = str(cv2.__path__[0]) + '\\\\data\\\\haarcascade_frontalface_alt.xml'\n",
        "    cascade = cv2.CascadeClassifier(xml_data)\n",
        "    return cascade\n"
      ],
      "metadata": {
        "id": "IA_s3MOsvJ0M"
      },
      "execution_count": null,
      "outputs": []
    },
    {
      "cell_type": "code",
      "source": [
        "import cv2\n",
        "from fer import FER\n",
        "\n",
        "emo_detector = FER(mtcnn=True)\n",
        "\n",
        "cap = cv2.VideoCapture(0)\n",
        "\n",
        "if cap.isOpened():\n",
        "    while True:\n",
        "        ref,frame = cap.read()\n",
        "        colortype = (255,255,255)\n",
        "        #感情を検出する\n",
        "        #angry:怒り,disgust:嫌悪,fear:恐怖,happy:幸せ,sad:悲しみ,surprise:驚き,neutral:中立\n",
        "\n",
        "        captured_emotions = emo_detector.detect_emotions(frame)\n",
        "\n",
        "        print(captured_emotions)\n",
        "\n",
        "        dominant_emotion,emotion_score = emo_detector.top_emotion(frame)\n",
        "        print(dominant_emotion,emotion_score)\n",
        "        if str(dominant_emotion) == \"neutral\":\n",
        "            colortype = (0,0,0)\n",
        "        elif str(dominant_emotion) == \"angry\":\n",
        "            colortype = (0,0,255)\n",
        "        elif str(dominant_emotion) == \"happy\":\n",
        "            colortype = (0,255,255)\n",
        "        cv2.putText(frame,\n",
        "                    text=str(dominant_emotion)+','+str(emotion_score),\n",
        "                    org = (5,30),\n",
        "                    fontFace=cv2.FONT_HERSHEY_SIMPLEX,\n",
        "                    fontScale=0.7,\n",
        "                    color=colortype,\n",
        "                    thickness=1,\n",
        "                    lineType=cv2.LINE_AA)\n",
        "\n",
        "        if len(captured_emotions) > 0:\n",
        "            x,y,w,h= captured_emotions[0]['box']\n",
        "            cv2.rectangle(frame,(x,y),(x+w,y+h),color=colortype,thickness=2)\n",
        "\n",
        "        cv2.imshow('camera',frame)\n",
        "\n",
        "        if cv2.waitKey(1) & 0xFF == ord('q'):\n",
        "            break\n",
        "\n",
        "cap.release()\n",
        "cv2.destroyAllWindows()"
      ],
      "metadata": {
        "id": "2wMH1mxAvOts"
      },
      "execution_count": null,
      "outputs": []
    }
  ],
  "metadata": {
    "colab": {
      "provenance": [],
      "include_colab_link": true
    },
    "kernelspec": {
      "display_name": "Python 3",
      "name": "python3"
    },
    "language_info": {
      "name": "python"
    }
  },
  "nbformat": 4,
  "nbformat_minor": 0
}